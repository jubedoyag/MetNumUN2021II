{
  "nbformat": 4,
  "nbformat_minor": 0,
  "metadata": {
    "colab": {
      "name": "entregas_grupo4_coursera.ipynb",
      "provenance": [],
      "collapsed_sections": [],
      "authorship_tag": "ABX9TyMKeGBFbTZJM+AfaRsJVTj4",
      "include_colab_link": true
    },
    "kernelspec": {
      "name": "python3",
      "display_name": "Python 3"
    },
    "language_info": {
      "name": "python"
    }
  },
  "cells": [
    {
      "cell_type": "markdown",
      "metadata": {
        "id": "view-in-github",
        "colab_type": "text"
      },
      "source": [
        "<a href=\"https://colab.research.google.com/github/jubedoyag/MetNumUN2021II/blob/main/Lab10/entregas_grupo4_coursera.ipynb\" target=\"_parent\"><img src=\"https://colab.research.google.com/assets/colab-badge.svg\" alt=\"Open In Colab\"/></a>"
      ]
    },
    {
      "cell_type": "markdown",
      "source": [
        "#Entrega coursera Julio Bedoya\n",
        "\n",
        "![nombre imagen](https://github.com/jubedoyag/MetNumUN2021II/blob/main/Lab10/imagen_entrega_julio_bedoya.png?raw=true)"
      ],
      "metadata": {
        "id": "lfw5X0KbwkGM"
      }
    }
  ]
}