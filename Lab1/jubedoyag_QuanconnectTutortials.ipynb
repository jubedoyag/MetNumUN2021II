{
  "nbformat": 4,
  "nbformat_minor": 0,
  "metadata": {
    "kernelspec": {
      "display_name": "Python 3",
      "language": "python",
      "name": "python3"
    },
    "language_info": {
      "codemirror_mode": {
        "name": "ipython",
        "version": 3
      },
      "file_extension": ".py",
      "mimetype": "text/x-python",
      "name": "python",
      "nbconvert_exporter": "python",
      "pygments_lexer": "ipython3",
      "version": "3.6.4"
    },
    "colab": {
      "name": "jubedoyag_QuanconnectTutortials.ipynb",
      "provenance": [],
      "collapsed_sections": [],
      "include_colab_link": true
    }
  },
  "cells": [
    {
      "cell_type": "markdown",
      "metadata": {
        "id": "view-in-github",
        "colab_type": "text"
      },
      "source": [
        "<a href=\"https://colab.research.google.com/github/jubedoyag/MetNumUN2021II/blob/main/Lab1/jubedoyag_QuanconnectTutortials.ipynb\" target=\"_parent\"><img src=\"https://colab.research.google.com/assets/colab-badge.svg\" alt=\"Open In Colab\"/></a>"
      ]
    },
    {
      "cell_type": "markdown",
      "metadata": {
        "id": "eQzBbvyKQymx"
      },
      "source": [
        "<div align=\"center\">\n",
        "<img style=\"display: block; margin: auto;\" alt=\"photo\" src=\"https://cdn.quantconnect.com/web/i/icon.png\">\n",
        "\n",
        "Quantconnect\n",
        "\n",
        "Introduction to Financial Python\n",
        "</div>\n",
        "\n",
        "# 01 Data Types and Data Structures\n",
        "\n",
        "# Introduction\n",
        "\n",
        "This tutorial provides a basic introduction to the Python programming language. If you are new to Python, you should run the code snippets while reading this tutorial. If you are an advanced Python user, please feel free to skip this chapter.\n",
        "\n",
        "# Basic Variable Types\n",
        "The basic types of variables in Python are: strings, integers, floating point numbers and booleans.\n",
        "\n",
        "Strings in python are identified as a contiguous set of characters represented in either single quotes (' ') or double quotes (\" \").\n"
      ]
    },
    {
      "cell_type": "code",
      "metadata": {
        "id": "N5t-UrcfOqid",
        "colab": {
          "base_uri": "https://localhost:8080/"
        },
        "outputId": "1ef1f70b-4c91-4b5e-d457-0f3c5abf1466"
      },
      "source": [
        "my_string1 = 'Welcome to'\n",
        "my_string2 = \"QuantConnect\"\n",
        "print(my_string1 + ' ' + my_string2)"
      ],
      "execution_count": 1,
      "outputs": [
        {
          "output_type": "stream",
          "name": "stdout",
          "text": [
            "Welcome to QuantConnect\n"
          ]
        }
      ]
    },
    {
      "cell_type": "code",
      "metadata": {
        "colab": {
          "base_uri": "https://localhost:8080/"
        },
        "id": "UPuwga3JmcV-",
        "outputId": "8ebd7252-8909-49d8-a1d9-8f906dbef65a"
      },
      "source": [
        "my_string1 = 'Bienvenido a'\n",
        "my_string2 = \"IPython y Jupyter\"\n",
        "print(my_string1 + ' ' + my_string2)"
      ],
      "execution_count": 2,
      "outputs": [
        {
          "output_type": "stream",
          "name": "stdout",
          "text": [
            "Bienvenido a IPython y Jupyter\n"
          ]
        }
      ]
    },
    {
      "cell_type": "markdown",
      "metadata": {
        "id": "bXHnxZyHSd1M"
      },
      "source": [
        "An integer is a round number with no values after the decimal point."
      ]
    },
    {
      "cell_type": "code",
      "metadata": {
        "id": "pNjuz3toOqif",
        "colab": {
          "base_uri": "https://localhost:8080/"
        },
        "outputId": "2901d4b3-4b58-46b1-8bea-aa5ccc023b26"
      },
      "source": [
        "my_int = 10\n",
        "print(my_int)\n",
        "print(type(my_int))"
      ],
      "execution_count": 3,
      "outputs": [
        {
          "output_type": "stream",
          "name": "stdout",
          "text": [
            "10\n",
            "<class 'int'>\n"
          ]
        }
      ]
    },
    {
      "cell_type": "code",
      "metadata": {
        "colab": {
          "base_uri": "https://localhost:8080/"
        },
        "id": "YUDdZ-WdnjqO",
        "outputId": "b2800bf4-0c7f-499b-de81-2700f2f098af"
      },
      "source": [
        "my_int = 32\n",
        "print(my_int)\n",
        "print(type(my_int))"
      ],
      "execution_count": 4,
      "outputs": [
        {
          "output_type": "stream",
          "name": "stdout",
          "text": [
            "32\n",
            "<class 'int'>\n"
          ]
        }
      ]
    },
    {
      "cell_type": "markdown",
      "metadata": {
        "id": "_1ZanWrYSnzF"
      },
      "source": [
        "The built-in function int() can convert a string into an integer."
      ]
    },
    {
      "cell_type": "code",
      "metadata": {
        "id": "zPwGb20FOqif",
        "colab": {
          "base_uri": "https://localhost:8080/"
        },
        "outputId": "4d238f48-6e79-4569-c312-11e973b69433"
      },
      "source": [
        "my_string = \"100\"\n",
        "print(type(my_string))\n",
        "my_int = int(my_string)\n",
        "print(type(my_int))"
      ],
      "execution_count": 5,
      "outputs": [
        {
          "output_type": "stream",
          "name": "stdout",
          "text": [
            "<class 'str'>\n",
            "<class 'int'>\n"
          ]
        }
      ]
    },
    {
      "cell_type": "code",
      "metadata": {
        "colab": {
          "base_uri": "https://localhost:8080/"
        },
        "id": "jkOW38mNnr6A",
        "outputId": "7cc16ee2-1327-42be-dea5-a4656f811ea4"
      },
      "source": [
        "my_string = \"256\"\n",
        "print(type(my_string))\n",
        "my_int = int(my_string)\n",
        "print(type(my_int))"
      ],
      "execution_count": 6,
      "outputs": [
        {
          "output_type": "stream",
          "name": "stdout",
          "text": [
            "<class 'str'>\n",
            "<class 'int'>\n"
          ]
        }
      ]
    },
    {
      "cell_type": "markdown",
      "metadata": {
        "id": "WqMDPDTHSrE9"
      },
      "source": [
        "A floating point number, or a float, is a real number in mathematics. In Python we need to include a value after a decimal point to define it as a float"
      ]
    },
    {
      "cell_type": "code",
      "metadata": {
        "id": "otCzKKW9Oqig",
        "colab": {
          "base_uri": "https://localhost:8080/"
        },
        "outputId": "ccb8a11b-2415-447d-8870-646e3b1acf7d"
      },
      "source": [
        "my_string = \"100\"\n",
        "my_float = float(my_string)\n",
        "print(type(my_float))"
      ],
      "execution_count": 7,
      "outputs": [
        {
          "output_type": "stream",
          "name": "stdout",
          "text": [
            "<class 'float'>\n"
          ]
        }
      ]
    },
    {
      "cell_type": "code",
      "metadata": {
        "colab": {
          "base_uri": "https://localhost:8080/"
        },
        "id": "1psNkdNLn5Ca",
        "outputId": "f4255a2c-0674-4969-9300-8164b8842cae"
      },
      "source": [
        "my_string = \"999\"\n",
        "my_float = float(my_string)\n",
        "print(type(my_float))"
      ],
      "execution_count": 8,
      "outputs": [
        {
          "output_type": "stream",
          "name": "stdout",
          "text": [
            "<class 'float'>\n"
          ]
        }
      ]
    },
    {
      "cell_type": "markdown",
      "metadata": {
        "id": "2iuyv8Q7StTJ"
      },
      "source": [
        "As you can see above, if we don't include a decimal value, the variable would be defined as an integer. The built-in function float() can convert a string or an integer into a float."
      ]
    },
    {
      "cell_type": "code",
      "metadata": {
        "id": "wwLw5VthOqig",
        "colab": {
          "base_uri": "https://localhost:8080/"
        },
        "outputId": "6da61642-82ec-4995-d893-daed6706e5bf"
      },
      "source": [
        "my_bool = False\n",
        "print(my_bool)\n",
        "print(type(my_bool))"
      ],
      "execution_count": 9,
      "outputs": [
        {
          "output_type": "stream",
          "name": "stdout",
          "text": [
            "False\n",
            "<class 'bool'>\n"
          ]
        }
      ]
    },
    {
      "cell_type": "code",
      "metadata": {
        "colab": {
          "base_uri": "https://localhost:8080/"
        },
        "id": "sGMZuqzNn_Vk",
        "outputId": "a1308694-aea2-480f-c9cb-a341afa2ab26"
      },
      "source": [
        "my_bool = True\n",
        "print(my_bool)\n",
        "print(type(my_bool))"
      ],
      "execution_count": 10,
      "outputs": [
        {
          "output_type": "stream",
          "name": "stdout",
          "text": [
            "True\n",
            "<class 'bool'>\n"
          ]
        }
      ]
    },
    {
      "cell_type": "markdown",
      "metadata": {
        "id": "bnGMwH21Szr_"
      },
      "source": [
        "A boolean, or bool, is a binary variable. Its value can only be True or False. It is useful when we do some logic operations, which would be covered in our next chapter."
      ]
    },
    {
      "cell_type": "code",
      "metadata": {
        "id": "DMa6pDl5Oqig",
        "colab": {
          "base_uri": "https://localhost:8080/"
        },
        "outputId": "0b0bee79-81c3-43bb-e3d2-47f2d70b537b"
      },
      "source": [
        "print(\"Addition \", 1+1)\n",
        "print(\"Subtraction \", 5-2)\n",
        "print(\"Multiplication \", 2*3)\n",
        "print(\"Division \", 10/2)\n",
        "print('exponent', 2**3)"
      ],
      "execution_count": 11,
      "outputs": [
        {
          "output_type": "stream",
          "name": "stdout",
          "text": [
            "Addition  2\n",
            "Subtraction  3\n",
            "Multiplication  6\n",
            "Division  5.0\n",
            "exponent 8\n"
          ]
        }
      ]
    },
    {
      "cell_type": "code",
      "metadata": {
        "colab": {
          "base_uri": "https://localhost:8080/"
        },
        "id": "3lZch2Bioj_c",
        "outputId": "9e9157bf-0218-429d-9c8f-4256bd9aa313"
      },
      "source": [
        "print(\"Addition \", 32+64)\n",
        "print(\"Subtraction \", 256-2)\n",
        "print(\"Multiplication \", 4*10)\n",
        "print(\"Division \", 22/7)\n",
        "print('exponent', 3**12)"
      ],
      "execution_count": 12,
      "outputs": [
        {
          "output_type": "stream",
          "name": "stdout",
          "text": [
            "Addition  96\n",
            "Subtraction  254\n",
            "Multiplication  40\n",
            "Division  3.142857142857143\n",
            "exponent 531441\n"
          ]
        }
      ]
    },
    {
      "cell_type": "markdown",
      "metadata": {
        "id": "1Xc9G9_sS2ju"
      },
      "source": [
        "# Basic Math Operations\n",
        "\n",
        "The basic math operators in python are demonstrated below:"
      ]
    },
    {
      "cell_type": "code",
      "metadata": {
        "id": "KE9gUryAOqig",
        "colab": {
          "base_uri": "https://localhost:8080/"
        },
        "outputId": "7385bd0a-0b1e-4674-e0dc-85242265ade6"
      },
      "source": [
        "print(1/3)\n",
        "print(1.0/3)"
      ],
      "execution_count": 13,
      "outputs": [
        {
          "output_type": "stream",
          "name": "stdout",
          "text": [
            "0.3333333333333333\n",
            "0.3333333333333333\n"
          ]
        }
      ]
    },
    {
      "cell_type": "code",
      "metadata": {
        "colab": {
          "base_uri": "https://localhost:8080/"
        },
        "id": "VFplc5bKou6v",
        "outputId": "0076ed03-9e74-41ab-ec28-3abd5bae97ec"
      },
      "source": [
        "print(22/7)\n",
        "print(22.0/7.0)"
      ],
      "execution_count": 14,
      "outputs": [
        {
          "output_type": "stream",
          "name": "stdout",
          "text": [
            "3.142857142857143\n",
            "3.142857142857143\n"
          ]
        }
      ]
    },
    {
      "cell_type": "markdown",
      "metadata": {
        "id": "AN5Oa3DoS_Nf"
      },
      "source": [
        "# Data Collections\n",
        "\n",
        "## List\n",
        "A list is an ordered collection of values. A list is mutable, which means you can change a list's value without changing the list itself. Creating a list is simply putting different comma-separated values between square brackets."
      ]
    },
    {
      "cell_type": "code",
      "metadata": {
        "id": "-tQdNqCvOqig",
        "colab": {
          "base_uri": "https://localhost:8080/"
        },
        "outputId": "ba8451e9-0066-4b48-9064-7a588ff58ecb"
      },
      "source": [
        "my_list = ['Quant', 'Connect', 1,2,3]\n",
        "print(my_list)"
      ],
      "execution_count": 15,
      "outputs": [
        {
          "output_type": "stream",
          "name": "stdout",
          "text": [
            "['Quant', 'Connect', 1, 2, 3]\n"
          ]
        }
      ]
    },
    {
      "cell_type": "code",
      "metadata": {
        "colab": {
          "base_uri": "https://localhost:8080/"
        },
        "id": "hWa17qgQo_KU",
        "outputId": "770c66d4-3d4f-4a00-ec7b-c6b039751994"
      },
      "source": [
        "my_list = ['Primero', 'Segundo', 3,4,8]\n",
        "print(my_list)"
      ],
      "execution_count": 16,
      "outputs": [
        {
          "output_type": "stream",
          "name": "stdout",
          "text": [
            "['Primero', 'Segundo', 3, 4, 8]\n"
          ]
        }
      ]
    },
    {
      "cell_type": "markdown",
      "metadata": {
        "id": "1O0TsgZCTHrM"
      },
      "source": [
        "The values in a list are called \"elements\". We can access list elements by indexing. Python index starts from 0. So if you have a list of length n, the index of the first element will be 0, and that of the last element will be n − 1. By the way, the length of a list can be obtained by the built-in function len()."
      ]
    },
    {
      "cell_type": "code",
      "metadata": {
        "id": "QhuVhRR5Oqih",
        "colab": {
          "base_uri": "https://localhost:8080/"
        },
        "outputId": "0706b1ca-7988-4a2a-8ff7-c0c911f6fd5f"
      },
      "source": [
        "my_list = ['Quant', 'Connect', 1,2,3]\n",
        "print(len(my_list))\n",
        "print(my_list[0])\n",
        "print(my_list[len(my_list) -1])"
      ],
      "execution_count": 17,
      "outputs": [
        {
          "output_type": "stream",
          "name": "stdout",
          "text": [
            "5\n",
            "Quant\n",
            "3\n"
          ]
        }
      ]
    },
    {
      "cell_type": "code",
      "metadata": {
        "colab": {
          "base_uri": "https://localhost:8080/"
        },
        "id": "vwfzPmYZpSRg",
        "outputId": "21e68d5a-9455-4d5c-8226-7ea7d71b804a"
      },
      "source": [
        "my_list = ['Primero', 'Segundo', 4,1,32]\n",
        "print(len(my_list))\n",
        "print(my_list[0])\n",
        "print(my_list[len(my_list) -1])"
      ],
      "execution_count": 18,
      "outputs": [
        {
          "output_type": "stream",
          "name": "stdout",
          "text": [
            "5\n",
            "Primero\n",
            "32\n"
          ]
        }
      ]
    },
    {
      "cell_type": "markdown",
      "metadata": {
        "id": "jgSZy1VGTKSc"
      },
      "source": [
        "You can also change the elements in the list by accessing an index and assigning a new value."
      ]
    },
    {
      "cell_type": "code",
      "metadata": {
        "id": "NQBNLjAvOqih",
        "colab": {
          "base_uri": "https://localhost:8080/"
        },
        "outputId": "1bc7f62e-f209-47bd-cbea-8534bb4ad2cf"
      },
      "source": [
        "my_list = ['Quant','Connect',1,2,3]\n",
        "my_list[2] = 'go'\n",
        "print(my_list)"
      ],
      "execution_count": 19,
      "outputs": [
        {
          "output_type": "stream",
          "name": "stdout",
          "text": [
            "['Quant', 'Connect', 'go', 2, 3]\n"
          ]
        }
      ]
    },
    {
      "cell_type": "code",
      "metadata": {
        "colab": {
          "base_uri": "https://localhost:8080/"
        },
        "id": "wgvam_SCpqeg",
        "outputId": "d2d26e7a-5bd0-4a3e-ca5c-304b6d335486"
      },
      "source": [
        "my_list = ['frase','ejemplo',0,25,32]\n",
        "my_list[2] = 'reemplazo'\n",
        "print(my_list)"
      ],
      "execution_count": 20,
      "outputs": [
        {
          "output_type": "stream",
          "name": "stdout",
          "text": [
            "['frase', 'ejemplo', 'reemplazo', 25, 32]\n"
          ]
        }
      ]
    },
    {
      "cell_type": "markdown",
      "metadata": {
        "id": "EQPs5ojoTVrk"
      },
      "source": [
        "A list can also be sliced with a colon:"
      ]
    },
    {
      "cell_type": "code",
      "metadata": {
        "id": "keNX2RbtOqii",
        "colab": {
          "base_uri": "https://localhost:8080/"
        },
        "outputId": "d7c2422b-ec13-494f-ab66-6e5b786404f9"
      },
      "source": [
        "my_list = ['Quant','Connect',1,2,3]\n",
        "print(my_list[1:3])"
      ],
      "execution_count": 21,
      "outputs": [
        {
          "output_type": "stream",
          "name": "stdout",
          "text": [
            "['Connect', 1]\n"
          ]
        }
      ]
    },
    {
      "cell_type": "code",
      "metadata": {
        "colab": {
          "base_uri": "https://localhost:8080/"
        },
        "id": "Ocy3UwPwqDmn",
        "outputId": "54822584-729e-44fc-dd17-8eff8c6dea05"
      },
      "source": [
        "my_list = ['python','java',101,22,32]\n",
        "print(my_list[1:3])"
      ],
      "execution_count": 22,
      "outputs": [
        {
          "output_type": "stream",
          "name": "stdout",
          "text": [
            "['java', 101]\n"
          ]
        }
      ]
    },
    {
      "cell_type": "markdown",
      "metadata": {
        "id": "AZqQd0K8TYul"
      },
      "source": [
        "The slice starts from the first element indicated, but excludes the last element indicated. Here we select all elements starting from index 1, which refers to the second element:"
      ]
    },
    {
      "cell_type": "code",
      "metadata": {
        "id": "0-76sLfkOqii",
        "colab": {
          "base_uri": "https://localhost:8080/"
        },
        "outputId": "41a4747a-b3d8-4087-ee52-4bcb1197c7f1"
      },
      "source": [
        "print(my_list[1:])"
      ],
      "execution_count": 23,
      "outputs": [
        {
          "output_type": "stream",
          "name": "stdout",
          "text": [
            "['java', 101, 22, 32]\n"
          ]
        }
      ]
    },
    {
      "cell_type": "markdown",
      "metadata": {
        "id": "XBqvhUdZVKWs"
      },
      "source": [
        "And all elements up to but excluding index 3:"
      ]
    },
    {
      "cell_type": "code",
      "metadata": {
        "id": "5NWr75L9Oqii",
        "colab": {
          "base_uri": "https://localhost:8080/"
        },
        "outputId": "90782aa8-aa79-4462-f3cf-0e2d263bdbc2"
      },
      "source": [
        "print(my_list[:3])"
      ],
      "execution_count": 24,
      "outputs": [
        {
          "output_type": "stream",
          "name": "stdout",
          "text": [
            "['python', 'java', 101]\n"
          ]
        }
      ]
    },
    {
      "cell_type": "markdown",
      "metadata": {
        "id": "eAFmM6bkTZz9"
      },
      "source": [
        "If you wish to add or remove an element from a list, you can use the append() and remove() methods for lists as follows:"
      ]
    },
    {
      "cell_type": "code",
      "metadata": {
        "colab": {
          "base_uri": "https://localhost:8080/"
        },
        "id": "pHmgTPElTo19",
        "outputId": "6f485c7a-1ce1-4c3e-e2ff-744d06d2a7f6"
      },
      "source": [
        "my_list = ['Hello', 'Quant']\n",
        "my_list.append('Hello')\n",
        "print(my_list)"
      ],
      "execution_count": 25,
      "outputs": [
        {
          "output_type": "stream",
          "name": "stdout",
          "text": [
            "['Hello', 'Quant', 'Hello']\n"
          ]
        }
      ]
    },
    {
      "cell_type": "code",
      "metadata": {
        "colab": {
          "base_uri": "https://localhost:8080/"
        },
        "id": "_hq6rus2qe98",
        "outputId": "0b3e4002-c95e-4944-ada1-440239586baf"
      },
      "source": [
        "my_list2 = ['Hola', 'Mundo']\n",
        "my_list2.append('Salvaje')\n",
        "print(my_list2)"
      ],
      "execution_count": 26,
      "outputs": [
        {
          "output_type": "stream",
          "name": "stdout",
          "text": [
            "['Hola', 'Mundo', 'Salvaje']\n"
          ]
        }
      ]
    },
    {
      "cell_type": "code",
      "metadata": {
        "colab": {
          "base_uri": "https://localhost:8080/"
        },
        "id": "4C4U1Yf0Tr8l",
        "outputId": "f8269b59-5229-4726-f763-3bdb5fe63607"
      },
      "source": [
        "my_list.remove('Hello')\n",
        "print(my_list)"
      ],
      "execution_count": 27,
      "outputs": [
        {
          "output_type": "stream",
          "name": "stdout",
          "text": [
            "['Quant', 'Hello']\n"
          ]
        }
      ]
    },
    {
      "cell_type": "code",
      "metadata": {
        "colab": {
          "base_uri": "https://localhost:8080/"
        },
        "id": "69Im-mBTquCv",
        "outputId": "c25d34c1-5ae9-46f5-d971-73e9de2073f1"
      },
      "source": [
        "my_list2.remove('Hola')\n",
        "print(my_list2)"
      ],
      "execution_count": 28,
      "outputs": [
        {
          "output_type": "stream",
          "name": "stdout",
          "text": [
            "['Mundo', 'Salvaje']\n"
          ]
        }
      ]
    },
    {
      "cell_type": "markdown",
      "metadata": {
        "id": "11W1gG-cVmOU"
      },
      "source": [
        "When there are repeated instances of \"Hello\", the first one is removed.\n",
        "\n",
        "## Tuple\n",
        "A tuple is a data structure type similar to a list. The difference is that a tuple is immutable, which means you can't change the elements in it once it's defined. We create a tuple by putting comma-separated values between parentheses."
      ]
    },
    {
      "cell_type": "code",
      "metadata": {
        "collapsed": true,
        "id": "vPmn6BAaOqii"
      },
      "source": [
        "my_tuple = ('Welcome','to','QuantConnect')"
      ],
      "execution_count": 29,
      "outputs": []
    },
    {
      "cell_type": "markdown",
      "metadata": {
        "id": "zMIme4dDV0Wz"
      },
      "source": [
        "Just like a list, a tuple can be sliced by using index."
      ]
    },
    {
      "cell_type": "code",
      "metadata": {
        "id": "8P-ddO0sOqii",
        "colab": {
          "base_uri": "https://localhost:8080/"
        },
        "outputId": "38bfce1d-48a4-4044-ddae-0afff887ce12"
      },
      "source": [
        "my_tuple = ('Welcome','to','QuantConnect')\n",
        "print(my_tuple[1:])"
      ],
      "execution_count": 30,
      "outputs": [
        {
          "output_type": "stream",
          "name": "stdout",
          "text": [
            "('to', 'QuantConnect')\n"
          ]
        }
      ]
    },
    {
      "cell_type": "code",
      "metadata": {
        "colab": {
          "base_uri": "https://localhost:8080/"
        },
        "id": "J0M8Ki19rGdr",
        "outputId": "e68b794e-04c4-49db-9733-5cd49056ca65"
      },
      "source": [
        "my_tuple = ('Willkommen','du','hast')\n",
        "print(my_tuple[1:])"
      ],
      "execution_count": 31,
      "outputs": [
        {
          "output_type": "stream",
          "name": "stdout",
          "text": [
            "('du', 'hast')\n"
          ]
        }
      ]
    },
    {
      "cell_type": "markdown",
      "metadata": {
        "id": "l2JqbusAV1Y2"
      },
      "source": [
        "## Set\n",
        "A set is an **unordered**  collection with **no duplicate** elements. The built-in function **set()** can be used to create sets."
      ]
    },
    {
      "cell_type": "code",
      "metadata": {
        "id": "Plau8r-UOqij",
        "colab": {
          "base_uri": "https://localhost:8080/"
        },
        "outputId": "97e12f9b-e2cc-4ed6-d2e2-bc11d6051f93"
      },
      "source": [
        "stock_list = ['AAPL','GOOG','IBM','AAPL','IBM','FB','F','GOOG']\n",
        "stock_set = set(stock_list)\n",
        "print(stock_set)"
      ],
      "execution_count": 32,
      "outputs": [
        {
          "output_type": "stream",
          "name": "stdout",
          "text": [
            "{'F', 'FB', 'GOOG', 'IBM', 'AAPL'}\n"
          ]
        }
      ]
    },
    {
      "cell_type": "code",
      "metadata": {
        "colab": {
          "base_uri": "https://localhost:8080/"
        },
        "id": "vjnYY843ri0E",
        "outputId": "26379023-7e04-4820-d195-b59e0a2610d5"
      },
      "source": [
        "stock_list = ['eng','ger','col','eng','fra','bra','usa','ger']\n",
        "stock_set = set(stock_list)\n",
        "print(stock_set)"
      ],
      "execution_count": 33,
      "outputs": [
        {
          "output_type": "stream",
          "name": "stdout",
          "text": [
            "{'bra', 'eng', 'fra', 'col', 'ger', 'usa'}\n"
          ]
        }
      ]
    },
    {
      "cell_type": "markdown",
      "metadata": {
        "id": "Jyb4GGIoWIHk"
      },
      "source": [
        "Set is an easy way to remove duplicate elements from a list.\n",
        "\n",
        "##Dictionary\n",
        "A dictionary is one of the most important data structures in Python. Unlike sequences which are indexed by integers, dictionaries are indexed by keys which can be either strings or floats.\n",
        "\n",
        "A dictionary is an **unordered** collection of key : value pairs, with the requirement that the keys are unique. We create a dictionary by placing a comma-separated list of key : value pairs within the braces."
      ]
    },
    {
      "cell_type": "code",
      "metadata": {
        "collapsed": true,
        "id": "36mTe5BaOqij"
      },
      "source": [
        "my_dic = {'AAPL':'AAPLE', 'FB':'FaceBook', 'GOOG':'Alphabet'}"
      ],
      "execution_count": 34,
      "outputs": []
    },
    {
      "cell_type": "code",
      "metadata": {
        "id": "KUfdVf43Oqij",
        "colab": {
          "base_uri": "https://localhost:8080/"
        },
        "outputId": "c63f686c-94a5-4c7c-d108-91e1f9bebfee"
      },
      "source": [
        "print(my_dic['GOOG'])"
      ],
      "execution_count": 35,
      "outputs": [
        {
          "output_type": "stream",
          "name": "stdout",
          "text": [
            "Alphabet\n"
          ]
        }
      ]
    },
    {
      "cell_type": "code",
      "metadata": {
        "colab": {
          "base_uri": "https://localhost:8080/"
        },
        "id": "RPtaxIF4sDaH",
        "outputId": "521ad296-f6fb-433d-c49a-7aed997fe55b"
      },
      "source": [
        "my_dic = {'eng':'Inglaterra', 'usa':'EEUU', 'ger':'Alemania'}\n",
        "print(my_dic['ger'])"
      ],
      "execution_count": 36,
      "outputs": [
        {
          "output_type": "stream",
          "name": "stdout",
          "text": [
            "Alemania\n"
          ]
        }
      ]
    },
    {
      "cell_type": "markdown",
      "metadata": {
        "id": "gSicoNqDWP4c"
      },
      "source": [
        "After defining a dictionary, we can access any value by indicating its key in brackets."
      ]
    },
    {
      "cell_type": "code",
      "metadata": {
        "id": "IrTZdq9FOqij",
        "colab": {
          "base_uri": "https://localhost:8080/"
        },
        "outputId": "9b9b117a-c789-4234-89a4-573ca527b78c"
      },
      "source": [
        "my_dic['GOOG'] = 'Alphabet Company'\n",
        "print(my_dic['GOOG'])"
      ],
      "execution_count": 37,
      "outputs": [
        {
          "output_type": "stream",
          "name": "stdout",
          "text": [
            "Alphabet Company\n"
          ]
        }
      ]
    },
    {
      "cell_type": "code",
      "metadata": {
        "colab": {
          "base_uri": "https://localhost:8080/"
        },
        "id": "-8bRw73usPAC",
        "outputId": "3977d254-0f6d-4b76-8dfd-f904ae8d452c"
      },
      "source": [
        "my_dic['ger'] = 'Republica Alemana'\n",
        "print(my_dic['ger'])"
      ],
      "execution_count": 38,
      "outputs": [
        {
          "output_type": "stream",
          "name": "stdout",
          "text": [
            "Republica Alemana\n"
          ]
        }
      ]
    },
    {
      "cell_type": "markdown",
      "metadata": {
        "id": "M9sDsTEMWQvc"
      },
      "source": [
        "We can also change the value associated with a specified key:"
      ]
    },
    {
      "cell_type": "code",
      "metadata": {
        "id": "lupRHf1_Oqij",
        "colab": {
          "base_uri": "https://localhost:8080/"
        },
        "outputId": "3137ecb7-5881-4c2c-ae04-c67c670d9d43"
      },
      "source": [
        "print(my_dic.keys())"
      ],
      "execution_count": 39,
      "outputs": [
        {
          "output_type": "stream",
          "name": "stdout",
          "text": [
            "dict_keys(['eng', 'usa', 'ger', 'GOOG'])\n"
          ]
        }
      ]
    },
    {
      "cell_type": "markdown",
      "metadata": {
        "id": "VPuDinlwWS9D"
      },
      "source": [
        "The built-in method of the dictionary object dict.keys() returns a list of all the keys used in the dictionary."
      ]
    },
    {
      "cell_type": "markdown",
      "metadata": {
        "id": "kSGzgNb2Womz"
      },
      "source": [
        "# Common String Operations\n",
        "A string is an immutable sequence of characters. It can be sliced by index just like a tuple:"
      ]
    },
    {
      "cell_type": "code",
      "metadata": {
        "id": "xPojDnm9Oqik",
        "colab": {
          "base_uri": "https://localhost:8080/"
        },
        "outputId": "55d0b44e-bd89-4c53-c4a4-cb9ba9415de8"
      },
      "source": [
        "my_str = 'Welcome to QuantConnect'\n",
        "print(my_str[8:])"
      ],
      "execution_count": 40,
      "outputs": [
        {
          "output_type": "stream",
          "name": "stdout",
          "text": [
            "to QuantConnect\n"
          ]
        }
      ]
    },
    {
      "cell_type": "code",
      "metadata": {
        "colab": {
          "base_uri": "https://localhost:8080/"
        },
        "id": "DbRhU05nslJ2",
        "outputId": "2b39282d-727b-46d4-c141-bab570be5c0c"
      },
      "source": [
        "my_str = 'Bienvenido a Python'\n",
        "print(my_str[8:])"
      ],
      "execution_count": 41,
      "outputs": [
        {
          "output_type": "stream",
          "name": "stdout",
          "text": [
            "do a Python\n"
          ]
        }
      ]
    },
    {
      "cell_type": "markdown",
      "metadata": {
        "id": "wuJYy7tvWtM7"
      },
      "source": [
        "There are many methods associated with strings. We can use string.count() to count the occurrences of a character in a string, use string.find() to return the index of a specific character, and use string.replace() to replace characters"
      ]
    },
    {
      "cell_type": "code",
      "metadata": {
        "id": "u9deZq1SOqik",
        "colab": {
          "base_uri": "https://localhost:8080/"
        },
        "outputId": "810d5643-0f65-4d48-d552-8cf284151a94"
      },
      "source": [
        "print('Counting the number of e appears in this sentence'.count('e'))\n",
        "print('The first time e appears in this sentence'.find('e'))\n",
        "print('all the a in this sentence now becomes e'.replace('a','e'))"
      ],
      "execution_count": 42,
      "outputs": [
        {
          "output_type": "stream",
          "name": "stdout",
          "text": [
            "7\n",
            "2\n",
            "ell the e in this sentence now becomes e\n"
          ]
        }
      ]
    },
    {
      "cell_type": "code",
      "metadata": {
        "colab": {
          "base_uri": "https://localhost:8080/"
        },
        "id": "Txi3KL_Ts8Hd",
        "outputId": "df7f0bef-5e27-4632-a66c-d8bd013b044a"
      },
      "source": [
        "print('Contar el numero de e en esta frase'.count('e'))\n",
        "print('Indice de la primera e en la sentencia'.find('e'))\n",
        "print('Todas las a son reemplazadas por e'.replace('a','e'))"
      ],
      "execution_count": 43,
      "outputs": [
        {
          "output_type": "stream",
          "name": "stdout",
          "text": [
            "7\n",
            "5\n",
            "Todes les e son reemplezedes por e\n"
          ]
        }
      ]
    },
    {
      "cell_type": "markdown",
      "metadata": {
        "id": "sJPn3rkvWwHN"
      },
      "source": [
        "The most commonly used method for strings is string.split(). This method will split the string by the indicated character and return a list:"
      ]
    },
    {
      "cell_type": "code",
      "metadata": {
        "id": "hbIaFLFHOqik",
        "colab": {
          "base_uri": "https://localhost:8080/"
        },
        "outputId": "93b63b72-2aab-48af-e6ba-7366b565cd88"
      },
      "source": [
        "Time = '2016-04-01 09:43:00'\n",
        "splited_list = Time.split(' ')\n",
        "date = splited_list[0]\n",
        "time = splited_list[1]\n",
        "print(date, time)\n",
        "hour = time.split(':')[0]\n",
        "print(hour)"
      ],
      "execution_count": 44,
      "outputs": [
        {
          "output_type": "stream",
          "name": "stdout",
          "text": [
            "2016-04-01 09:43:00\n",
            "09\n"
          ]
        }
      ]
    },
    {
      "cell_type": "code",
      "metadata": {
        "colab": {
          "base_uri": "https://localhost:8080/"
        },
        "id": "3haRHlvNtTBY",
        "outputId": "05ab536b-8bb9-429e-a8c6-bec22619ddfe"
      },
      "source": [
        "Time = '2021-09-11 12:45:59'\n",
        "splited_list = Time.split(' ')\n",
        "date = splited_list[0]\n",
        "time = splited_list[1]\n",
        "print(date, time)\n",
        "hour = time.split(':')[0]\n",
        "print(hour)"
      ],
      "execution_count": 45,
      "outputs": [
        {
          "output_type": "stream",
          "name": "stdout",
          "text": [
            "2021-09-11 12:45:59\n",
            "12\n"
          ]
        }
      ]
    },
    {
      "cell_type": "markdown",
      "metadata": {
        "id": "9cJQGk96WyVc"
      },
      "source": [
        "We can replace parts of a string by our variable. This is called string formatting."
      ]
    },
    {
      "cell_type": "code",
      "metadata": {
        "id": "-E_rIvv6Oqik",
        "colab": {
          "base_uri": "https://localhost:8080/"
        },
        "outputId": "fd8d3a78-cb5e-46a6-b70e-a78a48168a40"
      },
      "source": [
        "my_time = 'Hour: {}, Minute:{}'.format('09','43')\n",
        "print(my_time)"
      ],
      "execution_count": 46,
      "outputs": [
        {
          "output_type": "stream",
          "name": "stdout",
          "text": [
            "Hour: 09, Minute:43\n"
          ]
        }
      ]
    },
    {
      "cell_type": "code",
      "metadata": {
        "colab": {
          "base_uri": "https://localhost:8080/"
        },
        "id": "J85PlvcFtcbC",
        "outputId": "79d13275-7ae6-41f9-e0fa-cd5ea114f123"
      },
      "source": [
        "my_time = 'Hora: {}, Minuto: {}'.format('12','30')\n",
        "print(my_time)"
      ],
      "execution_count": 47,
      "outputs": [
        {
          "output_type": "stream",
          "name": "stdout",
          "text": [
            "Hora: 12, Minuto: 30\n"
          ]
        }
      ]
    },
    {
      "cell_type": "markdown",
      "metadata": {
        "id": "1_NbVldpWzAs"
      },
      "source": [
        "Another way to format a string is to use the % symbol."
      ]
    },
    {
      "cell_type": "code",
      "metadata": {
        "id": "4rZ4rkD2Oqik",
        "colab": {
          "base_uri": "https://localhost:8080/"
        },
        "outputId": "05253764-b24a-4422-aef9-79e4d5b50c0c"
      },
      "source": [
        "print('the pi number is %f'%3.14)\n",
        "print('%s to %s'%('Welcome','Quantconnect'))"
      ],
      "execution_count": 48,
      "outputs": [
        {
          "output_type": "stream",
          "name": "stdout",
          "text": [
            "the pi number is 3.140000\n",
            "Welcome to Quantconnect\n"
          ]
        }
      ]
    },
    {
      "cell_type": "code",
      "metadata": {
        "colab": {
          "base_uri": "https://localhost:8080/"
        },
        "id": "TtBYW5ajtzMI",
        "outputId": "ef6a9878-6e42-4a4d-9309-f4a8ba630b2e"
      },
      "source": [
        "print('Una aproximacion de pi es %f'%3.14159)\n",
        "print('%s para %s'%('ayudame','ayudarte'))"
      ],
      "execution_count": 49,
      "outputs": [
        {
          "output_type": "stream",
          "name": "stdout",
          "text": [
            "Una aproximacion de pi es 3.141590\n",
            "ayudame para ayudarte\n"
          ]
        }
      ]
    },
    {
      "cell_type": "markdown",
      "metadata": {
        "id": "v_5cocrDW3MN"
      },
      "source": [
        "# Summary\n",
        "\n",
        "Weave seen the basic data types and data structures in Python. It's important to keep practicing to become familiar with these data structures. In the next tutorial, we will cover for and while loops and logical operations in Python."
      ]
    },
    {
      "cell_type": "markdown",
      "metadata": {
        "id": "nyqinnNft1Kd"
      },
      "source": [
        "#Tutorial 2\n"
      ]
    },
    {
      "cell_type": "code",
      "metadata": {
        "colab": {
          "base_uri": "https://localhost:8080/"
        },
        "id": "TVx6Snt7bDYR",
        "outputId": "d73b4e54-a1dc-48c7-f054-a2d57ca95e1f"
      },
      "source": [
        "print(1 == 0)\n",
        "print(1 == 1)\n",
        "print(1 != 0)\n",
        "print(5 >= 5)\n",
        "print(5 >= 6)"
      ],
      "execution_count": 50,
      "outputs": [
        {
          "output_type": "stream",
          "name": "stdout",
          "text": [
            "False\n",
            "True\n",
            "True\n",
            "True\n",
            "False\n"
          ]
        }
      ]
    },
    {
      "cell_type": "code",
      "metadata": {
        "colab": {
          "base_uri": "https://localhost:8080/"
        },
        "id": "YJjv334LbHN5",
        "outputId": "dbadc11e-060a-472a-901b-cc688b125802"
      },
      "source": [
        "print(23 == 0)\n",
        "print(8 == 8)\n",
        "print(12 != 7)\n",
        "print(256 >= 256)\n",
        "print(52 >= 64)"
      ],
      "execution_count": 51,
      "outputs": [
        {
          "output_type": "stream",
          "name": "stdout",
          "text": [
            "False\n",
            "True\n",
            "True\n",
            "True\n",
            "False\n"
          ]
        }
      ]
    },
    {
      "cell_type": "code",
      "metadata": {
        "colab": {
          "base_uri": "https://localhost:8080/"
        },
        "id": "iY0LJBov4QcV",
        "outputId": "5e4df644-2694-44f4-9f12-af62e989b841"
      },
      "source": [
        "print(2 > 1 and 3 > 2)\n",
        "print(2 > 1 and 3 < 2) \n",
        "print(2 > 1 or 3 < 2)\n",
        "print(2 < 1 and 3 < 2)"
      ],
      "execution_count": 52,
      "outputs": [
        {
          "output_type": "stream",
          "name": "stdout",
          "text": [
            "True\n",
            "False\n",
            "True\n",
            "False\n"
          ]
        }
      ]
    },
    {
      "cell_type": "code",
      "metadata": {
        "colab": {
          "base_uri": "https://localhost:8080/"
        },
        "id": "QeDOHDs04SVS",
        "outputId": "103e1655-c65d-4e84-8633-b8dd1e1ef37c"
      },
      "source": [
        "print(40 > 0 and 32 > 24)\n",
        "print(20 > 10 and 30 < 12) \n",
        "print(22 > 11 or 23 < 12)\n",
        "print(21 < 12 and 31 < 21)"
      ],
      "execution_count": 53,
      "outputs": [
        {
          "output_type": "stream",
          "name": "stdout",
          "text": [
            "True\n",
            "False\n",
            "True\n",
            "False\n"
          ]
        }
      ]
    },
    {
      "cell_type": "code",
      "metadata": {
        "colab": {
          "base_uri": "https://localhost:8080/"
        },
        "id": "5G-EEjYD41gn",
        "outputId": "2dad1ec5-9cc8-4a12-d9ac-289f37814845"
      },
      "source": [
        "print((3 > 2 or 1 < 3) and (1!=3 and 4>3) and not ( 3 < 2 or 1 < 3 and (1!=3 and 4>3)))\n",
        "print(3 > 2 or 1 < 3 and (1!=3 and 4>3) and not ( 3 < 2 or 1 < 3 and (1!=3 and 4>3)))"
      ],
      "execution_count": 54,
      "outputs": [
        {
          "output_type": "stream",
          "name": "stdout",
          "text": [
            "False\n",
            "True\n"
          ]
        }
      ]
    },
    {
      "cell_type": "code",
      "metadata": {
        "colab": {
          "base_uri": "https://localhost:8080/"
        },
        "id": "e6yCG9sL44wf",
        "outputId": "caf8713f-f1dd-4887-ddd1-243198e7e0bb"
      },
      "source": [
        "print((32 > 24 or 10 < 30) and (10!=30 and 46>32) and not ( 31 < 21 or 12 < 33 and (101!=333 and 8>6)))\n",
        "print(32 > 24 or 10 < 30 and (10!=32 and 46>32) and not ( 31 < 21 or 12 < 33 and (101!=333 and 8>6)))"
      ],
      "execution_count": 55,
      "outputs": [
        {
          "output_type": "stream",
          "name": "stdout",
          "text": [
            "False\n",
            "True\n"
          ]
        }
      ]
    },
    {
      "cell_type": "code",
      "metadata": {
        "colab": {
          "base_uri": "https://localhost:8080/"
        },
        "id": "oViWxNzj55E-",
        "outputId": "7730c41d-37ce-4c65-c617-f823924eaf7c"
      },
      "source": [
        "i = 0\n",
        "if i == 0:\n",
        "    print('i==0 is True')"
      ],
      "execution_count": 56,
      "outputs": [
        {
          "output_type": "stream",
          "name": "stdout",
          "text": [
            "i==0 is True\n"
          ]
        }
      ]
    },
    {
      "cell_type": "code",
      "metadata": {
        "colab": {
          "base_uri": "https://localhost:8080/"
        },
        "id": "flQHSEpZ6FtK",
        "outputId": "b4755a7a-1f13-4f2a-f384-4416fbe79569"
      },
      "source": [
        "i = 2\n",
        "if i == 2:\n",
        "    print('i y 2 son iguales')"
      ],
      "execution_count": 57,
      "outputs": [
        {
          "output_type": "stream",
          "name": "stdout",
          "text": [
            "i y 2 son iguales\n"
          ]
        }
      ]
    },
    {
      "cell_type": "code",
      "metadata": {
        "colab": {
          "base_uri": "https://localhost:8080/"
        },
        "id": "HdapDB016hl6",
        "outputId": "4c503acb-65b2-4131-8b86-a7250d29bdeb"
      },
      "source": [
        "p = 1 > 0\n",
        "q = 2 > 3\n",
        "if p and q:\n",
        "    print('p and q is true')\n",
        "elif p and not q:\n",
        "    print('q is false')\n",
        "elif q and not p:\n",
        "    print('p is false')\n",
        "else:\n",
        "    print('None of p and q is true')"
      ],
      "execution_count": 58,
      "outputs": [
        {
          "output_type": "stream",
          "name": "stdout",
          "text": [
            "q is false\n"
          ]
        }
      ]
    },
    {
      "cell_type": "code",
      "metadata": {
        "colab": {
          "base_uri": "https://localhost:8080/"
        },
        "id": "XfCbydi760dG",
        "outputId": "64df09bf-c369-428c-82ef-c1406ef50f87"
      },
      "source": [
        "p = 64 > 32\n",
        "q = 24 > 32\n",
        "if p and q:\n",
        "    print('p y q son verdad')\n",
        "elif p and not q:\n",
        "    print('q es falso')\n",
        "elif q and not p:\n",
        "    print('p es falso')\n",
        "else:\n",
        "    print('Tanto p como q son falsos')"
      ],
      "execution_count": 59,
      "outputs": [
        {
          "output_type": "stream",
          "name": "stdout",
          "text": [
            "q es falso\n"
          ]
        }
      ]
    },
    {
      "cell_type": "code",
      "metadata": {
        "colab": {
          "base_uri": "https://localhost:8080/"
        },
        "id": "pv_RJEhf6__d",
        "outputId": "69dd0b4d-b94a-4214-d103-ff9ad3373aed"
      },
      "source": [
        "i = 0\n",
        "while i < 5:\n",
        "    print(i)\n",
        "    i += 1"
      ],
      "execution_count": 60,
      "outputs": [
        {
          "output_type": "stream",
          "name": "stdout",
          "text": [
            "0\n",
            "1\n",
            "2\n",
            "3\n",
            "4\n"
          ]
        }
      ]
    },
    {
      "cell_type": "code",
      "metadata": {
        "colab": {
          "base_uri": "https://localhost:8080/"
        },
        "id": "fq8xezkp7D6w",
        "outputId": "a3201c48-e669-4afa-aaeb-1f33dd1b74e4"
      },
      "source": [
        "i = 10\n",
        "while i < 15:\n",
        "    print(i)\n",
        "    i += 1"
      ],
      "execution_count": 61,
      "outputs": [
        {
          "output_type": "stream",
          "name": "stdout",
          "text": [
            "10\n",
            "11\n",
            "12\n",
            "13\n",
            "14\n"
          ]
        }
      ]
    },
    {
      "cell_type": "code",
      "metadata": {
        "colab": {
          "base_uri": "https://localhost:8080/"
        },
        "id": "_62kFn3J7L3j",
        "outputId": "ae1d15db-29d2-47c3-c924-6c689f71b062"
      },
      "source": [
        "for i in [1,2,3,4,5]:\n",
        "    print(i)"
      ],
      "execution_count": 62,
      "outputs": [
        {
          "output_type": "stream",
          "name": "stdout",
          "text": [
            "1\n",
            "2\n",
            "3\n",
            "4\n",
            "5\n"
          ]
        }
      ]
    },
    {
      "cell_type": "code",
      "metadata": {
        "colab": {
          "base_uri": "https://localhost:8080/"
        },
        "id": "qJC7cIQv7SaM",
        "outputId": "704d91e1-94df-435a-f0ec-b4bf4cee026d"
      },
      "source": [
        "for i in [12,24,48,81,500]:\n",
        "    print(i)"
      ],
      "execution_count": 63,
      "outputs": [
        {
          "output_type": "stream",
          "name": "stdout",
          "text": [
            "12\n",
            "24\n",
            "48\n",
            "81\n",
            "500\n"
          ]
        }
      ]
    },
    {
      "cell_type": "code",
      "metadata": {
        "colab": {
          "base_uri": "https://localhost:8080/"
        },
        "id": "-fecKZkL7fl1",
        "outputId": "24ef487b-dc73-4296-de4a-3ff12bbad189"
      },
      "source": [
        "stocks = ['AAPL','GOOG','IBM','FB','F','V', 'G', 'GE']\n",
        "selected = ['AAPL','IBM']\n",
        "new_list = []\n",
        "for i in stocks:\n",
        "    if i not in selected:\n",
        "        new_list.append(i)\n",
        "print(stocks)"
      ],
      "execution_count": 64,
      "outputs": [
        {
          "output_type": "stream",
          "name": "stdout",
          "text": [
            "['AAPL', 'GOOG', 'IBM', 'FB', 'F', 'V', 'G', 'GE']\n"
          ]
        }
      ]
    },
    {
      "cell_type": "code",
      "metadata": {
        "colab": {
          "base_uri": "https://localhost:8080/"
        },
        "id": "MYIO46ed7hVA",
        "outputId": "b8c27eb8-5a8c-4605-fd70-efde59886791"
      },
      "source": [
        "stocks = ['ger','eng','fra','ita','esp','aus', 'pol', 'rus']\n",
        "selected = ['ger','ita']\n",
        "new_list = []\n",
        "for i in stocks:\n",
        "    if i not in selected:\n",
        "        new_list.append(i)\n",
        "print(new_list)"
      ],
      "execution_count": 65,
      "outputs": [
        {
          "output_type": "stream",
          "name": "stdout",
          "text": [
            "['eng', 'fra', 'esp', 'aus', 'pol', 'rus']\n"
          ]
        }
      ]
    },
    {
      "cell_type": "code",
      "metadata": {
        "colab": {
          "base_uri": "https://localhost:8080/"
        },
        "id": "W7u9xNV18H3S",
        "outputId": "85688394-c278-4510-8e55-6a1645d8f27e"
      },
      "source": [
        "stocks = ['AAPL','GOOG','IBM','FB','F','V', 'G', 'GE']\n",
        "for i in stocks:\n",
        "    print(i)\n",
        "    if i == 'FB':\n",
        "        break"
      ],
      "execution_count": 66,
      "outputs": [
        {
          "output_type": "stream",
          "name": "stdout",
          "text": [
            "AAPL\n",
            "GOOG\n",
            "IBM\n",
            "FB\n"
          ]
        }
      ]
    },
    {
      "cell_type": "code",
      "metadata": {
        "colab": {
          "base_uri": "https://localhost:8080/"
        },
        "id": "u6dhkZ7m8J3U",
        "outputId": "f98354fa-49c2-4a05-e858-9b09dbbce71c"
      },
      "source": [
        "stocks = ['ger','eng','fra','ita','esp','aus', 'pol', 'rus']\n",
        "for i in stocks:\n",
        "    print(i)\n",
        "    if i == 'ita':\n",
        "        break"
      ],
      "execution_count": 67,
      "outputs": [
        {
          "output_type": "stream",
          "name": "stdout",
          "text": [
            "ger\n",
            "eng\n",
            "fra\n",
            "ita\n"
          ]
        }
      ]
    },
    {
      "cell_type": "code",
      "metadata": {
        "colab": {
          "base_uri": "https://localhost:8080/"
        },
        "id": "oh2QCuJd8ZD1",
        "outputId": "d0a0b44d-78f7-4990-f093-bce42af7a40b"
      },
      "source": [
        "stocks = ['AAPL','GOOG','IBM','FB','F','V', 'G', 'GE']\n",
        "for i in stocks:\n",
        "    if i == 'FB':\n",
        "        continue\n",
        "    print(i)"
      ],
      "execution_count": 68,
      "outputs": [
        {
          "output_type": "stream",
          "name": "stdout",
          "text": [
            "AAPL\n",
            "GOOG\n",
            "IBM\n",
            "F\n",
            "V\n",
            "G\n",
            "GE\n"
          ]
        }
      ]
    },
    {
      "cell_type": "code",
      "metadata": {
        "colab": {
          "base_uri": "https://localhost:8080/"
        },
        "id": "6e-kezZp8aYf",
        "outputId": "00856f10-3c18-4135-eb06-cc9819ac6c97"
      },
      "source": [
        "stocks = ['ger','eng','fra','ita','esp','aus', 'pol', 'rus']\n",
        "for i in stocks:\n",
        "    if i == 'ita':\n",
        "        continue\n",
        "    print(i)"
      ],
      "execution_count": 69,
      "outputs": [
        {
          "output_type": "stream",
          "name": "stdout",
          "text": [
            "ger\n",
            "eng\n",
            "fra\n",
            "esp\n",
            "aus\n",
            "pol\n",
            "rus\n"
          ]
        }
      ]
    },
    {
      "cell_type": "code",
      "metadata": {
        "colab": {
          "base_uri": "https://localhost:8080/"
        },
        "id": "IM4VloxE8gvP",
        "outputId": "55d8358b-b7ae-4011-d53e-a2dd0debc2f0"
      },
      "source": [
        "\n",
        "squares = []\n",
        "for i in [1,2,3,4,5]:\n",
        "    squares.append(i**2)\n",
        "print(squares)"
      ],
      "execution_count": 70,
      "outputs": [
        {
          "output_type": "stream",
          "name": "stdout",
          "text": [
            "[1, 4, 9, 16, 25]\n"
          ]
        }
      ]
    },
    {
      "cell_type": "code",
      "metadata": {
        "colab": {
          "base_uri": "https://localhost:8080/"
        },
        "id": "h6AWWqn78nK7",
        "outputId": "f775cfde-b063-421b-b064-23f26d891a50"
      },
      "source": [
        "squares = []\n",
        "for i in [10,21,32,43,54]:\n",
        "    squares.append(i**2)\n",
        "print(squares)"
      ],
      "execution_count": 71,
      "outputs": [
        {
          "output_type": "stream",
          "name": "stdout",
          "text": [
            "[100, 441, 1024, 1849, 2916]\n"
          ]
        }
      ]
    },
    {
      "cell_type": "code",
      "metadata": {
        "colab": {
          "base_uri": "https://localhost:8080/"
        },
        "id": "Wlshj6rT_57Q",
        "outputId": "4991af67-a3ee-4aef-b399-2c75d7e78dba"
      },
      "source": [
        "lista = [1,2,3,4,5]\n",
        "squares = [x**2 for x in lista]\n",
        "print(squares)"
      ],
      "execution_count": 72,
      "outputs": [
        {
          "output_type": "stream",
          "name": "stdout",
          "text": [
            "[1, 4, 9, 16, 25]\n"
          ]
        }
      ]
    },
    {
      "cell_type": "code",
      "metadata": {
        "colab": {
          "base_uri": "https://localhost:8080/"
        },
        "id": "y5eUPlY4_8MW",
        "outputId": "ddb638b2-fe3f-41ce-d9a3-e3836a38cd39"
      },
      "source": [
        "lista = [10,21,32,43,54]\n",
        "squares = [x**2 for x in lista]\n",
        "print(squares)"
      ],
      "execution_count": 73,
      "outputs": [
        {
          "output_type": "stream",
          "name": "stdout",
          "text": [
            "[100, 441, 1024, 1849, 2916]\n"
          ]
        }
      ]
    },
    {
      "cell_type": "code",
      "metadata": {
        "colab": {
          "base_uri": "https://localhost:8080/"
        },
        "id": "W6tVCw6ZACY_",
        "outputId": "89022d4e-b13c-43e8-8b98-16ef651aa413"
      },
      "source": [
        "stocks = ['AAPL','GOOG','IBM','FB','F','V', 'G', 'GE']\n",
        "selected = ['AAPL','IBM']\n",
        "new_list = [x for x in stocks if x in selected]\n",
        "print(new_list)"
      ],
      "execution_count": 74,
      "outputs": [
        {
          "output_type": "stream",
          "name": "stdout",
          "text": [
            "['AAPL', 'IBM']\n"
          ]
        }
      ]
    },
    {
      "cell_type": "code",
      "metadata": {
        "colab": {
          "base_uri": "https://localhost:8080/"
        },
        "id": "nlyJESCcAEVC",
        "outputId": "f70250cc-0f0d-40f4-9657-b6375ed22b7e"
      },
      "source": [
        "stocks = ['ger','eng','fra','ita','esp','aus', 'pol', 'rus']\n",
        "selected = ['ger','ita']\n",
        "new_list = [x for x in stocks if x in selected]\n",
        "print(new_list)"
      ],
      "execution_count": 75,
      "outputs": [
        {
          "output_type": "stream",
          "name": "stdout",
          "text": [
            "['ger', 'ita']\n"
          ]
        }
      ]
    },
    {
      "cell_type": "code",
      "metadata": {
        "colab": {
          "base_uri": "https://localhost:8080/"
        },
        "id": "zFjBAqnSAYjU",
        "outputId": "a0bba197-b19c-4cca-a77b-a678adbae75e"
      },
      "source": [
        "print([(x, y) for x in [1,2,3] for y in [3,1,4] if x != y])\n",
        "print([str(x)+' vs '+str(y) for x in ['AAPL','GOOG','IBM','FB'] for y in ['F','V','G','GE'] if x!=y])"
      ],
      "execution_count": 76,
      "outputs": [
        {
          "output_type": "stream",
          "name": "stdout",
          "text": [
            "[(1, 3), (1, 4), (2, 3), (2, 1), (2, 4), (3, 1), (3, 4)]\n",
            "['AAPL vs F', 'AAPL vs V', 'AAPL vs G', 'AAPL vs GE', 'GOOG vs F', 'GOOG vs V', 'GOOG vs G', 'GOOG vs GE', 'IBM vs F', 'IBM vs V', 'IBM vs G', 'IBM vs GE', 'FB vs F', 'FB vs V', 'FB vs G', 'FB vs GE']\n"
          ]
        }
      ]
    },
    {
      "cell_type": "code",
      "metadata": {
        "colab": {
          "base_uri": "https://localhost:8080/"
        },
        "id": "uHPXnJxaAbSE",
        "outputId": "d8ba6a89-3c1d-4597-c9a7-b6adc85a04e0"
      },
      "source": [
        "print([(x, y) for x in [12,24,36] for y in [36,12,64] if x != y])\n",
        "print([str(x)+' vs '+str(y) for x in ['ger','eng','ita','pol'] for y in ['gm','en','it','po'] if x!=y])"
      ],
      "execution_count": 77,
      "outputs": [
        {
          "output_type": "stream",
          "name": "stdout",
          "text": [
            "[(12, 36), (12, 64), (24, 36), (24, 12), (24, 64), (36, 12), (36, 64)]\n",
            "['ger vs gm', 'ger vs en', 'ger vs it', 'ger vs po', 'eng vs gm', 'eng vs en', 'eng vs it', 'eng vs po', 'ita vs gm', 'ita vs en', 'ita vs it', 'ita vs po', 'pol vs gm', 'pol vs en', 'pol vs it', 'pol vs po']\n"
          ]
        }
      ]
    },
    {
      "cell_type": "markdown",
      "metadata": {
        "id": "TZiKfqMSBgpg"
      },
      "source": [
        "#Tutorial 3"
      ]
    },
    {
      "cell_type": "code",
      "metadata": {
        "colab": {
          "base_uri": "https://localhost:8080/"
        },
        "id": "VpRo0g_fBkfX",
        "outputId": "f2472aed-c3de-4bfb-d780-f489738af4b2"
      },
      "source": [
        "def product(x,y):\n",
        "    return x*y\n",
        "print(product(2,3))\n",
        "print(product(5,10))"
      ],
      "execution_count": 78,
      "outputs": [
        {
          "output_type": "stream",
          "name": "stdout",
          "text": [
            "6\n",
            "50\n"
          ]
        }
      ]
    },
    {
      "cell_type": "code",
      "metadata": {
        "colab": {
          "base_uri": "https://localhost:8080/"
        },
        "id": "hzkQRrSSCE22",
        "outputId": "0e9b9bd6-5079-42d8-e8da-81f0da6c13c1"
      },
      "source": [
        "def product(x,y):\n",
        "    return x*y\n",
        "print(product(20,39))\n",
        "print(product(51,1))"
      ],
      "execution_count": 79,
      "outputs": [
        {
          "output_type": "stream",
          "name": "stdout",
          "text": [
            "780\n",
            "51\n"
          ]
        }
      ]
    },
    {
      "cell_type": "code",
      "metadata": {
        "colab": {
          "base_uri": "https://localhost:8080/"
        },
        "id": "LJZB8qbTCZ-a",
        "outputId": "672ea6ad-c269-460f-fc29-1dfd94134b37"
      },
      "source": [
        "def say_hi():\n",
        "    print('Welcome to QuantConnect')\n",
        "say_hi()"
      ],
      "execution_count": 80,
      "outputs": [
        {
          "output_type": "stream",
          "name": "stdout",
          "text": [
            "Welcome to QuantConnect\n"
          ]
        }
      ]
    },
    {
      "cell_type": "code",
      "metadata": {
        "colab": {
          "base_uri": "https://localhost:8080/"
        },
        "id": "axZN0ZMtCbo2",
        "outputId": "c9b8b943-9919-44c8-b9dd-493a9f0240d1"
      },
      "source": [
        "def say_hi():\n",
        "    print('Funcion de imprimir cadena')\n",
        "say_hi()"
      ],
      "execution_count": 81,
      "outputs": [
        {
          "output_type": "stream",
          "name": "stdout",
          "text": [
            "Funcion de imprimir cadena\n"
          ]
        }
      ]
    },
    {
      "cell_type": "code",
      "metadata": {
        "colab": {
          "base_uri": "https://localhost:8080/"
        },
        "id": "BORlwkeYC_1S",
        "outputId": "0854bf64-8c03-4251-f8c6-602b5038ff22"
      },
      "source": [
        "print(range(10))\n",
        "print(range(1,11))\n",
        "print(range(1,11,2))"
      ],
      "execution_count": 82,
      "outputs": [
        {
          "output_type": "stream",
          "name": "stdout",
          "text": [
            "range(0, 10)\n",
            "range(1, 11)\n",
            "range(1, 11, 2)\n"
          ]
        }
      ]
    },
    {
      "cell_type": "code",
      "metadata": {
        "colab": {
          "base_uri": "https://localhost:8080/"
        },
        "id": "U2GUetuJDBQi",
        "outputId": "6a3e7e57-eae2-4885-f5c6-3c9bfb8510bd"
      },
      "source": [
        "print(range(32))\n",
        "print(range(2,64))\n",
        "print(range(2,64,4))"
      ],
      "execution_count": 83,
      "outputs": [
        {
          "output_type": "stream",
          "name": "stdout",
          "text": [
            "range(0, 32)\n",
            "range(2, 64)\n",
            "range(2, 64, 4)\n"
          ]
        }
      ]
    },
    {
      "cell_type": "code",
      "metadata": {
        "colab": {
          "base_uri": "https://localhost:8080/"
        },
        "id": "tUO0mhVXDW5O",
        "outputId": "2202e4e6-1750-49fc-fa3f-0b1067d6e000"
      },
      "source": [
        "tickers = ['AAPL','GOOG','IBM','FB','F','V', 'G', 'GE']\n",
        "print('The length of tickers is {}'.format(len(tickers)))\n",
        "for i in range(len(tickers)):\n",
        "    print(tickers[i])"
      ],
      "execution_count": 84,
      "outputs": [
        {
          "output_type": "stream",
          "name": "stdout",
          "text": [
            "The length of tickers is 8\n",
            "AAPL\n",
            "GOOG\n",
            "IBM\n",
            "FB\n",
            "F\n",
            "V\n",
            "G\n",
            "GE\n"
          ]
        }
      ]
    },
    {
      "cell_type": "code",
      "metadata": {
        "colab": {
          "base_uri": "https://localhost:8080/"
        },
        "id": "f_KydKLlDejo",
        "outputId": "4d41ddee-4b2e-40fb-808d-c74e04a48ae4"
      },
      "source": [
        "tickers = ['ger','eng','fra','ita','GM','EN', 'IT', 'FR']\n",
        "print('La longitud de tickers es {}'.format(len(tickers)))\n",
        "for i in range(len(tickers)):\n",
        "    print(tickers[i])"
      ],
      "execution_count": 85,
      "outputs": [
        {
          "output_type": "stream",
          "name": "stdout",
          "text": [
            "La longitud de tickers es 8\n",
            "ger\n",
            "eng\n",
            "fra\n",
            "ita\n",
            "GM\n",
            "EN\n",
            "IT\n",
            "FR\n"
          ]
        }
      ]
    },
    {
      "cell_type": "code",
      "metadata": {
        "colab": {
          "base_uri": "https://localhost:8080/"
        },
        "id": "E_0At2ZEELIh",
        "outputId": "564646ea-c27b-45df-cada-a10d6b963881"
      },
      "source": [
        "tickers = ['AAPL','GOOG','IBM','FB','F','V', 'G', 'GE']\n",
        "print(list(map(len,tickers)))"
      ],
      "execution_count": 86,
      "outputs": [
        {
          "output_type": "stream",
          "name": "stdout",
          "text": [
            "[4, 4, 3, 2, 1, 1, 1, 2]\n"
          ]
        }
      ]
    },
    {
      "cell_type": "code",
      "metadata": {
        "colab": {
          "base_uri": "https://localhost:8080/"
        },
        "id": "-0s_AMpUGpQy",
        "outputId": "7a650a0d-fe1c-4303-ee2a-8a79bf223e2c"
      },
      "source": [
        "tickers = ['ger','eng','fra','ita','GM','EN', 'IT', 'FR']\n",
        "print(list(map(len,tickers)))"
      ],
      "execution_count": 87,
      "outputs": [
        {
          "output_type": "stream",
          "name": "stdout",
          "text": [
            "[3, 3, 3, 3, 2, 2, 2, 2]\n"
          ]
        }
      ]
    },
    {
      "cell_type": "code",
      "metadata": {
        "colab": {
          "base_uri": "https://localhost:8080/"
        },
        "id": "05hvGqmqGxg8",
        "outputId": "76974b2c-de99-4291-d875-f3acf6d77f8f"
      },
      "source": [
        "list(map(lambda x: x**2, range(10)))"
      ],
      "execution_count": 88,
      "outputs": [
        {
          "output_type": "execute_result",
          "data": {
            "text/plain": [
              "[0, 1, 4, 9, 16, 25, 36, 49, 64, 81]"
            ]
          },
          "metadata": {},
          "execution_count": 88
        }
      ]
    },
    {
      "cell_type": "code",
      "metadata": {
        "colab": {
          "base_uri": "https://localhost:8080/"
        },
        "id": "rAhus4DcG2NS",
        "outputId": "c631d91b-4d11-4580-9c23-6a2d53992fc3"
      },
      "source": [
        "list(map(lambda x: x**3, range(8)))"
      ],
      "execution_count": 89,
      "outputs": [
        {
          "output_type": "execute_result",
          "data": {
            "text/plain": [
              "[0, 1, 8, 27, 64, 125, 216, 343]"
            ]
          },
          "metadata": {},
          "execution_count": 89
        }
      ]
    },
    {
      "cell_type": "code",
      "metadata": {
        "colab": {
          "base_uri": "https://localhost:8080/"
        },
        "id": "fDE-lBbeHB5n",
        "outputId": "42a45692-5c7f-4daa-c78b-c03a6291d112"
      },
      "source": [
        "list(map(lambda x, y: x+y, [1,2,3,4,5],[5,4,3,2,1]))"
      ],
      "execution_count": 90,
      "outputs": [
        {
          "output_type": "execute_result",
          "data": {
            "text/plain": [
              "[6, 6, 6, 6, 6]"
            ]
          },
          "metadata": {},
          "execution_count": 90
        }
      ]
    },
    {
      "cell_type": "code",
      "metadata": {
        "colab": {
          "base_uri": "https://localhost:8080/"
        },
        "id": "kW5toolfHHih",
        "outputId": "e0faa8f3-5268-4b3f-96e5-ba955d86044a"
      },
      "source": [
        "list(map(lambda x, y: x+y, [10,21,32,43,54],[51,42,33,24,15]))"
      ],
      "execution_count": 91,
      "outputs": [
        {
          "output_type": "execute_result",
          "data": {
            "text/plain": [
              "[61, 63, 65, 67, 69]"
            ]
          },
          "metadata": {},
          "execution_count": 91
        }
      ]
    },
    {
      "cell_type": "code",
      "metadata": {
        "colab": {
          "base_uri": "https://localhost:8080/"
        },
        "id": "eaioUtePHTAD",
        "outputId": "7a4350fa-8440-4d94-b292-078e74fb10a7"
      },
      "source": [
        "sorted([5,2,3,4,1])"
      ],
      "execution_count": 92,
      "outputs": [
        {
          "output_type": "execute_result",
          "data": {
            "text/plain": [
              "[1, 2, 3, 4, 5]"
            ]
          },
          "metadata": {},
          "execution_count": 92
        }
      ]
    },
    {
      "cell_type": "code",
      "metadata": {
        "colab": {
          "base_uri": "https://localhost:8080/"
        },
        "id": "u4tvUT1DHVjX",
        "outputId": "5fafdec3-e253-49a9-c5d9-1eefca48866c"
      },
      "source": [
        "sorted([52,24,32,48,16])"
      ],
      "execution_count": 93,
      "outputs": [
        {
          "output_type": "execute_result",
          "data": {
            "text/plain": [
              "[16, 24, 32, 48, 52]"
            ]
          },
          "metadata": {},
          "execution_count": 93
        }
      ]
    },
    {
      "cell_type": "code",
      "metadata": {
        "colab": {
          "base_uri": "https://localhost:8080/"
        },
        "id": "RdLVrMZtHgYz",
        "outputId": "29ab30dd-c1cf-4185-8069-ce00211d080f"
      },
      "source": [
        "price_list = [('AAPL',144.09),('GOOG',911.71),('MSFT',69),('FB',150),('WMT',75.32)]\n",
        "sorted(price_list, key = lambda x: x[1])"
      ],
      "execution_count": 94,
      "outputs": [
        {
          "output_type": "execute_result",
          "data": {
            "text/plain": [
              "[('MSFT', 69), ('WMT', 75.32), ('AAPL', 144.09), ('FB', 150), ('GOOG', 911.71)]"
            ]
          },
          "metadata": {},
          "execution_count": 94
        }
      ]
    },
    {
      "cell_type": "code",
      "metadata": {
        "colab": {
          "base_uri": "https://localhost:8080/"
        },
        "id": "LQwAXbT_Ic3z",
        "outputId": "0d2ae9b6-0627-4da0-81da-1569f777d4ce"
      },
      "source": [
        "price_list = [('ger',12.8),('fra',35.2),('usa',120.32),('jap',251.1),('col',51.32)]\n",
        "sorted(price_list, key = lambda x: x[1])"
      ],
      "execution_count": 95,
      "outputs": [
        {
          "output_type": "execute_result",
          "data": {
            "text/plain": [
              "[('ger', 12.8), ('fra', 35.2), ('col', 51.32), ('usa', 120.32), ('jap', 251.1)]"
            ]
          },
          "metadata": {},
          "execution_count": 95
        }
      ]
    },
    {
      "cell_type": "code",
      "metadata": {
        "colab": {
          "base_uri": "https://localhost:8080/"
        },
        "id": "X2pJIe9uIfWu",
        "outputId": "fa49964a-bb59-44d1-e205-ad2ebee50ea4"
      },
      "source": [
        "price_list = [('AAPL',144.09),('GOOG',911.71),('MSFT',69),('FB',150),('WMT',75.32)]\n",
        "sorted(price_list, key = lambda x: x[1],reverse = True)"
      ],
      "execution_count": 96,
      "outputs": [
        {
          "output_type": "execute_result",
          "data": {
            "text/plain": [
              "[('GOOG', 911.71), ('FB', 150), ('AAPL', 144.09), ('WMT', 75.32), ('MSFT', 69)]"
            ]
          },
          "metadata": {},
          "execution_count": 96
        }
      ]
    },
    {
      "cell_type": "code",
      "metadata": {
        "colab": {
          "base_uri": "https://localhost:8080/"
        },
        "id": "TZDazymsIkcn",
        "outputId": "8b3aa135-46ad-4a5f-810b-7ec7a89388f0"
      },
      "source": [
        "price_list = [('ger',12.8),('fra',35.2),('usa',120.32),('jap',251.1),('col',51.32)]\n",
        "sorted(price_list, key = lambda x: x[1],reverse = True)"
      ],
      "execution_count": 97,
      "outputs": [
        {
          "output_type": "execute_result",
          "data": {
            "text/plain": [
              "[('jap', 251.1), ('usa', 120.32), ('col', 51.32), ('fra', 35.2), ('ger', 12.8)]"
            ]
          },
          "metadata": {},
          "execution_count": 97
        }
      ]
    },
    {
      "cell_type": "code",
      "metadata": {
        "colab": {
          "base_uri": "https://localhost:8080/"
        },
        "id": "fXkuPDeOItC0",
        "outputId": "3474190d-ed56-4099-c7f1-410e7a72a48e"
      },
      "source": [
        "price_list = [('AAPL',144.09),('GOOG',911.71),('MSFT',69),('FB',150),('WMT',75.32)]\n",
        "price_list.sort(key = lambda x: x[1])\n",
        "print(price_list)"
      ],
      "execution_count": 98,
      "outputs": [
        {
          "output_type": "stream",
          "name": "stdout",
          "text": [
            "[('MSFT', 69), ('WMT', 75.32), ('AAPL', 144.09), ('FB', 150), ('GOOG', 911.71)]\n"
          ]
        }
      ]
    },
    {
      "cell_type": "code",
      "metadata": {
        "colab": {
          "base_uri": "https://localhost:8080/"
        },
        "id": "m6sV57zUI2ow",
        "outputId": "0d46cb61-3140-453c-b898-6f71bb60c416"
      },
      "source": [
        "price_list = [('ger',12.8),('fra',35.2),('usa',120.32),('jap',251.1),('col',51.32)]\n",
        "price_list.sort(key = lambda x: x[1])\n",
        "print(price_list)"
      ],
      "execution_count": 99,
      "outputs": [
        {
          "output_type": "stream",
          "name": "stdout",
          "text": [
            "[('ger', 12.8), ('fra', 35.2), ('col', 51.32), ('usa', 120.32), ('jap', 251.1)]\n"
          ]
        }
      ]
    },
    {
      "cell_type": "code",
      "metadata": {
        "id": "eoVwbGMBJER4"
      },
      "source": [
        "class stock:\n",
        "    def __init__(self, ticker, open, close, volume):\n",
        "        self.ticker = ticker\n",
        "        self.open = open\n",
        "        self.close = close\n",
        "        self.volume = volume\n",
        "        self.rate_return = float(close)/open - 1\n",
        " \n",
        "    def update(self, open, close):\n",
        "        self.open = open\n",
        "        self.close = close\n",
        "        self.rate_return = float(self.close)/self.open - 1\n",
        " \n",
        "    def print_return(self):\n",
        "        print(self.rate_return)"
      ],
      "execution_count": 100,
      "outputs": []
    },
    {
      "cell_type": "code",
      "metadata": {
        "id": "AFGhiDInJnva"
      },
      "source": [
        "apple = stock('AAPL', 143.69, 144.09, 20109375)\n",
        "google = stock('GOOG', 898.7, 911.7, 1561616)"
      ],
      "execution_count": 101,
      "outputs": []
    },
    {
      "cell_type": "code",
      "metadata": {
        "id": "1jDwDsrrJpbP"
      },
      "source": [
        "fb = stock('fcbk', 42.0, 240.91, 20219305)\n",
        "ms = stock('microsoft', 238.12, 123.4, 1492990)"
      ],
      "execution_count": 102,
      "outputs": []
    },
    {
      "cell_type": "code",
      "metadata": {
        "colab": {
          "base_uri": "https://localhost:8080/"
        },
        "id": "lz-KWhsPKHQ2",
        "outputId": "9ed4c8fc-cb26-418a-a6ea-1bca67493e3b"
      },
      "source": [
        "apple.ticker\n",
        "google.print_return()\n",
        "google.update(912.8,913.4)\n",
        "google.print_return()"
      ],
      "execution_count": 103,
      "outputs": [
        {
          "output_type": "stream",
          "name": "stdout",
          "text": [
            "0.014465338822744034\n",
            "0.0006573181419806673\n"
          ]
        }
      ]
    },
    {
      "cell_type": "code",
      "metadata": {
        "colab": {
          "base_uri": "https://localhost:8080/"
        },
        "id": "kYrAJayiKLPE",
        "outputId": "ff8c6c1b-6ea1-429d-8047-f254217f6bb3"
      },
      "source": [
        "fb.ticker\n",
        "ms.print_return()\n",
        "ms.update(837.13,812.4)\n",
        "ms.print_return()"
      ],
      "execution_count": 104,
      "outputs": [
        {
          "output_type": "stream",
          "name": "stdout",
          "text": [
            "-0.4817738955148665\n",
            "-0.02954140933905125\n"
          ]
        }
      ]
    },
    {
      "cell_type": "code",
      "metadata": {
        "colab": {
          "base_uri": "https://localhost:8080/",
          "height": 35
        },
        "id": "SFQThxyaKf9O",
        "outputId": "6b8f4065-430d-4dc2-8cdd-eccd463e7e95"
      },
      "source": [
        "apple.ceo = 'Tim Cook'\n",
        "apple.ceo"
      ],
      "execution_count": 105,
      "outputs": [
        {
          "output_type": "execute_result",
          "data": {
            "application/vnd.google.colaboratory.intrinsic+json": {
              "type": "string"
            },
            "text/plain": [
              "'Tim Cook'"
            ]
          },
          "metadata": {},
          "execution_count": 105
        }
      ]
    },
    {
      "cell_type": "code",
      "metadata": {
        "colab": {
          "base_uri": "https://localhost:8080/",
          "height": 35
        },
        "id": "Vr87kCK5Kha6",
        "outputId": "149ad223-25cf-4f4f-e2fa-02659f070bec"
      },
      "source": [
        "fb.ceo = 'Mark Zuckerberg'\n",
        "fb.ceo"
      ],
      "execution_count": 106,
      "outputs": [
        {
          "output_type": "execute_result",
          "data": {
            "application/vnd.google.colaboratory.intrinsic+json": {
              "type": "string"
            },
            "text/plain": [
              "'Mark Zuckerberg'"
            ]
          },
          "metadata": {},
          "execution_count": 106
        }
      ]
    },
    {
      "cell_type": "code",
      "metadata": {
        "colab": {
          "base_uri": "https://localhost:8080/"
        },
        "id": "cbXKNA65K51u",
        "outputId": "037e780f-07ce-4ca0-9915-54fc69626e77"
      },
      "source": [
        "dir(apple)"
      ],
      "execution_count": 107,
      "outputs": [
        {
          "output_type": "execute_result",
          "data": {
            "text/plain": [
              "['__class__',\n",
              " '__delattr__',\n",
              " '__dict__',\n",
              " '__dir__',\n",
              " '__doc__',\n",
              " '__eq__',\n",
              " '__format__',\n",
              " '__ge__',\n",
              " '__getattribute__',\n",
              " '__gt__',\n",
              " '__hash__',\n",
              " '__init__',\n",
              " '__init_subclass__',\n",
              " '__le__',\n",
              " '__lt__',\n",
              " '__module__',\n",
              " '__ne__',\n",
              " '__new__',\n",
              " '__reduce__',\n",
              " '__reduce_ex__',\n",
              " '__repr__',\n",
              " '__setattr__',\n",
              " '__sizeof__',\n",
              " '__str__',\n",
              " '__subclasshook__',\n",
              " '__weakref__',\n",
              " 'ceo',\n",
              " 'close',\n",
              " 'open',\n",
              " 'print_return',\n",
              " 'rate_return',\n",
              " 'ticker',\n",
              " 'update',\n",
              " 'volume']"
            ]
          },
          "metadata": {},
          "execution_count": 107
        }
      ]
    },
    {
      "cell_type": "code",
      "metadata": {
        "colab": {
          "base_uri": "https://localhost:8080/"
        },
        "id": "HL1utdiKK7r5",
        "outputId": "0320839f-7479-4c3f-e16c-f3a394fdc746"
      },
      "source": [
        "dir(fb)"
      ],
      "execution_count": 108,
      "outputs": [
        {
          "output_type": "execute_result",
          "data": {
            "text/plain": [
              "['__class__',\n",
              " '__delattr__',\n",
              " '__dict__',\n",
              " '__dir__',\n",
              " '__doc__',\n",
              " '__eq__',\n",
              " '__format__',\n",
              " '__ge__',\n",
              " '__getattribute__',\n",
              " '__gt__',\n",
              " '__hash__',\n",
              " '__init__',\n",
              " '__init_subclass__',\n",
              " '__le__',\n",
              " '__lt__',\n",
              " '__module__',\n",
              " '__ne__',\n",
              " '__new__',\n",
              " '__reduce__',\n",
              " '__reduce_ex__',\n",
              " '__repr__',\n",
              " '__setattr__',\n",
              " '__sizeof__',\n",
              " '__str__',\n",
              " '__subclasshook__',\n",
              " '__weakref__',\n",
              " 'ceo',\n",
              " 'close',\n",
              " 'open',\n",
              " 'print_return',\n",
              " 'rate_return',\n",
              " 'ticker',\n",
              " 'update',\n",
              " 'volume']"
            ]
          },
          "metadata": {},
          "execution_count": 108
        }
      ]
    },
    {
      "cell_type": "code",
      "metadata": {
        "id": "f3O8-i8kLBCe"
      },
      "source": [
        "class child(stock):\n",
        "    def __init__(self,name):\n",
        "        self.name = name"
      ],
      "execution_count": 109,
      "outputs": []
    },
    {
      "cell_type": "code",
      "metadata": {
        "colab": {
          "base_uri": "https://localhost:8080/"
        },
        "id": "Y-goVLZhLJm5",
        "outputId": "a7f5d211-a3ff-4712-e826-d2a0be429bd5"
      },
      "source": [
        "aa = child('aa')\n",
        "print(aa.name)\n",
        "aa.update(100,102)\n",
        "print(aa.open)\n",
        "print(aa.close)\n",
        "print(aa.print_return())"
      ],
      "execution_count": 110,
      "outputs": [
        {
          "output_type": "stream",
          "name": "stdout",
          "text": [
            "aa\n",
            "100\n",
            "102\n",
            "0.020000000000000018\n",
            "None\n"
          ]
        }
      ]
    },
    {
      "cell_type": "code",
      "metadata": {
        "colab": {
          "base_uri": "https://localhost:8080/"
        },
        "id": "Guh3ulzZLLL0",
        "outputId": "f1cf1a9e-6161-4d2d-e348-7b54c4e58f8d"
      },
      "source": [
        "aa = child('otro')\n",
        "print(aa.name)\n",
        "aa.update(50,98)\n",
        "print(aa.open)\n",
        "print(aa.close)\n",
        "print(aa.print_return())"
      ],
      "execution_count": 111,
      "outputs": [
        {
          "output_type": "stream",
          "name": "stdout",
          "text": [
            "otro\n",
            "50\n",
            "98\n",
            "0.96\n",
            "None\n"
          ]
        }
      ]
    },
    {
      "cell_type": "markdown",
      "metadata": {
        "id": "VH9Bi7H_LnQ9"
      },
      "source": [
        "#Tutorial 4"
      ]
    },
    {
      "cell_type": "code",
      "metadata": {
        "id": "eRdwsRV0LqtN"
      },
      "source": [
        "import numpy as np"
      ],
      "execution_count": 112,
      "outputs": []
    },
    {
      "cell_type": "code",
      "metadata": {
        "colab": {
          "base_uri": "https://localhost:8080/"
        },
        "id": "nUuly7eQMsSk",
        "outputId": "772165a6-955d-47eb-f941-228bd4ba763d"
      },
      "source": [
        "price_list = [143.73, 145.83, 143.68, 144.02, 143.5, 142.62]\n",
        "price_array = np.array(price_list)\n",
        "print(price_array, type(price_array))"
      ],
      "execution_count": 113,
      "outputs": [
        {
          "output_type": "stream",
          "name": "stdout",
          "text": [
            "[143.73 145.83 143.68 144.02 143.5  142.62] <class 'numpy.ndarray'>\n"
          ]
        }
      ]
    },
    {
      "cell_type": "code",
      "metadata": {
        "colab": {
          "base_uri": "https://localhost:8080/"
        },
        "id": "wADDAqs8Mvwr",
        "outputId": "7f8279d5-64f0-40e5-a5c2-e09e368b94fa"
      },
      "source": [
        "price_list = [1.7, 2.8, 3.6, 4.01, 5.53, 14.2362]\n",
        "price_array = np.array(price_list)\n",
        "print(price_array, type(price_array))"
      ],
      "execution_count": 114,
      "outputs": [
        {
          "output_type": "stream",
          "name": "stdout",
          "text": [
            "[ 1.7     2.8     3.6     4.01    5.53   14.2362] <class 'numpy.ndarray'>\n"
          ]
        }
      ]
    },
    {
      "cell_type": "code",
      "metadata": {
        "colab": {
          "base_uri": "https://localhost:8080/"
        },
        "id": "qi3uhBZiNgkj",
        "outputId": "28b97564-d365-4424-cae1-91bb5141f357"
      },
      "source": [
        "Ar = np.array([[1,3],[2,4]])\n",
        "print(Ar, type(Ar))"
      ],
      "execution_count": 115,
      "outputs": [
        {
          "output_type": "stream",
          "name": "stdout",
          "text": [
            "[[1 3]\n",
            " [2 4]] <class 'numpy.ndarray'>\n"
          ]
        }
      ]
    },
    {
      "cell_type": "code",
      "metadata": {
        "colab": {
          "base_uri": "https://localhost:8080/"
        },
        "id": "XG0rfvIFNo0q",
        "outputId": "31018975-88bd-4bdb-e9ce-57f0dd9d1d5c"
      },
      "source": [
        "Ar = np.array([[1,-1],[-1,1]])\n",
        "print(Ar, type(Ar))"
      ],
      "execution_count": 116,
      "outputs": [
        {
          "output_type": "stream",
          "name": "stdout",
          "text": [
            "[[ 1 -1]\n",
            " [-1  1]] <class 'numpy.ndarray'>\n"
          ]
        }
      ]
    },
    {
      "cell_type": "code",
      "metadata": {
        "colab": {
          "base_uri": "https://localhost:8080/"
        },
        "id": "47mMt0hDNyy8",
        "outputId": "ad580794-aa1d-4906-e473-4ce292bf30cb"
      },
      "source": [
        "print(Ar.shape)"
      ],
      "execution_count": 117,
      "outputs": [
        {
          "output_type": "stream",
          "name": "stdout",
          "text": [
            "(2, 2)\n"
          ]
        }
      ]
    },
    {
      "cell_type": "code",
      "metadata": {
        "colab": {
          "base_uri": "https://localhost:8080/"
        },
        "id": "ruTFEzCLN9Dn",
        "outputId": "5d4e7b12-1e4b-420a-fd5b-6091985deb56"
      },
      "source": [
        "print(Ar[0])\n",
        "print(Ar[1])"
      ],
      "execution_count": 118,
      "outputs": [
        {
          "output_type": "stream",
          "name": "stdout",
          "text": [
            "[ 1 -1]\n",
            "[-1  1]\n"
          ]
        }
      ]
    },
    {
      "cell_type": "code",
      "metadata": {
        "colab": {
          "base_uri": "https://localhost:8080/"
        },
        "id": "oejqWUCaOCwO",
        "outputId": "8cc91a68-e5ac-4422-f789-266801b7c80b"
      },
      "source": [
        "print('Primera columna: ', Ar[:,0])\n",
        "print('Segunda columna: ', Ar[:,1])"
      ],
      "execution_count": 119,
      "outputs": [
        {
          "output_type": "stream",
          "name": "stdout",
          "text": [
            "Primera columna:  [ 1 -1]\n",
            "Segunda columna:  [-1  1]\n"
          ]
        }
      ]
    },
    {
      "cell_type": "code",
      "metadata": {
        "colab": {
          "base_uri": "https://localhost:8080/"
        },
        "id": "H0AxzmqGObXx",
        "outputId": "8bc550f7-ecfc-4adf-a8b1-07eeaf34187b"
      },
      "source": [
        "print(np.log(price_array))"
      ],
      "execution_count": 120,
      "outputs": [
        {
          "output_type": "stream",
          "name": "stdout",
          "text": [
            "[0.53062825 1.02961942 1.28093385 1.38879124 1.71018782 2.65578802]\n"
          ]
        }
      ]
    },
    {
      "cell_type": "code",
      "metadata": {
        "colab": {
          "base_uri": "https://localhost:8080/"
        },
        "id": "_tJYnZVEOscO",
        "outputId": "3c66ae04-8003-46d3-800b-fbe571228f83"
      },
      "source": [
        "print(np.mean(price_array))\n",
        "print(np.std(price_array))\n",
        "print(np.sum(price_array))\n",
        "print(np.max(price_array))"
      ],
      "execution_count": 121,
      "outputs": [
        {
          "output_type": "stream",
          "name": "stdout",
          "text": [
            "5.3127\n",
            "4.156755599823818\n",
            "31.8762\n",
            "14.2362\n"
          ]
        }
      ]
    },
    {
      "cell_type": "code",
      "metadata": {
        "id": "E3Am4pJfOy5C"
      },
      "source": [
        "import pandas as pd"
      ],
      "execution_count": 122,
      "outputs": []
    },
    {
      "cell_type": "code",
      "metadata": {
        "colab": {
          "base_uri": "https://localhost:8080/"
        },
        "id": "QcwdKDORPDoo",
        "outputId": "5f465431-752c-4b29-ef95-e3fa8debe684"
      },
      "source": [
        "price = [143.73, 145.83, 143.68, 144.02, 143.5, 142.62]\n",
        "s = pd.Series(price)\n",
        "s"
      ],
      "execution_count": 123,
      "outputs": [
        {
          "output_type": "execute_result",
          "data": {
            "text/plain": [
              "0    143.73\n",
              "1    145.83\n",
              "2    143.68\n",
              "3    144.02\n",
              "4    143.50\n",
              "5    142.62\n",
              "dtype: float64"
            ]
          },
          "metadata": {},
          "execution_count": 123
        }
      ]
    },
    {
      "cell_type": "code",
      "metadata": {
        "colab": {
          "base_uri": "https://localhost:8080/"
        },
        "id": "NFJ4aJkIPFZL",
        "outputId": "b83e0630-2906-40de-bebd-d41a6d9e19ad"
      },
      "source": [
        "price = [1.7, 2.8, 3.6, 4.01, 5.53, 14.2362]\n",
        "s = pd.Series(price)\n",
        "s"
      ],
      "execution_count": 124,
      "outputs": [
        {
          "output_type": "execute_result",
          "data": {
            "text/plain": [
              "0     1.7000\n",
              "1     2.8000\n",
              "2     3.6000\n",
              "3     4.0100\n",
              "4     5.5300\n",
              "5    14.2362\n",
              "dtype: float64"
            ]
          },
          "metadata": {},
          "execution_count": 124
        }
      ]
    },
    {
      "cell_type": "code",
      "metadata": {
        "colab": {
          "base_uri": "https://localhost:8080/"
        },
        "id": "EE0PxMU5PVBi",
        "outputId": "31a3dbba-6d54-46e8-a2fe-b6c6939a577c"
      },
      "source": [
        "s = pd.Series(price,index = ['a','b','c','d','e','f'])\n",
        "s"
      ],
      "execution_count": 125,
      "outputs": [
        {
          "output_type": "execute_result",
          "data": {
            "text/plain": [
              "a     1.7000\n",
              "b     2.8000\n",
              "c     3.6000\n",
              "d     4.0100\n",
              "e     5.5300\n",
              "f    14.2362\n",
              "dtype: float64"
            ]
          },
          "metadata": {},
          "execution_count": 125
        }
      ]
    },
    {
      "cell_type": "code",
      "metadata": {
        "colab": {
          "base_uri": "https://localhost:8080/"
        },
        "id": "AGwGFlKiPWjp",
        "outputId": "75a547d1-2d02-41cf-e1e4-1f4530bfa07b"
      },
      "source": [
        "s = pd.Series(price,index = ['1ro','2do','3ro','4to','5to','6to'])\n",
        "s"
      ],
      "execution_count": 126,
      "outputs": [
        {
          "output_type": "execute_result",
          "data": {
            "text/plain": [
              "1ro     1.7000\n",
              "2do     2.8000\n",
              "3ro     3.6000\n",
              "4to     4.0100\n",
              "5to     5.5300\n",
              "6to    14.2362\n",
              "dtype: float64"
            ]
          },
          "metadata": {},
          "execution_count": 126
        }
      ]
    },
    {
      "cell_type": "code",
      "metadata": {
        "colab": {
          "base_uri": "https://localhost:8080/"
        },
        "id": "-47Qi27aQIZ1",
        "outputId": "accece52-b582-4b6b-cbc7-35db168860b2"
      },
      "source": [
        "s.index = [6,5,4,3,2,1]\n",
        "s"
      ],
      "execution_count": 127,
      "outputs": [
        {
          "output_type": "execute_result",
          "data": {
            "text/plain": [
              "6     1.7000\n",
              "5     2.8000\n",
              "4     3.6000\n",
              "3     4.0100\n",
              "2     5.5300\n",
              "1    14.2362\n",
              "dtype: float64"
            ]
          },
          "metadata": {},
          "execution_count": 127
        }
      ]
    },
    {
      "cell_type": "code",
      "metadata": {
        "colab": {
          "base_uri": "https://localhost:8080/"
        },
        "id": "joBT3hw4QMpA",
        "outputId": "335b6e1b-c474-4f95-d872-9407b226b861"
      },
      "source": [
        "s.index = [1.1,1.2,1.3,1.4,1.5,1.6]\n",
        "s"
      ],
      "execution_count": 128,
      "outputs": [
        {
          "output_type": "execute_result",
          "data": {
            "text/plain": [
              "1.1     1.7000\n",
              "1.2     2.8000\n",
              "1.3     3.6000\n",
              "1.4     4.0100\n",
              "1.5     5.5300\n",
              "1.6    14.2362\n",
              "dtype: float64"
            ]
          },
          "metadata": {},
          "execution_count": 128
        }
      ]
    },
    {
      "cell_type": "code",
      "metadata": {
        "colab": {
          "base_uri": "https://localhost:8080/"
        },
        "id": "rcYlxesbQn9N",
        "outputId": "97e0e514-aded-4603-bd45-082408793279"
      },
      "source": [
        "print(s[1:])\n",
        "print(s[:-2])"
      ],
      "execution_count": 129,
      "outputs": [
        {
          "output_type": "stream",
          "name": "stdout",
          "text": [
            "1.1     1.7000\n",
            "1.2     2.8000\n",
            "1.3     3.6000\n",
            "1.4     4.0100\n",
            "1.5     5.5300\n",
            "1.6    14.2362\n",
            "dtype: float64\n",
            "Series([], dtype: float64)\n"
          ]
        }
      ]
    },
    {
      "cell_type": "code",
      "metadata": {
        "colab": {
          "base_uri": "https://localhost:8080/"
        },
        "id": "vCOosJVvQ4sb",
        "outputId": "3b4f8e06-58b6-4c5c-d5b3-a728a35e524e"
      },
      "source": [
        "print(s[1.6:])\n",
        "print(s[:-1.5])"
      ],
      "execution_count": 130,
      "outputs": [
        {
          "output_type": "stream",
          "name": "stdout",
          "text": [
            "1.6    14.2362\n",
            "dtype: float64\n",
            "Series([], dtype: float64)\n"
          ]
        }
      ]
    },
    {
      "cell_type": "code",
      "metadata": {
        "colab": {
          "base_uri": "https://localhost:8080/"
        },
        "id": "cBOqegzlVY3S",
        "outputId": "ba6ab592-7a63-45ed-b702-5b351ff567c2"
      },
      "source": [
        "print(s[1.4])\n",
        "s[1.4] = 0\n",
        "print(s)"
      ],
      "execution_count": 131,
      "outputs": [
        {
          "output_type": "stream",
          "name": "stdout",
          "text": [
            "4.01\n",
            "1.1     1.7000\n",
            "1.2     2.8000\n",
            "1.3     3.6000\n",
            "1.4     0.0000\n",
            "1.5     5.5300\n",
            "1.6    14.2362\n",
            "dtype: float64\n"
          ]
        }
      ]
    },
    {
      "cell_type": "code",
      "metadata": {
        "colab": {
          "base_uri": "https://localhost:8080/"
        },
        "id": "9ffXmK-cVahA",
        "outputId": "63360571-cd97-48d7-a10f-e436cdcae1d7"
      },
      "source": [
        "s = pd.Series(price, name = 'Apple Price List')\n",
        "print(s)\n",
        "print(s.name)"
      ],
      "execution_count": 132,
      "outputs": [
        {
          "output_type": "stream",
          "name": "stdout",
          "text": [
            "0     1.7000\n",
            "1     2.8000\n",
            "2     3.6000\n",
            "3     4.0100\n",
            "4     5.5300\n",
            "5    14.2362\n",
            "Name: Apple Price List, dtype: float64\n",
            "Apple Price List\n"
          ]
        }
      ]
    },
    {
      "cell_type": "code",
      "metadata": {
        "colab": {
          "base_uri": "https://localhost:8080/"
        },
        "id": "5BjMJaPvVpOL",
        "outputId": "0f9236c8-6765-4269-ee0f-2981571b5d1f"
      },
      "source": [
        "s = pd.Series(price, name = 'Lista de valores de FB')\n",
        "print(s)\n",
        "print(s.name)"
      ],
      "execution_count": 133,
      "outputs": [
        {
          "output_type": "stream",
          "name": "stdout",
          "text": [
            "0     1.7000\n",
            "1     2.8000\n",
            "2     3.6000\n",
            "3     4.0100\n",
            "4     5.5300\n",
            "5    14.2362\n",
            "Name: Lista de valores de FB, dtype: float64\n",
            "Lista de valores de FB\n"
          ]
        }
      ]
    },
    {
      "cell_type": "code",
      "metadata": {
        "colab": {
          "base_uri": "https://localhost:8080/"
        },
        "id": "biwiqihNVx97",
        "outputId": "e44b159e-240e-4bd8-d589-a3ae0758e5f7"
      },
      "source": [
        "print(s.describe())"
      ],
      "execution_count": 134,
      "outputs": [
        {
          "output_type": "stream",
          "name": "stdout",
          "text": [
            "count     6.000000\n",
            "mean      5.312700\n",
            "std       4.553498\n",
            "min       1.700000\n",
            "25%       3.000000\n",
            "50%       3.805000\n",
            "75%       5.150000\n",
            "max      14.236200\n",
            "Name: Lista de valores de FB, dtype: float64\n"
          ]
        }
      ]
    },
    {
      "cell_type": "code",
      "metadata": {
        "colab": {
          "base_uri": "https://localhost:8080/"
        },
        "id": "vbSFIkTIVywG",
        "outputId": "fb3b2d59-1dcc-47d1-8301-7208ab983191"
      },
      "source": [
        "time_index = pd.date_range('2017-01-01',periods = len(s),freq = 'D')\n",
        "print(time_index)\n",
        "s.index = time_index\n",
        "print(s)"
      ],
      "execution_count": 135,
      "outputs": [
        {
          "output_type": "stream",
          "name": "stdout",
          "text": [
            "DatetimeIndex(['2017-01-01', '2017-01-02', '2017-01-03', '2017-01-04',\n",
            "               '2017-01-05', '2017-01-06'],\n",
            "              dtype='datetime64[ns]', freq='D')\n",
            "2017-01-01     1.7000\n",
            "2017-01-02     2.8000\n",
            "2017-01-03     3.6000\n",
            "2017-01-04     4.0100\n",
            "2017-01-05     5.5300\n",
            "2017-01-06    14.2362\n",
            "Freq: D, Name: Lista de valores de FB, dtype: float64\n"
          ]
        }
      ]
    },
    {
      "cell_type": "code",
      "metadata": {
        "colab": {
          "base_uri": "https://localhost:8080/"
        },
        "id": "_8TD2b5mWE9Z",
        "outputId": "e2cb054b-cb8c-49ba-a18d-76e7f507e3f6"
      },
      "source": [
        "time_index = pd.date_range('2021-10-18',periods = len(s),freq = 'D')\n",
        "print(time_index)\n",
        "s.index = time_index\n",
        "print(s)"
      ],
      "execution_count": 136,
      "outputs": [
        {
          "output_type": "stream",
          "name": "stdout",
          "text": [
            "DatetimeIndex(['2021-10-18', '2021-10-19', '2021-10-20', '2021-10-21',\n",
            "               '2021-10-22', '2021-10-23'],\n",
            "              dtype='datetime64[ns]', freq='D')\n",
            "2021-10-18     1.7000\n",
            "2021-10-19     2.8000\n",
            "2021-10-20     3.6000\n",
            "2021-10-21     4.0100\n",
            "2021-10-22     5.5300\n",
            "2021-10-23    14.2362\n",
            "Freq: D, Name: Lista de valores de FB, dtype: float64\n"
          ]
        }
      ]
    },
    {
      "cell_type": "code",
      "metadata": {
        "colab": {
          "base_uri": "https://localhost:8080/"
        },
        "id": "KhuiK9BIWw2H",
        "outputId": "810d6a7a-e7c7-4612-db34-b365c13f6c13"
      },
      "source": [
        "s.index = [6,5,4,3,2,1]\n",
        "print(s)\n",
        "print(s[1])"
      ],
      "execution_count": 137,
      "outputs": [
        {
          "output_type": "stream",
          "name": "stdout",
          "text": [
            "6     1.7000\n",
            "5     2.8000\n",
            "4     3.6000\n",
            "3     4.0100\n",
            "2     5.5300\n",
            "1    14.2362\n",
            "Name: Lista de valores de FB, dtype: float64\n",
            "14.2362\n"
          ]
        }
      ]
    },
    {
      "cell_type": "code",
      "metadata": {
        "colab": {
          "base_uri": "https://localhost:8080/"
        },
        "id": "Xn9YatRdW-YD",
        "outputId": "9717c635-5d10-4958-d504-1840ce2801ef"
      },
      "source": [
        "s.index = [1.1,1.2,1.3,1.4,1.5,1.6]\n",
        "print(s)\n",
        "print(s[1.6])"
      ],
      "execution_count": 138,
      "outputs": [
        {
          "output_type": "stream",
          "name": "stdout",
          "text": [
            "1.1     1.7000\n",
            "1.2     2.8000\n",
            "1.3     3.6000\n",
            "1.4     4.0100\n",
            "1.5     5.5300\n",
            "1.6    14.2362\n",
            "Name: Lista de valores de FB, dtype: float64\n",
            "14.2362\n"
          ]
        }
      ]
    },
    {
      "cell_type": "code",
      "metadata": {
        "colab": {
          "base_uri": "https://localhost:8080/"
        },
        "id": "MCq1_MrgXL9z",
        "outputId": "86dbacd5-57e0-491a-cacc-aff5cea32c21"
      },
      "source": [
        "print(s.iloc[1])"
      ],
      "execution_count": 139,
      "outputs": [
        {
          "output_type": "stream",
          "name": "stdout",
          "text": [
            "2.8\n"
          ]
        }
      ]
    },
    {
      "cell_type": "code",
      "metadata": {
        "colab": {
          "base_uri": "https://localhost:8080/"
        },
        "id": "6EfklEW2XZRf",
        "outputId": "3cab18eb-64ef-4e5b-fab8-2b14d9ee6688"
      },
      "source": [
        "print(s.iloc[5])"
      ],
      "execution_count": 140,
      "outputs": [
        {
          "output_type": "stream",
          "name": "stdout",
          "text": [
            "14.2362\n"
          ]
        }
      ]
    },
    {
      "cell_type": "code",
      "metadata": {
        "colab": {
          "base_uri": "https://localhost:8080/"
        },
        "id": "QlztrLRbXbVU",
        "outputId": "0da9973c-cffc-49f0-ba6c-8a50e9eae165"
      },
      "source": [
        "s.index = time_index\n",
        "print(s['2021-10-18'])"
      ],
      "execution_count": 141,
      "outputs": [
        {
          "output_type": "stream",
          "name": "stdout",
          "text": [
            "1.7\n"
          ]
        }
      ]
    },
    {
      "cell_type": "code",
      "metadata": {
        "colab": {
          "base_uri": "https://localhost:8080/"
        },
        "id": "mnz63Cq0YBJy",
        "outputId": "23236d17-cd75-4dbc-b58f-b84a15b7dddf"
      },
      "source": [
        "print(s['2021-10-19':'2021-10-21'])"
      ],
      "execution_count": 142,
      "outputs": [
        {
          "output_type": "stream",
          "name": "stdout",
          "text": [
            "2021-10-19    2.80\n",
            "2021-10-20    3.60\n",
            "2021-10-21    4.01\n",
            "Freq: D, Name: Lista de valores de FB, dtype: float64\n"
          ]
        }
      ]
    },
    {
      "cell_type": "code",
      "metadata": {
        "colab": {
          "base_uri": "https://localhost:8080/"
        },
        "id": "ZuAdfBiAYMjf",
        "outputId": "126260fe-4a48-4a86-a727-9437be281a49"
      },
      "source": [
        "print(s[s < np.mean(s)] )\n",
        "print([(s > np.mean(s)) & (s < np.mean(s) + 1.64*np.std(s))])"
      ],
      "execution_count": 143,
      "outputs": [
        {
          "output_type": "stream",
          "name": "stdout",
          "text": [
            "2021-10-18    1.70\n",
            "2021-10-19    2.80\n",
            "2021-10-20    3.60\n",
            "2021-10-21    4.01\n",
            "Freq: D, Name: Lista de valores de FB, dtype: float64\n",
            "[2021-10-18    False\n",
            "2021-10-19    False\n",
            "2021-10-20    False\n",
            "2021-10-21    False\n",
            "2021-10-22     True\n",
            "2021-10-23    False\n",
            "Freq: D, Name: Lista de valores de FB, dtype: bool]\n"
          ]
        }
      ]
    },
    {
      "cell_type": "code",
      "metadata": {
        "colab": {
          "base_uri": "https://localhost:8080/"
        },
        "id": "OF9rNDJFYiFT",
        "outputId": "23c0e807-1ad6-4d6a-be84-7a32021f1802"
      },
      "source": [
        "print(s[s < np.mean(s)] )\n",
        "print([(s > np.mean(s)) & (s < np.mean(s) + 10.0*np.std(s))])"
      ],
      "execution_count": 144,
      "outputs": [
        {
          "output_type": "stream",
          "name": "stdout",
          "text": [
            "2021-10-18    1.70\n",
            "2021-10-19    2.80\n",
            "2021-10-20    3.60\n",
            "2021-10-21    4.01\n",
            "Freq: D, Name: Lista de valores de FB, dtype: float64\n",
            "[2021-10-18    False\n",
            "2021-10-19    False\n",
            "2021-10-20    False\n",
            "2021-10-21    False\n",
            "2021-10-22     True\n",
            "2021-10-23     True\n",
            "Freq: D, Name: Lista de valores de FB, dtype: bool]\n"
          ]
        }
      ]
    },
    {
      "cell_type": "markdown",
      "metadata": {
        "id": "X-2bWr1WYrEN"
      },
      "source": [
        "#Tutorial 5"
      ]
    },
    {
      "cell_type": "code",
      "metadata": {
        "colab": {
          "base_uri": "https://localhost:8080/"
        },
        "id": "WWJ6oIxeYtfV",
        "outputId": "b122fb7b-0f29-457d-9053-6292accfc4f3"
      },
      "source": [
        "!pip install yfinance"
      ],
      "execution_count": 145,
      "outputs": [
        {
          "output_type": "stream",
          "name": "stdout",
          "text": [
            "Collecting yfinance\n",
            "  Downloading yfinance-0.1.63.tar.gz (26 kB)\n",
            "Requirement already satisfied: pandas>=0.24 in /usr/local/lib/python3.7/dist-packages (from yfinance) (1.1.5)\n",
            "Requirement already satisfied: numpy>=1.15 in /usr/local/lib/python3.7/dist-packages (from yfinance) (1.19.5)\n",
            "Requirement already satisfied: requests>=2.20 in /usr/local/lib/python3.7/dist-packages (from yfinance) (2.23.0)\n",
            "Requirement already satisfied: multitasking>=0.0.7 in /usr/local/lib/python3.7/dist-packages (from yfinance) (0.0.9)\n",
            "Collecting lxml>=4.5.1\n",
            "  Downloading lxml-4.6.3-cp37-cp37m-manylinux2014_x86_64.whl (6.3 MB)\n",
            "\u001b[K     |████████████████████████████████| 6.3 MB 10.6 MB/s \n",
            "\u001b[?25hRequirement already satisfied: pytz>=2017.2 in /usr/local/lib/python3.7/dist-packages (from pandas>=0.24->yfinance) (2018.9)\n",
            "Requirement already satisfied: python-dateutil>=2.7.3 in /usr/local/lib/python3.7/dist-packages (from pandas>=0.24->yfinance) (2.8.2)\n",
            "Requirement already satisfied: six>=1.5 in /usr/local/lib/python3.7/dist-packages (from python-dateutil>=2.7.3->pandas>=0.24->yfinance) (1.15.0)\n",
            "Requirement already satisfied: urllib3!=1.25.0,!=1.25.1,<1.26,>=1.21.1 in /usr/local/lib/python3.7/dist-packages (from requests>=2.20->yfinance) (1.24.3)\n",
            "Requirement already satisfied: chardet<4,>=3.0.2 in /usr/local/lib/python3.7/dist-packages (from requests>=2.20->yfinance) (3.0.4)\n",
            "Requirement already satisfied: idna<3,>=2.5 in /usr/local/lib/python3.7/dist-packages (from requests>=2.20->yfinance) (2.10)\n",
            "Requirement already satisfied: certifi>=2017.4.17 in /usr/local/lib/python3.7/dist-packages (from requests>=2.20->yfinance) (2021.5.30)\n",
            "Building wheels for collected packages: yfinance\n",
            "  Building wheel for yfinance (setup.py) ... \u001b[?25l\u001b[?25hdone\n",
            "  Created wheel for yfinance: filename=yfinance-0.1.63-py2.py3-none-any.whl size=23918 sha256=e2d81de9d028ef289fd17068526d383bdfdea789de792f9f65f48788827ed6e2\n",
            "  Stored in directory: /root/.cache/pip/wheels/fe/87/8b/7ec24486e001d3926537f5f7801f57a74d181be25b11157983\n",
            "Successfully built yfinance\n",
            "Installing collected packages: lxml, yfinance\n",
            "  Attempting uninstall: lxml\n",
            "    Found existing installation: lxml 4.2.6\n",
            "    Uninstalling lxml-4.2.6:\n",
            "      Successfully uninstalled lxml-4.2.6\n",
            "Successfully installed lxml-4.6.3 yfinance-0.1.63\n"
          ]
        }
      ]
    },
    {
      "cell_type": "code",
      "metadata": {
        "colab": {
          "base_uri": "https://localhost:8080/",
          "height": 487
        },
        "id": "34TvmPDyg4kg",
        "outputId": "542a8147-2166-4ca6-b669-b4a566320045"
      },
      "source": [
        "import yfinance as yf\n",
        "\n",
        "aapl = yf.Ticker(\"AAPL\")\n",
        "\n",
        "# get stock info\n",
        "print(aapl.info)\n",
        "\n",
        "# get historical market data\n",
        "aapl_table = aapl.history(start=\"2016-01-01\",  end=\"2017-12-31\")\n",
        "aapl_table"
      ],
      "execution_count": 146,
      "outputs": [
        {
          "output_type": "stream",
          "name": "stdout",
          "text": [
            "{'zip': '95014', 'sector': 'Technology', 'fullTimeEmployees': 147000, 'longBusinessSummary': 'Apple Inc. designs, manufactures, and markets smartphones, personal computers, tablets, wearables, and accessories worldwide. It also sells various related services. The company offers iPhone, a line of smartphones; Mac, a line of personal computers; iPad, a line of multi-purpose tablets; and wearables, home, and accessories comprising AirPods, Apple TV, Apple Watch, Beats products, HomePod, iPod touch, and other Apple-branded and third-party accessories. It also provides AppleCare support services; cloud services store services; and operates various platforms, including the App Store, that allow customers to discover and download applications and digital content, such as books, music, video, games, and podcasts. In addition, the company offers various services, such as Apple Arcade, a game subscription service; Apple Music, which offers users a curated listening experience with on-demand radio stations; Apple News+, a subscription news and magazine service; Apple TV+, which offers exclusive original content; Apple Card, a co-branded credit card; and Apple Pay, a cashless payment service, as well as licenses its intellectual property. The company serves consumers, and small and mid-sized businesses; and the education, enterprise, and government markets. It sells and delivers third-party applications for its products through the App Store. The company also sells its products through its retail and online stores, and direct sales force; and third-party cellular network carriers, wholesalers, retailers, and resellers. Apple Inc. was founded in 1977 and is headquartered in Cupertino, California.', 'city': 'Cupertino', 'phone': '408-996-1010', 'state': 'CA', 'country': 'United States', 'companyOfficers': [], 'website': 'http://www.apple.com', 'maxAge': 1, 'address1': 'One Apple Park Way', 'industry': 'Consumer Electronics', 'ebitdaMargins': 0.31955, 'profitMargins': 0.25004, 'grossMargins': 0.41005, 'operatingCashflow': 104414003200, 'revenueGrowth': 0.364, 'operatingMargins': 0.28788, 'ebitda': 110934999040, 'targetLowPrice': 132, 'recommendationKey': 'buy', 'grossProfits': 104956000000, 'freeCashflow': 80625876992, 'targetMedianPrice': 170, 'currentPrice': 149, 'earningsGrowth': 1, 'currentRatio': 1.062, 'returnOnAssets': 0.19302, 'numberOfAnalystOpinions': 41, 'targetMeanPrice': 168.23, 'debtToEquity': 210.782, 'returnOnEquity': 1.27125, 'targetHighPrice': 190, 'totalCash': 61696000000, 'totalDebt': 135491002368, 'totalRevenue': 347155005440, 'totalCashPerShare': 3.732, 'financialCurrency': 'USD', 'revenuePerShare': 20.61, 'quickRatio': 0.887, 'recommendationMean': 1.9, 'exchange': 'NMS', 'shortName': 'Apple Inc.', 'longName': 'Apple Inc.', 'exchangeTimezoneName': 'America/New_York', 'exchangeTimezoneShortName': 'EDT', 'isEsgPopulated': False, 'gmtOffSetMilliseconds': '-14400000', 'quoteType': 'EQUITY', 'symbol': 'AAPL', 'messageBoardId': 'finmb_24937', 'market': 'us_market', 'annualHoldingsTurnover': None, 'enterpriseToRevenue': 7.191, 'beta3Year': None, 'enterpriseToEbitda': 22.502, '52WeekChange': 0.24712789, 'morningStarRiskRating': None, 'forwardEps': 5.67, 'revenueQuarterlyGrowth': None, 'sharesOutstanding': 16530199552, 'fundInceptionDate': None, 'annualReportExpenseRatio': None, 'totalAssets': None, 'bookValue': 3.882, 'sharesShort': 101107412, 'sharesPercentSharesOut': 0.0061000003, 'fundFamily': None, 'lastFiscalYearEnd': 1601078400, 'heldPercentInstitutions': 0.58672, 'netIncomeToCommon': 86801997824, 'trailingEps': 5.108, 'lastDividendValue': 0.22, 'SandP52WeekChange': 0.30302167, 'priceToBook': 38.38228, 'heldPercentInsiders': 0.00072999997, 'nextFiscalYearEnd': 1664150400, 'yield': None, 'mostRecentQuarter': 1624665600, 'shortRatio': 1.18, 'sharesShortPreviousMonthDate': 1630368000, 'floatShares': 16512974627, 'beta': 1.222222, 'enterpriseValue': 2496290881536, 'priceHint': 2, 'threeYearAverageReturn': None, 'lastSplitDate': 1598832000, 'lastSplitFactor': '4:1', 'legalType': None, 'lastDividendDate': 1628208000, 'morningStarOverallRating': None, 'earningsQuarterlyGrowth': 0.932, 'priceToSalesTrailing12Months': 7.0945745, 'dateShortInterest': 1632960000, 'pegRatio': 1.38, 'ytdReturn': None, 'forwardPE': 26.277777, 'lastCapGain': None, 'shortPercentOfFloat': 0.0061000003, 'sharesShortPriorMonth': 96838699, 'impliedSharesOutstanding': None, 'category': None, 'fiveYearAverageReturn': None, 'previousClose': 146.55, 'regularMarketOpen': 147.01, 'twoHundredDayAverage': 138.93898, 'trailingAnnualDividendYield': 0.0056977137, 'payoutRatio': 0.16309999, 'volume24Hr': None, 'regularMarketDayHigh': 149.17, 'navPrice': None, 'averageDailyVolume10Day': 73218650, 'regularMarketPreviousClose': 146.55, 'fiftyDayAverage': 146.59572, 'trailingAnnualDividendRate': 0.835, 'open': 147.01, 'toCurrency': None, 'averageVolume10days': 73218650, 'expireDate': None, 'algorithm': None, 'dividendRate': 0.88, 'exDividendDate': 1628208000, 'circulatingSupply': None, 'startDate': None, 'regularMarketDayLow': 146.55, 'currency': 'USD', 'trailingPE': 29.168951, 'regularMarketVolume': 32380079, 'lastMarket': None, 'maxSupply': None, 'openInterest': None, 'marketCap': 2462917066752, 'volumeAllCurrencies': None, 'strikePrice': None, 'averageVolume': 77536093, 'dayLow': 146.55, 'ask': 148.73, 'askSize': 1300, 'volume': 32380079, 'fiftyTwoWeekHigh': 157.26, 'fromCurrency': None, 'fiveYearAvgDividendYield': 1.24, 'fiftyTwoWeekLow': 107.32, 'bid': 148.66, 'tradeable': False, 'dividendYield': 0.006, 'bidSize': 2200, 'dayHigh': 149.17, 'regularMarketPrice': 148.995, 'logo_url': 'https://logo.clearbit.com/apple.com'}\n"
          ]
        },
        {
          "output_type": "execute_result",
          "data": {
            "text/html": [
              "<div>\n",
              "<style scoped>\n",
              "    .dataframe tbody tr th:only-of-type {\n",
              "        vertical-align: middle;\n",
              "    }\n",
              "\n",
              "    .dataframe tbody tr th {\n",
              "        vertical-align: top;\n",
              "    }\n",
              "\n",
              "    .dataframe thead th {\n",
              "        text-align: right;\n",
              "    }\n",
              "</style>\n",
              "<table border=\"1\" class=\"dataframe\">\n",
              "  <thead>\n",
              "    <tr style=\"text-align: right;\">\n",
              "      <th></th>\n",
              "      <th>Open</th>\n",
              "      <th>High</th>\n",
              "      <th>Low</th>\n",
              "      <th>Close</th>\n",
              "      <th>Volume</th>\n",
              "      <th>Dividends</th>\n",
              "      <th>Stock Splits</th>\n",
              "    </tr>\n",
              "    <tr>\n",
              "      <th>Date</th>\n",
              "      <th></th>\n",
              "      <th></th>\n",
              "      <th></th>\n",
              "      <th></th>\n",
              "      <th></th>\n",
              "      <th></th>\n",
              "      <th></th>\n",
              "    </tr>\n",
              "  </thead>\n",
              "  <tbody>\n",
              "    <tr>\n",
              "      <th>2016-01-04</th>\n",
              "      <td>23.655161</td>\n",
              "      <td>24.291437</td>\n",
              "      <td>23.514534</td>\n",
              "      <td>24.286825</td>\n",
              "      <td>270597600</td>\n",
              "      <td>0.0</td>\n",
              "      <td>0</td>\n",
              "    </tr>\n",
              "    <tr>\n",
              "      <th>2016-01-05</th>\n",
              "      <td>24.379041</td>\n",
              "      <td>24.402094</td>\n",
              "      <td>23.609056</td>\n",
              "      <td>23.678215</td>\n",
              "      <td>223164000</td>\n",
              "      <td>0.0</td>\n",
              "      <td>0</td>\n",
              "    </tr>\n",
              "    <tr>\n",
              "      <th>2016-01-06</th>\n",
              "      <td>23.182569</td>\n",
              "      <td>23.599838</td>\n",
              "      <td>23.023501</td>\n",
              "      <td>23.214844</td>\n",
              "      <td>273829600</td>\n",
              "      <td>0.0</td>\n",
              "      <td>0</td>\n",
              "    </tr>\n",
              "    <tr>\n",
              "      <th>2016-01-07</th>\n",
              "      <td>22.749166</td>\n",
              "      <td>23.083441</td>\n",
              "      <td>22.230463</td>\n",
              "      <td>22.235073</td>\n",
              "      <td>324377600</td>\n",
              "      <td>0.0</td>\n",
              "      <td>0</td>\n",
              "    </tr>\n",
              "    <tr>\n",
              "      <th>2016-01-08</th>\n",
              "      <td>22.719195</td>\n",
              "      <td>22.848294</td>\n",
              "      <td>22.306538</td>\n",
              "      <td>22.352644</td>\n",
              "      <td>283192000</td>\n",
              "      <td>0.0</td>\n",
              "      <td>0</td>\n",
              "    </tr>\n",
              "    <tr>\n",
              "      <th>...</th>\n",
              "      <td>...</td>\n",
              "      <td>...</td>\n",
              "      <td>...</td>\n",
              "      <td>...</td>\n",
              "      <td>...</td>\n",
              "      <td>...</td>\n",
              "      <td>...</td>\n",
              "    </tr>\n",
              "    <tr>\n",
              "      <th>2017-12-22</th>\n",
              "      <td>41.827752</td>\n",
              "      <td>42.004949</td>\n",
              "      <td>41.784653</td>\n",
              "      <td>41.906773</td>\n",
              "      <td>65397600</td>\n",
              "      <td>0.0</td>\n",
              "      <td>0</td>\n",
              "    </tr>\n",
              "    <tr>\n",
              "      <th>2017-12-26</th>\n",
              "      <td>40.898671</td>\n",
              "      <td>41.059104</td>\n",
              "      <td>40.630480</td>\n",
              "      <td>40.843597</td>\n",
              "      <td>132742000</td>\n",
              "      <td>0.0</td>\n",
              "      <td>0</td>\n",
              "    </tr>\n",
              "    <tr>\n",
              "      <th>2017-12-27</th>\n",
              "      <td>40.731065</td>\n",
              "      <td>40.893892</td>\n",
              "      <td>40.637678</td>\n",
              "      <td>40.850792</td>\n",
              "      <td>85992800</td>\n",
              "      <td>0.0</td>\n",
              "      <td>0</td>\n",
              "    </tr>\n",
              "    <tr>\n",
              "      <th>2017-12-28</th>\n",
              "      <td>40.946564</td>\n",
              "      <td>41.150101</td>\n",
              "      <td>40.822048</td>\n",
              "      <td>40.965721</td>\n",
              "      <td>65920800</td>\n",
              "      <td>0.0</td>\n",
              "      <td>0</td>\n",
              "    </tr>\n",
              "    <tr>\n",
              "      <th>2017-12-29</th>\n",
              "      <td>40.831629</td>\n",
              "      <td>40.848389</td>\n",
              "      <td>40.520339</td>\n",
              "      <td>40.522732</td>\n",
              "      <td>103999600</td>\n",
              "      <td>0.0</td>\n",
              "      <td>0</td>\n",
              "    </tr>\n",
              "  </tbody>\n",
              "</table>\n",
              "<p>503 rows × 7 columns</p>\n",
              "</div>"
            ],
            "text/plain": [
              "                 Open       High        Low  ...     Volume  Dividends  Stock Splits\n",
              "Date                                         ...                                    \n",
              "2016-01-04  23.655161  24.291437  23.514534  ...  270597600        0.0             0\n",
              "2016-01-05  24.379041  24.402094  23.609056  ...  223164000        0.0             0\n",
              "2016-01-06  23.182569  23.599838  23.023501  ...  273829600        0.0             0\n",
              "2016-01-07  22.749166  23.083441  22.230463  ...  324377600        0.0             0\n",
              "2016-01-08  22.719195  22.848294  22.306538  ...  283192000        0.0             0\n",
              "...               ...        ...        ...  ...        ...        ...           ...\n",
              "2017-12-22  41.827752  42.004949  41.784653  ...   65397600        0.0             0\n",
              "2017-12-26  40.898671  41.059104  40.630480  ...  132742000        0.0             0\n",
              "2017-12-27  40.731065  40.893892  40.637678  ...   85992800        0.0             0\n",
              "2017-12-28  40.946564  41.150101  40.822048  ...   65920800        0.0             0\n",
              "2017-12-29  40.831629  40.848389  40.520339  ...  103999600        0.0             0\n",
              "\n",
              "[503 rows x 7 columns]"
            ]
          },
          "metadata": {},
          "execution_count": 146
        }
      ]
    },
    {
      "cell_type": "code",
      "metadata": {
        "id": "_PjciamWhpLC"
      },
      "source": [
        "aapl = aapl_table['Close']['2017']"
      ],
      "execution_count": 147,
      "outputs": []
    },
    {
      "cell_type": "code",
      "metadata": {
        "colab": {
          "base_uri": "https://localhost:8080/"
        },
        "id": "fkibMoIfkwc3",
        "outputId": "7c430860-f592-4c49-eada-5231f3e3820a"
      },
      "source": [
        "print(aapl)"
      ],
      "execution_count": 148,
      "outputs": [
        {
          "output_type": "stream",
          "name": "stdout",
          "text": [
            "Date\n",
            "2017-01-03    27.372362\n",
            "2017-01-04    27.341726\n",
            "2017-01-05    27.480766\n",
            "2017-01-06    27.787134\n",
            "2017-01-09    28.041647\n",
            "                ...    \n",
            "2017-12-22    41.906773\n",
            "2017-12-26    40.843597\n",
            "2017-12-27    40.850792\n",
            "2017-12-28    40.965721\n",
            "2017-12-29    40.522732\n",
            "Name: Close, Length: 251, dtype: float64\n"
          ]
        }
      ]
    },
    {
      "cell_type": "code",
      "metadata": {
        "colab": {
          "base_uri": "https://localhost:8080/"
        },
        "id": "MLri88EJk4pr",
        "outputId": "e64a7c2a-2275-4871-f1b7-abc2a6cbafba"
      },
      "source": [
        "print(aapl['2017-3'])"
      ],
      "execution_count": 149,
      "outputs": [
        {
          "output_type": "stream",
          "name": "stdout",
          "text": [
            "Date\n",
            "2017-03-01    33.086285\n",
            "2017-03-02    32.889843\n",
            "2017-03-03    33.083923\n",
            "2017-03-06    32.979771\n",
            "2017-03-07    33.022377\n",
            "2017-03-08    32.899303\n",
            "2017-03-09    32.823559\n",
            "2017-03-10    32.932449\n",
            "2017-03-13    32.946640\n",
            "2017-03-14    32.896938\n",
            "2017-03-15    33.244873\n",
            "2017-03-16    33.299297\n",
            "2017-03-17    33.133621\n",
            "2017-03-20    33.481552\n",
            "2017-03-21    33.098110\n",
            "2017-03-22    33.472084\n",
            "2017-03-23    33.353733\n",
            "2017-03-24    33.287472\n",
            "2017-03-27    33.344273\n",
            "2017-03-28    34.035397\n",
            "2017-03-29    34.111145\n",
            "2017-03-30    34.066158\n",
            "2017-03-31    34.002258\n",
            "Name: Close, dtype: float64\n"
          ]
        }
      ]
    },
    {
      "cell_type": "code",
      "metadata": {
        "colab": {
          "base_uri": "https://localhost:8080/"
        },
        "id": "NrhZBlK_k57Z",
        "outputId": "976c9a2a-e102-4b3b-e18a-e9b5605c1c26"
      },
      "source": [
        "print(aapl['2017-10'])"
      ],
      "execution_count": 150,
      "outputs": [
        {
          "output_type": "stream",
          "name": "stdout",
          "text": [
            "Date\n",
            "2017-10-02    36.698433\n",
            "2017-10-03    36.858288\n",
            "2017-10-04    36.619682\n",
            "2017-10-05    37.075413\n",
            "2017-10-06    37.053940\n",
            "2017-10-09    37.182781\n",
            "2017-10-10    37.197102\n",
            "2017-10-11    37.352188\n",
            "2017-10-12    37.220955\n",
            "2017-10-13    37.457165\n",
            "2017-10-16    38.146709\n",
            "2017-10-17    38.287483\n",
            "2017-10-18    38.118080\n",
            "2017-10-19    37.216183\n",
            "2017-10-20    37.280602\n",
            "2017-10-23    37.261517\n",
            "2017-10-24    37.483414\n",
            "2017-10-25    37.318779\n",
            "2017-10-26    37.557381\n",
            "2017-10-27    38.903057\n",
            "2017-10-30    39.778709\n",
            "2017-10-31    40.332241\n",
            "Name: Close, dtype: float64\n"
          ]
        }
      ]
    },
    {
      "cell_type": "code",
      "metadata": {
        "colab": {
          "base_uri": "https://localhost:8080/"
        },
        "id": "EgbWVcqolQNw",
        "outputId": "472947f9-1118-46b5-c60a-a8ccf4306a4b"
      },
      "source": [
        "aapl['2017-2':'2017-4']"
      ],
      "execution_count": 151,
      "outputs": [
        {
          "output_type": "execute_result",
          "data": {
            "text/plain": [
              "Date\n",
              "2017-02-01    30.341728\n",
              "2017-02-02    30.289879\n",
              "2017-02-03    30.419500\n",
              "2017-02-06    30.704655\n",
              "2017-02-07    30.996866\n",
              "                ...    \n",
              "2017-04-24    33.997524\n",
              "2017-04-25    34.208168\n",
              "2017-04-26    34.006992\n",
              "2017-04-27    34.033024\n",
              "2017-04-28    33.999882\n",
              "Name: Close, Length: 61, dtype: float64"
            ]
          },
          "metadata": {},
          "execution_count": 151
        }
      ]
    },
    {
      "cell_type": "code",
      "metadata": {
        "colab": {
          "base_uri": "https://localhost:8080/"
        },
        "id": "ROcjbPK4mjHD",
        "outputId": "0545c28b-e1a7-4b15-c832-1f690bf2ce80"
      },
      "source": [
        "aapl['2017-8':'2017-12']"
      ],
      "execution_count": 152,
      "outputs": [
        {
          "output_type": "execute_result",
          "data": {
            "text/plain": [
              "Date\n",
              "2017-08-01    35.661278\n",
              "2017-08-02    37.346302\n",
              "2017-08-03    36.973167\n",
              "2017-08-04    37.168049\n",
              "2017-08-07    37.743195\n",
              "                ...    \n",
              "2017-12-22    41.906773\n",
              "2017-12-26    40.843597\n",
              "2017-12-27    40.850792\n",
              "2017-12-28    40.965721\n",
              "2017-12-29    40.522732\n",
              "Name: Close, Length: 106, dtype: float64"
            ]
          },
          "metadata": {},
          "execution_count": 152
        }
      ]
    },
    {
      "cell_type": "code",
      "metadata": {
        "colab": {
          "base_uri": "https://localhost:8080/"
        },
        "id": "a0iz8lU4mnJF",
        "outputId": "40197735-5df6-4f81-bef7-231e62b850d5"
      },
      "source": [
        "print(aapl.head(5))\n",
        "print(aapl.tail(10))"
      ],
      "execution_count": 153,
      "outputs": [
        {
          "output_type": "stream",
          "name": "stdout",
          "text": [
            "Date\n",
            "2017-01-03    27.372362\n",
            "2017-01-04    27.341726\n",
            "2017-01-05    27.480766\n",
            "2017-01-06    27.787134\n",
            "2017-01-09    28.041647\n",
            "Name: Close, dtype: float64\n",
            "Date\n",
            "2017-12-15    41.657749\n",
            "2017-12-18    42.244408\n",
            "2017-12-19    41.794228\n",
            "2017-12-20    41.748741\n",
            "2017-12-21    41.906773\n",
            "2017-12-22    41.906773\n",
            "2017-12-26    40.843597\n",
            "2017-12-27    40.850792\n",
            "2017-12-28    40.965721\n",
            "2017-12-29    40.522732\n",
            "Name: Close, dtype: float64\n"
          ]
        }
      ]
    },
    {
      "cell_type": "code",
      "metadata": {
        "colab": {
          "base_uri": "https://localhost:8080/"
        },
        "id": "16cyCE0dmssc",
        "outputId": "4f6d1206-7fda-4fca-8cce-c221947bc2bf"
      },
      "source": [
        "print(aapl.head(11))\n",
        "print(aapl.tail(15))"
      ],
      "execution_count": 154,
      "outputs": [
        {
          "output_type": "stream",
          "name": "stdout",
          "text": [
            "Date\n",
            "2017-01-03    27.372362\n",
            "2017-01-04    27.341726\n",
            "2017-01-05    27.480766\n",
            "2017-01-06    27.787134\n",
            "2017-01-09    28.041647\n",
            "2017-01-10    28.069927\n",
            "2017-01-11    28.220751\n",
            "2017-01-12    28.102919\n",
            "2017-01-13    28.053431\n",
            "2017-01-17    28.279667\n",
            "2017-01-18    28.277309\n",
            "Name: Close, dtype: float64\n",
            "Date\n",
            "2017-12-08    40.556248\n",
            "2017-12-11    41.346458\n",
            "2017-12-12    41.114185\n",
            "2017-12-13    41.250668\n",
            "2017-12-14    41.238701\n",
            "2017-12-15    41.657749\n",
            "2017-12-18    42.244408\n",
            "2017-12-19    41.794228\n",
            "2017-12-20    41.748741\n",
            "2017-12-21    41.906773\n",
            "2017-12-22    41.906773\n",
            "2017-12-26    40.843597\n",
            "2017-12-27    40.850792\n",
            "2017-12-28    40.965721\n",
            "2017-12-29    40.522732\n",
            "Name: Close, dtype: float64\n"
          ]
        }
      ]
    },
    {
      "cell_type": "code",
      "metadata": {
        "colab": {
          "base_uri": "https://localhost:8080/"
        },
        "id": "tdqV64_Dm2rf",
        "outputId": "61414369-7942-4586-ab25-7a605987a4f0"
      },
      "source": [
        "by_month = aapl.resample('M').mean()\n",
        "print(by_month)"
      ],
      "execution_count": 155,
      "outputs": [
        {
          "output_type": "stream",
          "name": "stdout",
          "text": [
            "Date\n",
            "2017-01-31    28.178332\n",
            "2017-02-28    31.606275\n",
            "2017-03-31    33.282220\n",
            "2017-04-30    33.819261\n",
            "2017-05-31    36.125683\n",
            "2017-06-30    35.133982\n",
            "2017-07-31    35.245242\n",
            "2017-08-31    37.897230\n",
            "2017-09-30    37.604739\n",
            "2017-10-31    37.654550\n",
            "2017-11-30    41.233916\n",
            "2017-12-31    41.160040\n",
            "Freq: M, Name: Close, dtype: float64\n"
          ]
        }
      ]
    },
    {
      "cell_type": "code",
      "metadata": {
        "colab": {
          "base_uri": "https://localhost:8080/"
        },
        "id": "DFOZ3DVzoQN4",
        "outputId": "d63b41da-f4fb-4833-fb2c-3e73ffbc3703"
      },
      "source": [
        "by_week = aapl.resample('W').mean()\n",
        "print(by_week)"
      ],
      "execution_count": 156,
      "outputs": [
        {
          "output_type": "stream",
          "name": "stdout",
          "text": [
            "Date\n",
            "2017-01-08    27.495497\n",
            "2017-01-15    28.097735\n",
            "2017-01-22    28.266115\n",
            "2017-01-29    28.553979\n",
            "2017-02-05    29.662545\n",
            "2017-02-12    31.086279\n",
            "2017-02-19    31.947353\n",
            "2017-02-26    32.366757\n",
            "2017-03-05    32.778596\n",
            "2017-03-12    32.931492\n",
            "2017-03-19    33.104274\n",
            "2017-03-26    33.338590\n",
            "2017-04-02    33.911846\n",
            "2017-04-09    34.058588\n",
            "2017-04-16    33.588648\n",
            "2017-04-23    33.534568\n",
            "2017-04-30    34.049118\n",
            "2017-05-07    34.870422\n",
            "2017-05-14    36.524839\n",
            "2017-05-21    36.458389\n",
            "2017-05-28    36.533965\n",
            "2017-06-04    36.544188\n",
            "2017-06-11    36.491664\n",
            "2017-06-18    34.400708\n",
            "2017-06-25    34.657380\n",
            "2017-07-02    34.369806\n",
            "2017-07-09    34.134284\n",
            "2017-07-16    34.847989\n",
            "2017-07-23    35.709753\n",
            "2017-07-30    36.046286\n",
            "2017-08-06    36.499271\n",
            "2017-08-13    37.739793\n",
            "2017-08-20    38.068449\n",
            "2017-08-27    37.989240\n",
            "2017-09-03    38.928349\n",
            "2017-09-10    38.406780\n",
            "2017-09-17    38.183454\n",
            "2017-09-24    37.161309\n",
            "2017-10-01    36.520437\n",
            "2017-10-08    36.861151\n",
            "2017-10-15    37.282038\n",
            "2017-10-22    37.809811\n",
            "2017-10-29    37.704829\n",
            "2017-11-05    40.239673\n",
            "2017-11-12    41.824805\n",
            "2017-11-19    40.977215\n",
            "2017-11-26    41.488327\n",
            "2017-12-03    41.163993\n",
            "2017-12-10    40.570145\n",
            "2017-12-17    41.321552\n",
            "2017-12-24    41.920184\n",
            "2017-12-31    40.795711\n",
            "Freq: W-SUN, Name: Close, dtype: float64\n"
          ]
        }
      ]
    },
    {
      "cell_type": "code",
      "metadata": {
        "colab": {
          "base_uri": "https://localhost:8080/"
        },
        "id": "1_gOYpPQo6tv",
        "outputId": "03506d16-82ce-45e2-cc70-e96bd42ea9e1"
      },
      "source": [
        "by_week = aapl.resample('W').mean()\n",
        "print(by_week.head())"
      ],
      "execution_count": 157,
      "outputs": [
        {
          "output_type": "stream",
          "name": "stdout",
          "text": [
            "Date\n",
            "2017-01-08    27.495497\n",
            "2017-01-15    28.097735\n",
            "2017-01-22    28.266115\n",
            "2017-01-29    28.553979\n",
            "2017-02-05    29.662545\n",
            "Freq: W-SUN, Name: Close, dtype: float64\n"
          ]
        }
      ]
    },
    {
      "cell_type": "code",
      "metadata": {
        "colab": {
          "base_uri": "https://localhost:8080/"
        },
        "id": "U8e0DBYno-a2",
        "outputId": "82b9289c-e20d-4566-b3f4-d37cdd38a223"
      },
      "source": [
        "\n",
        "by_week = aapl.resample('W').mean()\n",
        "print(by_week.tail())"
      ],
      "execution_count": 158,
      "outputs": [
        {
          "output_type": "stream",
          "name": "stdout",
          "text": [
            "Date\n",
            "2017-12-03    41.163993\n",
            "2017-12-10    40.570145\n",
            "2017-12-17    41.321552\n",
            "2017-12-24    41.920184\n",
            "2017-12-31    40.795711\n",
            "Freq: W-SUN, Name: Close, dtype: float64\n"
          ]
        }
      ]
    },
    {
      "cell_type": "code",
      "metadata": {
        "colab": {
          "base_uri": "https://localhost:8080/"
        },
        "id": "o4z30lIrpBP1",
        "outputId": "ed76b663-08bd-4244-990c-1bd8145ef9c0"
      },
      "source": [
        "aapl.resample('M').max()"
      ],
      "execution_count": 159,
      "outputs": [
        {
          "output_type": "execute_result",
          "data": {
            "text/plain": [
              "Date\n",
              "2017-01-31    28.739216\n",
              "2017-02-28    32.451962\n",
              "2017-03-31    34.111145\n",
              "2017-04-30    34.264980\n",
              "2017-05-31    37.099129\n",
              "2017-06-30    36.944649\n",
              "2017-07-31    36.471703\n",
              "2017-08-31    39.129726\n",
              "2017-09-30    39.141655\n",
              "2017-10-31    40.332241\n",
              "2017-11-30    42.050144\n",
              "2017-12-31    42.244408\n",
              "Freq: M, Name: Close, dtype: float64"
            ]
          },
          "metadata": {},
          "execution_count": 159
        }
      ]
    },
    {
      "cell_type": "code",
      "metadata": {
        "colab": {
          "base_uri": "https://localhost:8080/"
        },
        "id": "zAKDbUeypFsB",
        "outputId": "72a0785a-acbf-486f-a9ff-73ed2bf8fdbf"
      },
      "source": [
        "aapl.resample('W').max()"
      ],
      "execution_count": 160,
      "outputs": [
        {
          "output_type": "execute_result",
          "data": {
            "text/plain": [
              "Date\n",
              "2017-01-08    27.787134\n",
              "2017-01-15    28.220751\n",
              "2017-01-22    28.279667\n",
              "2017-01-29    28.739216\n",
              "2017-02-05    30.419500\n",
              "2017-02-12    31.341909\n",
              "2017-02-19    32.122978\n",
              "2017-02-26    32.451962\n",
              "2017-03-05    33.086285\n",
              "2017-03-12    33.022377\n",
              "2017-03-19    33.299297\n",
              "2017-03-26    33.481552\n",
              "2017-04-02    34.111145\n",
              "2017-04-09    34.264980\n",
              "2017-04-16    33.886280\n",
              "2017-04-23    33.713509\n",
              "2017-04-30    34.208168\n",
              "2017-05-07    35.256695\n",
              "2017-05-14    37.099129\n",
              "2017-05-21    37.004063\n",
              "2017-05-28    36.597656\n",
              "2017-06-04    36.944649\n",
              "2017-06-11    36.925636\n",
              "2017-06-18    34.838955\n",
              "2017-06-25    34.779537\n",
              "2017-07-02    34.658333\n",
              "2017-07-09    34.266190\n",
              "2017-07-16    35.421223\n",
              "2017-07-23    35.891800\n",
              "2017-07-30    36.471703\n",
              "2017-08-06    37.346302\n",
              "2017-08-13    38.277939\n",
              "2017-08-20    38.557095\n",
              "2017-08-27    38.170570\n",
              "2017-09-03    39.141655\n",
              "2017-09-10    38.671619\n",
              "2017-09-17    38.533230\n",
              "2017-09-24    37.872326\n",
              "2017-10-01    36.798634\n",
              "2017-10-08    37.075413\n",
              "2017-10-15    37.457165\n",
              "2017-10-22    38.287483\n",
              "2017-10-29    38.903057\n",
              "2017-11-05    41.157791\n",
              "2017-11-12    42.050144\n",
              "2017-11-19    41.657749\n",
              "2017-11-26    41.897198\n",
              "2017-12-03    41.686485\n",
              "2017-12-10    40.659222\n",
              "2017-12-17    41.657749\n",
              "2017-12-24    42.244408\n",
              "2017-12-31    40.965721\n",
              "Freq: W-SUN, Name: Close, dtype: float64"
            ]
          },
          "metadata": {},
          "execution_count": 160
        }
      ]
    },
    {
      "cell_type": "code",
      "metadata": {
        "colab": {
          "base_uri": "https://localhost:8080/"
        },
        "id": "8bEC3LFZpJ5j",
        "outputId": "43e1df70-c34d-4332-dcc7-e65f2467f031"
      },
      "source": [
        "three_day = aapl.resample('3D').mean()\n",
        "two_week = aapl.resample('2W').mean()\n",
        "two_month = aapl.resample('2M').mean()\n",
        "\n",
        "\n",
        "print(three_day)\n",
        "print(two_week)\n",
        "print(two_month )"
      ],
      "execution_count": 161,
      "outputs": [
        {
          "output_type": "stream",
          "name": "stdout",
          "text": [
            "Date\n",
            "2017-01-03    27.398285\n",
            "2017-01-06    27.787134\n",
            "2017-01-09    28.110775\n",
            "2017-01-12    28.078175\n",
            "2017-01-15    28.279667\n",
            "                ...    \n",
            "2017-12-17    42.019318\n",
            "2017-12-20    41.854095\n",
            "2017-12-23          NaN\n",
            "2017-12-26    40.886703\n",
            "2017-12-29    40.522732\n",
            "Freq: 3D, Name: Close, Length: 121, dtype: float64\n",
            "Date\n",
            "2017-01-08    27.495497\n",
            "2017-01-22    28.172570\n",
            "2017-02-05    29.108262\n",
            "2017-02-19    31.516816\n",
            "2017-03-05    32.595556\n",
            "2017-03-19    33.017883\n",
            "2017-04-02    33.625218\n",
            "2017-04-16    33.849726\n",
            "2017-04-30    33.791843\n",
            "2017-05-14    35.697630\n",
            "2017-05-28    36.496177\n",
            "2017-06-11    36.515008\n",
            "2017-06-25    34.529044\n",
            "2017-07-09    34.265130\n",
            "2017-07-23    35.278871\n",
            "2017-08-06    36.272778\n",
            "2017-08-20    37.904121\n",
            "2017-09-03    38.458794\n",
            "2017-09-17    38.282710\n",
            "2017-10-01    36.840873\n",
            "2017-10-15    37.071595\n",
            "2017-10-29    37.757320\n",
            "2017-11-12    41.032239\n",
            "2017-11-26    41.204376\n",
            "2017-12-10    40.867069\n",
            "2017-12-24    41.620868\n",
            "2018-01-07    40.795711\n",
            "Freq: 2W-SUN, Name: Close, dtype: float64\n",
            "Date\n",
            "2017-01-31    28.178332\n",
            "2017-03-31    32.524054\n",
            "2017-05-31    35.056853\n",
            "2017-07-31    35.186963\n",
            "2017-09-30    37.761188\n",
            "2017-11-30    39.402613\n",
            "2018-01-31    41.160040\n",
            "Freq: 2M, Name: Close, dtype: float64\n"
          ]
        }
      ]
    },
    {
      "cell_type": "code",
      "metadata": {
        "colab": {
          "base_uri": "https://localhost:8080/"
        },
        "id": "3G2H_MfGpWzS",
        "outputId": "8c8d4b9d-a195-491a-dbd2-13fc2ccffbfd"
      },
      "source": [
        "quince_dias = aapl.resample('15D').mean()\n",
        "tres_semanas = aapl.resample('3W').mean()\n",
        "semestral = aapl.resample('6M').mean()\n",
        "\n",
        "\n",
        "print(quince_dias)\n",
        "print(tres_semanas)\n",
        "print(semestral)"
      ],
      "execution_count": 162,
      "outputs": [
        {
          "output_type": "stream",
          "name": "stdout",
          "text": [
            "Date\n",
            "2017-01-03    27.875033\n",
            "2017-01-18    28.650730\n",
            "2017-02-02    31.250415\n",
            "2017-02-17    32.548299\n",
            "2017-03-04    33.017883\n",
            "2017-03-19    33.625218\n",
            "2017-04-03    33.821666\n",
            "2017-04-18    33.996017\n",
            "2017-05-03    36.093790\n",
            "2017-05-18    36.453162\n",
            "2017-06-02    35.582410\n",
            "2017-06-17    34.513593\n",
            "2017-07-02    34.530787\n",
            "2017-07-17    35.829796\n",
            "2017-08-01    37.504037\n",
            "2017-08-16    38.178378\n",
            "2017-08-31    38.466906\n",
            "2017-09-15    36.959585\n",
            "2017-09-30    37.071595\n",
            "2017-10-15    37.757320\n",
            "2017-10-30    41.089104\n",
            "2017-11-14    41.231035\n",
            "2017-11-29    40.841207\n",
            "2017-12-14    41.515748\n",
            "2017-12-29    40.522732\n",
            "Freq: 15D, Name: Close, dtype: float64\n",
            "Date\n",
            "2017-01-08    27.495497\n",
            "2017-01-29    28.308788\n",
            "2017-02-19    30.898726\n",
            "2017-03-12    32.715533\n",
            "2017-04-02    33.451570\n",
            "2017-04-23    33.737170\n",
            "2017-05-14    35.148126\n",
            "2017-06-04    36.509895\n",
            "2017-06-25    35.183251\n",
            "2017-07-16    34.473294\n",
            "2017-08-06    36.085103\n",
            "2017-08-27    37.932494\n",
            "2017-09-17    38.513295\n",
            "2017-10-08    36.847632\n",
            "2017-10-29    37.598893\n",
            "2017-11-19    41.013898\n",
            "2017-12-10    41.044571\n",
            "2017-12-31    41.385109\n",
            "Freq: 3W-SUN, Name: Close, dtype: float64\n",
            "Date\n",
            "2017-01-31    28.178332\n",
            "2017-07-31    34.249550\n",
            "2018-01-31    39.068342\n",
            "Freq: 6M, Name: Close, dtype: float64\n"
          ]
        }
      ]
    },
    {
      "cell_type": "code",
      "metadata": {
        "colab": {
          "base_uri": "https://localhost:8080/"
        },
        "id": "GMI6eyXlpzjl",
        "outputId": "6b328db3-d0ef-4352-bb32-98dbc7d2efa6"
      },
      "source": [
        "std = aapl.resample('W').std()\n",
        "maximo = aapl.resample('W').max()\n",
        "minimo = aapl.resample('W').min()\n",
        "\n",
        "\n",
        "print(std)\n",
        "print(maximo)\n",
        "print(minimo)"
      ],
      "execution_count": 163,
      "outputs": [
        {
          "output_type": "stream",
          "name": "stdout",
          "text": [
            "Date\n",
            "2017-01-08    0.203369\n",
            "2017-01-15    0.072529\n",
            "2017-01-22    0.025557\n",
            "2017-01-29    0.245287\n",
            "2017-02-05    0.943260\n",
            "2017-02-12    0.251999\n",
            "2017-02-19    0.231396\n",
            "2017-02-26    0.059343\n",
            "2017-03-05    0.340093\n",
            "2017-03-12    0.076285\n",
            "2017-03-19    0.177834\n",
            "2017-03-26    0.157267\n",
            "2017-04-02    0.319809\n",
            "2017-04-09    0.128690\n",
            "2017-04-16    0.212476\n",
            "2017-04-23    0.174677\n",
            "2017-04-30    0.090023\n",
            "2017-05-07    0.235639\n",
            "2017-05-14    0.352980\n",
            "2017-05-21    0.536091\n",
            "2017-05-28    0.060391\n",
            "2017-06-04    0.281222\n",
            "2017-06-11    0.620033\n",
            "2017-06-18    0.382562\n",
            "2017-06-25    0.128892\n",
            "2017-07-02    0.264112\n",
            "2017-07-09    0.158894\n",
            "2017-07-16    0.404280\n",
            "2017-07-23    0.124988\n",
            "2017-07-30    0.384441\n",
            "2017-08-06    0.924389\n",
            "2017-08-13    0.467469\n",
            "2017-08-20    0.435248\n",
            "2017-08-27    0.275766\n",
            "2017-09-03    0.251727\n",
            "2017-09-10    0.381635\n",
            "2017-09-17    0.294136\n",
            "2017-09-24    0.735193\n",
            "2017-10-01    0.354844\n",
            "2017-10-08    0.204859\n",
            "2017-10-15    0.118730\n",
            "2017-10-22    0.517001\n",
            "2017-10-29    0.680455\n",
            "2017-11-05    0.560683\n",
            "2017-11-12    0.190973\n",
            "2017-11-19    0.436203\n",
            "2017-11-26    0.563051\n",
            "2017-12-03    0.427446\n",
            "2017-12-10    0.073129\n",
            "2017-12-17    0.205267\n",
            "2017-12-24    0.194125\n",
            "2017-12-31    0.190393\n",
            "Freq: W-SUN, Name: Close, dtype: float64\n",
            "Date\n",
            "2017-01-08    27.787134\n",
            "2017-01-15    28.220751\n",
            "2017-01-22    28.279667\n",
            "2017-01-29    28.739216\n",
            "2017-02-05    30.419500\n",
            "2017-02-12    31.341909\n",
            "2017-02-19    32.122978\n",
            "2017-02-26    32.451962\n",
            "2017-03-05    33.086285\n",
            "2017-03-12    33.022377\n",
            "2017-03-19    33.299297\n",
            "2017-03-26    33.481552\n",
            "2017-04-02    34.111145\n",
            "2017-04-09    34.264980\n",
            "2017-04-16    33.886280\n",
            "2017-04-23    33.713509\n",
            "2017-04-30    34.208168\n",
            "2017-05-07    35.256695\n",
            "2017-05-14    37.099129\n",
            "2017-05-21    37.004063\n",
            "2017-05-28    36.597656\n",
            "2017-06-04    36.944649\n",
            "2017-06-11    36.925636\n",
            "2017-06-18    34.838955\n",
            "2017-06-25    34.779537\n",
            "2017-07-02    34.658333\n",
            "2017-07-09    34.266190\n",
            "2017-07-16    35.421223\n",
            "2017-07-23    35.891800\n",
            "2017-07-30    36.471703\n",
            "2017-08-06    37.346302\n",
            "2017-08-13    38.277939\n",
            "2017-08-20    38.557095\n",
            "2017-08-27    38.170570\n",
            "2017-09-03    39.141655\n",
            "2017-09-10    38.671619\n",
            "2017-09-17    38.533230\n",
            "2017-09-24    37.872326\n",
            "2017-10-01    36.798634\n",
            "2017-10-08    37.075413\n",
            "2017-10-15    37.457165\n",
            "2017-10-22    38.287483\n",
            "2017-10-29    38.903057\n",
            "2017-11-05    41.157791\n",
            "2017-11-12    42.050144\n",
            "2017-11-19    41.657749\n",
            "2017-11-26    41.897198\n",
            "2017-12-03    41.686485\n",
            "2017-12-10    40.659222\n",
            "2017-12-17    41.657749\n",
            "2017-12-24    42.244408\n",
            "2017-12-31    40.965721\n",
            "Freq: W-SUN, Name: Close, dtype: float64\n",
            "Date\n",
            "2017-01-08    27.341726\n",
            "2017-01-15    28.041647\n",
            "2017-01-22    28.227816\n",
            "2017-01-29    28.272596\n",
            "2017-02-05    28.597816\n",
            "2017-02-12    30.704655\n",
            "2017-02-19    31.547821\n",
            "2017-02-26    32.314690\n",
            "2017-03-05    32.409359\n",
            "2017-03-12    32.823559\n",
            "2017-03-19    32.896938\n",
            "2017-03-26    33.098110\n",
            "2017-04-02    33.344273\n",
            "2017-04-09    33.926510\n",
            "2017-04-16    33.384506\n",
            "2017-04-23    33.296928\n",
            "2017-04-30    33.997524\n",
            "2017-05-07    34.681549\n",
            "2017-05-14    36.215263\n",
            "2017-05-21    35.708801\n",
            "2017-05-28    36.443184\n",
            "2017-06-04    36.305336\n",
            "2017-06-11    35.406975\n",
            "2017-06-18    33.812260\n",
            "2017-06-25    34.463448\n",
            "2017-07-02    34.147354\n",
            "2017-07-09    33.921570\n",
            "2017-07-16    34.475330\n",
            "2017-07-23    35.544815\n",
            "2017-07-30    35.530560\n",
            "2017-08-06    35.347557\n",
            "2017-08-13    37.058716\n",
            "2017-08-20    37.578854\n",
            "2017-08-27    37.509663\n",
            "2017-09-03    38.526073\n",
            "2017-09-10    37.848473\n",
            "2017-09-17    37.764961\n",
            "2017-09-24    36.240330\n",
            "2017-10-01    35.920609\n",
            "2017-10-08    36.619682\n",
            "2017-10-15    37.182781\n",
            "2017-10-22    37.216183\n",
            "2017-10-29    37.261517\n",
            "2017-11-05    39.778709\n",
            "2017-11-12    41.575329\n",
            "2017-11-19    40.486809\n",
            "2017-11-26    40.702312\n",
            "2017-12-03    40.582596\n",
            "2017-12-10    40.470055\n",
            "2017-12-17    41.114185\n",
            "2017-12-24    41.748741\n",
            "2017-12-31    40.522732\n",
            "Freq: W-SUN, Name: Close, dtype: float64\n"
          ]
        }
      ]
    },
    {
      "cell_type": "code",
      "metadata": {
        "colab": {
          "base_uri": "https://localhost:8080/"
        },
        "id": "h_ApBzl3p6RL",
        "outputId": "0d109a7c-6a17-41a4-8d13-20823ad2c40c"
      },
      "source": [
        "std = aapl.resample('M').std()\n",
        "maximo = aapl.resample('M').max()\n",
        "minimo = aapl.resample('M').min()\n",
        "\n",
        "\n",
        "print(std)\n",
        "print(maximo)\n",
        "print(minimo)"
      ],
      "execution_count": 164,
      "outputs": [
        {
          "output_type": "stream",
          "name": "stdout",
          "text": [
            "Date\n",
            "2017-01-31    0.425088\n",
            "2017-02-28    0.773846\n",
            "2017-03-31    0.407927\n",
            "2017-04-30    0.291041\n",
            "2017-05-31    0.760190\n",
            "2017-06-30    1.053872\n",
            "2017-07-31    0.774828\n",
            "2017-08-31    0.767475\n",
            "2017-09-30    0.943681\n",
            "2017-10-31    0.946220\n",
            "2017-11-30    0.638007\n",
            "2017-12-31    0.551571\n",
            "Freq: M, Name: Close, dtype: float64\n",
            "Date\n",
            "2017-01-31    28.739216\n",
            "2017-02-28    32.451962\n",
            "2017-03-31    34.111145\n",
            "2017-04-30    34.264980\n",
            "2017-05-31    37.099129\n",
            "2017-06-30    36.944649\n",
            "2017-07-31    36.471703\n",
            "2017-08-31    39.129726\n",
            "2017-09-30    39.141655\n",
            "2017-10-31    40.332241\n",
            "2017-11-30    42.050144\n",
            "2017-12-31    42.244408\n",
            "Freq: M, Name: Close, dtype: float64\n",
            "Date\n",
            "2017-01-31    27.341726\n",
            "2017-02-28    30.289879\n",
            "2017-03-31    32.823559\n",
            "2017-04-30    33.296928\n",
            "2017-05-31    34.681549\n",
            "2017-06-30    33.812260\n",
            "2017-07-31    33.921570\n",
            "2017-08-31    35.661278\n",
            "2017-09-30    35.920609\n",
            "2017-10-31    36.619682\n",
            "2017-11-30    39.819267\n",
            "2017-12-31    40.470055\n",
            "Freq: M, Name: Close, dtype: float64\n"
          ]
        }
      ]
    },
    {
      "cell_type": "code",
      "metadata": {
        "colab": {
          "base_uri": "https://localhost:8080/"
        },
        "id": "wy3DNTBup_I7",
        "outputId": "08c72373-b38b-4bc9-a2cf-5e3499a7b01e"
      },
      "source": [
        "last_day = aapl.resample('M').agg(lambda x: x[-1])\n",
        "print(last_day)"
      ],
      "execution_count": 165,
      "outputs": [
        {
          "output_type": "stream",
          "name": "stdout",
          "text": [
            "Date\n",
            "2017-01-31    28.597816\n",
            "2017-02-28    32.423569\n",
            "2017-03-31    34.002258\n",
            "2017-04-30    33.999882\n",
            "2017-05-31    36.305336\n",
            "2017-06-30    34.228153\n",
            "2017-07-31    35.347557\n",
            "2017-08-31    39.129726\n",
            "2017-09-30    36.772400\n",
            "2017-10-31    40.332241\n",
            "2017-11-30    41.150105\n",
            "2017-12-31    40.522732\n",
            "Freq: M, Name: Close, dtype: float64\n"
          ]
        }
      ]
    },
    {
      "cell_type": "code",
      "metadata": {
        "colab": {
          "base_uri": "https://localhost:8080/"
        },
        "id": "EIElZvngqLoS",
        "outputId": "4d980daa-4b3b-4b17-9565-2d5ab069c6cb"
      },
      "source": [
        "last_day_bimestre = aapl.resample('2M').agg(lambda x: x[-1])\n",
        "print(last_day_bimestre)"
      ],
      "execution_count": 166,
      "outputs": [
        {
          "output_type": "stream",
          "name": "stdout",
          "text": [
            "Date\n",
            "2017-01-31    28.597816\n",
            "2017-03-31    34.002258\n",
            "2017-05-31    36.305336\n",
            "2017-07-31    35.347557\n",
            "2017-09-30    36.772400\n",
            "2017-11-30    41.150105\n",
            "2018-01-31    40.522732\n",
            "Freq: 2M, Name: Close, dtype: float64\n"
          ]
        }
      ]
    },
    {
      "cell_type": "code",
      "metadata": {
        "colab": {
          "base_uri": "https://localhost:8080/"
        },
        "id": "N4omGAbLrILW",
        "outputId": "97713bc2-37b9-475a-d377-143df2fbebac"
      },
      "source": [
        "monthly_return = aapl.resample('M').agg(lambda x: x[-1]/x[0] - 1)\n",
        "print(monthly_return)"
      ],
      "execution_count": 167,
      "outputs": [
        {
          "output_type": "stream",
          "name": "stdout",
          "text": [
            "Date\n",
            "2017-01-31    0.044770\n",
            "2017-02-28    0.068613\n",
            "2017-03-31    0.027684\n",
            "2017-04-30   -0.000348\n",
            "2017-05-31    0.046463\n",
            "2017-06-30   -0.059799\n",
            "2017-07-31    0.036446\n",
            "2017-08-31    0.097261\n",
            "2017-09-30   -0.060530\n",
            "2017-10-31    0.099018\n",
            "2017-11-30    0.033422\n",
            "2017-12-31   -0.010640\n",
            "Freq: M, Name: Close, dtype: float64\n"
          ]
        }
      ]
    },
    {
      "cell_type": "code",
      "metadata": {
        "colab": {
          "base_uri": "https://localhost:8080/"
        },
        "id": "jZKfl_WvrPfG",
        "outputId": "118cd401-7b18-4f7e-ca03-c080bb87527e"
      },
      "source": [
        "retorno_bimestre = aapl.resample('2M').agg(lambda x: x[-1]/x[0] - 1)\n",
        "print(retorno_bimestre)"
      ],
      "execution_count": 168,
      "outputs": [
        {
          "output_type": "stream",
          "name": "stdout",
          "text": [
            "Date\n",
            "2017-01-31    0.044770\n",
            "2017-03-31    0.120643\n",
            "2017-05-31    0.067436\n",
            "2017-07-31   -0.029051\n",
            "2017-09-30    0.031158\n",
            "2017-11-30    0.121304\n",
            "2018-01-31   -0.010640\n",
            "Freq: 2M, Name: Close, dtype: float64\n"
          ]
        }
      ]
    },
    {
      "cell_type": "code",
      "metadata": {
        "colab": {
          "base_uri": "https://localhost:8080/"
        },
        "id": "mh2V4atZr4N8",
        "outputId": "ef6f9d64-3275-47cc-dd66-e8aec58106f0"
      },
      "source": [
        "print(monthly_return.mean())\n",
        "print(monthly_return.std())\n",
        "print(monthly_return.max())"
      ],
      "execution_count": 169,
      "outputs": [
        {
          "output_type": "stream",
          "name": "stdout",
          "text": [
            "0.026863237943360086\n",
            "0.052258576169742124\n",
            "0.09901807370559301\n"
          ]
        }
      ]
    },
    {
      "cell_type": "code",
      "metadata": {
        "colab": {
          "base_uri": "https://localhost:8080/"
        },
        "id": "iL8s7Vrjr6-T",
        "outputId": "74608dde-c74d-4c1e-bcd8-a85ca2875392"
      },
      "source": [
        "print(retorno_bimestre.mean())\n",
        "print(retorno_bimestre.std())\n",
        "print(retorno_bimestre.max())"
      ],
      "execution_count": 170,
      "outputs": [
        {
          "output_type": "stream",
          "name": "stdout",
          "text": [
            "0.04937421096342479\n",
            "0.058715019711495516\n",
            "0.12130413333341639\n"
          ]
        }
      ]
    },
    {
      "cell_type": "code",
      "metadata": {
        "colab": {
          "base_uri": "https://localhost:8080/"
        },
        "id": "atUoLjybsM1y",
        "outputId": "020b08fa-64e9-42a6-b2bd-4e99e2a942d7"
      },
      "source": [
        "print(last_day.diff())\n",
        "print(last_day.pct_change())"
      ],
      "execution_count": 171,
      "outputs": [
        {
          "output_type": "stream",
          "name": "stdout",
          "text": [
            "Date\n",
            "2017-01-31         NaN\n",
            "2017-02-28    3.825752\n",
            "2017-03-31    1.578690\n",
            "2017-04-30   -0.002377\n",
            "2017-05-31    2.305454\n",
            "2017-06-30   -2.077183\n",
            "2017-07-31    1.119404\n",
            "2017-08-31    3.782169\n",
            "2017-09-30   -2.357327\n",
            "2017-10-31    3.559841\n",
            "2017-11-30    0.817863\n",
            "2017-12-31   -0.627373\n",
            "Freq: M, Name: Close, dtype: float64\n",
            "Date\n",
            "2017-01-31         NaN\n",
            "2017-02-28    0.133778\n",
            "2017-03-31    0.048690\n",
            "2017-04-30   -0.000070\n",
            "2017-05-31    0.067808\n",
            "2017-06-30   -0.057214\n",
            "2017-07-31    0.032704\n",
            "2017-08-31    0.106999\n",
            "2017-09-30   -0.060244\n",
            "2017-10-31    0.096807\n",
            "2017-11-30    0.020278\n",
            "2017-12-31   -0.015246\n",
            "Freq: M, Name: Close, dtype: float64\n"
          ]
        }
      ]
    },
    {
      "cell_type": "code",
      "metadata": {
        "colab": {
          "base_uri": "https://localhost:8080/"
        },
        "id": "fYqtYIO3sZoJ",
        "outputId": "42f256d7-e860-490b-c273-da958a6cf4ec"
      },
      "source": [
        "print(last_day_bimestre.diff())\n",
        "print(last_day_bimestre.pct_change())"
      ],
      "execution_count": 172,
      "outputs": [
        {
          "output_type": "stream",
          "name": "stdout",
          "text": [
            "Date\n",
            "2017-01-31         NaN\n",
            "2017-03-31    5.404442\n",
            "2017-05-31    2.303078\n",
            "2017-07-31   -0.957779\n",
            "2017-09-30    1.424843\n",
            "2017-11-30    4.377705\n",
            "2018-01-31   -0.627373\n",
            "Freq: 2M, Name: Close, dtype: float64\n",
            "Date\n",
            "2017-01-31         NaN\n",
            "2017-03-31    0.188981\n",
            "2017-05-31    0.067733\n",
            "2017-07-31   -0.026381\n",
            "2017-09-30    0.040310\n",
            "2017-11-30    0.119049\n",
            "2018-01-31   -0.015246\n",
            "Freq: 2M, Name: Close, dtype: float64\n"
          ]
        }
      ]
    },
    {
      "cell_type": "code",
      "metadata": {
        "colab": {
          "base_uri": "https://localhost:8080/"
        },
        "id": "VaDRMha9si97",
        "outputId": "36f86ec9-f5be-4ae6-efc3-308f7633bb3f"
      },
      "source": [
        "daily_return = last_day.pct_change()\n",
        "print(daily_return.fillna(0))"
      ],
      "execution_count": 173,
      "outputs": [
        {
          "output_type": "stream",
          "name": "stdout",
          "text": [
            "Date\n",
            "2017-01-31    0.000000\n",
            "2017-02-28    0.133778\n",
            "2017-03-31    0.048690\n",
            "2017-04-30   -0.000070\n",
            "2017-05-31    0.067808\n",
            "2017-06-30   -0.057214\n",
            "2017-07-31    0.032704\n",
            "2017-08-31    0.106999\n",
            "2017-09-30   -0.060244\n",
            "2017-10-31    0.096807\n",
            "2017-11-30    0.020278\n",
            "2017-12-31   -0.015246\n",
            "Freq: M, Name: Close, dtype: float64\n"
          ]
        }
      ]
    },
    {
      "cell_type": "code",
      "metadata": {
        "colab": {
          "base_uri": "https://localhost:8080/"
        },
        "id": "RaUj4X_4sx6p",
        "outputId": "d263e837-9eab-4930-9de0-1f68e31319a7"
      },
      "source": [
        "daily_return_bimestral = last_day_bimestre.pct_change()\n",
        "print(daily_return_bimestral.fillna(0))"
      ],
      "execution_count": 174,
      "outputs": [
        {
          "output_type": "stream",
          "name": "stdout",
          "text": [
            "Date\n",
            "2017-01-31    0.000000\n",
            "2017-03-31    0.188981\n",
            "2017-05-31    0.067733\n",
            "2017-07-31   -0.026381\n",
            "2017-09-30    0.040310\n",
            "2017-11-30    0.119049\n",
            "2018-01-31   -0.015246\n",
            "Freq: 2M, Name: Close, dtype: float64\n"
          ]
        }
      ]
    },
    {
      "cell_type": "code",
      "metadata": {
        "colab": {
          "base_uri": "https://localhost:8080/"
        },
        "id": "zpMZ9--8s5-d",
        "outputId": "8c40ef0c-4962-4ef9-a68f-fd0299fd6777"
      },
      "source": [
        "daily_return = last_day.pct_change()\n",
        "print(daily_return.fillna(method = 'bfill'))"
      ],
      "execution_count": 175,
      "outputs": [
        {
          "output_type": "stream",
          "name": "stdout",
          "text": [
            "Date\n",
            "2017-01-31    0.133778\n",
            "2017-02-28    0.133778\n",
            "2017-03-31    0.048690\n",
            "2017-04-30   -0.000070\n",
            "2017-05-31    0.067808\n",
            "2017-06-30   -0.057214\n",
            "2017-07-31    0.032704\n",
            "2017-08-31    0.106999\n",
            "2017-09-30   -0.060244\n",
            "2017-10-31    0.096807\n",
            "2017-11-30    0.020278\n",
            "2017-12-31   -0.015246\n",
            "Freq: M, Name: Close, dtype: float64\n"
          ]
        }
      ]
    },
    {
      "cell_type": "code",
      "metadata": {
        "colab": {
          "base_uri": "https://localhost:8080/"
        },
        "id": "6uRlnNpntNFn",
        "outputId": "e9983f12-bfb2-4ad8-b93a-c08b754022dd"
      },
      "source": [
        "print(daily_return_bimestral.fillna(method = 'bfill'))"
      ],
      "execution_count": 176,
      "outputs": [
        {
          "output_type": "stream",
          "name": "stdout",
          "text": [
            "Date\n",
            "2017-01-31    0.188981\n",
            "2017-03-31    0.188981\n",
            "2017-05-31    0.067733\n",
            "2017-07-31   -0.026381\n",
            "2017-09-30    0.040310\n",
            "2017-11-30    0.119049\n",
            "2018-01-31   -0.015246\n",
            "Freq: 2M, Name: Close, dtype: float64\n"
          ]
        }
      ]
    },
    {
      "cell_type": "code",
      "metadata": {
        "colab": {
          "base_uri": "https://localhost:8080/"
        },
        "id": "EasK2WzbtQtw",
        "outputId": "571f0ac0-b0b9-4a07-f6c3-188f00214132"
      },
      "source": [
        "daily_return = last_day.pct_change()\n",
        "daily_return.dropna()"
      ],
      "execution_count": 177,
      "outputs": [
        {
          "output_type": "execute_result",
          "data": {
            "text/plain": [
              "Date\n",
              "2017-02-28    0.133778\n",
              "2017-03-31    0.048690\n",
              "2017-04-30   -0.000070\n",
              "2017-05-31    0.067808\n",
              "2017-06-30   -0.057214\n",
              "2017-07-31    0.032704\n",
              "2017-08-31    0.106999\n",
              "2017-09-30   -0.060244\n",
              "2017-10-31    0.096807\n",
              "2017-11-30    0.020278\n",
              "2017-12-31   -0.015246\n",
              "Freq: M, Name: Close, dtype: float64"
            ]
          },
          "metadata": {},
          "execution_count": 177
        }
      ]
    },
    {
      "cell_type": "code",
      "metadata": {
        "colab": {
          "base_uri": "https://localhost:8080/"
        },
        "id": "6rq14OkBtv-1",
        "outputId": "8cf65711-8ef7-4b51-89ff-fbe16138b8bc"
      },
      "source": [
        "daily_return_bimestral.dropna()"
      ],
      "execution_count": 178,
      "outputs": [
        {
          "output_type": "execute_result",
          "data": {
            "text/plain": [
              "Date\n",
              "2017-03-31    0.188981\n",
              "2017-05-31    0.067733\n",
              "2017-07-31   -0.026381\n",
              "2017-09-30    0.040310\n",
              "2017-11-30    0.119049\n",
              "2018-01-31   -0.015246\n",
              "Freq: 2M, Name: Close, dtype: float64"
            ]
          },
          "metadata": {},
          "execution_count": 178
        }
      ]
    },
    {
      "cell_type": "code",
      "metadata": {
        "colab": {
          "base_uri": "https://localhost:8080/"
        },
        "id": "2FtqL5_TtzpB",
        "outputId": "66ee1fdb-5a5c-43e4-9b32-0236a9721d26"
      },
      "source": [
        "dicta = {'AAPL': [143.5, 144.09, 142.73, 144.18, 143.77],'GOOG':[898.7, 911.71, 906.69, 918.59, 926.99],\n",
        "        'IBM':[155.58, 153.67, 152.36, 152.94, 153.49]}\n",
        "data_index = pd.date_range('2017-07-03',periods = 5, freq = 'D')\n",
        "df = pd.DataFrame(dicta, index = data_index)\n",
        "print(df)"
      ],
      "execution_count": 179,
      "outputs": [
        {
          "output_type": "stream",
          "name": "stdout",
          "text": [
            "              AAPL    GOOG     IBM\n",
            "2017-07-03  143.50  898.70  155.58\n",
            "2017-07-04  144.09  911.71  153.67\n",
            "2017-07-05  142.73  906.69  152.36\n",
            "2017-07-06  144.18  918.59  152.94\n",
            "2017-07-07  143.77  926.99  153.49\n"
          ]
        }
      ]
    },
    {
      "cell_type": "code",
      "metadata": {
        "colab": {
          "base_uri": "https://localhost:8080/"
        },
        "id": "kc4TTJ-6ua-L",
        "outputId": "14f8c6b8-3896-41b2-c232-4f884d4b933b"
      },
      "source": [
        "dicta2 = {'fb': [143.5, 144.09, 142.73, 144.18, 143.77, 12.3],'microsoft':[898.7, 911.71, 906.69, 918.59, 926.99, 98.7],\n",
        "        'bitcoin':[155.58, 153.67, 152.36, 152.94, 153.49, 0.19]}\n",
        "data_index2 = pd.date_range('2017-02',periods = 6, freq = 'M')\n",
        "df2 = pd.DataFrame(dicta2, index = data_index2)\n",
        "print(df2)"
      ],
      "execution_count": 180,
      "outputs": [
        {
          "output_type": "stream",
          "name": "stdout",
          "text": [
            "                fb  microsoft  bitcoin\n",
            "2017-02-28  143.50     898.70   155.58\n",
            "2017-03-31  144.09     911.71   153.67\n",
            "2017-04-30  142.73     906.69   152.36\n",
            "2017-05-31  144.18     918.59   152.94\n",
            "2017-06-30  143.77     926.99   153.49\n",
            "2017-07-31   12.30      98.70     0.19\n"
          ]
        }
      ]
    },
    {
      "cell_type": "code",
      "metadata": {
        "colab": {
          "base_uri": "https://localhost:8080/"
        },
        "id": "SWuy1iBSwu6i",
        "outputId": "f4a69a9a-3b89-4598-a201-5ca070b0825c"
      },
      "source": [
        "df = aapl_table\n",
        "print(df.Close.tail(5))\n",
        "print(df['Volume'].tail(5))"
      ],
      "execution_count": 181,
      "outputs": [
        {
          "output_type": "stream",
          "name": "stdout",
          "text": [
            "Date\n",
            "2017-12-22    41.906773\n",
            "2017-12-26    40.843597\n",
            "2017-12-27    40.850792\n",
            "2017-12-28    40.965721\n",
            "2017-12-29    40.522732\n",
            "Name: Close, dtype: float64\n",
            "Date\n",
            "2017-12-22     65397600\n",
            "2017-12-26    132742000\n",
            "2017-12-27     85992800\n",
            "2017-12-28     65920800\n",
            "2017-12-29    103999600\n",
            "Name: Volume, dtype: int64\n"
          ]
        }
      ]
    },
    {
      "cell_type": "code",
      "metadata": {
        "colab": {
          "base_uri": "https://localhost:8080/"
        },
        "id": "zsuoAFDNwwru",
        "outputId": "38117065-d524-4ead-c01c-e3924a64a5ef"
      },
      "source": [
        "df = aapl_table\n",
        "print(df.Close.tail(4))\n",
        "print(df['Volume'].tail(4))"
      ],
      "execution_count": 182,
      "outputs": [
        {
          "output_type": "stream",
          "name": "stdout",
          "text": [
            "Date\n",
            "2017-12-26    40.843597\n",
            "2017-12-27    40.850792\n",
            "2017-12-28    40.965721\n",
            "2017-12-29    40.522732\n",
            "Name: Close, dtype: float64\n",
            "Date\n",
            "2017-12-26    132742000\n",
            "2017-12-27     85992800\n",
            "2017-12-28     65920800\n",
            "2017-12-29    103999600\n",
            "Name: Volume, dtype: int64\n"
          ]
        }
      ]
    },
    {
      "cell_type": "code",
      "metadata": {
        "colab": {
          "base_uri": "https://localhost:8080/"
        },
        "id": "VZWHzXAUufoE",
        "outputId": "4b4e7607-24a0-4da1-bc50-6651b87babea"
      },
      "source": [
        "aapl_2016 = df['2016']\n",
        "aapl_month = aapl_2016.resample('M').agg(lambda x: x[-1])\n",
        "print(aapl_month)"
      ],
      "execution_count": 183,
      "outputs": [
        {
          "output_type": "stream",
          "name": "stdout",
          "text": [
            "                 Open       High        Low  ...     Volume  Dividends  Stock Splits\n",
            "Date                                         ...                                    \n",
            "2016-01-31  21.852384  22.440247  21.750948  ...  257666000        0.0             0\n",
            "2016-02-29  22.450761  22.768308  22.402086  ...  140865200        0.0             0\n",
            "2016-03-31  25.431518  25.473240  25.236817  ...  103553600        0.0             0\n",
            "2016-04-30  21.785531  21.954736  21.442489  ...  274126000        0.0             0\n",
            "2016-05-31  23.226411  23.412969  23.044518  ...  169228800        0.0             0\n",
            "2016-06-30  22.023112  22.333262  21.990464  ...  143345600        0.0             0\n",
            "2016-07-31  24.296780  24.380731  24.177849  ...  110934800        0.0             0\n",
            "2016-08-31  24.773052  24.986410  24.768362  ...  118649600        0.0             0\n",
            "2016-09-30  26.367384  26.580743  26.212641  ...  145516400        0.0             0\n",
            "2016-10-31  26.646394  26.782382  26.540886  ...  105677600        0.0             0\n",
            "2016-11-30  26.300090  26.441488  25.986656  ...  144649200        0.0             0\n",
            "2016-12-31  27.490191  27.619805  27.202681  ...  122345200        0.0             0\n",
            "\n",
            "[12 rows x 7 columns]\n"
          ]
        }
      ]
    },
    {
      "cell_type": "code",
      "metadata": {
        "colab": {
          "base_uri": "https://localhost:8080/"
        },
        "id": "dRd2DL0_v82c",
        "outputId": "8293c7db-48df-494e-dada-8434d5b07db8"
      },
      "source": [
        "aapl_2017 = df['2017']\n",
        "aapl_month = aapl_2017.resample('M').agg(lambda x: x[-1])\n",
        "print(aapl_month)"
      ],
      "execution_count": 184,
      "outputs": [
        {
          "output_type": "stream",
          "name": "stdout",
          "text": [
            "                 Open       High        Low  ...     Volume  Dividends  Stock Splits\n",
            "Date                                         ...                                    \n",
            "2017-01-31  28.550684  28.607243  28.425783  ...  196804000        0.0             0\n",
            "2017-02-28  32.444870  32.530077  32.354928  ...   93931600        0.0             0\n",
            "2017-03-31  34.016459  34.146637  33.848410  ...   78646800        0.0             0\n",
            "2017-04-30  34.104024  34.153730  33.909944  ...   83441600        0.0             0\n",
            "2017-05-31  36.592909  36.640441  36.215027  ...   97804800        0.0             0\n",
            "2017-06-30  34.330346  34.451557  34.171113  ...   92096400        0.0             0\n",
            "2017-07-31  35.625622  35.727819  35.204962  ...   79383600        0.0             0\n",
            "2017-08-31  39.043832  39.253797  39.005656  ...  107140400        0.0             0\n",
            "2017-09-30  36.555280  36.774788  36.266578  ...  105199200        0.0             0\n",
            "2017-10-31  40.060242  40.477785  39.831192  ...  144187200        0.0             0\n",
            "2017-11-30  40.810077  41.219544  40.333567  ...  166108800        0.0             0\n",
            "2017-12-31  40.831629  40.848389  40.520339  ...  103999600        0.0             0\n",
            "\n",
            "[12 rows x 7 columns]\n"
          ]
        }
      ]
    },
    {
      "cell_type": "code",
      "metadata": {
        "colab": {
          "base_uri": "https://localhost:8080/"
        },
        "id": "27ud8Xm-wCaU",
        "outputId": "13c27c02-08a0-405d-ead2-de3b772ef642"
      },
      "source": [
        "aapl_bar = aapl_month[['Open', 'High', 'Low', 'Close']]\n",
        "print(aapl_bar)"
      ],
      "execution_count": 185,
      "outputs": [
        {
          "output_type": "stream",
          "name": "stdout",
          "text": [
            "                 Open       High        Low      Close\n",
            "Date                                                  \n",
            "2017-01-31  28.550684  28.607243  28.425783  28.597816\n",
            "2017-02-28  32.444870  32.530077  32.354928  32.423569\n",
            "2017-03-31  34.016459  34.146637  33.848410  34.002258\n",
            "2017-04-30  34.104024  34.153730  33.909944  33.999882\n",
            "2017-05-31  36.592909  36.640441  36.215027  36.305336\n",
            "2017-06-30  34.330346  34.451557  34.171113  34.228153\n",
            "2017-07-31  35.625622  35.727819  35.204962  35.347557\n",
            "2017-08-31  39.043832  39.253797  39.005656  39.129726\n",
            "2017-09-30  36.555280  36.774788  36.266578  36.772400\n",
            "2017-10-31  40.060242  40.477785  39.831192  40.332241\n",
            "2017-11-30  40.810077  41.219544  40.333567  41.150105\n",
            "2017-12-31  40.831629  40.848389  40.520339  40.522732\n"
          ]
        }
      ]
    },
    {
      "cell_type": "code",
      "metadata": {
        "colab": {
          "base_uri": "https://localhost:8080/"
        },
        "id": "01rj95nuw2iu",
        "outputId": "e03337ea-0d6c-4684-eea2-c6f6367f82d9"
      },
      "source": [
        "aapl_bar = aapl_month[['Open', 'High', 'Low', 'Close', 'Volume']]\n",
        "print(aapl_bar)"
      ],
      "execution_count": 186,
      "outputs": [
        {
          "output_type": "stream",
          "name": "stdout",
          "text": [
            "                 Open       High        Low      Close     Volume\n",
            "Date                                                             \n",
            "2017-01-31  28.550684  28.607243  28.425783  28.597816  196804000\n",
            "2017-02-28  32.444870  32.530077  32.354928  32.423569   93931600\n",
            "2017-03-31  34.016459  34.146637  33.848410  34.002258   78646800\n",
            "2017-04-30  34.104024  34.153730  33.909944  33.999882   83441600\n",
            "2017-05-31  36.592909  36.640441  36.215027  36.305336   97804800\n",
            "2017-06-30  34.330346  34.451557  34.171113  34.228153   92096400\n",
            "2017-07-31  35.625622  35.727819  35.204962  35.347557   79383600\n",
            "2017-08-31  39.043832  39.253797  39.005656  39.129726  107140400\n",
            "2017-09-30  36.555280  36.774788  36.266578  36.772400  105199200\n",
            "2017-10-31  40.060242  40.477785  39.831192  40.332241  144187200\n",
            "2017-11-30  40.810077  41.219544  40.333567  41.150105  166108800\n",
            "2017-12-31  40.831629  40.848389  40.520339  40.522732  103999600\n"
          ]
        }
      ]
    },
    {
      "cell_type": "code",
      "metadata": {
        "colab": {
          "base_uri": "https://localhost:8080/"
        },
        "id": "BxddO-gQxLHz",
        "outputId": "e8a4a405-5c04-4b21-d529-de1738143923"
      },
      "source": [
        "print(aapl_month.loc['2016-03':'2016-06',['Open', 'High', 'Low', 'Close']])"
      ],
      "execution_count": 187,
      "outputs": [
        {
          "output_type": "stream",
          "name": "stdout",
          "text": [
            "Empty DataFrame\n",
            "Columns: [Open, High, Low, Close]\n",
            "Index: []\n"
          ]
        }
      ]
    },
    {
      "cell_type": "code",
      "metadata": {
        "colab": {
          "base_uri": "https://localhost:8080/"
        },
        "id": "pOKN0KA1xOrF",
        "outputId": "24ee21d8-6fdc-4f03-d5fa-5dcae4ff5bcf"
      },
      "source": [
        "print(aapl_month.loc['2016-01':'2016-10',['High', 'Low']])"
      ],
      "execution_count": 188,
      "outputs": [
        {
          "output_type": "stream",
          "name": "stdout",
          "text": [
            "Empty DataFrame\n",
            "Columns: [High, Low]\n",
            "Index: []\n"
          ]
        }
      ]
    },
    {
      "cell_type": "code",
      "metadata": {
        "colab": {
          "base_uri": "https://localhost:8080/"
        },
        "id": "NGrF47Krxgue",
        "outputId": "9c7cbd70-ed3d-4849-8b2a-e6b19a352532"
      },
      "source": [
        "import numpy as np\n",
        "\n",
        "above = aapl_bar[aapl_bar.Close > np.mean(aapl_bar.Close)]\n",
        "print(above)"
      ],
      "execution_count": 189,
      "outputs": [
        {
          "output_type": "stream",
          "name": "stdout",
          "text": [
            "                 Open       High        Low      Close     Volume\n",
            "Date                                                             \n",
            "2017-05-31  36.592909  36.640441  36.215027  36.305336   97804800\n",
            "2017-08-31  39.043832  39.253797  39.005656  39.129726  107140400\n",
            "2017-09-30  36.555280  36.774788  36.266578  36.772400  105199200\n",
            "2017-10-31  40.060242  40.477785  39.831192  40.332241  144187200\n",
            "2017-11-30  40.810077  41.219544  40.333567  41.150105  166108800\n",
            "2017-12-31  40.831629  40.848389  40.520339  40.522732  103999600\n"
          ]
        }
      ]
    },
    {
      "cell_type": "code",
      "metadata": {
        "colab": {
          "base_uri": "https://localhost:8080/"
        },
        "id": "xpGSNbLSxlXp",
        "outputId": "f35050f1-b0f5-4ccf-a174-d87c8e3fda3a"
      },
      "source": [
        "aapl_bar['rate_return'] = aapl_bar.Close.pct_change()\n",
        "print(aapl_bar)"
      ],
      "execution_count": 190,
      "outputs": [
        {
          "output_type": "stream",
          "name": "stdout",
          "text": [
            "                 Open       High        Low      Close     Volume  rate_return\n",
            "Date                                                                          \n",
            "2017-01-31  28.550684  28.607243  28.425783  28.597816  196804000          NaN\n",
            "2017-02-28  32.444870  32.530077  32.354928  32.423569   93931600     0.133778\n",
            "2017-03-31  34.016459  34.146637  33.848410  34.002258   78646800     0.048690\n",
            "2017-04-30  34.104024  34.153730  33.909944  33.999882   83441600    -0.000070\n",
            "2017-05-31  36.592909  36.640441  36.215027  36.305336   97804800     0.067808\n",
            "2017-06-30  34.330346  34.451557  34.171113  34.228153   92096400    -0.057214\n",
            "2017-07-31  35.625622  35.727819  35.204962  35.347557   79383600     0.032704\n",
            "2017-08-31  39.043832  39.253797  39.005656  39.129726  107140400     0.106999\n",
            "2017-09-30  36.555280  36.774788  36.266578  36.772400  105199200    -0.060244\n",
            "2017-10-31  40.060242  40.477785  39.831192  40.332241  144187200     0.096807\n",
            "2017-11-30  40.810077  41.219544  40.333567  41.150105  166108800     0.020278\n",
            "2017-12-31  40.831629  40.848389  40.520339  40.522732  103999600    -0.015246\n"
          ]
        },
        {
          "output_type": "stream",
          "name": "stderr",
          "text": [
            "/usr/local/lib/python3.7/dist-packages/ipykernel_launcher.py:1: SettingWithCopyWarning: \n",
            "A value is trying to be set on a copy of a slice from a DataFrame.\n",
            "Try using .loc[row_indexer,col_indexer] = value instead\n",
            "\n",
            "See the caveats in the documentation: https://pandas.pydata.org/pandas-docs/stable/user_guide/indexing.html#returning-a-view-versus-a-copy\n",
            "  \"\"\"Entry point for launching an IPython kernel.\n"
          ]
        }
      ]
    },
    {
      "cell_type": "code",
      "metadata": {
        "colab": {
          "base_uri": "https://localhost:8080/"
        },
        "id": "Nyp9JKTnx__G",
        "outputId": "a3b2efee-f59f-4b17-91a5-4815f6d83a26"
      },
      "source": [
        "missing = aapl_bar.isnull()\n",
        "print(missing)\n",
        "print('---------------------------------------------')\n",
        "print(missing.describe())"
      ],
      "execution_count": 191,
      "outputs": [
        {
          "output_type": "stream",
          "name": "stdout",
          "text": [
            "             Open   High    Low  Close  Volume  rate_return\n",
            "Date                                                       \n",
            "2017-01-31  False  False  False  False   False         True\n",
            "2017-02-28  False  False  False  False   False        False\n",
            "2017-03-31  False  False  False  False   False        False\n",
            "2017-04-30  False  False  False  False   False        False\n",
            "2017-05-31  False  False  False  False   False        False\n",
            "2017-06-30  False  False  False  False   False        False\n",
            "2017-07-31  False  False  False  False   False        False\n",
            "2017-08-31  False  False  False  False   False        False\n",
            "2017-09-30  False  False  False  False   False        False\n",
            "2017-10-31  False  False  False  False   False        False\n",
            "2017-11-30  False  False  False  False   False        False\n",
            "2017-12-31  False  False  False  False   False        False\n",
            "---------------------------------------------\n",
            "         Open   High    Low  Close Volume rate_return\n",
            "count      12     12     12     12     12          12\n",
            "unique      1      1      1      1      1           2\n",
            "top     False  False  False  False  False       False\n",
            "freq       12     12     12     12     12          11\n"
          ]
        }
      ]
    },
    {
      "cell_type": "code",
      "metadata": {
        "colab": {
          "base_uri": "https://localhost:8080/"
        },
        "id": "-jxBe4_8yDYr",
        "outputId": "b8c07e23-07ad-4ae8-fbe8-5151c1a64c2e"
      },
      "source": [
        "print(missing[missing.rate_return == True])"
      ],
      "execution_count": 192,
      "outputs": [
        {
          "output_type": "stream",
          "name": "stdout",
          "text": [
            "             Open   High    Low  Close  Volume  rate_return\n",
            "Date                                                       \n",
            "2017-01-31  False  False  False  False   False         True\n"
          ]
        }
      ]
    },
    {
      "cell_type": "code",
      "metadata": {
        "colab": {
          "base_uri": "https://localhost:8080/"
        },
        "id": "0T6OxmAsyGcm",
        "outputId": "2feaae30-ffad-4885-ef9b-60a5273c751b"
      },
      "source": [
        "print(missing[missing.rate_return == False])"
      ],
      "execution_count": 193,
      "outputs": [
        {
          "output_type": "stream",
          "name": "stdout",
          "text": [
            "             Open   High    Low  Close  Volume  rate_return\n",
            "Date                                                       \n",
            "2017-02-28  False  False  False  False   False        False\n",
            "2017-03-31  False  False  False  False   False        False\n",
            "2017-04-30  False  False  False  False   False        False\n",
            "2017-05-31  False  False  False  False   False        False\n",
            "2017-06-30  False  False  False  False   False        False\n",
            "2017-07-31  False  False  False  False   False        False\n",
            "2017-08-31  False  False  False  False   False        False\n",
            "2017-09-30  False  False  False  False   False        False\n",
            "2017-10-31  False  False  False  False   False        False\n",
            "2017-11-30  False  False  False  False   False        False\n",
            "2017-12-31  False  False  False  False   False        False\n"
          ]
        }
      ]
    },
    {
      "cell_type": "code",
      "metadata": {
        "colab": {
          "base_uri": "https://localhost:8080/"
        },
        "id": "sZtnm2WyyKV-",
        "outputId": "950ce90d-9642-4cd1-89db-3eec6fad7cfa"
      },
      "source": [
        "drop = aapl_bar.dropna()\n",
        "print(drop)\n",
        "print('\\n--------------------------------------------------\\n')\n",
        "fill = aapl_bar.fillna(0)\n",
        "print(fill)"
      ],
      "execution_count": 194,
      "outputs": [
        {
          "output_type": "stream",
          "name": "stdout",
          "text": [
            "                 Open       High        Low      Close     Volume  rate_return\n",
            "Date                                                                          \n",
            "2017-02-28  32.444870  32.530077  32.354928  32.423569   93931600     0.133778\n",
            "2017-03-31  34.016459  34.146637  33.848410  34.002258   78646800     0.048690\n",
            "2017-04-30  34.104024  34.153730  33.909944  33.999882   83441600    -0.000070\n",
            "2017-05-31  36.592909  36.640441  36.215027  36.305336   97804800     0.067808\n",
            "2017-06-30  34.330346  34.451557  34.171113  34.228153   92096400    -0.057214\n",
            "2017-07-31  35.625622  35.727819  35.204962  35.347557   79383600     0.032704\n",
            "2017-08-31  39.043832  39.253797  39.005656  39.129726  107140400     0.106999\n",
            "2017-09-30  36.555280  36.774788  36.266578  36.772400  105199200    -0.060244\n",
            "2017-10-31  40.060242  40.477785  39.831192  40.332241  144187200     0.096807\n",
            "2017-11-30  40.810077  41.219544  40.333567  41.150105  166108800     0.020278\n",
            "2017-12-31  40.831629  40.848389  40.520339  40.522732  103999600    -0.015246\n",
            "\n",
            "--------------------------------------------------\n",
            "\n",
            "                 Open       High        Low      Close     Volume  rate_return\n",
            "Date                                                                          \n",
            "2017-01-31  28.550684  28.607243  28.425783  28.597816  196804000     0.000000\n",
            "2017-02-28  32.444870  32.530077  32.354928  32.423569   93931600     0.133778\n",
            "2017-03-31  34.016459  34.146637  33.848410  34.002258   78646800     0.048690\n",
            "2017-04-30  34.104024  34.153730  33.909944  33.999882   83441600    -0.000070\n",
            "2017-05-31  36.592909  36.640441  36.215027  36.305336   97804800     0.067808\n",
            "2017-06-30  34.330346  34.451557  34.171113  34.228153   92096400    -0.057214\n",
            "2017-07-31  35.625622  35.727819  35.204962  35.347557   79383600     0.032704\n",
            "2017-08-31  39.043832  39.253797  39.005656  39.129726  107140400     0.106999\n",
            "2017-09-30  36.555280  36.774788  36.266578  36.772400  105199200    -0.060244\n",
            "2017-10-31  40.060242  40.477785  39.831192  40.332241  144187200     0.096807\n",
            "2017-11-30  40.810077  41.219544  40.333567  41.150105  166108800     0.020278\n",
            "2017-12-31  40.831629  40.848389  40.520339  40.522732  103999600    -0.015246\n"
          ]
        }
      ]
    },
    {
      "cell_type": "code",
      "metadata": {
        "colab": {
          "base_uri": "https://localhost:8080/"
        },
        "id": "bs-xeoNoyouY",
        "outputId": "34b81328-e37f-416e-f594-e99fd43b51d5"
      },
      "source": [
        "s1 = pd.Series([143.5, 144.09, 142.73, 144.18, 143.77], name = 'AAPL')\n",
        "s2 = pd.Series([898.7, 911.71, 906.69, 918.59, 926.99], name = 'GOOG')\n",
        "data_frame = pd.concat([s1,s2], axis = 1)\n",
        "print(data_frame)"
      ],
      "execution_count": 195,
      "outputs": [
        {
          "output_type": "stream",
          "name": "stdout",
          "text": [
            "     AAPL    GOOG\n",
            "0  143.50  898.70\n",
            "1  144.09  911.71\n",
            "2  142.73  906.69\n",
            "3  144.18  918.59\n",
            "4  143.77  926.99\n"
          ]
        }
      ]
    },
    {
      "cell_type": "code",
      "metadata": {
        "colab": {
          "base_uri": "https://localhost:8080/"
        },
        "id": "TEszxG2vyrXG",
        "outputId": "1ac1ca45-805d-4434-d32a-0e5c08d92511"
      },
      "source": [
        "s1 = pd.Series([143.5, 144.09, 142.73, 144.18, 143.77, 12.3], name = 'fb')\n",
        "s2 = pd.Series([898.7, 911.71, 906.69, 918.59, 926.99, 9.87], name = 'microsoft')\n",
        "data_frame = pd.concat([s1,s2], axis = 1)\n",
        "print(data_frame)"
      ],
      "execution_count": 196,
      "outputs": [
        {
          "output_type": "stream",
          "name": "stdout",
          "text": [
            "       fb  microsoft\n",
            "0  143.50     898.70\n",
            "1  144.09     911.71\n",
            "2  142.73     906.69\n",
            "3  144.18     918.59\n",
            "4  143.77     926.99\n",
            "5   12.30       9.87\n"
          ]
        }
      ]
    },
    {
      "cell_type": "code",
      "metadata": {
        "colab": {
          "base_uri": "https://localhost:8080/"
        },
        "id": "bEGEC1euy7mC",
        "outputId": "f311d27c-2ae5-4ca4-d369-e6689599b689"
      },
      "source": [
        "log_price = np.log(aapl_bar.Close)\n",
        "log_price.name = 'log_price'\n",
        "print(log_price)\n",
        "print('\\n---------------------- separate line--------------------\\n')\n",
        "concat = pd.concat([aapl_bar, log_price], axis = 1)\n",
        "print(concat)"
      ],
      "execution_count": 197,
      "outputs": [
        {
          "output_type": "stream",
          "name": "stdout",
          "text": [
            "Date\n",
            "2017-01-31    3.353330\n",
            "2017-02-28    3.478886\n",
            "2017-03-31    3.526427\n",
            "2017-04-30    3.526357\n",
            "2017-05-31    3.591965\n",
            "2017-06-30    3.533048\n",
            "2017-07-31    3.565229\n",
            "2017-08-31    3.666882\n",
            "2017-09-30    3.604748\n",
            "2017-10-31    3.697151\n",
            "2017-11-30    3.717226\n",
            "2017-12-31    3.701863\n",
            "Freq: M, Name: log_price, dtype: float64\n",
            "\n",
            "---------------------- separate line--------------------\n",
            "\n",
            "                 Open       High        Low  ...     Volume  rate_return  log_price\n",
            "Date                                         ...                                   \n",
            "2017-01-31  28.550684  28.607243  28.425783  ...  196804000          NaN   3.353330\n",
            "2017-02-28  32.444870  32.530077  32.354928  ...   93931600     0.133778   3.478886\n",
            "2017-03-31  34.016459  34.146637  33.848410  ...   78646800     0.048690   3.526427\n",
            "2017-04-30  34.104024  34.153730  33.909944  ...   83441600    -0.000070   3.526357\n",
            "2017-05-31  36.592909  36.640441  36.215027  ...   97804800     0.067808   3.591965\n",
            "2017-06-30  34.330346  34.451557  34.171113  ...   92096400    -0.057214   3.533048\n",
            "2017-07-31  35.625622  35.727819  35.204962  ...   79383600     0.032704   3.565229\n",
            "2017-08-31  39.043832  39.253797  39.005656  ...  107140400     0.106999   3.666882\n",
            "2017-09-30  36.555280  36.774788  36.266578  ...  105199200    -0.060244   3.604748\n",
            "2017-10-31  40.060242  40.477785  39.831192  ...  144187200     0.096807   3.697151\n",
            "2017-11-30  40.810077  41.219544  40.333567  ...  166108800     0.020278   3.717226\n",
            "2017-12-31  40.831629  40.848389  40.520339  ...  103999600    -0.015246   3.701863\n",
            "\n",
            "[12 rows x 7 columns]\n"
          ]
        }
      ]
    },
    {
      "cell_type": "code",
      "metadata": {
        "colab": {
          "base_uri": "https://localhost:8080/"
        },
        "id": "ZAwkCBwVy9lY",
        "outputId": "60f3e80d-823f-4c50-aed3-065e6a5d40bb"
      },
      "source": [
        "df_volume = aapl_table.loc['2016-10':'2017-04', ['Volume']].resample('M').agg(lambda x: x[-1])\n",
        "print(df_volume)\n",
        "print('\\n-------------------------------------------\\n')\n",
        "df_2017 = aapl_table.loc['2016-10':'2017-04', ['Open', 'High', 'Low', 'Close']].resample('M').agg(lambda x: x[-1])\n",
        "print(df_2017)"
      ],
      "execution_count": 198,
      "outputs": [
        {
          "output_type": "stream",
          "name": "stdout",
          "text": [
            "               Volume\n",
            "Date                 \n",
            "2016-10-31  105677600\n",
            "2016-11-30  144649200\n",
            "2016-12-31  122345200\n",
            "2017-01-31  196804000\n",
            "2017-02-28   93931600\n",
            "2017-03-31   78646800\n",
            "2017-04-30   83441600\n",
            "\n",
            "-------------------------------------------\n",
            "\n",
            "                 Open       High        Low      Close\n",
            "Date                                                  \n",
            "2016-10-31  26.646394  26.782382  26.540886  26.620604\n",
            "2016-11-30  26.300090  26.441488  25.986656  26.045572\n",
            "2016-12-31  27.490191  27.619805  27.202681  27.294590\n",
            "2017-01-31  28.550684  28.607243  28.425783  28.597816\n",
            "2017-02-28  32.444870  32.530077  32.354928  32.423569\n",
            "2017-03-31  34.016459  34.146637  33.848410  34.002258\n",
            "2017-04-30  34.104024  34.153730  33.909944  33.999882\n"
          ]
        }
      ]
    },
    {
      "cell_type": "code",
      "metadata": {
        "colab": {
          "base_uri": "https://localhost:8080/"
        },
        "id": "eVcLdj2X0CJR",
        "outputId": "38d61547-f435-4428-ff85-cf4c5d3e6f21"
      },
      "source": [
        "df_volume = aapl_table.loc['2016-06':'2017-06', ['Volume']].resample('2M').agg(lambda x: x[-1])\n",
        "print(df_volume)\n",
        "print('\\n-------------------------------------------\\n')\n",
        "df_2017 = aapl_table.loc['2016-06':'2017-06', ['Open', 'High', 'Low', 'Close']].resample('2M').agg(lambda x: x[-1])\n",
        "print(df_2017)"
      ],
      "execution_count": 199,
      "outputs": [
        {
          "output_type": "stream",
          "name": "stdout",
          "text": [
            "               Volume\n",
            "Date                 \n",
            "2016-06-30  143345600\n",
            "2016-08-31  118649600\n",
            "2016-10-31  105677600\n",
            "2016-12-31  122345200\n",
            "2017-02-28   93931600\n",
            "2017-04-30   83441600\n",
            "2017-06-30   92096400\n",
            "\n",
            "-------------------------------------------\n",
            "\n",
            "                 Open       High        Low      Close\n",
            "Date                                                  \n",
            "2016-06-30  22.023112  22.333262  21.990464  22.293619\n",
            "2016-08-31  24.773052  24.986410  24.768362  24.876213\n",
            "2016-10-31  26.646394  26.782382  26.540886  26.620604\n",
            "2016-12-31  27.490191  27.619805  27.202681  27.294590\n",
            "2017-02-28  32.444870  32.530077  32.354928  32.423569\n",
            "2017-04-30  34.104024  34.153730  33.909944  33.999882\n",
            "2017-06-30  34.330346  34.451557  34.171113  34.228153\n"
          ]
        }
      ]
    },
    {
      "cell_type": "code",
      "metadata": {
        "colab": {
          "base_uri": "https://localhost:8080/"
        },
        "id": "gDn1vxIE0LFP",
        "outputId": "e53244b5-b97f-48d2-834a-3cf271217e97"
      },
      "source": [
        "concat = pd.concat([aapl_bar, df_volume], axis = 1)\n",
        "print(concat)"
      ],
      "execution_count": 200,
      "outputs": [
        {
          "output_type": "stream",
          "name": "stdout",
          "text": [
            "                 Open       High  ...  rate_return       Volume\n",
            "Date                              ...                          \n",
            "2016-06-30        NaN        NaN  ...          NaN  143345600.0\n",
            "2016-08-31        NaN        NaN  ...          NaN  118649600.0\n",
            "2016-10-31        NaN        NaN  ...          NaN  105677600.0\n",
            "2016-12-31        NaN        NaN  ...          NaN  122345200.0\n",
            "2017-01-31  28.550684  28.607243  ...          NaN          NaN\n",
            "2017-02-28  32.444870  32.530077  ...     0.133778   93931600.0\n",
            "2017-03-31  34.016459  34.146637  ...     0.048690          NaN\n",
            "2017-04-30  34.104024  34.153730  ...    -0.000070   83441600.0\n",
            "2017-05-31  36.592909  36.640441  ...     0.067808          NaN\n",
            "2017-06-30  34.330346  34.451557  ...    -0.057214   92096400.0\n",
            "2017-07-31  35.625622  35.727819  ...     0.032704          NaN\n",
            "2017-08-31  39.043832  39.253797  ...     0.106999          NaN\n",
            "2017-09-30  36.555280  36.774788  ...    -0.060244          NaN\n",
            "2017-10-31  40.060242  40.477785  ...     0.096807          NaN\n",
            "2017-11-30  40.810077  41.219544  ...     0.020278          NaN\n",
            "2017-12-31  40.831629  40.848389  ...    -0.015246          NaN\n",
            "\n",
            "[16 rows x 7 columns]\n"
          ]
        }
      ]
    },
    {
      "cell_type": "code",
      "metadata": {
        "colab": {
          "base_uri": "https://localhost:8080/"
        },
        "id": "NVKGaIzL0XV1",
        "outputId": "1d872b6f-441e-473e-e55c-d063de709cd7"
      },
      "source": [
        "concat = pd.concat([aapl_bar, df_volume], axis = 0)\n",
        "print(concat)"
      ],
      "execution_count": 201,
      "outputs": [
        {
          "output_type": "stream",
          "name": "stdout",
          "text": [
            "                 Open       High        Low      Close     Volume  rate_return\n",
            "Date                                                                          \n",
            "2017-01-31  28.550684  28.607243  28.425783  28.597816  196804000          NaN\n",
            "2017-02-28  32.444870  32.530077  32.354928  32.423569   93931600     0.133778\n",
            "2017-03-31  34.016459  34.146637  33.848410  34.002258   78646800     0.048690\n",
            "2017-04-30  34.104024  34.153730  33.909944  33.999882   83441600    -0.000070\n",
            "2017-05-31  36.592909  36.640441  36.215027  36.305336   97804800     0.067808\n",
            "2017-06-30  34.330346  34.451557  34.171113  34.228153   92096400    -0.057214\n",
            "2017-07-31  35.625622  35.727819  35.204962  35.347557   79383600     0.032704\n",
            "2017-08-31  39.043832  39.253797  39.005656  39.129726  107140400     0.106999\n",
            "2017-09-30  36.555280  36.774788  36.266578  36.772400  105199200    -0.060244\n",
            "2017-10-31  40.060242  40.477785  39.831192  40.332241  144187200     0.096807\n",
            "2017-11-30  40.810077  41.219544  40.333567  41.150105  166108800     0.020278\n",
            "2017-12-31  40.831629  40.848389  40.520339  40.522732  103999600    -0.015246\n",
            "2016-06-30        NaN        NaN        NaN        NaN  143345600          NaN\n",
            "2016-08-31        NaN        NaN        NaN        NaN  118649600          NaN\n",
            "2016-10-31        NaN        NaN        NaN        NaN  105677600          NaN\n",
            "2016-12-31        NaN        NaN        NaN        NaN  122345200          NaN\n",
            "2017-02-28        NaN        NaN        NaN        NaN   93931600          NaN\n",
            "2017-04-30        NaN        NaN        NaN        NaN   83441600          NaN\n",
            "2017-06-30        NaN        NaN        NaN        NaN   92096400          NaN\n"
          ]
        }
      ]
    },
    {
      "cell_type": "code",
      "metadata": {
        "colab": {
          "base_uri": "https://localhost:8080/"
        },
        "id": "FBjLaTGx0jPw",
        "outputId": "2ddafb40-00f6-40de-aa9e-f5336a756901"
      },
      "source": [
        "concat = pd.concat([aapl_bar,df_volume],axis = 1, join = 'inner')\n",
        "print(concat)"
      ],
      "execution_count": 202,
      "outputs": [
        {
          "output_type": "stream",
          "name": "stdout",
          "text": [
            "                 Open       High        Low  ...    Volume  rate_return    Volume\n",
            "Date                                         ...                                 \n",
            "2017-02-28  32.444870  32.530077  32.354928  ...  93931600     0.133778  93931600\n",
            "2017-04-30  34.104024  34.153730  33.909944  ...  83441600    -0.000070  83441600\n",
            "2017-06-30  34.330346  34.451557  34.171113  ...  92096400    -0.057214  92096400\n",
            "\n",
            "[3 rows x 7 columns]\n"
          ]
        }
      ]
    },
    {
      "cell_type": "code",
      "metadata": {
        "colab": {
          "base_uri": "https://localhost:8080/"
        },
        "id": "rLTmFoLQ0oY_",
        "outputId": "ee6bb012-4cbc-49df-fa00-ba32bc5d81cf"
      },
      "source": [
        "concat = pd.concat([aapl_bar,df_volume],axis = 0, join = 'inner')\n",
        "print(concat)"
      ],
      "execution_count": 203,
      "outputs": [
        {
          "output_type": "stream",
          "name": "stdout",
          "text": [
            "               Volume\n",
            "Date                 \n",
            "2017-01-31  196804000\n",
            "2017-02-28   93931600\n",
            "2017-03-31   78646800\n",
            "2017-04-30   83441600\n",
            "2017-05-31   97804800\n",
            "2017-06-30   92096400\n",
            "2017-07-31   79383600\n",
            "2017-08-31  107140400\n",
            "2017-09-30  105199200\n",
            "2017-10-31  144187200\n",
            "2017-11-30  166108800\n",
            "2017-12-31  103999600\n",
            "2016-06-30  143345600\n",
            "2016-08-31  118649600\n",
            "2016-10-31  105677600\n",
            "2016-12-31  122345200\n",
            "2017-02-28   93931600\n",
            "2017-04-30   83441600\n",
            "2017-06-30   92096400\n"
          ]
        }
      ]
    },
    {
      "cell_type": "code",
      "metadata": {
        "colab": {
          "base_uri": "https://localhost:8080/"
        },
        "id": "IRPRTQCr0upF",
        "outputId": "3931eae9-6f22-499d-8942-6705cb64f192"
      },
      "source": [
        "append = aapl_bar.append(df_2017)\n",
        "print(append)"
      ],
      "execution_count": 204,
      "outputs": [
        {
          "output_type": "stream",
          "name": "stdout",
          "text": [
            "                 Open       High  ...       Volume  rate_return\n",
            "Date                              ...                          \n",
            "2017-01-31  28.550684  28.607243  ...  196804000.0          NaN\n",
            "2017-02-28  32.444870  32.530077  ...   93931600.0     0.133778\n",
            "2017-03-31  34.016459  34.146637  ...   78646800.0     0.048690\n",
            "2017-04-30  34.104024  34.153730  ...   83441600.0    -0.000070\n",
            "2017-05-31  36.592909  36.640441  ...   97804800.0     0.067808\n",
            "2017-06-30  34.330346  34.451557  ...   92096400.0    -0.057214\n",
            "2017-07-31  35.625622  35.727819  ...   79383600.0     0.032704\n",
            "2017-08-31  39.043832  39.253797  ...  107140400.0     0.106999\n",
            "2017-09-30  36.555280  36.774788  ...  105199200.0    -0.060244\n",
            "2017-10-31  40.060242  40.477785  ...  144187200.0     0.096807\n",
            "2017-11-30  40.810077  41.219544  ...  166108800.0     0.020278\n",
            "2017-12-31  40.831629  40.848389  ...  103999600.0    -0.015246\n",
            "2016-06-30  22.023112  22.333262  ...          NaN          NaN\n",
            "2016-08-31  24.773052  24.986410  ...          NaN          NaN\n",
            "2016-10-31  26.646394  26.782382  ...          NaN          NaN\n",
            "2016-12-31  27.490191  27.619805  ...          NaN          NaN\n",
            "2017-02-28  32.444870  32.530077  ...          NaN          NaN\n",
            "2017-04-30  34.104024  34.153730  ...          NaN          NaN\n",
            "2017-06-30  34.330346  34.451557  ...          NaN          NaN\n",
            "\n",
            "[19 rows x 6 columns]\n"
          ]
        }
      ]
    },
    {
      "cell_type": "code",
      "metadata": {
        "colab": {
          "base_uri": "https://localhost:8080/"
        },
        "id": "FVJCWIKB06rq",
        "outputId": "8ae09755-bd6b-4919-a47d-6426026ff4b9"
      },
      "source": [
        "concat = pd.concat([aapl_bar, df_2017], axis = 0)\n",
        "print(concat)"
      ],
      "execution_count": 205,
      "outputs": [
        {
          "output_type": "stream",
          "name": "stdout",
          "text": [
            "                 Open       High  ...       Volume  rate_return\n",
            "Date                              ...                          \n",
            "2017-01-31  28.550684  28.607243  ...  196804000.0          NaN\n",
            "2017-02-28  32.444870  32.530077  ...   93931600.0     0.133778\n",
            "2017-03-31  34.016459  34.146637  ...   78646800.0     0.048690\n",
            "2017-04-30  34.104024  34.153730  ...   83441600.0    -0.000070\n",
            "2017-05-31  36.592909  36.640441  ...   97804800.0     0.067808\n",
            "2017-06-30  34.330346  34.451557  ...   92096400.0    -0.057214\n",
            "2017-07-31  35.625622  35.727819  ...   79383600.0     0.032704\n",
            "2017-08-31  39.043832  39.253797  ...  107140400.0     0.106999\n",
            "2017-09-30  36.555280  36.774788  ...  105199200.0    -0.060244\n",
            "2017-10-31  40.060242  40.477785  ...  144187200.0     0.096807\n",
            "2017-11-30  40.810077  41.219544  ...  166108800.0     0.020278\n",
            "2017-12-31  40.831629  40.848389  ...  103999600.0    -0.015246\n",
            "2016-06-30  22.023112  22.333262  ...          NaN          NaN\n",
            "2016-08-31  24.773052  24.986410  ...          NaN          NaN\n",
            "2016-10-31  26.646394  26.782382  ...          NaN          NaN\n",
            "2016-12-31  27.490191  27.619805  ...          NaN          NaN\n",
            "2017-02-28  32.444870  32.530077  ...          NaN          NaN\n",
            "2017-04-30  34.104024  34.153730  ...          NaN          NaN\n",
            "2017-06-30  34.330346  34.451557  ...          NaN          NaN\n",
            "\n",
            "[19 rows x 6 columns]\n"
          ]
        }
      ]
    },
    {
      "cell_type": "code",
      "metadata": {
        "colab": {
          "base_uri": "https://localhost:8080/"
        },
        "id": "SZpdc7G_0_kY",
        "outputId": "4860f60e-6778-435b-9a31-ddfe01dd79bf"
      },
      "source": [
        "concat = pd.concat([aapl_bar, df_2017], axis = 1)\n",
        "print(concat)"
      ],
      "execution_count": 206,
      "outputs": [
        {
          "output_type": "stream",
          "name": "stdout",
          "text": [
            "                 Open       High        Low  ...       High        Low      Close\n",
            "Date                                         ...                                 \n",
            "2016-06-30        NaN        NaN        NaN  ...  22.333262  21.990464  22.293619\n",
            "2016-08-31        NaN        NaN        NaN  ...  24.986410  24.768362  24.876213\n",
            "2016-10-31        NaN        NaN        NaN  ...  26.782382  26.540886  26.620604\n",
            "2016-12-31        NaN        NaN        NaN  ...  27.619805  27.202681  27.294590\n",
            "2017-01-31  28.550684  28.607243  28.425783  ...        NaN        NaN        NaN\n",
            "2017-02-28  32.444870  32.530077  32.354928  ...  32.530077  32.354928  32.423569\n",
            "2017-03-31  34.016459  34.146637  33.848410  ...        NaN        NaN        NaN\n",
            "2017-04-30  34.104024  34.153730  33.909944  ...  34.153730  33.909944  33.999882\n",
            "2017-05-31  36.592909  36.640441  36.215027  ...        NaN        NaN        NaN\n",
            "2017-06-30  34.330346  34.451557  34.171113  ...  34.451557  34.171113  34.228153\n",
            "2017-07-31  35.625622  35.727819  35.204962  ...        NaN        NaN        NaN\n",
            "2017-08-31  39.043832  39.253797  39.005656  ...        NaN        NaN        NaN\n",
            "2017-09-30  36.555280  36.774788  36.266578  ...        NaN        NaN        NaN\n",
            "2017-10-31  40.060242  40.477785  39.831192  ...        NaN        NaN        NaN\n",
            "2017-11-30  40.810077  41.219544  40.333567  ...        NaN        NaN        NaN\n",
            "2017-12-31  40.831629  40.848389  40.520339  ...        NaN        NaN        NaN\n",
            "\n",
            "[16 rows x 10 columns]\n"
          ]
        }
      ]
    },
    {
      "cell_type": "code",
      "metadata": {
        "colab": {
          "base_uri": "https://localhost:8080/"
        },
        "id": "r7ZScjF71EKo",
        "outputId": "f4cb6485-ca88-4a87-ed4f-197602a9aa8f"
      },
      "source": [
        "df_2017.columns = ['Change', 'High', 'Low', 'Lose']\n",
        "concat = pd.concat([aapl_bar, df_2017], axis = 0,sort=True)\n",
        "print(concat)"
      ],
      "execution_count": 207,
      "outputs": [
        {
          "output_type": "stream",
          "name": "stdout",
          "text": [
            "               Change      Close  ...       Volume  rate_return\n",
            "Date                              ...                          \n",
            "2017-01-31        NaN  28.597816  ...  196804000.0          NaN\n",
            "2017-02-28        NaN  32.423569  ...   93931600.0     0.133778\n",
            "2017-03-31        NaN  34.002258  ...   78646800.0     0.048690\n",
            "2017-04-30        NaN  33.999882  ...   83441600.0    -0.000070\n",
            "2017-05-31        NaN  36.305336  ...   97804800.0     0.067808\n",
            "2017-06-30        NaN  34.228153  ...   92096400.0    -0.057214\n",
            "2017-07-31        NaN  35.347557  ...   79383600.0     0.032704\n",
            "2017-08-31        NaN  39.129726  ...  107140400.0     0.106999\n",
            "2017-09-30        NaN  36.772400  ...  105199200.0    -0.060244\n",
            "2017-10-31        NaN  40.332241  ...  144187200.0     0.096807\n",
            "2017-11-30        NaN  41.150105  ...  166108800.0     0.020278\n",
            "2017-12-31        NaN  40.522732  ...  103999600.0    -0.015246\n",
            "2016-06-30  22.023112        NaN  ...          NaN          NaN\n",
            "2016-08-31  24.773052        NaN  ...          NaN          NaN\n",
            "2016-10-31  26.646394        NaN  ...          NaN          NaN\n",
            "2016-12-31  27.490191        NaN  ...          NaN          NaN\n",
            "2017-02-28  32.444870        NaN  ...          NaN          NaN\n",
            "2017-04-30  34.104024        NaN  ...          NaN          NaN\n",
            "2017-06-30  34.330346        NaN  ...          NaN          NaN\n",
            "\n",
            "[19 rows x 8 columns]\n"
          ]
        }
      ]
    },
    {
      "cell_type": "code",
      "metadata": {
        "colab": {
          "base_uri": "https://localhost:8080/"
        },
        "id": "epB2E8oH1OP4",
        "outputId": "cf5e3519-18fc-440b-9722-33c6cecb08f2"
      },
      "source": [
        "df_2017.columns = ['Change', 'High', 'Low', 'lose']\n",
        "concat = pd.concat([aapl_bar, df_2017], axis = 0,sort=False)\n",
        "print(concat)"
      ],
      "execution_count": 208,
      "outputs": [
        {
          "output_type": "stream",
          "name": "stdout",
          "text": [
            "                 Open       High        Low  ...  rate_return     Change       lose\n",
            "Date                                         ...                                   \n",
            "2017-01-31  28.550684  28.607243  28.425783  ...          NaN        NaN        NaN\n",
            "2017-02-28  32.444870  32.530077  32.354928  ...     0.133778        NaN        NaN\n",
            "2017-03-31  34.016459  34.146637  33.848410  ...     0.048690        NaN        NaN\n",
            "2017-04-30  34.104024  34.153730  33.909944  ...    -0.000070        NaN        NaN\n",
            "2017-05-31  36.592909  36.640441  36.215027  ...     0.067808        NaN        NaN\n",
            "2017-06-30  34.330346  34.451557  34.171113  ...    -0.057214        NaN        NaN\n",
            "2017-07-31  35.625622  35.727819  35.204962  ...     0.032704        NaN        NaN\n",
            "2017-08-31  39.043832  39.253797  39.005656  ...     0.106999        NaN        NaN\n",
            "2017-09-30  36.555280  36.774788  36.266578  ...    -0.060244        NaN        NaN\n",
            "2017-10-31  40.060242  40.477785  39.831192  ...     0.096807        NaN        NaN\n",
            "2017-11-30  40.810077  41.219544  40.333567  ...     0.020278        NaN        NaN\n",
            "2017-12-31  40.831629  40.848389  40.520339  ...    -0.015246        NaN        NaN\n",
            "2016-06-30        NaN  22.333262  21.990464  ...          NaN  22.023112  22.293619\n",
            "2016-08-31        NaN  24.986410  24.768362  ...          NaN  24.773052  24.876213\n",
            "2016-10-31        NaN  26.782382  26.540886  ...          NaN  26.646394  26.620604\n",
            "2016-12-31        NaN  27.619805  27.202681  ...          NaN  27.490191  27.294590\n",
            "2017-02-28        NaN  32.530077  32.354928  ...          NaN  32.444870  32.423569\n",
            "2017-04-30        NaN  34.153730  33.909944  ...          NaN  34.104024  33.999882\n",
            "2017-06-30        NaN  34.451557  34.171113  ...          NaN  34.330346  34.228153\n",
            "\n",
            "[19 rows x 8 columns]\n"
          ]
        }
      ]
    }
  ]
}