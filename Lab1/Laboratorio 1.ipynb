{
  "nbformat": 4,
  "nbformat_minor": 0,
  "metadata": {
    "kernelspec": {
      "display_name": "Python 3",
      "language": "python",
      "name": "python3"
    },
    "language_info": {
      "codemirror_mode": {
        "name": "ipython",
        "version": 3
      },
      "file_extension": ".py",
      "mimetype": "text/x-python",
      "name": "python",
      "nbconvert_exporter": "python",
      "pygments_lexer": "ipython3",
      "version": "3.6.4"
    },
    "colab": {
      "name": "01_Data_Types_and_Data_Structures.ipynb",
      "provenance": [],
      "collapsed_sections": []
    }
  },
  "cells": [
    {
      "cell_type": "markdown",
      "metadata": {
        "id": "eQzBbvyKQymx"
      },
      "source": [
        "<div align=\"center\">\n",
        "<img style=\"display: block; margin: auto;\" alt=\"photo\" src=\"https://cdn.quantconnect.com/web/i/icon.png\">\n",
        "\n",
        "Quantconnect\n",
        "\n",
        "Introduction to Financial Python\n",
        "</div>\n",
        "\n",
        "# 01 Data Types and Data Structures\n",
        "\n",
        "# Introduction\n",
        "\n",
        "This tutorial provides a basic introduction to the Python programming language. If you are new to Python, you should run the code snippets while reading this tutorial. If you are an advanced Python user, please feel free to skip this chapter.\n",
        "\n",
        "# Basic Variable Types\n",
        "The basic types of variables in Python are: strings, integers, floating point numbers and booleans.\n",
        "\n",
        "Strings in python are identified as a contiguous set of characters represented in either single quotes (' ') or double quotes (\" \").\n"
      ]
    },
    {
      "cell_type": "code",
      "metadata": {
        "id": "N5t-UrcfOqid",
        "colab": {
          "base_uri": "https://localhost:8080/"
        },
        "outputId": "e1daefa1-80ab-433d-bdec-f435b9a17578"
      },
      "source": [
        "my_string1 = 'Welcome to'\n",
        "my_string2 = \"QuantConnect\"\n",
        "print(my_string1 + ' ' + my_string2)"
      ],
      "execution_count": null,
      "outputs": [
        {
          "output_type": "stream",
          "name": "stdout",
          "text": [
            "Welcome to QuantConnect\n"
          ]
        }
      ]
    },
    {
      "cell_type": "code",
      "metadata": {
        "colab": {
          "base_uri": "https://localhost:8080/"
        },
        "id": "UPuwga3JmcV-",
        "outputId": "a413bf38-bf21-49a8-c5b1-129062df24b1"
      },
      "source": [
        "my_string1 = 'Bienvenido a'\n",
        "my_string2 = \"IPython y Jupyter\"\n",
        "print(my_string1 + ' ' + my_string2)"
      ],
      "execution_count": null,
      "outputs": [
        {
          "output_type": "stream",
          "name": "stdout",
          "text": [
            "Bienvenido a IPython y Jupyter\n"
          ]
        }
      ]
    },
    {
      "cell_type": "markdown",
      "metadata": {
        "id": "bXHnxZyHSd1M"
      },
      "source": [
        "An integer is a round number with no values after the decimal point."
      ]
    },
    {
      "cell_type": "code",
      "metadata": {
        "id": "pNjuz3toOqif",
        "colab": {
          "base_uri": "https://localhost:8080/"
        },
        "outputId": "46162a5b-8fcd-481b-ea5f-51f77c572840"
      },
      "source": [
        "my_int = 10\n",
        "print(my_int)\n",
        "print(type(my_int))"
      ],
      "execution_count": null,
      "outputs": [
        {
          "output_type": "stream",
          "name": "stdout",
          "text": [
            "10\n",
            "<class 'int'>\n"
          ]
        }
      ]
    },
    {
      "cell_type": "code",
      "metadata": {
        "colab": {
          "base_uri": "https://localhost:8080/"
        },
        "id": "YUDdZ-WdnjqO",
        "outputId": "64e1094b-1577-44aa-fbe1-760c0557b046"
      },
      "source": [
        "my_int = 32\n",
        "print(my_int)\n",
        "print(type(my_int))"
      ],
      "execution_count": null,
      "outputs": [
        {
          "output_type": "stream",
          "name": "stdout",
          "text": [
            "32\n",
            "<class 'int'>\n"
          ]
        }
      ]
    },
    {
      "cell_type": "markdown",
      "metadata": {
        "id": "_1ZanWrYSnzF"
      },
      "source": [
        "The built-in function int() can convert a string into an integer."
      ]
    },
    {
      "cell_type": "code",
      "metadata": {
        "id": "zPwGb20FOqif",
        "colab": {
          "base_uri": "https://localhost:8080/"
        },
        "outputId": "4ee690de-10d8-4a18-ec38-584e79c53db5"
      },
      "source": [
        "my_string = \"100\"\n",
        "print(type(my_string))\n",
        "my_int = int(my_string)\n",
        "print(type(my_int))"
      ],
      "execution_count": null,
      "outputs": [
        {
          "output_type": "stream",
          "name": "stdout",
          "text": [
            "<class 'str'>\n",
            "<class 'int'>\n"
          ]
        }
      ]
    },
    {
      "cell_type": "code",
      "metadata": {
        "colab": {
          "base_uri": "https://localhost:8080/"
        },
        "id": "jkOW38mNnr6A",
        "outputId": "c32d6df7-7764-4855-eba1-c2c9ae22e09a"
      },
      "source": [
        "my_string = \"256\"\n",
        "print(type(my_string))\n",
        "my_int = int(my_string)\n",
        "print(type(my_int))"
      ],
      "execution_count": null,
      "outputs": [
        {
          "output_type": "stream",
          "name": "stdout",
          "text": [
            "<class 'str'>\n",
            "<class 'int'>\n"
          ]
        }
      ]
    },
    {
      "cell_type": "markdown",
      "metadata": {
        "id": "WqMDPDTHSrE9"
      },
      "source": [
        "A floating point number, or a float, is a real number in mathematics. In Python we need to include a value after a decimal point to define it as a float"
      ]
    },
    {
      "cell_type": "code",
      "metadata": {
        "id": "otCzKKW9Oqig",
        "colab": {
          "base_uri": "https://localhost:8080/"
        },
        "outputId": "4f77296d-f149-4130-d291-2168154f07d4"
      },
      "source": [
        "my_string = \"100\"\n",
        "my_float = float(my_string)\n",
        "print(type(my_float))"
      ],
      "execution_count": null,
      "outputs": [
        {
          "output_type": "stream",
          "name": "stdout",
          "text": [
            "<class 'float'>\n"
          ]
        }
      ]
    },
    {
      "cell_type": "code",
      "metadata": {
        "colab": {
          "base_uri": "https://localhost:8080/"
        },
        "id": "1psNkdNLn5Ca",
        "outputId": "ab9f4491-e861-456d-afd6-ef797c121ea1"
      },
      "source": [
        "my_string = \"999\"\n",
        "my_float = float(my_string)\n",
        "print(type(my_float))"
      ],
      "execution_count": null,
      "outputs": [
        {
          "output_type": "stream",
          "name": "stdout",
          "text": [
            "<class 'float'>\n"
          ]
        }
      ]
    },
    {
      "cell_type": "markdown",
      "metadata": {
        "id": "2iuyv8Q7StTJ"
      },
      "source": [
        "As you can see above, if we don't include a decimal value, the variable would be defined as an integer. The built-in function float() can convert a string or an integer into a float."
      ]
    },
    {
      "cell_type": "code",
      "metadata": {
        "id": "wwLw5VthOqig",
        "colab": {
          "base_uri": "https://localhost:8080/"
        },
        "outputId": "7acc05d6-f276-4f02-80cb-252e7d49ba13"
      },
      "source": [
        "my_bool = False\n",
        "print(my_bool)\n",
        "print(type(my_bool))"
      ],
      "execution_count": null,
      "outputs": [
        {
          "output_type": "stream",
          "name": "stdout",
          "text": [
            "False\n",
            "<class 'bool'>\n"
          ]
        }
      ]
    },
    {
      "cell_type": "code",
      "metadata": {
        "colab": {
          "base_uri": "https://localhost:8080/"
        },
        "id": "sGMZuqzNn_Vk",
        "outputId": "f7d9fb5a-666f-450d-b43c-1b485dc8bd4e"
      },
      "source": [
        "my_bool = True\n",
        "print(my_bool)\n",
        "print(type(my_bool))"
      ],
      "execution_count": null,
      "outputs": [
        {
          "output_type": "stream",
          "name": "stdout",
          "text": [
            "True\n",
            "<class 'bool'>\n"
          ]
        }
      ]
    },
    {
      "cell_type": "markdown",
      "metadata": {
        "id": "bnGMwH21Szr_"
      },
      "source": [
        "A boolean, or bool, is a binary variable. Its value can only be True or False. It is useful when we do some logic operations, which would be covered in our next chapter."
      ]
    },
    {
      "cell_type": "code",
      "metadata": {
        "id": "DMa6pDl5Oqig",
        "colab": {
          "base_uri": "https://localhost:8080/"
        },
        "outputId": "f0d43b23-7d02-4b4a-e32d-4778578676d6"
      },
      "source": [
        "print(\"Addition \", 1+1)\n",
        "print(\"Subtraction \", 5-2)\n",
        "print(\"Multiplication \", 2*3)\n",
        "print(\"Division \", 10/2)\n",
        "print('exponent', 2**3)"
      ],
      "execution_count": null,
      "outputs": [
        {
          "output_type": "stream",
          "name": "stdout",
          "text": [
            "Addition  2\n",
            "Subtraction  3\n",
            "Multiplication  6\n",
            "Division  5.0\n",
            "exponent 8\n"
          ]
        }
      ]
    },
    {
      "cell_type": "code",
      "metadata": {
        "colab": {
          "base_uri": "https://localhost:8080/"
        },
        "id": "3lZch2Bioj_c",
        "outputId": "9d399d49-138c-4c9a-fe75-933ad9acd321"
      },
      "source": [
        "print(\"Addition \", 32+64)\n",
        "print(\"Subtraction \", 256-2)\n",
        "print(\"Multiplication \", 4*10)\n",
        "print(\"Division \", 22/7)\n",
        "print('exponent', 3**12)"
      ],
      "execution_count": null,
      "outputs": [
        {
          "output_type": "stream",
          "name": "stdout",
          "text": [
            "Addition  96\n",
            "Subtraction  254\n",
            "Multiplication  40\n",
            "Division  3.142857142857143\n",
            "exponent 531441\n"
          ]
        }
      ]
    },
    {
      "cell_type": "markdown",
      "metadata": {
        "id": "1Xc9G9_sS2ju"
      },
      "source": [
        "# Basic Math Operations\n",
        "\n",
        "The basic math operators in python are demonstrated below:"
      ]
    },
    {
      "cell_type": "code",
      "metadata": {
        "id": "KE9gUryAOqig",
        "colab": {
          "base_uri": "https://localhost:8080/"
        },
        "outputId": "29ab209b-f33c-44ba-85fb-7555f66db632"
      },
      "source": [
        "print(1/3)\n",
        "print(1.0/3)"
      ],
      "execution_count": null,
      "outputs": [
        {
          "output_type": "stream",
          "name": "stdout",
          "text": [
            "0.3333333333333333\n",
            "0.3333333333333333\n"
          ]
        }
      ]
    },
    {
      "cell_type": "code",
      "metadata": {
        "colab": {
          "base_uri": "https://localhost:8080/"
        },
        "id": "VFplc5bKou6v",
        "outputId": "bf71d974-5490-4868-a7c1-1d37fb80eac7"
      },
      "source": [
        "print(22/7)\n",
        "print(22.0/7.0)"
      ],
      "execution_count": null,
      "outputs": [
        {
          "output_type": "stream",
          "name": "stdout",
          "text": [
            "3.142857142857143\n",
            "3.142857142857143\n"
          ]
        }
      ]
    },
    {
      "cell_type": "markdown",
      "metadata": {
        "id": "AN5Oa3DoS_Nf"
      },
      "source": [
        "# Data Collections\n",
        "\n",
        "## List\n",
        "A list is an ordered collection of values. A list is mutable, which means you can change a list's value without changing the list itself. Creating a list is simply putting different comma-separated values between square brackets."
      ]
    },
    {
      "cell_type": "code",
      "metadata": {
        "id": "-tQdNqCvOqig",
        "colab": {
          "base_uri": "https://localhost:8080/"
        },
        "outputId": "b8d83490-6c8d-45c4-8da0-139e60c7bdb9"
      },
      "source": [
        "my_list = ['Quant', 'Connect', 1,2,3]\n",
        "print(my_list)"
      ],
      "execution_count": null,
      "outputs": [
        {
          "output_type": "stream",
          "name": "stdout",
          "text": [
            "['Quant', 'Connect', 1, 2, 3]\n"
          ]
        }
      ]
    },
    {
      "cell_type": "code",
      "metadata": {
        "colab": {
          "base_uri": "https://localhost:8080/"
        },
        "id": "hWa17qgQo_KU",
        "outputId": "e3a53cac-2086-41dd-931f-4d8cf2ca3b94"
      },
      "source": [
        "my_list = ['Primero', 'Segundo', 3,4,8]\n",
        "print(my_list)"
      ],
      "execution_count": null,
      "outputs": [
        {
          "output_type": "stream",
          "name": "stdout",
          "text": [
            "['Primero', 'Segundo', 3, 4, 8]\n"
          ]
        }
      ]
    },
    {
      "cell_type": "markdown",
      "metadata": {
        "id": "1O0TsgZCTHrM"
      },
      "source": [
        "The values in a list are called \"elements\". We can access list elements by indexing. Python index starts from 0. So if you have a list of length n, the index of the first element will be 0, and that of the last element will be n − 1. By the way, the length of a list can be obtained by the built-in function len()."
      ]
    },
    {
      "cell_type": "code",
      "metadata": {
        "id": "QhuVhRR5Oqih",
        "colab": {
          "base_uri": "https://localhost:8080/"
        },
        "outputId": "f8f0230f-7bca-4b60-c300-87a718b61828"
      },
      "source": [
        "my_list = ['Quant', 'Connect', 1,2,3]\n",
        "print(len(my_list))\n",
        "print(my_list[0])\n",
        "print(my_list[len(my_list) -1])"
      ],
      "execution_count": null,
      "outputs": [
        {
          "output_type": "stream",
          "name": "stdout",
          "text": [
            "5\n",
            "Quant\n",
            "3\n"
          ]
        }
      ]
    },
    {
      "cell_type": "code",
      "metadata": {
        "colab": {
          "base_uri": "https://localhost:8080/"
        },
        "id": "vwfzPmYZpSRg",
        "outputId": "e4877113-97aa-4e4b-976c-9c0eef881458"
      },
      "source": [
        "my_list = ['Primero', 'Segundo', 4,1,32]\n",
        "print(len(my_list))\n",
        "print(my_list[0])\n",
        "print(my_list[len(my_list) -1])"
      ],
      "execution_count": null,
      "outputs": [
        {
          "output_type": "stream",
          "name": "stdout",
          "text": [
            "5\n",
            "Primero\n",
            "32\n"
          ]
        }
      ]
    },
    {
      "cell_type": "markdown",
      "metadata": {
        "id": "jgSZy1VGTKSc"
      },
      "source": [
        "You can also change the elements in the list by accessing an index and assigning a new value."
      ]
    },
    {
      "cell_type": "code",
      "metadata": {
        "id": "NQBNLjAvOqih",
        "colab": {
          "base_uri": "https://localhost:8080/"
        },
        "outputId": "e339f1e9-a4ce-49cb-8427-47873b3f24d2"
      },
      "source": [
        "my_list = ['Quant','Connect',1,2,3]\n",
        "my_list[2] = 'go'\n",
        "print(my_list)"
      ],
      "execution_count": null,
      "outputs": [
        {
          "output_type": "stream",
          "name": "stdout",
          "text": [
            "['Quant', 'Connect', 'go', 2, 3]\n"
          ]
        }
      ]
    },
    {
      "cell_type": "code",
      "metadata": {
        "colab": {
          "base_uri": "https://localhost:8080/"
        },
        "id": "wgvam_SCpqeg",
        "outputId": "9d72ca2d-c9d2-4d07-d813-19e62087e4d3"
      },
      "source": [
        "my_list = ['frase','ejemplo',0,25,32]\n",
        "my_list[2] = 'reemplazo'\n",
        "print(my_list)"
      ],
      "execution_count": null,
      "outputs": [
        {
          "output_type": "stream",
          "name": "stdout",
          "text": [
            "['frase', 'ejemplo', 'reemplazo', 25, 32]\n"
          ]
        }
      ]
    },
    {
      "cell_type": "markdown",
      "metadata": {
        "id": "EQPs5ojoTVrk"
      },
      "source": [
        "A list can also be sliced with a colon:"
      ]
    },
    {
      "cell_type": "code",
      "metadata": {
        "id": "keNX2RbtOqii",
        "colab": {
          "base_uri": "https://localhost:8080/"
        },
        "outputId": "e0da961b-b81d-4f01-d866-f4ca3a30c00d"
      },
      "source": [
        "my_list = ['Quant','Connect',1,2,3]\n",
        "print(my_list[1:3])"
      ],
      "execution_count": null,
      "outputs": [
        {
          "output_type": "stream",
          "name": "stdout",
          "text": [
            "['Connect', 1]\n"
          ]
        }
      ]
    },
    {
      "cell_type": "code",
      "metadata": {
        "colab": {
          "base_uri": "https://localhost:8080/"
        },
        "id": "Ocy3UwPwqDmn",
        "outputId": "6913153e-3c70-4d52-fb8b-a54920300b6e"
      },
      "source": [
        "my_list = ['python','java',101,22,32]\n",
        "print(my_list[1:3])"
      ],
      "execution_count": null,
      "outputs": [
        {
          "output_type": "stream",
          "name": "stdout",
          "text": [
            "['java', 101]\n"
          ]
        }
      ]
    },
    {
      "cell_type": "markdown",
      "metadata": {
        "id": "AZqQd0K8TYul"
      },
      "source": [
        "The slice starts from the first element indicated, but excludes the last element indicated. Here we select all elements starting from index 1, which refers to the second element:"
      ]
    },
    {
      "cell_type": "code",
      "metadata": {
        "id": "0-76sLfkOqii",
        "colab": {
          "base_uri": "https://localhost:8080/"
        },
        "outputId": "a85c566e-4b2d-4827-d41b-47c65b1da85c"
      },
      "source": [
        "print(my_list[1:])"
      ],
      "execution_count": null,
      "outputs": [
        {
          "output_type": "stream",
          "name": "stdout",
          "text": [
            "['java', 101, 22, 32]\n"
          ]
        }
      ]
    },
    {
      "cell_type": "markdown",
      "metadata": {
        "id": "XBqvhUdZVKWs"
      },
      "source": [
        "And all elements up to but excluding index 3:"
      ]
    },
    {
      "cell_type": "code",
      "metadata": {
        "id": "5NWr75L9Oqii",
        "colab": {
          "base_uri": "https://localhost:8080/"
        },
        "outputId": "48d69ba3-83fe-4f5f-94ba-79e0308b383a"
      },
      "source": [
        "print(my_list[:3])"
      ],
      "execution_count": null,
      "outputs": [
        {
          "output_type": "stream",
          "name": "stdout",
          "text": [
            "['python', 'java', 101]\n"
          ]
        }
      ]
    },
    {
      "cell_type": "markdown",
      "metadata": {
        "id": "eAFmM6bkTZz9"
      },
      "source": [
        "If you wish to add or remove an element from a list, you can use the append() and remove() methods for lists as follows:"
      ]
    },
    {
      "cell_type": "code",
      "metadata": {
        "colab": {
          "base_uri": "https://localhost:8080/"
        },
        "id": "pHmgTPElTo19",
        "outputId": "8db9d0bd-8ddf-42a5-e2e5-581a79223312"
      },
      "source": [
        "my_list = ['Hello', 'Quant']\n",
        "my_list.append('Hello')\n",
        "print(my_list)"
      ],
      "execution_count": null,
      "outputs": [
        {
          "output_type": "stream",
          "name": "stdout",
          "text": [
            "['Hello', 'Quant', 'Hello']\n"
          ]
        }
      ]
    },
    {
      "cell_type": "code",
      "metadata": {
        "colab": {
          "base_uri": "https://localhost:8080/"
        },
        "id": "_hq6rus2qe98",
        "outputId": "5cfe2cc7-c7e9-4b6a-ccae-fc39f2f78576"
      },
      "source": [
        "my_list = ['Hola', 'Mundo']\n",
        "my_list.append('Salvaje')\n",
        "print(my_list)"
      ],
      "execution_count": null,
      "outputs": [
        {
          "output_type": "stream",
          "name": "stdout",
          "text": [
            "['Hola', 'Mundo', 'Salvaje']\n"
          ]
        }
      ]
    },
    {
      "cell_type": "code",
      "metadata": {
        "colab": {
          "base_uri": "https://localhost:8080/",
          "height": 180
        },
        "id": "4C4U1Yf0Tr8l",
        "outputId": "1997be68-fdb7-45e3-ff40-ceb5f464aaf9"
      },
      "source": [
        "my_list.remove('Hello')\n",
        "print(my_list)"
      ],
      "execution_count": null,
      "outputs": [
        {
          "output_type": "error",
          "ename": "ValueError",
          "evalue": "ignored",
          "traceback": [
            "\u001b[0;31m---------------------------------------------------------------------------\u001b[0m",
            "\u001b[0;31mValueError\u001b[0m                                Traceback (most recent call last)",
            "\u001b[0;32m<ipython-input-28-d306fa6a4d5f>\u001b[0m in \u001b[0;36m<module>\u001b[0;34m()\u001b[0m\n\u001b[0;32m----> 1\u001b[0;31m \u001b[0mmy_list\u001b[0m\u001b[0;34m.\u001b[0m\u001b[0mremove\u001b[0m\u001b[0;34m(\u001b[0m\u001b[0;34m'Hello'\u001b[0m\u001b[0;34m)\u001b[0m\u001b[0;34m\u001b[0m\u001b[0;34m\u001b[0m\u001b[0m\n\u001b[0m\u001b[1;32m      2\u001b[0m \u001b[0mprint\u001b[0m\u001b[0;34m(\u001b[0m\u001b[0mmy_list\u001b[0m\u001b[0;34m)\u001b[0m\u001b[0;34m\u001b[0m\u001b[0;34m\u001b[0m\u001b[0m\n",
            "\u001b[0;31mValueError\u001b[0m: list.remove(x): x not in list"
          ]
        }
      ]
    },
    {
      "cell_type": "code",
      "metadata": {
        "colab": {
          "base_uri": "https://localhost:8080/"
        },
        "id": "69Im-mBTquCv",
        "outputId": "0307d73c-4a3d-496a-f6e2-d38860831f8d"
      },
      "source": [
        "my_list.remove('Hola')\n",
        "print(my_list)"
      ],
      "execution_count": null,
      "outputs": [
        {
          "output_type": "stream",
          "name": "stdout",
          "text": [
            "['Mundo', 'Salvaje']\n"
          ]
        }
      ]
    },
    {
      "cell_type": "markdown",
      "metadata": {
        "id": "11W1gG-cVmOU"
      },
      "source": [
        "When there are repeated instances of \"Hello\", the first one is removed.\n",
        "\n",
        "## Tuple\n",
        "A tuple is a data structure type similar to a list. The difference is that a tuple is immutable, which means you can't change the elements in it once it's defined. We create a tuple by putting comma-separated values between parentheses."
      ]
    },
    {
      "cell_type": "code",
      "metadata": {
        "collapsed": true,
        "id": "vPmn6BAaOqii"
      },
      "source": [
        "my_tuple = ('Welcome','to','QuantConnect')"
      ],
      "execution_count": null,
      "outputs": []
    },
    {
      "cell_type": "markdown",
      "metadata": {
        "id": "zMIme4dDV0Wz"
      },
      "source": [
        "Just like a list, a tuple can be sliced by using index."
      ]
    },
    {
      "cell_type": "code",
      "metadata": {
        "id": "8P-ddO0sOqii",
        "colab": {
          "base_uri": "https://localhost:8080/"
        },
        "outputId": "fbb128a3-9083-484b-96c3-9fa8b4e42c58"
      },
      "source": [
        "my_tuple = ('Welcome','to','QuantConnect')\n",
        "print(my_tuple[1:])"
      ],
      "execution_count": null,
      "outputs": [
        {
          "output_type": "stream",
          "name": "stdout",
          "text": [
            "('to', 'QuantConnect')\n"
          ]
        }
      ]
    },
    {
      "cell_type": "code",
      "metadata": {
        "colab": {
          "base_uri": "https://localhost:8080/"
        },
        "id": "J0M8Ki19rGdr",
        "outputId": "58fbab16-b2a8-4553-ae59-a113be648c54"
      },
      "source": [
        "my_tuple = ('Willkommen','du','hast')\n",
        "print(my_tuple[1:])"
      ],
      "execution_count": null,
      "outputs": [
        {
          "output_type": "stream",
          "name": "stdout",
          "text": [
            "('du', 'hast')\n"
          ]
        }
      ]
    },
    {
      "cell_type": "markdown",
      "metadata": {
        "id": "l2JqbusAV1Y2"
      },
      "source": [
        "## Set\n",
        "A set is an **unordered**  collection with **no duplicate** elements. The built-in function **set()** can be used to create sets."
      ]
    },
    {
      "cell_type": "code",
      "metadata": {
        "id": "Plau8r-UOqij",
        "colab": {
          "base_uri": "https://localhost:8080/"
        },
        "outputId": "bd9bd021-9a7b-4024-ecd6-6ac5c3dcb1cf"
      },
      "source": [
        "stock_list = ['AAPL','GOOG','IBM','AAPL','IBM','FB','F','GOOG']\n",
        "stock_set = set(stock_list)\n",
        "print(stock_set)"
      ],
      "execution_count": null,
      "outputs": [
        {
          "output_type": "stream",
          "name": "stdout",
          "text": [
            "{'F', 'IBM', 'AAPL', 'GOOG', 'FB'}\n"
          ]
        }
      ]
    },
    {
      "cell_type": "code",
      "metadata": {
        "colab": {
          "base_uri": "https://localhost:8080/"
        },
        "id": "vjnYY843ri0E",
        "outputId": "c828a7a4-c8aa-438f-b4b6-0d8ae17d270e"
      },
      "source": [
        "stock_list = ['eng','ger','col','eng','fra','bra','usa','ger']\n",
        "stock_set = set(stock_list)\n",
        "print(stock_set)"
      ],
      "execution_count": null,
      "outputs": [
        {
          "output_type": "stream",
          "name": "stdout",
          "text": [
            "{'col', 'usa', 'fra', 'ger', 'bra', 'eng'}\n"
          ]
        }
      ]
    },
    {
      "cell_type": "markdown",
      "metadata": {
        "id": "Jyb4GGIoWIHk"
      },
      "source": [
        "Set is an easy way to remove duplicate elements from a list.\n",
        "\n",
        "##Dictionary\n",
        "A dictionary is one of the most important data structures in Python. Unlike sequences which are indexed by integers, dictionaries are indexed by keys which can be either strings or floats.\n",
        "\n",
        "A dictionary is an **unordered** collection of key : value pairs, with the requirement that the keys are unique. We create a dictionary by placing a comma-separated list of key : value pairs within the braces."
      ]
    },
    {
      "cell_type": "code",
      "metadata": {
        "collapsed": true,
        "id": "36mTe5BaOqij"
      },
      "source": [
        "my_dic = {'AAPL':'AAPLE', 'FB':'FaceBook', 'GOOG':'Alphabet'}"
      ],
      "execution_count": null,
      "outputs": []
    },
    {
      "cell_type": "code",
      "metadata": {
        "id": "KUfdVf43Oqij",
        "colab": {
          "base_uri": "https://localhost:8080/"
        },
        "outputId": "6a4d01d2-c422-4472-de6f-c88742c32d22"
      },
      "source": [
        "print(my_dic['GOOG'])"
      ],
      "execution_count": null,
      "outputs": [
        {
          "output_type": "stream",
          "name": "stdout",
          "text": [
            "Alphabet\n"
          ]
        }
      ]
    },
    {
      "cell_type": "code",
      "metadata": {
        "colab": {
          "base_uri": "https://localhost:8080/"
        },
        "id": "RPtaxIF4sDaH",
        "outputId": "bd83e7b6-34bd-4f8f-cd4c-cc2d12898867"
      },
      "source": [
        "my_dic = {'eng':'Inglaterra', 'usa':'EEUU', 'ger':'Alemania'}\n",
        "print(my_dic['ger'])"
      ],
      "execution_count": null,
      "outputs": [
        {
          "output_type": "stream",
          "name": "stdout",
          "text": [
            "Alemania\n"
          ]
        }
      ]
    },
    {
      "cell_type": "markdown",
      "metadata": {
        "id": "gSicoNqDWP4c"
      },
      "source": [
        "After defining a dictionary, we can access any value by indicating its key in brackets."
      ]
    },
    {
      "cell_type": "code",
      "metadata": {
        "id": "IrTZdq9FOqij",
        "colab": {
          "base_uri": "https://localhost:8080/"
        },
        "outputId": "b752b1ac-77dc-47ab-93c4-f10010cb4403"
      },
      "source": [
        "my_dic['GOOG'] = 'Alphabet Company'\n",
        "print(my_dic['GOOG'])"
      ],
      "execution_count": null,
      "outputs": [
        {
          "output_type": "stream",
          "name": "stdout",
          "text": [
            "Alphabet Company\n"
          ]
        }
      ]
    },
    {
      "cell_type": "code",
      "metadata": {
        "colab": {
          "base_uri": "https://localhost:8080/"
        },
        "id": "-8bRw73usPAC",
        "outputId": "48a8489a-9ea0-4e20-b00f-65ca0a793e27"
      },
      "source": [
        "my_dic['ger'] = 'Republica Alemana'\n",
        "print(my_dic['ger'])"
      ],
      "execution_count": null,
      "outputs": [
        {
          "output_type": "stream",
          "name": "stdout",
          "text": [
            "Republica Alemana\n"
          ]
        }
      ]
    },
    {
      "cell_type": "markdown",
      "metadata": {
        "id": "M9sDsTEMWQvc"
      },
      "source": [
        "We can also change the value associated with a specified key:"
      ]
    },
    {
      "cell_type": "code",
      "metadata": {
        "id": "lupRHf1_Oqij",
        "colab": {
          "base_uri": "https://localhost:8080/"
        },
        "outputId": "abc18787-a6b8-4ba8-d39d-76f1d9913c1a"
      },
      "source": [
        "print(my_dic.keys())"
      ],
      "execution_count": null,
      "outputs": [
        {
          "output_type": "stream",
          "name": "stdout",
          "text": [
            "dict_keys(['eng', 'usa', 'ger', 'GOOG'])\n"
          ]
        }
      ]
    },
    {
      "cell_type": "markdown",
      "metadata": {
        "id": "VPuDinlwWS9D"
      },
      "source": [
        "The built-in method of the dictionary object dict.keys() returns a list of all the keys used in the dictionary."
      ]
    },
    {
      "cell_type": "markdown",
      "metadata": {
        "id": "kSGzgNb2Womz"
      },
      "source": [
        "# Common String Operations\n",
        "A string is an immutable sequence of characters. It can be sliced by index just like a tuple:"
      ]
    },
    {
      "cell_type": "code",
      "metadata": {
        "id": "xPojDnm9Oqik",
        "colab": {
          "base_uri": "https://localhost:8080/"
        },
        "outputId": "e574de1a-4563-4965-aaaf-982203662f1d"
      },
      "source": [
        "my_str = 'Welcome to QuantConnect'\n",
        "print(my_str[8:])"
      ],
      "execution_count": null,
      "outputs": [
        {
          "output_type": "stream",
          "name": "stdout",
          "text": [
            "to QuantConnect\n"
          ]
        }
      ]
    },
    {
      "cell_type": "code",
      "metadata": {
        "colab": {
          "base_uri": "https://localhost:8080/"
        },
        "id": "DbRhU05nslJ2",
        "outputId": "dd9f1864-a1ce-4d65-a08b-49b791740f50"
      },
      "source": [
        "my_str = 'Bienvenido a Python'\n",
        "print(my_str[8:])"
      ],
      "execution_count": null,
      "outputs": [
        {
          "output_type": "stream",
          "name": "stdout",
          "text": [
            "do a Python\n"
          ]
        }
      ]
    },
    {
      "cell_type": "markdown",
      "metadata": {
        "id": "wuJYy7tvWtM7"
      },
      "source": [
        "There are many methods associated with strings. We can use string.count() to count the occurrences of a character in a string, use string.find() to return the index of a specific character, and use string.replace() to replace characters"
      ]
    },
    {
      "cell_type": "code",
      "metadata": {
        "id": "u9deZq1SOqik",
        "colab": {
          "base_uri": "https://localhost:8080/"
        },
        "outputId": "83626042-f052-4a3c-ef41-18736d19dcf8"
      },
      "source": [
        "print('Counting the number of e appears in this sentence'.count('e'))\n",
        "print('The first time e appears in this sentence'.find('e'))\n",
        "print('all the a in this sentence now becomes e'.replace('a','e'))"
      ],
      "execution_count": null,
      "outputs": [
        {
          "output_type": "stream",
          "name": "stdout",
          "text": [
            "7\n",
            "2\n",
            "ell the e in this sentence now becomes e\n"
          ]
        }
      ]
    },
    {
      "cell_type": "code",
      "metadata": {
        "colab": {
          "base_uri": "https://localhost:8080/"
        },
        "id": "Txi3KL_Ts8Hd",
        "outputId": "2410150d-52a4-41f2-d390-c94c167276ff"
      },
      "source": [
        "print('Contar el numero de e en esta frase'.count('e'))\n",
        "print('Indice de la primera e en la sentencia'.find('e'))\n",
        "print('Todas las a son reemplazadas por e'.replace('a','e'))"
      ],
      "execution_count": null,
      "outputs": [
        {
          "output_type": "stream",
          "name": "stdout",
          "text": [
            "7\n",
            "5\n",
            "Todes les e son reemplezedes por e\n"
          ]
        }
      ]
    },
    {
      "cell_type": "markdown",
      "metadata": {
        "id": "sJPn3rkvWwHN"
      },
      "source": [
        "The most commonly used method for strings is string.split(). This method will split the string by the indicated character and return a list:"
      ]
    },
    {
      "cell_type": "code",
      "metadata": {
        "id": "hbIaFLFHOqik",
        "colab": {
          "base_uri": "https://localhost:8080/"
        },
        "outputId": "f1c73638-7674-4a6a-fb27-09f99b40983e"
      },
      "source": [
        "Time = '2016-04-01 09:43:00'\n",
        "splited_list = Time.split(' ')\n",
        "date = splited_list[0]\n",
        "time = splited_list[1]\n",
        "print(date, time)\n",
        "hour = time.split(':')[0]\n",
        "print(hour)"
      ],
      "execution_count": null,
      "outputs": [
        {
          "output_type": "stream",
          "name": "stdout",
          "text": [
            "2016-04-01 09:43:00\n",
            "09\n"
          ]
        }
      ]
    },
    {
      "cell_type": "code",
      "metadata": {
        "colab": {
          "base_uri": "https://localhost:8080/"
        },
        "id": "3haRHlvNtTBY",
        "outputId": "1ab4deee-1d83-4776-b82a-fd893a26bf49"
      },
      "source": [
        "Time = '2021-09-11 12:45:59'\n",
        "splited_list = Time.split(' ')\n",
        "date = splited_list[0]\n",
        "time = splited_list[1]\n",
        "print(date, time)\n",
        "hour = time.split(':')[0]\n",
        "print(hour)"
      ],
      "execution_count": null,
      "outputs": [
        {
          "output_type": "stream",
          "name": "stdout",
          "text": [
            "2021-09-11 12:45:59\n",
            "12\n"
          ]
        }
      ]
    },
    {
      "cell_type": "markdown",
      "metadata": {
        "id": "9cJQGk96WyVc"
      },
      "source": [
        "We can replace parts of a string by our variable. This is called string formatting."
      ]
    },
    {
      "cell_type": "code",
      "metadata": {
        "id": "-E_rIvv6Oqik",
        "colab": {
          "base_uri": "https://localhost:8080/"
        },
        "outputId": "42a2a73d-980e-469a-ccba-ad3b6429ea52"
      },
      "source": [
        "my_time = 'Hour: {}, Minute:{}'.format('09','43')\n",
        "print(my_time)"
      ],
      "execution_count": null,
      "outputs": [
        {
          "output_type": "stream",
          "name": "stdout",
          "text": [
            "Hour: 09, Minute:43\n"
          ]
        }
      ]
    },
    {
      "cell_type": "code",
      "metadata": {
        "colab": {
          "base_uri": "https://localhost:8080/"
        },
        "id": "J85PlvcFtcbC",
        "outputId": "16a64242-3fa4-4f3b-92d1-228ef4ecc1e1"
      },
      "source": [
        "my_time = 'Hora: {}, Minuto: {}'.format('12','30')\n",
        "print(my_time)"
      ],
      "execution_count": null,
      "outputs": [
        {
          "output_type": "stream",
          "name": "stdout",
          "text": [
            "Hora: 12, Minuto: 30\n"
          ]
        }
      ]
    },
    {
      "cell_type": "markdown",
      "metadata": {
        "id": "1_NbVldpWzAs"
      },
      "source": [
        "Another way to format a string is to use the % symbol."
      ]
    },
    {
      "cell_type": "code",
      "metadata": {
        "id": "4rZ4rkD2Oqik",
        "colab": {
          "base_uri": "https://localhost:8080/"
        },
        "outputId": "8130b2b8-2a98-49d7-9f22-1c197920d52c"
      },
      "source": [
        "print('the pi number is %f'%3.14)\n",
        "print('%s to %s'%('Welcome','Quantconnect'))"
      ],
      "execution_count": null,
      "outputs": [
        {
          "output_type": "stream",
          "name": "stdout",
          "text": [
            "the pi number is 3.140000\n",
            "Welcome to Quantconnect\n"
          ]
        }
      ]
    },
    {
      "cell_type": "code",
      "metadata": {
        "colab": {
          "base_uri": "https://localhost:8080/"
        },
        "id": "TtBYW5ajtzMI",
        "outputId": "6058e48e-aa7b-44a0-a2dd-7af3e4a8a287"
      },
      "source": [
        "print('Una aproximacion de pi es %f'%3.14159)\n",
        "print('%s para %s'%('ayudame','ayudarte'))"
      ],
      "execution_count": null,
      "outputs": [
        {
          "output_type": "stream",
          "name": "stdout",
          "text": [
            "Una aproximacion de pi es 3.141590\n",
            "ayudame para ayudarte\n"
          ]
        }
      ]
    },
    {
      "cell_type": "markdown",
      "metadata": {
        "id": "v_5cocrDW3MN"
      },
      "source": [
        "# Summary\n",
        "\n",
        "Weave seen the basic data types and data structures in Python. It's important to keep practicing to become familiar with these data structures. In the next tutorial, we will cover for and while loops and logical operations in Python."
      ]
    },
    {
      "cell_type": "markdown",
      "metadata": {
        "id": "nyqinnNft1Kd"
      },
      "source": [
        "#Tutorial 2\n"
      ]
    },
    {
      "cell_type": "code",
      "metadata": {
        "colab": {
          "base_uri": "https://localhost:8080/"
        },
        "id": "TVx6Snt7bDYR",
        "outputId": "00209182-b751-4716-8849-5d62832c5423"
      },
      "source": [
        "print(1 == 0)\n",
        "print(1 == 1)\n",
        "print(1 != 0)\n",
        "print(5 >= 5)\n",
        "print(5 >= 6)"
      ],
      "execution_count": null,
      "outputs": [
        {
          "output_type": "stream",
          "name": "stdout",
          "text": [
            "False\n",
            "True\n",
            "True\n",
            "True\n",
            "False\n"
          ]
        }
      ]
    },
    {
      "cell_type": "code",
      "metadata": {
        "colab": {
          "base_uri": "https://localhost:8080/"
        },
        "id": "YJjv334LbHN5",
        "outputId": "c41f8fa1-976d-4f8d-d0a4-49c01cbc5b9b"
      },
      "source": [
        "print(23 == 0)\n",
        "print(8 == 8)\n",
        "print(12 != 7)\n",
        "print(256 >= 256)\n",
        "print(52 >= 64)"
      ],
      "execution_count": null,
      "outputs": [
        {
          "output_type": "stream",
          "name": "stdout",
          "text": [
            "False\n",
            "True\n",
            "True\n",
            "True\n",
            "False\n"
          ]
        }
      ]
    },
    {
      "cell_type": "code",
      "metadata": {
        "colab": {
          "base_uri": "https://localhost:8080/"
        },
        "id": "iY0LJBov4QcV",
        "outputId": "4c5127fb-8d42-4abf-b663-b76619d96d5a"
      },
      "source": [
        "print(2 > 1 and 3 > 2)\n",
        "print(2 > 1 and 3 < 2) \n",
        "print(2 > 1 or 3 < 2)\n",
        "print(2 < 1 and 3 < 2)"
      ],
      "execution_count": null,
      "outputs": [
        {
          "output_type": "stream",
          "name": "stdout",
          "text": [
            "True\n",
            "False\n",
            "True\n",
            "False\n"
          ]
        }
      ]
    },
    {
      "cell_type": "code",
      "metadata": {
        "colab": {
          "base_uri": "https://localhost:8080/"
        },
        "id": "QeDOHDs04SVS",
        "outputId": "cbf6bec2-06c1-4484-d4ad-d6a10c571cd5"
      },
      "source": [
        "print(40 > 0 and 32 > 24)\n",
        "print(20 > 10 and 30 < 12) \n",
        "print(22 > 11 or 23 < 12)\n",
        "print(21 < 12 and 31 < 21)"
      ],
      "execution_count": null,
      "outputs": [
        {
          "output_type": "stream",
          "name": "stdout",
          "text": [
            "True\n",
            "False\n",
            "True\n",
            "False\n"
          ]
        }
      ]
    },
    {
      "cell_type": "code",
      "metadata": {
        "colab": {
          "base_uri": "https://localhost:8080/"
        },
        "id": "5G-EEjYD41gn",
        "outputId": "91c160b5-4334-44ae-bf70-5a07653a450c"
      },
      "source": [
        "print((3 > 2 or 1 < 3) and (1!=3 and 4>3) and not ( 3 < 2 or 1 < 3 and (1!=3 and 4>3)))\n",
        "print(3 > 2 or 1 < 3 and (1!=3 and 4>3) and not ( 3 < 2 or 1 < 3 and (1!=3 and 4>3)))"
      ],
      "execution_count": null,
      "outputs": [
        {
          "output_type": "stream",
          "name": "stdout",
          "text": [
            "False\n",
            "True\n"
          ]
        }
      ]
    },
    {
      "cell_type": "code",
      "metadata": {
        "colab": {
          "base_uri": "https://localhost:8080/"
        },
        "id": "e6yCG9sL44wf",
        "outputId": "5030ae4a-1f0e-466d-fd8e-9e5dc43404ed"
      },
      "source": [
        "print((32 > 24 or 10 < 30) and (10!=30 and 46>32) and not ( 31 < 21 or 12 < 33 and (101!=333 and 8>6)))\n",
        "print(32 > 24 or 10 < 30 and (10!=32 and 46>32) and not ( 31 < 21 or 12 < 33 and (101!=333 and 8>6)))"
      ],
      "execution_count": null,
      "outputs": [
        {
          "output_type": "stream",
          "name": "stdout",
          "text": [
            "False\n",
            "True\n"
          ]
        }
      ]
    },
    {
      "cell_type": "code",
      "metadata": {
        "colab": {
          "base_uri": "https://localhost:8080/"
        },
        "id": "oViWxNzj55E-",
        "outputId": "5b7d5fec-f6c7-4891-e4ef-11aac0c5b425"
      },
      "source": [
        "i = 0\n",
        "if i == 0:\n",
        "    print('i==0 is True')"
      ],
      "execution_count": null,
      "outputs": [
        {
          "output_type": "stream",
          "name": "stdout",
          "text": [
            "i==0 is True\n"
          ]
        }
      ]
    },
    {
      "cell_type": "code",
      "metadata": {
        "colab": {
          "base_uri": "https://localhost:8080/"
        },
        "id": "flQHSEpZ6FtK",
        "outputId": "38bdc6da-28b3-4b28-907b-a42ff1f27cea"
      },
      "source": [
        "i = 2\n",
        "if i == 2:\n",
        "    print('i y 2 son iguales')"
      ],
      "execution_count": null,
      "outputs": [
        {
          "output_type": "stream",
          "name": "stdout",
          "text": [
            "i y 2 son iguales\n"
          ]
        }
      ]
    },
    {
      "cell_type": "code",
      "metadata": {
        "colab": {
          "base_uri": "https://localhost:8080/"
        },
        "id": "HdapDB016hl6",
        "outputId": "7cdface2-056c-47fe-d0ea-66840fbd57b9"
      },
      "source": [
        "p = 1 > 0\n",
        "q = 2 > 3\n",
        "if p and q:\n",
        "    print('p and q is true')\n",
        "elif p and not q:\n",
        "    print('q is false')\n",
        "elif q and not p:\n",
        "    print('p is false')\n",
        "else:\n",
        "    print('None of p and q is true')"
      ],
      "execution_count": null,
      "outputs": [
        {
          "output_type": "stream",
          "name": "stdout",
          "text": [
            "q is false\n"
          ]
        }
      ]
    },
    {
      "cell_type": "code",
      "metadata": {
        "colab": {
          "base_uri": "https://localhost:8080/"
        },
        "id": "XfCbydi760dG",
        "outputId": "97f46383-345c-40fa-db37-f1a52f9937aa"
      },
      "source": [
        "p = 64 > 32\n",
        "q = 24 > 32\n",
        "if p and q:\n",
        "    print('p y q son verdad')\n",
        "elif p and not q:\n",
        "    print('q es falso')\n",
        "elif q and not p:\n",
        "    print('p es falso')\n",
        "else:\n",
        "    print('Tanto p como q son falsos')"
      ],
      "execution_count": null,
      "outputs": [
        {
          "output_type": "stream",
          "name": "stdout",
          "text": [
            "q es falso\n"
          ]
        }
      ]
    },
    {
      "cell_type": "code",
      "metadata": {
        "colab": {
          "base_uri": "https://localhost:8080/"
        },
        "id": "pv_RJEhf6__d",
        "outputId": "d8ce2a29-b1ce-41ac-eb41-1fa6ea0ad87a"
      },
      "source": [
        "i = 0\n",
        "while i < 5:\n",
        "    print(i)\n",
        "    i += 1"
      ],
      "execution_count": null,
      "outputs": [
        {
          "output_type": "stream",
          "name": "stdout",
          "text": [
            "0\n",
            "1\n",
            "2\n",
            "3\n",
            "4\n"
          ]
        }
      ]
    },
    {
      "cell_type": "code",
      "metadata": {
        "colab": {
          "base_uri": "https://localhost:8080/"
        },
        "id": "fq8xezkp7D6w",
        "outputId": "e3745bf0-1db6-4164-ca65-b092dce95c51"
      },
      "source": [
        "i = 10\n",
        "while i < 15:\n",
        "    print(i)\n",
        "    i += 1"
      ],
      "execution_count": null,
      "outputs": [
        {
          "output_type": "stream",
          "name": "stdout",
          "text": [
            "10\n",
            "11\n",
            "12\n",
            "13\n",
            "14\n"
          ]
        }
      ]
    },
    {
      "cell_type": "code",
      "metadata": {
        "colab": {
          "base_uri": "https://localhost:8080/"
        },
        "id": "_62kFn3J7L3j",
        "outputId": "bfeedf37-c02d-484b-caee-278a842258d9"
      },
      "source": [
        "for i in [1,2,3,4,5]:\n",
        "    print(i)"
      ],
      "execution_count": null,
      "outputs": [
        {
          "output_type": "stream",
          "name": "stdout",
          "text": [
            "1\n",
            "2\n",
            "3\n",
            "4\n",
            "5\n"
          ]
        }
      ]
    },
    {
      "cell_type": "code",
      "metadata": {
        "colab": {
          "base_uri": "https://localhost:8080/"
        },
        "id": "qJC7cIQv7SaM",
        "outputId": "7d870495-83fb-4546-d6bd-df358dc3778e"
      },
      "source": [
        "for i in [12,24,48,81,500]:\n",
        "    print(i)"
      ],
      "execution_count": null,
      "outputs": [
        {
          "output_type": "stream",
          "name": "stdout",
          "text": [
            "12\n",
            "24\n",
            "48\n",
            "81\n",
            "500\n"
          ]
        }
      ]
    },
    {
      "cell_type": "code",
      "metadata": {
        "colab": {
          "base_uri": "https://localhost:8080/"
        },
        "id": "-fecKZkL7fl1",
        "outputId": "3c1e73fd-c807-4306-b12c-b5df6c74675c"
      },
      "source": [
        "stocks = ['AAPL','GOOG','IBM','FB','F','V', 'G', 'GE']\n",
        "selected = ['AAPL','IBM']\n",
        "new_list = []\n",
        "for i in stocks:\n",
        "    if i not in selected:\n",
        "        new_list.append(i)\n",
        "print(stocks)"
      ],
      "execution_count": null,
      "outputs": [
        {
          "output_type": "stream",
          "name": "stdout",
          "text": [
            "['AAPL', 'GOOG', 'IBM', 'FB', 'F', 'V', 'G', 'GE']\n"
          ]
        }
      ]
    },
    {
      "cell_type": "code",
      "metadata": {
        "colab": {
          "base_uri": "https://localhost:8080/"
        },
        "id": "MYIO46ed7hVA",
        "outputId": "6ce67463-d7e4-4eef-c367-2867557869d2"
      },
      "source": [
        "stocks = ['ger','eng','fra','ita','esp','aus', 'pol', 'rus']\n",
        "selected = ['ger','ita']\n",
        "new_list = []\n",
        "for i in stocks:\n",
        "    if i not in selected:\n",
        "        new_list.append(i)\n",
        "print(new_list)"
      ],
      "execution_count": null,
      "outputs": [
        {
          "output_type": "stream",
          "name": "stdout",
          "text": [
            "['eng', 'fra', 'esp', 'aus', 'pol', 'rus']\n"
          ]
        }
      ]
    },
    {
      "cell_type": "code",
      "metadata": {
        "colab": {
          "base_uri": "https://localhost:8080/"
        },
        "id": "W7u9xNV18H3S",
        "outputId": "0efebd2b-058e-4de2-bf05-cecd9f673f2f"
      },
      "source": [
        "stocks = ['AAPL','GOOG','IBM','FB','F','V', 'G', 'GE']\n",
        "for i in stocks:\n",
        "    print(i)\n",
        "    if i == 'FB':\n",
        "        break"
      ],
      "execution_count": null,
      "outputs": [
        {
          "output_type": "stream",
          "name": "stdout",
          "text": [
            "AAPL\n",
            "GOOG\n",
            "IBM\n",
            "FB\n"
          ]
        }
      ]
    },
    {
      "cell_type": "code",
      "metadata": {
        "colab": {
          "base_uri": "https://localhost:8080/"
        },
        "id": "u6dhkZ7m8J3U",
        "outputId": "dde5814b-006a-4ee1-9a2e-41b27b354b1a"
      },
      "source": [
        "stocks = ['ger','eng','fra','ita','esp','aus', 'pol', 'rus']\n",
        "for i in stocks:\n",
        "    print(i)\n",
        "    if i == 'ita':\n",
        "        break"
      ],
      "execution_count": null,
      "outputs": [
        {
          "output_type": "stream",
          "name": "stdout",
          "text": [
            "ger\n",
            "eng\n",
            "fra\n",
            "ita\n"
          ]
        }
      ]
    },
    {
      "cell_type": "code",
      "metadata": {
        "colab": {
          "base_uri": "https://localhost:8080/"
        },
        "id": "oh2QCuJd8ZD1",
        "outputId": "e88a958b-6029-4f24-f055-a7029fadbf34"
      },
      "source": [
        "stocks = ['AAPL','GOOG','IBM','FB','F','V', 'G', 'GE']\n",
        "for i in stocks:\n",
        "    if i == 'FB':\n",
        "        continue\n",
        "    print(i)"
      ],
      "execution_count": null,
      "outputs": [
        {
          "output_type": "stream",
          "name": "stdout",
          "text": [
            "AAPL\n",
            "GOOG\n",
            "IBM\n",
            "F\n",
            "V\n",
            "G\n",
            "GE\n"
          ]
        }
      ]
    },
    {
      "cell_type": "code",
      "metadata": {
        "colab": {
          "base_uri": "https://localhost:8080/"
        },
        "id": "6e-kezZp8aYf",
        "outputId": "1495e9d8-be21-492a-fdaa-d837583728c5"
      },
      "source": [
        "stocks = ['ger','eng','fra','ita','esp','aus', 'pol', 'rus']\n",
        "for i in stocks:\n",
        "    if i == 'ita':\n",
        "        continue\n",
        "    print(i)"
      ],
      "execution_count": null,
      "outputs": [
        {
          "output_type": "stream",
          "name": "stdout",
          "text": [
            "ger\n",
            "eng\n",
            "fra\n",
            "esp\n",
            "aus\n",
            "pol\n",
            "rus\n"
          ]
        }
      ]
    },
    {
      "cell_type": "code",
      "metadata": {
        "colab": {
          "base_uri": "https://localhost:8080/"
        },
        "id": "IM4VloxE8gvP",
        "outputId": "7e9dce3f-2637-4a7c-f747-fec057ed7cf9"
      },
      "source": [
        "\n",
        "squares = []\n",
        "for i in [1,2,3,4,5]:\n",
        "    squares.append(i**2)\n",
        "print(squares)"
      ],
      "execution_count": null,
      "outputs": [
        {
          "output_type": "stream",
          "name": "stdout",
          "text": [
            "[1, 4, 9, 16, 25]\n"
          ]
        }
      ]
    },
    {
      "cell_type": "code",
      "metadata": {
        "colab": {
          "base_uri": "https://localhost:8080/"
        },
        "id": "h6AWWqn78nK7",
        "outputId": "a4b07a3e-9da3-4514-f885-44cdd73f5a71"
      },
      "source": [
        "squares = []\n",
        "for i in [10,21,32,43,54]:\n",
        "    squares.append(i**2)\n",
        "print(squares)"
      ],
      "execution_count": null,
      "outputs": [
        {
          "output_type": "stream",
          "name": "stdout",
          "text": [
            "[100, 441, 1024, 1849, 2916]\n"
          ]
        }
      ]
    },
    {
      "cell_type": "code",
      "metadata": {
        "colab": {
          "base_uri": "https://localhost:8080/"
        },
        "id": "Wlshj6rT_57Q",
        "outputId": "8c4ef058-0d33-4eed-ff37-b17524c595cb"
      },
      "source": [
        "lista = [1,2,3,4,5]\n",
        "squares = [x**2 for x in list]\n",
        "print(squares)"
      ],
      "execution_count": null,
      "outputs": [
        {
          "output_type": "stream",
          "name": "stdout",
          "text": [
            "[100, 441, 1024, 1849, 2916]\n"
          ]
        }
      ]
    },
    {
      "cell_type": "code",
      "metadata": {
        "colab": {
          "base_uri": "https://localhost:8080/"
        },
        "id": "y5eUPlY4_8MW",
        "outputId": "b77dc72f-914a-485b-ef9a-4b96cc386f44"
      },
      "source": [
        "lista = [10,21,32,43,54]\n",
        "squares = [x**2 for x in list]\n",
        "print(squares)"
      ],
      "execution_count": null,
      "outputs": [
        {
          "output_type": "stream",
          "name": "stdout",
          "text": [
            "[100, 441, 1024, 1849, 2916]\n"
          ]
        }
      ]
    },
    {
      "cell_type": "code",
      "metadata": {
        "colab": {
          "base_uri": "https://localhost:8080/"
        },
        "id": "W6tVCw6ZACY_",
        "outputId": "f2a83e56-448b-4b83-f322-a2817522e620"
      },
      "source": [
        "stocks = ['AAPL','GOOG','IBM','FB','F','V', 'G', 'GE']\n",
        "selected = ['AAPL','IBM']\n",
        "new_list = [x for x in stocks if x in selected]\n",
        "print(new_list)"
      ],
      "execution_count": null,
      "outputs": [
        {
          "output_type": "stream",
          "name": "stdout",
          "text": [
            "['AAPL', 'IBM']\n"
          ]
        }
      ]
    },
    {
      "cell_type": "code",
      "metadata": {
        "colab": {
          "base_uri": "https://localhost:8080/"
        },
        "id": "nlyJESCcAEVC",
        "outputId": "48f4cc11-6e5a-40d0-e45b-b5352e9800ed"
      },
      "source": [
        "stocks = ['ger','eng','fra','ita','esp','aus', 'pol', 'rus']\n",
        "selected = ['ger','ita']\n",
        "new_list = [x for x in stocks if x in selected]\n",
        "print(new_list)"
      ],
      "execution_count": null,
      "outputs": [
        {
          "output_type": "stream",
          "name": "stdout",
          "text": [
            "['ger', 'ita']\n"
          ]
        }
      ]
    },
    {
      "cell_type": "code",
      "metadata": {
        "colab": {
          "base_uri": "https://localhost:8080/"
        },
        "id": "zFjBAqnSAYjU",
        "outputId": "39b9a109-b45b-474b-b162-976fd49300b2"
      },
      "source": [
        "print([(x, y) for x in [1,2,3] for y in [3,1,4] if x != y])\n",
        "print([str(x)+' vs '+str(y) for x in ['AAPL','GOOG','IBM','FB'] for y in ['F','V','G','GE'] if x!=y])"
      ],
      "execution_count": null,
      "outputs": [
        {
          "output_type": "stream",
          "name": "stdout",
          "text": [
            "[(1, 3), (1, 4), (2, 3), (2, 1), (2, 4), (3, 1), (3, 4)]\n",
            "['AAPL vs F', 'AAPL vs V', 'AAPL vs G', 'AAPL vs GE', 'GOOG vs F', 'GOOG vs V', 'GOOG vs G', 'GOOG vs GE', 'IBM vs F', 'IBM vs V', 'IBM vs G', 'IBM vs GE', 'FB vs F', 'FB vs V', 'FB vs G', 'FB vs GE']\n"
          ]
        }
      ]
    },
    {
      "cell_type": "code",
      "metadata": {
        "colab": {
          "base_uri": "https://localhost:8080/"
        },
        "id": "uHPXnJxaAbSE",
        "outputId": "e6dc7c43-9c84-4bd1-bc56-2af0e8a69425"
      },
      "source": [
        "print([(x, y) for x in [12,24,36] for y in [36,12,64] if x != y])\n",
        "print([str(x)+' vs '+str(y) for x in ['ger','eng','ita','pol'] for y in ['gm','en','it','po'] if x!=y])"
      ],
      "execution_count": null,
      "outputs": [
        {
          "output_type": "stream",
          "name": "stdout",
          "text": [
            "[(12, 36), (12, 64), (24, 36), (24, 12), (24, 64), (36, 12), (36, 64)]\n",
            "['ger vs gm', 'ger vs en', 'ger vs it', 'ger vs po', 'eng vs gm', 'eng vs en', 'eng vs it', 'eng vs po', 'ita vs gm', 'ita vs en', 'ita vs it', 'ita vs po', 'pol vs gm', 'pol vs en', 'pol vs it', 'pol vs po']\n"
          ]
        }
      ]
    },
    {
      "cell_type": "markdown",
      "metadata": {
        "id": "TZiKfqMSBgpg"
      },
      "source": [
        "#Tutorial 3"
      ]
    },
    {
      "cell_type": "code",
      "metadata": {
        "colab": {
          "base_uri": "https://localhost:8080/"
        },
        "id": "VpRo0g_fBkfX",
        "outputId": "1e92eafd-a03d-4061-a4ca-db84288ba87f"
      },
      "source": [
        "def product(x,y):\n",
        "    return x*y\n",
        "print(product(2,3))\n",
        "print(product(5,10))"
      ],
      "execution_count": null,
      "outputs": [
        {
          "output_type": "stream",
          "name": "stdout",
          "text": [
            "6\n",
            "50\n"
          ]
        }
      ]
    },
    {
      "cell_type": "code",
      "metadata": {
        "colab": {
          "base_uri": "https://localhost:8080/"
        },
        "id": "hzkQRrSSCE22",
        "outputId": "0693cc87-bc4f-454b-fb60-f855f1e11a34"
      },
      "source": [
        "def product(x,y):\n",
        "    return x*y\n",
        "print(product(20,39))\n",
        "print(product(51,1))"
      ],
      "execution_count": null,
      "outputs": [
        {
          "output_type": "stream",
          "name": "stdout",
          "text": [
            "780\n",
            "51\n"
          ]
        }
      ]
    },
    {
      "cell_type": "code",
      "metadata": {
        "colab": {
          "base_uri": "https://localhost:8080/"
        },
        "id": "LJZB8qbTCZ-a",
        "outputId": "a81ba059-40f2-4c57-e3ab-a3f263093636"
      },
      "source": [
        "def say_hi():\n",
        "    print('Welcome to QuantConnect')\n",
        "say_hi()"
      ],
      "execution_count": null,
      "outputs": [
        {
          "output_type": "stream",
          "name": "stdout",
          "text": [
            "Welcome to QuantConnect\n"
          ]
        }
      ]
    },
    {
      "cell_type": "code",
      "metadata": {
        "colab": {
          "base_uri": "https://localhost:8080/"
        },
        "id": "axZN0ZMtCbo2",
        "outputId": "aeff7373-72d9-48c1-bdad-70e6b9b2f1e0"
      },
      "source": [
        "def say_hi():\n",
        "    print('Funcion de imprimir cadena')\n",
        "say_hi()"
      ],
      "execution_count": null,
      "outputs": [
        {
          "output_type": "stream",
          "name": "stdout",
          "text": [
            "Funcion de imprimir cadena\n"
          ]
        }
      ]
    },
    {
      "cell_type": "code",
      "metadata": {
        "colab": {
          "base_uri": "https://localhost:8080/"
        },
        "id": "BORlwkeYC_1S",
        "outputId": "838b34ce-ad08-4668-f214-59e0fda8c3e8"
      },
      "source": [
        "print(range(10))\n",
        "print(range(1,11))\n",
        "print(range(1,11,2))"
      ],
      "execution_count": null,
      "outputs": [
        {
          "output_type": "stream",
          "name": "stdout",
          "text": [
            "range(0, 10)\n",
            "range(1, 11)\n",
            "range(1, 11, 2)\n"
          ]
        }
      ]
    },
    {
      "cell_type": "code",
      "metadata": {
        "colab": {
          "base_uri": "https://localhost:8080/"
        },
        "id": "U2GUetuJDBQi",
        "outputId": "cfadc458-29c2-40a0-b9be-b63a5bdb4f3f"
      },
      "source": [
        "print(range(32))\n",
        "print(range(2,64))\n",
        "print(range(2,64,4))"
      ],
      "execution_count": null,
      "outputs": [
        {
          "output_type": "stream",
          "name": "stdout",
          "text": [
            "range(0, 32)\n",
            "range(2, 64)\n",
            "range(2, 64, 4)\n"
          ]
        }
      ]
    },
    {
      "cell_type": "code",
      "metadata": {
        "colab": {
          "base_uri": "https://localhost:8080/"
        },
        "id": "tUO0mhVXDW5O",
        "outputId": "aef8f2b8-d02e-463c-ca71-698d70c7debd"
      },
      "source": [
        "tickers = ['AAPL','GOOG','IBM','FB','F','V', 'G', 'GE']\n",
        "print('The length of tickers is {}'.format(len(tickers)))\n",
        "for i in range(len(tickers)):\n",
        "    print(tickers[i])"
      ],
      "execution_count": null,
      "outputs": [
        {
          "output_type": "stream",
          "name": "stdout",
          "text": [
            "The length of tickers is 8\n",
            "AAPL\n",
            "GOOG\n",
            "IBM\n",
            "FB\n",
            "F\n",
            "V\n",
            "G\n",
            "GE\n"
          ]
        }
      ]
    },
    {
      "cell_type": "code",
      "metadata": {
        "colab": {
          "base_uri": "https://localhost:8080/"
        },
        "id": "f_KydKLlDejo",
        "outputId": "5a6b445c-df17-45f9-e860-8795408f5c43"
      },
      "source": [
        "tickers = ['ger','eng','fra','ita','GM','EN', 'IT', 'FR']\n",
        "print('La longitud de tickers es {}'.format(len(tickers)))\n",
        "for i in range(len(tickers)):\n",
        "    print(tickers[i])"
      ],
      "execution_count": null,
      "outputs": [
        {
          "output_type": "stream",
          "name": "stdout",
          "text": [
            "La longitud de tickers es 8\n",
            "ger\n",
            "eng\n",
            "fra\n",
            "ita\n",
            "GM\n",
            "EN\n",
            "IT\n",
            "FR\n"
          ]
        }
      ]
    },
    {
      "cell_type": "code",
      "metadata": {
        "colab": {
          "base_uri": "https://localhost:8080/",
          "height": 0
        },
        "id": "E_0At2ZEELIh",
        "outputId": "cdb48984-3759-4ed3-8d43-03251db3623a"
      },
      "source": [
        "tickers = ['AAPL','GOOG','IBM','FB','F','V', 'G', 'GE']\n",
        "print(list(map(len,tickers)))"
      ],
      "execution_count": 1,
      "outputs": [
        {
          "output_type": "stream",
          "name": "stdout",
          "text": [
            "[4, 4, 3, 2, 1, 1, 1, 2]\n"
          ]
        }
      ]
    },
    {
      "cell_type": "code",
      "metadata": {
        "colab": {
          "base_uri": "https://localhost:8080/",
          "height": 0
        },
        "id": "-0s_AMpUGpQy",
        "outputId": "5e265d66-9523-4993-d61c-2dccf9872e63"
      },
      "source": [
        "tickers = ['ger','eng','fra','ita','GM','EN', 'IT', 'FR']\n",
        "print(list(map(len,tickers)))"
      ],
      "execution_count": 2,
      "outputs": [
        {
          "output_type": "stream",
          "name": "stdout",
          "text": [
            "[3, 3, 3, 3, 2, 2, 2, 2]\n"
          ]
        }
      ]
    },
    {
      "cell_type": "code",
      "metadata": {
        "colab": {
          "base_uri": "https://localhost:8080/",
          "height": 0
        },
        "id": "05hvGqmqGxg8",
        "outputId": "b0938089-62a7-4a34-e40a-65660a9db380"
      },
      "source": [
        "list(map(lambda x: x**2, range(10)))"
      ],
      "execution_count": 3,
      "outputs": [
        {
          "output_type": "execute_result",
          "data": {
            "text/plain": [
              "[0, 1, 4, 9, 16, 25, 36, 49, 64, 81]"
            ]
          },
          "metadata": {},
          "execution_count": 3
        }
      ]
    },
    {
      "cell_type": "code",
      "metadata": {
        "colab": {
          "base_uri": "https://localhost:8080/",
          "height": 0
        },
        "id": "rAhus4DcG2NS",
        "outputId": "f94fa38b-b844-4299-fd3d-57dda1c7c14b"
      },
      "source": [
        "list(map(lambda x: x**3, range(8)))"
      ],
      "execution_count": 5,
      "outputs": [
        {
          "output_type": "execute_result",
          "data": {
            "text/plain": [
              "[0, 1, 8, 27, 64, 125, 216, 343]"
            ]
          },
          "metadata": {},
          "execution_count": 5
        }
      ]
    },
    {
      "cell_type": "code",
      "metadata": {
        "colab": {
          "base_uri": "https://localhost:8080/",
          "height": 0
        },
        "id": "fDE-lBbeHB5n",
        "outputId": "1e260e8e-3a37-4996-e068-b81ec12628b0"
      },
      "source": [
        "list(map(lambda x, y: x+y, [1,2,3,4,5],[5,4,3,2,1]))"
      ],
      "execution_count": 6,
      "outputs": [
        {
          "output_type": "execute_result",
          "data": {
            "text/plain": [
              "[6, 6, 6, 6, 6]"
            ]
          },
          "metadata": {},
          "execution_count": 6
        }
      ]
    },
    {
      "cell_type": "code",
      "metadata": {
        "colab": {
          "base_uri": "https://localhost:8080/",
          "height": 0
        },
        "id": "kW5toolfHHih",
        "outputId": "f79d967d-db05-4caf-efc8-b532f5a5dfd4"
      },
      "source": [
        "list(map(lambda x, y: x+y, [10,21,32,43,54],[51,42,33,24,15]))"
      ],
      "execution_count": 7,
      "outputs": [
        {
          "output_type": "execute_result",
          "data": {
            "text/plain": [
              "[61, 63, 65, 67, 69]"
            ]
          },
          "metadata": {},
          "execution_count": 7
        }
      ]
    },
    {
      "cell_type": "code",
      "metadata": {
        "colab": {
          "base_uri": "https://localhost:8080/",
          "height": 0
        },
        "id": "eaioUtePHTAD",
        "outputId": "7abe977a-174b-4297-e142-5790cfac5a14"
      },
      "source": [
        "sorted([5,2,3,4,1])"
      ],
      "execution_count": 8,
      "outputs": [
        {
          "output_type": "execute_result",
          "data": {
            "text/plain": [
              "[1, 2, 3, 4, 5]"
            ]
          },
          "metadata": {},
          "execution_count": 8
        }
      ]
    },
    {
      "cell_type": "code",
      "metadata": {
        "colab": {
          "base_uri": "https://localhost:8080/",
          "height": 0
        },
        "id": "u4tvUT1DHVjX",
        "outputId": "3df1b9e4-dafb-402d-e675-e08df9cb82ae"
      },
      "source": [
        "sorted([52,24,32,48,16])"
      ],
      "execution_count": 9,
      "outputs": [
        {
          "output_type": "execute_result",
          "data": {
            "text/plain": [
              "[16, 24, 32, 48, 52]"
            ]
          },
          "metadata": {},
          "execution_count": 9
        }
      ]
    },
    {
      "cell_type": "code",
      "metadata": {
        "colab": {
          "base_uri": "https://localhost:8080/",
          "height": 0
        },
        "id": "RdLVrMZtHgYz",
        "outputId": "4add5ca5-79ca-4f42-86c3-1dde31fbe907"
      },
      "source": [
        "price_list = [('AAPL',144.09),('GOOG',911.71),('MSFT',69),('FB',150),('WMT',75.32)]\n",
        "sorted(price_list, key = lambda x: x[1])"
      ],
      "execution_count": 11,
      "outputs": [
        {
          "output_type": "execute_result",
          "data": {
            "text/plain": [
              "[('MSFT', 69), ('WMT', 75.32), ('AAPL', 144.09), ('FB', 150), ('GOOG', 911.71)]"
            ]
          },
          "metadata": {},
          "execution_count": 11
        }
      ]
    },
    {
      "cell_type": "code",
      "metadata": {
        "colab": {
          "base_uri": "https://localhost:8080/",
          "height": 0
        },
        "id": "LQwAXbT_Ic3z",
        "outputId": "c408f075-921f-470d-beab-9859ef5cd0aa"
      },
      "source": [
        "price_list = [('ger',12.8),('fra',35.2),('usa',120.32),('jap',251.1),('col',51.32)]\n",
        "sorted(price_list, key = lambda x: x[1])"
      ],
      "execution_count": 12,
      "outputs": [
        {
          "output_type": "execute_result",
          "data": {
            "text/plain": [
              "[('ger', 12.8), ('fra', 35.2), ('col', 51.32), ('usa', 120.32), ('jap', 251.1)]"
            ]
          },
          "metadata": {},
          "execution_count": 12
        }
      ]
    },
    {
      "cell_type": "code",
      "metadata": {
        "colab": {
          "base_uri": "https://localhost:8080/",
          "height": 0
        },
        "id": "X2pJIe9uIfWu",
        "outputId": "0354ad72-d097-4c83-cfbc-a6dc87a8b16f"
      },
      "source": [
        "price_list = [('AAPL',144.09),('GOOG',911.71),('MSFT',69),('FB',150),('WMT',75.32)]\n",
        "sorted(price_list, key = lambda x: x[1],reverse = True)"
      ],
      "execution_count": 13,
      "outputs": [
        {
          "output_type": "execute_result",
          "data": {
            "text/plain": [
              "[('GOOG', 911.71), ('FB', 150), ('AAPL', 144.09), ('WMT', 75.32), ('MSFT', 69)]"
            ]
          },
          "metadata": {},
          "execution_count": 13
        }
      ]
    },
    {
      "cell_type": "code",
      "metadata": {
        "colab": {
          "base_uri": "https://localhost:8080/",
          "height": 0
        },
        "id": "TZDazymsIkcn",
        "outputId": "f505b682-1ed7-4e95-b27d-2f0ee44fd69b"
      },
      "source": [
        "price_list = [('ger',12.8),('fra',35.2),('usa',120.32),('jap',251.1),('col',51.32)]\n",
        "sorted(price_list, key = lambda x: x[1],reverse = True)"
      ],
      "execution_count": 14,
      "outputs": [
        {
          "output_type": "execute_result",
          "data": {
            "text/plain": [
              "[('jap', 251.1), ('usa', 120.32), ('col', 51.32), ('fra', 35.2), ('ger', 12.8)]"
            ]
          },
          "metadata": {},
          "execution_count": 14
        }
      ]
    },
    {
      "cell_type": "code",
      "metadata": {
        "colab": {
          "base_uri": "https://localhost:8080/",
          "height": 0
        },
        "id": "fXkuPDeOItC0",
        "outputId": "55d549fe-5321-470b-a3f9-a31bc91a4b0b"
      },
      "source": [
        "price_list = [('AAPL',144.09),('GOOG',911.71),('MSFT',69),('FB',150),('WMT',75.32)]\n",
        "price_list.sort(key = lambda x: x[1])\n",
        "print(price_list)"
      ],
      "execution_count": 15,
      "outputs": [
        {
          "output_type": "stream",
          "name": "stdout",
          "text": [
            "[('MSFT', 69), ('WMT', 75.32), ('AAPL', 144.09), ('FB', 150), ('GOOG', 911.71)]\n"
          ]
        }
      ]
    },
    {
      "cell_type": "code",
      "metadata": {
        "colab": {
          "base_uri": "https://localhost:8080/",
          "height": 0
        },
        "id": "m6sV57zUI2ow",
        "outputId": "47b4f827-ce22-4fae-ed0f-609b95ee78fc"
      },
      "source": [
        "price_list = [('ger',12.8),('fra',35.2),('usa',120.32),('jap',251.1),('col',51.32)]\n",
        "price_list.sort(key = lambda x: x[1])\n",
        "print(price_list)"
      ],
      "execution_count": 16,
      "outputs": [
        {
          "output_type": "stream",
          "name": "stdout",
          "text": [
            "[('ger', 12.8), ('fra', 35.2), ('col', 51.32), ('usa', 120.32), ('jap', 251.1)]\n"
          ]
        }
      ]
    },
    {
      "cell_type": "code",
      "metadata": {
        "id": "eoVwbGMBJER4"
      },
      "source": [
        "class stock:\n",
        "    def __init__(self, ticker, open, close, volume):\n",
        "        self.ticker = ticker\n",
        "        self.open = open\n",
        "        self.close = close\n",
        "        self.volume = volume\n",
        "        self.rate_return = float(close)/open - 1\n",
        " \n",
        "    def update(self, open, close):\n",
        "        self.open = open\n",
        "        self.close = close\n",
        "        self.rate_return = float(self.close)/self.open - 1\n",
        " \n",
        "    def print_return(self):\n",
        "        print(self.rate_return)"
      ],
      "execution_count": 17,
      "outputs": []
    },
    {
      "cell_type": "code",
      "metadata": {
        "id": "AFGhiDInJnva"
      },
      "source": [
        "apple = stock('AAPL', 143.69, 144.09, 20109375)\n",
        "google = stock('GOOG', 898.7, 911.7, 1561616)"
      ],
      "execution_count": 18,
      "outputs": []
    },
    {
      "cell_type": "code",
      "metadata": {
        "id": "1jDwDsrrJpbP"
      },
      "source": [
        "fb = stock('fcbk', 42.0, 240.91, 20219305)\n",
        "ms = stock('microsoft', 238.12, 123.4, 1492990)"
      ],
      "execution_count": 19,
      "outputs": []
    },
    {
      "cell_type": "code",
      "metadata": {
        "colab": {
          "base_uri": "https://localhost:8080/",
          "height": 0
        },
        "id": "lz-KWhsPKHQ2",
        "outputId": "71e04410-bd90-4b11-fb5e-55f956329c06"
      },
      "source": [
        "apple.ticker\n",
        "google.print_return()\n",
        "google.update(912.8,913.4)\n",
        "google.print_return()"
      ],
      "execution_count": 20,
      "outputs": [
        {
          "output_type": "stream",
          "name": "stdout",
          "text": [
            "0.014465338822744034\n",
            "0.0006573181419806673\n"
          ]
        }
      ]
    },
    {
      "cell_type": "code",
      "metadata": {
        "colab": {
          "base_uri": "https://localhost:8080/",
          "height": 0
        },
        "id": "kYrAJayiKLPE",
        "outputId": "e77a7d24-cff9-435c-c1ad-3f0c915b6af0"
      },
      "source": [
        "fb.ticker\n",
        "ms.print_return()\n",
        "ms.update(837.13,812.4)\n",
        "ms.print_return()"
      ],
      "execution_count": 21,
      "outputs": [
        {
          "output_type": "stream",
          "name": "stdout",
          "text": [
            "-0.4817738955148665\n",
            "-0.02954140933905125\n"
          ]
        }
      ]
    },
    {
      "cell_type": "code",
      "metadata": {
        "colab": {
          "base_uri": "https://localhost:8080/",
          "height": 35
        },
        "id": "SFQThxyaKf9O",
        "outputId": "6977ef07-bec9-43b0-adcc-99a30afae392"
      },
      "source": [
        "apple.ceo = 'Tim Cook'\n",
        "apple.ceo"
      ],
      "execution_count": 22,
      "outputs": [
        {
          "output_type": "execute_result",
          "data": {
            "application/vnd.google.colaboratory.intrinsic+json": {
              "type": "string"
            },
            "text/plain": [
              "'Tim Cook'"
            ]
          },
          "metadata": {},
          "execution_count": 22
        }
      ]
    },
    {
      "cell_type": "code",
      "metadata": {
        "colab": {
          "base_uri": "https://localhost:8080/",
          "height": 35
        },
        "id": "Vr87kCK5Kha6",
        "outputId": "0183de10-5a01-42b4-dfa2-736fbd97c0b3"
      },
      "source": [
        "fb.ceo = 'Mark Zuckerberg'\n",
        "fb.ceo"
      ],
      "execution_count": 23,
      "outputs": [
        {
          "output_type": "execute_result",
          "data": {
            "application/vnd.google.colaboratory.intrinsic+json": {
              "type": "string"
            },
            "text/plain": [
              "'Mark Zuckerberg'"
            ]
          },
          "metadata": {},
          "execution_count": 23
        }
      ]
    },
    {
      "cell_type": "code",
      "metadata": {
        "colab": {
          "base_uri": "https://localhost:8080/",
          "height": 0
        },
        "id": "cbXKNA65K51u",
        "outputId": "8d8878a4-22d9-4c21-c5d2-a24cd7291fd8"
      },
      "source": [
        "dir(apple)"
      ],
      "execution_count": 24,
      "outputs": [
        {
          "output_type": "execute_result",
          "data": {
            "text/plain": [
              "['__class__',\n",
              " '__delattr__',\n",
              " '__dict__',\n",
              " '__dir__',\n",
              " '__doc__',\n",
              " '__eq__',\n",
              " '__format__',\n",
              " '__ge__',\n",
              " '__getattribute__',\n",
              " '__gt__',\n",
              " '__hash__',\n",
              " '__init__',\n",
              " '__init_subclass__',\n",
              " '__le__',\n",
              " '__lt__',\n",
              " '__module__',\n",
              " '__ne__',\n",
              " '__new__',\n",
              " '__reduce__',\n",
              " '__reduce_ex__',\n",
              " '__repr__',\n",
              " '__setattr__',\n",
              " '__sizeof__',\n",
              " '__str__',\n",
              " '__subclasshook__',\n",
              " '__weakref__',\n",
              " 'ceo',\n",
              " 'close',\n",
              " 'open',\n",
              " 'print_return',\n",
              " 'rate_return',\n",
              " 'ticker',\n",
              " 'update',\n",
              " 'volume']"
            ]
          },
          "metadata": {},
          "execution_count": 24
        }
      ]
    },
    {
      "cell_type": "code",
      "metadata": {
        "colab": {
          "base_uri": "https://localhost:8080/",
          "height": 0
        },
        "id": "HL1utdiKK7r5",
        "outputId": "8623d6a3-e50f-42e6-bbd6-def7cd0df277"
      },
      "source": [
        "dir(fb)"
      ],
      "execution_count": 25,
      "outputs": [
        {
          "output_type": "execute_result",
          "data": {
            "text/plain": [
              "['__class__',\n",
              " '__delattr__',\n",
              " '__dict__',\n",
              " '__dir__',\n",
              " '__doc__',\n",
              " '__eq__',\n",
              " '__format__',\n",
              " '__ge__',\n",
              " '__getattribute__',\n",
              " '__gt__',\n",
              " '__hash__',\n",
              " '__init__',\n",
              " '__init_subclass__',\n",
              " '__le__',\n",
              " '__lt__',\n",
              " '__module__',\n",
              " '__ne__',\n",
              " '__new__',\n",
              " '__reduce__',\n",
              " '__reduce_ex__',\n",
              " '__repr__',\n",
              " '__setattr__',\n",
              " '__sizeof__',\n",
              " '__str__',\n",
              " '__subclasshook__',\n",
              " '__weakref__',\n",
              " 'ceo',\n",
              " 'close',\n",
              " 'open',\n",
              " 'print_return',\n",
              " 'rate_return',\n",
              " 'ticker',\n",
              " 'update',\n",
              " 'volume']"
            ]
          },
          "metadata": {},
          "execution_count": 25
        }
      ]
    },
    {
      "cell_type": "code",
      "metadata": {
        "id": "f3O8-i8kLBCe"
      },
      "source": [
        "class child(stock):\n",
        "    def __init__(self,name):\n",
        "        self.name = name"
      ],
      "execution_count": 26,
      "outputs": []
    },
    {
      "cell_type": "code",
      "metadata": {
        "colab": {
          "base_uri": "https://localhost:8080/",
          "height": 0
        },
        "id": "Y-goVLZhLJm5",
        "outputId": "722836e2-345c-480e-8b8c-3b0980637e44"
      },
      "source": [
        "aa = child('aa')\n",
        "print(aa.name)\n",
        "aa.update(100,102)\n",
        "print(aa.open)\n",
        "print(aa.close)\n",
        "print(aa.print_return())"
      ],
      "execution_count": 27,
      "outputs": [
        {
          "output_type": "stream",
          "name": "stdout",
          "text": [
            "aa\n",
            "100\n",
            "102\n",
            "0.020000000000000018\n",
            "None\n"
          ]
        }
      ]
    },
    {
      "cell_type": "code",
      "metadata": {
        "colab": {
          "base_uri": "https://localhost:8080/",
          "height": 0
        },
        "id": "Guh3ulzZLLL0",
        "outputId": "f07a5936-4e6f-4d57-f0b5-b68b0baa0ed4"
      },
      "source": [
        "aa = child('otro')\n",
        "print(aa.name)\n",
        "aa.update(50,98)\n",
        "print(aa.open)\n",
        "print(aa.close)\n",
        "print(aa.print_return())"
      ],
      "execution_count": 28,
      "outputs": [
        {
          "output_type": "stream",
          "name": "stdout",
          "text": [
            "otro\n",
            "50\n",
            "98\n",
            "0.96\n",
            "None\n"
          ]
        }
      ]
    },
    {
      "cell_type": "markdown",
      "metadata": {
        "id": "VH9Bi7H_LnQ9"
      },
      "source": [
        "#Tutorial 4"
      ]
    },
    {
      "cell_type": "code",
      "metadata": {
        "id": "eRdwsRV0LqtN"
      },
      "source": [
        "import numpy as np"
      ],
      "execution_count": 29,
      "outputs": []
    },
    {
      "cell_type": "code",
      "metadata": {
        "colab": {
          "base_uri": "https://localhost:8080/",
          "height": 0
        },
        "id": "nUuly7eQMsSk",
        "outputId": "4987171b-fa40-4e3d-ecf5-3103253e2f8f"
      },
      "source": [
        "price_list = [143.73, 145.83, 143.68, 144.02, 143.5, 142.62]\n",
        "price_array = np.array(price_list)\n",
        "print(price_array, type(price_array))"
      ],
      "execution_count": 30,
      "outputs": [
        {
          "output_type": "stream",
          "name": "stdout",
          "text": [
            "[143.73 145.83 143.68 144.02 143.5  142.62] <class 'numpy.ndarray'>\n"
          ]
        }
      ]
    },
    {
      "cell_type": "code",
      "metadata": {
        "colab": {
          "base_uri": "https://localhost:8080/",
          "height": 0
        },
        "id": "wADDAqs8Mvwr",
        "outputId": "8786b69a-bd52-492c-dfe4-d6f4165e7b6d"
      },
      "source": [
        "price_list = [1.7, 2.8, 3.6, 4.01, 5.53, 14.2362]\n",
        "price_array = np.array(price_list)\n",
        "print(price_array, type(price_array))"
      ],
      "execution_count": 31,
      "outputs": [
        {
          "output_type": "stream",
          "name": "stdout",
          "text": [
            "[ 1.7     2.8     3.6     4.01    5.53   14.2362] <class 'numpy.ndarray'>\n"
          ]
        }
      ]
    },
    {
      "cell_type": "code",
      "metadata": {
        "colab": {
          "base_uri": "https://localhost:8080/",
          "height": 0
        },
        "id": "qi3uhBZiNgkj",
        "outputId": "4e93d12d-47d8-4e68-d585-e120c9381f4f"
      },
      "source": [
        "Ar = np.array([[1,3],[2,4]])\n",
        "print(Ar, type(Ar))"
      ],
      "execution_count": 32,
      "outputs": [
        {
          "output_type": "stream",
          "name": "stdout",
          "text": [
            "[[1 3]\n",
            " [2 4]] <class 'numpy.ndarray'>\n"
          ]
        }
      ]
    },
    {
      "cell_type": "code",
      "metadata": {
        "colab": {
          "base_uri": "https://localhost:8080/",
          "height": 0
        },
        "id": "XG0rfvIFNo0q",
        "outputId": "51a87e77-1116-48d8-caa4-90144a9fa3c0"
      },
      "source": [
        "Ar = np.array([[1,-1],[-1,1]])\n",
        "print(Ar, type(Ar))"
      ],
      "execution_count": 33,
      "outputs": [
        {
          "output_type": "stream",
          "name": "stdout",
          "text": [
            "[[ 1 -1]\n",
            " [-1  1]] <class 'numpy.ndarray'>\n"
          ]
        }
      ]
    },
    {
      "cell_type": "code",
      "metadata": {
        "colab": {
          "base_uri": "https://localhost:8080/",
          "height": 0
        },
        "id": "47mMt0hDNyy8",
        "outputId": "747106a9-9bc3-43db-eaf0-e1792470d3b2"
      },
      "source": [
        "print(Ar.shape)"
      ],
      "execution_count": 34,
      "outputs": [
        {
          "output_type": "stream",
          "name": "stdout",
          "text": [
            "(2, 2)\n"
          ]
        }
      ]
    },
    {
      "cell_type": "code",
      "metadata": {
        "colab": {
          "base_uri": "https://localhost:8080/",
          "height": 0
        },
        "id": "ruTFEzCLN9Dn",
        "outputId": "169d2fdf-afb7-4bc0-d10f-2834e517e712"
      },
      "source": [
        "print(Ar[0])\n",
        "print(Ar[1])"
      ],
      "execution_count": 35,
      "outputs": [
        {
          "output_type": "stream",
          "name": "stdout",
          "text": [
            "[ 1 -1]\n",
            "[-1  1]\n"
          ]
        }
      ]
    },
    {
      "cell_type": "code",
      "metadata": {
        "colab": {
          "base_uri": "https://localhost:8080/",
          "height": 0
        },
        "id": "oejqWUCaOCwO",
        "outputId": "330e1ca7-1da9-4657-d019-b811761545a1"
      },
      "source": [
        "print('Primera columna: ', Ar[:,0])\n",
        "print('Segunda columna: ', Ar[:,1])"
      ],
      "execution_count": 38,
      "outputs": [
        {
          "output_type": "stream",
          "name": "stdout",
          "text": [
            "Primera columna:  [ 1 -1]\n",
            "Segunda columna:  [-1  1]\n"
          ]
        }
      ]
    },
    {
      "cell_type": "code",
      "metadata": {
        "colab": {
          "base_uri": "https://localhost:8080/",
          "height": 0
        },
        "id": "H0AxzmqGObXx",
        "outputId": "183c393b-2096-460e-b14c-132276ea9e8b"
      },
      "source": [
        "print(np.log(price_array))"
      ],
      "execution_count": 39,
      "outputs": [
        {
          "output_type": "stream",
          "name": "stdout",
          "text": [
            "[0.53062825 1.02961942 1.28093385 1.38879124 1.71018782 2.65578802]\n"
          ]
        }
      ]
    },
    {
      "cell_type": "code",
      "metadata": {
        "colab": {
          "base_uri": "https://localhost:8080/",
          "height": 0
        },
        "id": "_tJYnZVEOscO",
        "outputId": "7dd7972d-8b20-4c24-9bf9-9d04f6b6b81b"
      },
      "source": [
        "print(np.mean(price_array))\n",
        "print(np.std(price_array))\n",
        "print(np.sum(price_array))\n",
        "print(np.max(price_array))"
      ],
      "execution_count": 40,
      "outputs": [
        {
          "output_type": "stream",
          "name": "stdout",
          "text": [
            "5.3127\n",
            "4.156755599823818\n",
            "31.8762\n",
            "14.2362\n"
          ]
        }
      ]
    },
    {
      "cell_type": "code",
      "metadata": {
        "id": "E3Am4pJfOy5C"
      },
      "source": [
        "import pandas as pd"
      ],
      "execution_count": 41,
      "outputs": []
    },
    {
      "cell_type": "code",
      "metadata": {
        "colab": {
          "base_uri": "https://localhost:8080/",
          "height": 0
        },
        "id": "QcwdKDORPDoo",
        "outputId": "aa1b38bd-5642-44f6-a529-910e75a39778"
      },
      "source": [
        "price = [143.73, 145.83, 143.68, 144.02, 143.5, 142.62]\n",
        "s = pd.Series(price)\n",
        "s"
      ],
      "execution_count": 42,
      "outputs": [
        {
          "output_type": "execute_result",
          "data": {
            "text/plain": [
              "0    143.73\n",
              "1    145.83\n",
              "2    143.68\n",
              "3    144.02\n",
              "4    143.50\n",
              "5    142.62\n",
              "dtype: float64"
            ]
          },
          "metadata": {},
          "execution_count": 42
        }
      ]
    },
    {
      "cell_type": "code",
      "metadata": {
        "colab": {
          "base_uri": "https://localhost:8080/",
          "height": 0
        },
        "id": "NFJ4aJkIPFZL",
        "outputId": "2322a88b-f56a-4e43-e60f-d69cc243d2fc"
      },
      "source": [
        "price = [1.7, 2.8, 3.6, 4.01, 5.53, 14.2362]\n",
        "s = pd.Series(price)\n",
        "s"
      ],
      "execution_count": 43,
      "outputs": [
        {
          "output_type": "execute_result",
          "data": {
            "text/plain": [
              "0     1.7000\n",
              "1     2.8000\n",
              "2     3.6000\n",
              "3     4.0100\n",
              "4     5.5300\n",
              "5    14.2362\n",
              "dtype: float64"
            ]
          },
          "metadata": {},
          "execution_count": 43
        }
      ]
    },
    {
      "cell_type": "code",
      "metadata": {
        "colab": {
          "base_uri": "https://localhost:8080/",
          "height": 0
        },
        "id": "EE0PxMU5PVBi",
        "outputId": "f736ed5d-b10f-4bfe-ed57-99a743e140a6"
      },
      "source": [
        "s = pd.Series(price,index = ['a','b','c','d','e','f'])\n",
        "s"
      ],
      "execution_count": 44,
      "outputs": [
        {
          "output_type": "execute_result",
          "data": {
            "text/plain": [
              "a     1.7000\n",
              "b     2.8000\n",
              "c     3.6000\n",
              "d     4.0100\n",
              "e     5.5300\n",
              "f    14.2362\n",
              "dtype: float64"
            ]
          },
          "metadata": {},
          "execution_count": 44
        }
      ]
    },
    {
      "cell_type": "code",
      "metadata": {
        "colab": {
          "base_uri": "https://localhost:8080/",
          "height": 0
        },
        "id": "AGwGFlKiPWjp",
        "outputId": "0571264f-68be-4cd5-c7e3-840939d4cbca"
      },
      "source": [
        "s = pd.Series(price,index = ['1ro','2do','3ro','4to','5to','6to'])\n",
        "s"
      ],
      "execution_count": 45,
      "outputs": [
        {
          "output_type": "execute_result",
          "data": {
            "text/plain": [
              "1ro     1.7000\n",
              "2do     2.8000\n",
              "3ro     3.6000\n",
              "4to     4.0100\n",
              "5to     5.5300\n",
              "6to    14.2362\n",
              "dtype: float64"
            ]
          },
          "metadata": {},
          "execution_count": 45
        }
      ]
    },
    {
      "cell_type": "code",
      "metadata": {
        "colab": {
          "base_uri": "https://localhost:8080/",
          "height": 0
        },
        "id": "-47Qi27aQIZ1",
        "outputId": "b41b0264-fc83-4ec7-c4d4-aec277cede4c"
      },
      "source": [
        "s.index = [6,5,4,3,2,1]\n",
        "s"
      ],
      "execution_count": 46,
      "outputs": [
        {
          "output_type": "execute_result",
          "data": {
            "text/plain": [
              "6     1.7000\n",
              "5     2.8000\n",
              "4     3.6000\n",
              "3     4.0100\n",
              "2     5.5300\n",
              "1    14.2362\n",
              "dtype: float64"
            ]
          },
          "metadata": {},
          "execution_count": 46
        }
      ]
    },
    {
      "cell_type": "code",
      "metadata": {
        "colab": {
          "base_uri": "https://localhost:8080/",
          "height": 0
        },
        "id": "joBT3hw4QMpA",
        "outputId": "cc49250e-be3f-4e1a-cc2c-4cfc89ad087c"
      },
      "source": [
        "s.index = [1.1,1.2,1.3,1.4,1.5,1.6]\n",
        "s"
      ],
      "execution_count": 47,
      "outputs": [
        {
          "output_type": "execute_result",
          "data": {
            "text/plain": [
              "1.1     1.7000\n",
              "1.2     2.8000\n",
              "1.3     3.6000\n",
              "1.4     4.0100\n",
              "1.5     5.5300\n",
              "1.6    14.2362\n",
              "dtype: float64"
            ]
          },
          "metadata": {},
          "execution_count": 47
        }
      ]
    },
    {
      "cell_type": "code",
      "metadata": {
        "colab": {
          "base_uri": "https://localhost:8080/",
          "height": 0
        },
        "id": "rcYlxesbQn9N",
        "outputId": "79dcbae7-010f-4759-bc21-859829e8c4bd"
      },
      "source": [
        "print(s[1:])\n",
        "print(s[:-2])"
      ],
      "execution_count": 48,
      "outputs": [
        {
          "output_type": "stream",
          "name": "stdout",
          "text": [
            "1.1     1.7000\n",
            "1.2     2.8000\n",
            "1.3     3.6000\n",
            "1.4     4.0100\n",
            "1.5     5.5300\n",
            "1.6    14.2362\n",
            "dtype: float64\n",
            "Series([], dtype: float64)\n"
          ]
        }
      ]
    },
    {
      "cell_type": "code",
      "metadata": {
        "colab": {
          "base_uri": "https://localhost:8080/",
          "height": 0
        },
        "id": "vCOosJVvQ4sb",
        "outputId": "1f0bfc36-b0df-4704-9844-a77495b466d6"
      },
      "source": [
        "print(s[1.6:])\n",
        "print(s[:-1.5])"
      ],
      "execution_count": 50,
      "outputs": [
        {
          "output_type": "stream",
          "name": "stdout",
          "text": [
            "1.6    14.2362\n",
            "dtype: float64\n",
            "Series([], dtype: float64)\n"
          ]
        }
      ]
    },
    {
      "cell_type": "code",
      "metadata": {
        "colab": {
          "base_uri": "https://localhost:8080/",
          "height": 0
        },
        "id": "cBOqegzlVY3S",
        "outputId": "9c811dbb-35df-4b99-a038-a651397a6587"
      },
      "source": [
        "print(s[1.4])\n",
        "s[1.4] = 0\n",
        "print(s)"
      ],
      "execution_count": 51,
      "outputs": [
        {
          "output_type": "stream",
          "name": "stdout",
          "text": [
            "4.01\n",
            "1.1     1.7000\n",
            "1.2     2.8000\n",
            "1.3     3.6000\n",
            "1.4     0.0000\n",
            "1.5     5.5300\n",
            "1.6    14.2362\n",
            "dtype: float64\n"
          ]
        }
      ]
    },
    {
      "cell_type": "code",
      "metadata": {
        "colab": {
          "base_uri": "https://localhost:8080/",
          "height": 0
        },
        "id": "9ffXmK-cVahA",
        "outputId": "295ba6b0-42ce-4cff-ce60-b2fbf8b78e17"
      },
      "source": [
        "s = pd.Series(price, name = 'Apple Price List')\n",
        "print(s)\n",
        "print(s.name)"
      ],
      "execution_count": 52,
      "outputs": [
        {
          "output_type": "stream",
          "name": "stdout",
          "text": [
            "0     1.7000\n",
            "1     2.8000\n",
            "2     3.6000\n",
            "3     4.0100\n",
            "4     5.5300\n",
            "5    14.2362\n",
            "Name: Apple Price List, dtype: float64\n",
            "Apple Price List\n"
          ]
        }
      ]
    },
    {
      "cell_type": "code",
      "metadata": {
        "colab": {
          "base_uri": "https://localhost:8080/",
          "height": 0
        },
        "id": "5BjMJaPvVpOL",
        "outputId": "19692474-e5fd-4e71-c2da-0ff70727bef1"
      },
      "source": [
        "s = pd.Series(price, name = 'Lista de valores de FB')\n",
        "print(s)\n",
        "print(s.name)"
      ],
      "execution_count": 53,
      "outputs": [
        {
          "output_type": "stream",
          "name": "stdout",
          "text": [
            "0     1.7000\n",
            "1     2.8000\n",
            "2     3.6000\n",
            "3     4.0100\n",
            "4     5.5300\n",
            "5    14.2362\n",
            "Name: Lista de valores de FB, dtype: float64\n",
            "Lista de valores de FB\n"
          ]
        }
      ]
    },
    {
      "cell_type": "code",
      "metadata": {
        "colab": {
          "base_uri": "https://localhost:8080/",
          "height": 0
        },
        "id": "biwiqihNVx97",
        "outputId": "fb71ef31-6642-43cd-f194-78100ac85984"
      },
      "source": [
        "print(s.describe())"
      ],
      "execution_count": 54,
      "outputs": [
        {
          "output_type": "stream",
          "name": "stdout",
          "text": [
            "count     6.000000\n",
            "mean      5.312700\n",
            "std       4.553498\n",
            "min       1.700000\n",
            "25%       3.000000\n",
            "50%       3.805000\n",
            "75%       5.150000\n",
            "max      14.236200\n",
            "Name: Lista de valores de FB, dtype: float64\n"
          ]
        }
      ]
    },
    {
      "cell_type": "code",
      "metadata": {
        "colab": {
          "base_uri": "https://localhost:8080/",
          "height": 0
        },
        "id": "vbSFIkTIVywG",
        "outputId": "2d5059df-feed-4be3-c81e-efd627034182"
      },
      "source": [
        "time_index = pd.date_range('2017-01-01',periods = len(s),freq = 'D')\n",
        "print(time_index)\n",
        "s.index = time_index\n",
        "print(s)"
      ],
      "execution_count": 55,
      "outputs": [
        {
          "output_type": "stream",
          "name": "stdout",
          "text": [
            "DatetimeIndex(['2017-01-01', '2017-01-02', '2017-01-03', '2017-01-04',\n",
            "               '2017-01-05', '2017-01-06'],\n",
            "              dtype='datetime64[ns]', freq='D')\n",
            "2017-01-01     1.7000\n",
            "2017-01-02     2.8000\n",
            "2017-01-03     3.6000\n",
            "2017-01-04     4.0100\n",
            "2017-01-05     5.5300\n",
            "2017-01-06    14.2362\n",
            "Freq: D, Name: Lista de valores de FB, dtype: float64\n"
          ]
        }
      ]
    },
    {
      "cell_type": "code",
      "metadata": {
        "colab": {
          "base_uri": "https://localhost:8080/",
          "height": 0
        },
        "id": "_8TD2b5mWE9Z",
        "outputId": "c32ecdcb-7d68-4fcb-c973-878adcb6d0bd"
      },
      "source": [
        "time_index = pd.date_range('2021-10-18',periods = len(s),freq = 'D')\n",
        "print(time_index)\n",
        "s.index = time_index\n",
        "print(s)"
      ],
      "execution_count": 56,
      "outputs": [
        {
          "output_type": "stream",
          "name": "stdout",
          "text": [
            "DatetimeIndex(['2021-10-18', '2021-10-19', '2021-10-20', '2021-10-21',\n",
            "               '2021-10-22', '2021-10-23'],\n",
            "              dtype='datetime64[ns]', freq='D')\n",
            "2021-10-18     1.7000\n",
            "2021-10-19     2.8000\n",
            "2021-10-20     3.6000\n",
            "2021-10-21     4.0100\n",
            "2021-10-22     5.5300\n",
            "2021-10-23    14.2362\n",
            "Freq: D, Name: Lista de valores de FB, dtype: float64\n"
          ]
        }
      ]
    },
    {
      "cell_type": "code",
      "metadata": {
        "colab": {
          "base_uri": "https://localhost:8080/",
          "height": 0
        },
        "id": "KhuiK9BIWw2H",
        "outputId": "728afde9-4bae-4aeb-f957-9ec9797d95de"
      },
      "source": [
        "s.index = [6,5,4,3,2,1]\n",
        "print(s)\n",
        "print(s[1])"
      ],
      "execution_count": 57,
      "outputs": [
        {
          "output_type": "stream",
          "name": "stdout",
          "text": [
            "6     1.7000\n",
            "5     2.8000\n",
            "4     3.6000\n",
            "3     4.0100\n",
            "2     5.5300\n",
            "1    14.2362\n",
            "Name: Lista de valores de FB, dtype: float64\n",
            "14.2362\n"
          ]
        }
      ]
    },
    {
      "cell_type": "code",
      "metadata": {
        "colab": {
          "base_uri": "https://localhost:8080/",
          "height": 0
        },
        "id": "Xn9YatRdW-YD",
        "outputId": "ed27f5da-d4ea-4518-b866-390f6e568794"
      },
      "source": [
        "s.index = [1.1,1.2,1.3,1.4,1.5,1.6]\n",
        "print(s)\n",
        "print(s[1.6])"
      ],
      "execution_count": 58,
      "outputs": [
        {
          "output_type": "stream",
          "name": "stdout",
          "text": [
            "1.1     1.7000\n",
            "1.2     2.8000\n",
            "1.3     3.6000\n",
            "1.4     4.0100\n",
            "1.5     5.5300\n",
            "1.6    14.2362\n",
            "Name: Lista de valores de FB, dtype: float64\n",
            "14.2362\n"
          ]
        }
      ]
    },
    {
      "cell_type": "code",
      "metadata": {
        "colab": {
          "base_uri": "https://localhost:8080/",
          "height": 0
        },
        "id": "MCq1_MrgXL9z",
        "outputId": "4cd4d5fa-869e-4650-e1c2-9637741e61b0"
      },
      "source": [
        "print(s.iloc[1])"
      ],
      "execution_count": 60,
      "outputs": [
        {
          "output_type": "stream",
          "name": "stdout",
          "text": [
            "2.8\n"
          ]
        }
      ]
    },
    {
      "cell_type": "code",
      "metadata": {
        "colab": {
          "base_uri": "https://localhost:8080/",
          "height": 0
        },
        "id": "6EfklEW2XZRf",
        "outputId": "a1df029e-5489-4daa-b10b-d3d6f91f631c"
      },
      "source": [
        "print(s.iloc[5])"
      ],
      "execution_count": 61,
      "outputs": [
        {
          "output_type": "stream",
          "name": "stdout",
          "text": [
            "14.2362\n"
          ]
        }
      ]
    },
    {
      "cell_type": "code",
      "metadata": {
        "colab": {
          "base_uri": "https://localhost:8080/",
          "height": 0
        },
        "id": "QlztrLRbXbVU",
        "outputId": "b3e479f5-ffb3-45c8-a61d-d85c3dc5cdd9"
      },
      "source": [
        "s.index = time_index\n",
        "print(s['2021-10-18'])"
      ],
      "execution_count": 63,
      "outputs": [
        {
          "output_type": "stream",
          "name": "stdout",
          "text": [
            "1.7\n"
          ]
        }
      ]
    },
    {
      "cell_type": "code",
      "metadata": {
        "colab": {
          "base_uri": "https://localhost:8080/",
          "height": 0
        },
        "id": "mnz63Cq0YBJy",
        "outputId": "19151b0e-57e1-4e61-b099-28a44110aeff"
      },
      "source": [
        "print(s['2021-10-19':'2021-10-21'])"
      ],
      "execution_count": 64,
      "outputs": [
        {
          "output_type": "stream",
          "name": "stdout",
          "text": [
            "2021-10-19    2.80\n",
            "2021-10-20    3.60\n",
            "2021-10-21    4.01\n",
            "Freq: D, Name: Lista de valores de FB, dtype: float64\n"
          ]
        }
      ]
    },
    {
      "cell_type": "code",
      "metadata": {
        "colab": {
          "base_uri": "https://localhost:8080/",
          "height": 0
        },
        "id": "ZuAdfBiAYMjf",
        "outputId": "4de60266-f056-42c5-c6b7-dd2b0ff27b3a"
      },
      "source": [
        "print(s[s < np.mean(s)] )\n",
        "print([(s > np.mean(s)) & (s < np.mean(s) + 1.64*np.std(s))])"
      ],
      "execution_count": 65,
      "outputs": [
        {
          "output_type": "stream",
          "name": "stdout",
          "text": [
            "2021-10-18    1.70\n",
            "2021-10-19    2.80\n",
            "2021-10-20    3.60\n",
            "2021-10-21    4.01\n",
            "Freq: D, Name: Lista de valores de FB, dtype: float64\n",
            "[2021-10-18    False\n",
            "2021-10-19    False\n",
            "2021-10-20    False\n",
            "2021-10-21    False\n",
            "2021-10-22     True\n",
            "2021-10-23    False\n",
            "Freq: D, Name: Lista de valores de FB, dtype: bool]\n"
          ]
        }
      ]
    },
    {
      "cell_type": "code",
      "metadata": {
        "colab": {
          "base_uri": "https://localhost:8080/",
          "height": 0
        },
        "id": "OF9rNDJFYiFT",
        "outputId": "cfa36667-98ca-49f7-fd92-be7ffac37bd5"
      },
      "source": [
        "print(s[s < np.mean(s)] )\n",
        "print([(s > np.mean(s)) & (s < np.mean(s) + 10.0*np.std(s))])"
      ],
      "execution_count": 66,
      "outputs": [
        {
          "output_type": "stream",
          "name": "stdout",
          "text": [
            "2021-10-18    1.70\n",
            "2021-10-19    2.80\n",
            "2021-10-20    3.60\n",
            "2021-10-21    4.01\n",
            "Freq: D, Name: Lista de valores de FB, dtype: float64\n",
            "[2021-10-18    False\n",
            "2021-10-19    False\n",
            "2021-10-20    False\n",
            "2021-10-21    False\n",
            "2021-10-22     True\n",
            "2021-10-23     True\n",
            "Freq: D, Name: Lista de valores de FB, dtype: bool]\n"
          ]
        }
      ]
    },
    {
      "cell_type": "markdown",
      "metadata": {
        "id": "X-2bWr1WYrEN"
      },
      "source": [
        "#Tutorial 5"
      ]
    },
    {
      "cell_type": "code",
      "metadata": {
        "colab": {
          "base_uri": "https://localhost:8080/",
          "height": 0
        },
        "id": "WWJ6oIxeYtfV",
        "outputId": "4ecdc505-a1ba-4b2e-9f5a-225230d8ba15"
      },
      "source": [
        "!pip install yfinance"
      ],
      "execution_count": 68,
      "outputs": [
        {
          "output_type": "stream",
          "name": "stdout",
          "text": [
            "Collecting yfinance\n",
            "  Downloading yfinance-0.1.63.tar.gz (26 kB)\n",
            "Requirement already satisfied: pandas>=0.24 in /usr/local/lib/python3.7/dist-packages (from yfinance) (1.1.5)\n",
            "Requirement already satisfied: numpy>=1.15 in /usr/local/lib/python3.7/dist-packages (from yfinance) (1.19.5)\n",
            "Requirement already satisfied: requests>=2.20 in /usr/local/lib/python3.7/dist-packages (from yfinance) (2.23.0)\n",
            "Requirement already satisfied: multitasking>=0.0.7 in /usr/local/lib/python3.7/dist-packages (from yfinance) (0.0.9)\n",
            "Collecting lxml>=4.5.1\n",
            "  Downloading lxml-4.6.3-cp37-cp37m-manylinux2014_x86_64.whl (6.3 MB)\n",
            "\u001b[K     |████████████████████████████████| 6.3 MB 6.8 MB/s \n",
            "\u001b[?25hRequirement already satisfied: pytz>=2017.2 in /usr/local/lib/python3.7/dist-packages (from pandas>=0.24->yfinance) (2018.9)\n",
            "Requirement already satisfied: python-dateutil>=2.7.3 in /usr/local/lib/python3.7/dist-packages (from pandas>=0.24->yfinance) (2.8.2)\n",
            "Requirement already satisfied: six>=1.5 in /usr/local/lib/python3.7/dist-packages (from python-dateutil>=2.7.3->pandas>=0.24->yfinance) (1.15.0)\n",
            "Requirement already satisfied: chardet<4,>=3.0.2 in /usr/local/lib/python3.7/dist-packages (from requests>=2.20->yfinance) (3.0.4)\n",
            "Requirement already satisfied: urllib3!=1.25.0,!=1.25.1,<1.26,>=1.21.1 in /usr/local/lib/python3.7/dist-packages (from requests>=2.20->yfinance) (1.24.3)\n",
            "Requirement already satisfied: certifi>=2017.4.17 in /usr/local/lib/python3.7/dist-packages (from requests>=2.20->yfinance) (2021.5.30)\n",
            "Requirement already satisfied: idna<3,>=2.5 in /usr/local/lib/python3.7/dist-packages (from requests>=2.20->yfinance) (2.10)\n",
            "Building wheels for collected packages: yfinance\n",
            "  Building wheel for yfinance (setup.py) ... \u001b[?25l\u001b[?25hdone\n",
            "  Created wheel for yfinance: filename=yfinance-0.1.63-py2.py3-none-any.whl size=23918 sha256=ef2694128f0dbc451dbf3ffa6777c78c7cf7323e2df57ab753f60153d10ff402\n",
            "  Stored in directory: /root/.cache/pip/wheels/fe/87/8b/7ec24486e001d3926537f5f7801f57a74d181be25b11157983\n",
            "Successfully built yfinance\n",
            "Installing collected packages: lxml, yfinance\n",
            "  Attempting uninstall: lxml\n",
            "    Found existing installation: lxml 4.2.6\n",
            "    Uninstalling lxml-4.2.6:\n",
            "      Successfully uninstalled lxml-4.2.6\n",
            "Successfully installed lxml-4.6.3 yfinance-0.1.63\n"
          ]
        }
      ]
    },
    {
      "cell_type": "code",
      "metadata": {
        "colab": {
          "base_uri": "https://localhost:8080/",
          "height": 487
        },
        "id": "34TvmPDyg4kg",
        "outputId": "5483c64b-0513-40f5-9d28-41fe24e91923"
      },
      "source": [
        "import yfinance as yf\n",
        "\n",
        "aapl = yf.Ticker(\"AAPL\")\n",
        "\n",
        "# get stock info\n",
        "print(aapl.info)\n",
        "\n",
        "# get historical market data\n",
        "aapl_table = aapl.history(start=\"2016-01-01\",  end=\"2017-12-31\")\n",
        "aapl_table"
      ],
      "execution_count": 72,
      "outputs": [
        {
          "output_type": "stream",
          "name": "stdout",
          "text": [
            "{'zip': '95014', 'sector': 'Technology', 'fullTimeEmployees': 147000, 'longBusinessSummary': 'Apple Inc. designs, manufactures, and markets smartphones, personal computers, tablets, wearables, and accessories worldwide. It also sells various related services. The company offers iPhone, a line of smartphones; Mac, a line of personal computers; iPad, a line of multi-purpose tablets; and wearables, home, and accessories comprising AirPods, Apple TV, Apple Watch, Beats products, HomePod, iPod touch, and other Apple-branded and third-party accessories. It also provides AppleCare support services; cloud services store services; and operates various platforms, including the App Store, that allow customers to discover and download applications and digital content, such as books, music, video, games, and podcasts. In addition, the company offers various services, such as Apple Arcade, a game subscription service; Apple Music, which offers users a curated listening experience with on-demand radio stations; Apple News+, a subscription news and magazine service; Apple TV+, which offers exclusive original content; Apple Card, a co-branded credit card; and Apple Pay, a cashless payment service, as well as licenses its intellectual property. The company serves consumers, and small and mid-sized businesses; and the education, enterprise, and government markets. It sells and delivers third-party applications for its products through the App Store. The company also sells its products through its retail and online stores, and direct sales force; and third-party cellular network carriers, wholesalers, retailers, and resellers. Apple Inc. was founded in 1977 and is headquartered in Cupertino, California.', 'city': 'Cupertino', 'phone': '408-996-1010', 'state': 'CA', 'country': 'United States', 'companyOfficers': [], 'website': 'http://www.apple.com', 'maxAge': 1, 'address1': 'One Apple Park Way', 'industry': 'Consumer Electronics', 'ebitdaMargins': 0.31955, 'profitMargins': 0.25004, 'grossMargins': 0.41005, 'operatingCashflow': 104414003200, 'revenueGrowth': 0.364, 'operatingMargins': 0.28788, 'ebitda': 110934999040, 'targetLowPrice': 132, 'recommendationKey': 'buy', 'grossProfits': 104956000000, 'freeCashflow': 80625876992, 'targetMedianPrice': 169.64, 'currentPrice': 146.55, 'earningsGrowth': 1, 'currentRatio': 1.062, 'returnOnAssets': 0.19302, 'numberOfAnalystOpinions': 42, 'targetMeanPrice': 167.92, 'debtToEquity': 210.782, 'returnOnEquity': 1.27125, 'targetHighPrice': 190, 'totalCash': 61696000000, 'totalDebt': 135491002368, 'totalRevenue': 347155005440, 'totalCashPerShare': 3.732, 'financialCurrency': 'USD', 'revenuePerShare': 20.61, 'quickRatio': 0.887, 'recommendationMean': 1.9, 'exchange': 'NMS', 'shortName': 'Apple Inc.', 'longName': 'Apple Inc.', 'exchangeTimezoneName': 'America/New_York', 'exchangeTimezoneShortName': 'EDT', 'isEsgPopulated': False, 'gmtOffSetMilliseconds': '-14400000', 'quoteType': 'EQUITY', 'symbol': 'AAPL', 'messageBoardId': 'finmb_24937', 'market': 'us_market', 'annualHoldingsTurnover': None, 'enterpriseToRevenue': 7.109, 'beta3Year': None, 'enterpriseToEbitda': 22.247, '52WeekChange': 0.24883604, 'morningStarRiskRating': None, 'forwardEps': 5.68, 'revenueQuarterlyGrowth': None, 'sharesOutstanding': 16530199552, 'fundInceptionDate': None, 'annualReportExpenseRatio': None, 'totalAssets': None, 'bookValue': 3.882, 'sharesShort': 101107412, 'sharesPercentSharesOut': 0.0061000003, 'fundFamily': None, 'lastFiscalYearEnd': 1601078400, 'heldPercentInstitutions': 0.58701, 'netIncomeToCommon': 86801997824, 'trailingEps': 5.108, 'lastDividendValue': 0.22, 'SandP52WeekChange': 0.3047781, 'priceToBook': 37.75116, 'heldPercentInsiders': 0.00072999997, 'nextFiscalYearEnd': 1664150400, 'yield': None, 'mostRecentQuarter': 1624665600, 'shortRatio': 1.18, 'sharesShortPreviousMonthDate': 1630368000, 'floatShares': 16512974627, 'beta': 1.222222, 'enterpriseValue': 2468024156160, 'priceHint': 2, 'threeYearAverageReturn': None, 'lastSplitDate': 1598832000, 'lastSplitFactor': '4:1', 'legalType': None, 'lastDividendDate': 1628208000, 'morningStarOverallRating': None, 'earningsQuarterlyGrowth': 0.932, 'priceToSalesTrailing12Months': 6.978153, 'dateShortInterest': 1632960000, 'pegRatio': 1.38, 'ytdReturn': None, 'forwardPE': 25.801058, 'lastCapGain': None, 'shortPercentOfFloat': 0.0061000003, 'sharesShortPriorMonth': 96838699, 'impliedSharesOutstanding': None, 'category': None, 'fiveYearAverageReturn': None, 'previousClose': 144.84, 'regularMarketOpen': 143.445, 'twoHundredDayAverage': 138.76833, 'trailingAnnualDividendYield': 0.005764982, 'payoutRatio': 0.16309999, 'volume24Hr': None, 'regularMarketDayHigh': 146.84, 'navPrice': None, 'averageDailyVolume10Day': 68793633, 'regularMarketPreviousClose': 144.84, 'fiftyDayAverage': 146.59706, 'trailingAnnualDividendRate': 0.835, 'open': 143.445, 'toCurrency': None, 'averageVolume10days': 68793633, 'expireDate': None, 'algorithm': None, 'dividendRate': 0.88, 'exDividendDate': 1628208000, 'circulatingSupply': None, 'startDate': None, 'regularMarketDayLow': 143.16, 'currency': 'USD', 'trailingPE': 28.690292, 'regularMarketVolume': 79797028, 'lastMarket': None, 'maxSupply': None, 'openInterest': None, 'marketCap': 2422500753408, 'volumeAllCurrencies': None, 'strikePrice': None, 'averageVolume': 77415270, 'dayLow': 143.16, 'ask': 146.83, 'askSize': 1400, 'volume': 79797028, 'fiftyTwoWeekHigh': 157.26, 'fromCurrency': None, 'fiveYearAvgDividendYield': 1.24, 'fiftyTwoWeekLow': 107.32, 'bid': 146.82, 'tradeable': False, 'dividendYield': 0.0061000003, 'bidSize': 900, 'dayHigh': 146.84, 'regularMarketPrice': 146.55, 'logo_url': 'https://logo.clearbit.com/apple.com'}\n"
          ]
        },
        {
          "output_type": "execute_result",
          "data": {
            "text/html": [
              "<div>\n",
              "<style scoped>\n",
              "    .dataframe tbody tr th:only-of-type {\n",
              "        vertical-align: middle;\n",
              "    }\n",
              "\n",
              "    .dataframe tbody tr th {\n",
              "        vertical-align: top;\n",
              "    }\n",
              "\n",
              "    .dataframe thead th {\n",
              "        text-align: right;\n",
              "    }\n",
              "</style>\n",
              "<table border=\"1\" class=\"dataframe\">\n",
              "  <thead>\n",
              "    <tr style=\"text-align: right;\">\n",
              "      <th></th>\n",
              "      <th>Open</th>\n",
              "      <th>High</th>\n",
              "      <th>Low</th>\n",
              "      <th>Close</th>\n",
              "      <th>Volume</th>\n",
              "      <th>Dividends</th>\n",
              "      <th>Stock Splits</th>\n",
              "    </tr>\n",
              "    <tr>\n",
              "      <th>Date</th>\n",
              "      <th></th>\n",
              "      <th></th>\n",
              "      <th></th>\n",
              "      <th></th>\n",
              "      <th></th>\n",
              "      <th></th>\n",
              "      <th></th>\n",
              "    </tr>\n",
              "  </thead>\n",
              "  <tbody>\n",
              "    <tr>\n",
              "      <th>2016-01-04</th>\n",
              "      <td>23.655164</td>\n",
              "      <td>24.291441</td>\n",
              "      <td>23.514538</td>\n",
              "      <td>24.286829</td>\n",
              "      <td>270597600</td>\n",
              "      <td>0.0</td>\n",
              "      <td>0</td>\n",
              "    </tr>\n",
              "    <tr>\n",
              "      <th>2016-01-05</th>\n",
              "      <td>24.379047</td>\n",
              "      <td>24.402100</td>\n",
              "      <td>23.609061</td>\n",
              "      <td>23.678221</td>\n",
              "      <td>223164000</td>\n",
              "      <td>0.0</td>\n",
              "      <td>0</td>\n",
              "    </tr>\n",
              "    <tr>\n",
              "      <th>2016-01-06</th>\n",
              "      <td>23.182569</td>\n",
              "      <td>23.599838</td>\n",
              "      <td>23.023501</td>\n",
              "      <td>23.214844</td>\n",
              "      <td>273829600</td>\n",
              "      <td>0.0</td>\n",
              "      <td>0</td>\n",
              "    </tr>\n",
              "    <tr>\n",
              "      <th>2016-01-07</th>\n",
              "      <td>22.749168</td>\n",
              "      <td>23.083443</td>\n",
              "      <td>22.230465</td>\n",
              "      <td>22.235075</td>\n",
              "      <td>324377600</td>\n",
              "      <td>0.0</td>\n",
              "      <td>0</td>\n",
              "    </tr>\n",
              "    <tr>\n",
              "      <th>2016-01-08</th>\n",
              "      <td>22.719193</td>\n",
              "      <td>22.848292</td>\n",
              "      <td>22.306536</td>\n",
              "      <td>22.352642</td>\n",
              "      <td>283192000</td>\n",
              "      <td>0.0</td>\n",
              "      <td>0</td>\n",
              "    </tr>\n",
              "    <tr>\n",
              "      <th>...</th>\n",
              "      <td>...</td>\n",
              "      <td>...</td>\n",
              "      <td>...</td>\n",
              "      <td>...</td>\n",
              "      <td>...</td>\n",
              "      <td>...</td>\n",
              "      <td>...</td>\n",
              "    </tr>\n",
              "    <tr>\n",
              "      <th>2017-12-22</th>\n",
              "      <td>41.827749</td>\n",
              "      <td>42.004946</td>\n",
              "      <td>41.784649</td>\n",
              "      <td>41.906769</td>\n",
              "      <td>65397600</td>\n",
              "      <td>0.0</td>\n",
              "      <td>0</td>\n",
              "    </tr>\n",
              "    <tr>\n",
              "      <th>2017-12-26</th>\n",
              "      <td>40.898675</td>\n",
              "      <td>41.059108</td>\n",
              "      <td>40.630484</td>\n",
              "      <td>40.843601</td>\n",
              "      <td>132742000</td>\n",
              "      <td>0.0</td>\n",
              "      <td>0</td>\n",
              "    </tr>\n",
              "    <tr>\n",
              "      <th>2017-12-27</th>\n",
              "      <td>40.731058</td>\n",
              "      <td>40.893884</td>\n",
              "      <td>40.637671</td>\n",
              "      <td>40.850784</td>\n",
              "      <td>85992800</td>\n",
              "      <td>0.0</td>\n",
              "      <td>0</td>\n",
              "    </tr>\n",
              "    <tr>\n",
              "      <th>2017-12-28</th>\n",
              "      <td>40.946568</td>\n",
              "      <td>41.150105</td>\n",
              "      <td>40.822051</td>\n",
              "      <td>40.965725</td>\n",
              "      <td>65920800</td>\n",
              "      <td>0.0</td>\n",
              "      <td>0</td>\n",
              "    </tr>\n",
              "    <tr>\n",
              "      <th>2017-12-29</th>\n",
              "      <td>40.831629</td>\n",
              "      <td>40.848389</td>\n",
              "      <td>40.520339</td>\n",
              "      <td>40.522732</td>\n",
              "      <td>103999600</td>\n",
              "      <td>0.0</td>\n",
              "      <td>0</td>\n",
              "    </tr>\n",
              "  </tbody>\n",
              "</table>\n",
              "<p>503 rows × 7 columns</p>\n",
              "</div>"
            ],
            "text/plain": [
              "                 Open       High        Low  ...     Volume  Dividends  Stock Splits\n",
              "Date                                         ...                                    \n",
              "2016-01-04  23.655164  24.291441  23.514538  ...  270597600        0.0             0\n",
              "2016-01-05  24.379047  24.402100  23.609061  ...  223164000        0.0             0\n",
              "2016-01-06  23.182569  23.599838  23.023501  ...  273829600        0.0             0\n",
              "2016-01-07  22.749168  23.083443  22.230465  ...  324377600        0.0             0\n",
              "2016-01-08  22.719193  22.848292  22.306536  ...  283192000        0.0             0\n",
              "...               ...        ...        ...  ...        ...        ...           ...\n",
              "2017-12-22  41.827749  42.004946  41.784649  ...   65397600        0.0             0\n",
              "2017-12-26  40.898675  41.059108  40.630484  ...  132742000        0.0             0\n",
              "2017-12-27  40.731058  40.893884  40.637671  ...   85992800        0.0             0\n",
              "2017-12-28  40.946568  41.150105  40.822051  ...   65920800        0.0             0\n",
              "2017-12-29  40.831629  40.848389  40.520339  ...  103999600        0.0             0\n",
              "\n",
              "[503 rows x 7 columns]"
            ]
          },
          "metadata": {},
          "execution_count": 72
        }
      ]
    },
    {
      "cell_type": "code",
      "metadata": {
        "id": "_PjciamWhpLC"
      },
      "source": [
        "aapl = aapl_table['Close']['2017']"
      ],
      "execution_count": 73,
      "outputs": []
    },
    {
      "cell_type": "code",
      "metadata": {
        "colab": {
          "base_uri": "https://localhost:8080/",
          "height": 0
        },
        "id": "fkibMoIfkwc3",
        "outputId": "87050ea3-ce7c-48c5-a1ad-5c496623026b"
      },
      "source": [
        "print(aapl)"
      ],
      "execution_count": 74,
      "outputs": [
        {
          "output_type": "stream",
          "name": "stdout",
          "text": [
            "Date\n",
            "2017-01-03    27.372358\n",
            "2017-01-04    27.341726\n",
            "2017-01-05    27.480766\n",
            "2017-01-06    27.787132\n",
            "2017-01-09    28.041647\n",
            "                ...    \n",
            "2017-12-22    41.906769\n",
            "2017-12-26    40.843601\n",
            "2017-12-27    40.850784\n",
            "2017-12-28    40.965725\n",
            "2017-12-29    40.522732\n",
            "Name: Close, Length: 251, dtype: float64\n"
          ]
        }
      ]
    },
    {
      "cell_type": "code",
      "metadata": {
        "colab": {
          "base_uri": "https://localhost:8080/",
          "height": 0
        },
        "id": "MLri88EJk4pr",
        "outputId": "3af3371c-df9e-4d01-f4f0-56976c57bd1b"
      },
      "source": [
        "print(aapl['2017-3'])"
      ],
      "execution_count": 75,
      "outputs": [
        {
          "output_type": "stream",
          "name": "stdout",
          "text": [
            "Date\n",
            "2017-03-01    33.086292\n",
            "2017-03-02    32.889839\n",
            "2017-03-03    33.083916\n",
            "2017-03-06    32.979774\n",
            "2017-03-07    33.022381\n",
            "2017-03-08    32.899303\n",
            "2017-03-09    32.823563\n",
            "2017-03-10    32.932446\n",
            "2017-03-13    32.946640\n",
            "2017-03-14    32.896938\n",
            "2017-03-15    33.244869\n",
            "2017-03-16    33.299305\n",
            "2017-03-17    33.133625\n",
            "2017-03-20    33.481556\n",
            "2017-03-21    33.098114\n",
            "2017-03-22    33.472088\n",
            "2017-03-23    33.353737\n",
            "2017-03-24    33.287464\n",
            "2017-03-27    33.344276\n",
            "2017-03-28    34.035393\n",
            "2017-03-29    34.111130\n",
            "2017-03-30    34.066158\n",
            "2017-03-31    34.002258\n",
            "Name: Close, dtype: float64\n"
          ]
        }
      ]
    },
    {
      "cell_type": "code",
      "metadata": {
        "colab": {
          "base_uri": "https://localhost:8080/",
          "height": 0
        },
        "id": "NrhZBlK_k57Z",
        "outputId": "2fc0273d-bb92-4cf6-f9ad-bd449946d98e"
      },
      "source": [
        "print(aapl['2017-10'])"
      ],
      "execution_count": 79,
      "outputs": [
        {
          "output_type": "stream",
          "name": "stdout",
          "text": [
            "Date\n",
            "2017-10-02    36.698425\n",
            "2017-10-03    36.858295\n",
            "2017-10-04    36.619690\n",
            "2017-10-05    37.075420\n",
            "2017-10-06    37.053936\n",
            "2017-10-09    37.182774\n",
            "2017-10-10    37.197094\n",
            "2017-10-11    37.352188\n",
            "2017-10-12    37.220959\n",
            "2017-10-13    37.457169\n",
            "2017-10-16    38.146709\n",
            "2017-10-17    38.287476\n",
            "2017-10-18    38.118069\n",
            "2017-10-19    37.216183\n",
            "2017-10-20    37.280602\n",
            "2017-10-23    37.261517\n",
            "2017-10-24    37.483414\n",
            "2017-10-25    37.318783\n",
            "2017-10-26    37.557377\n",
            "2017-10-27    38.903057\n",
            "2017-10-30    39.778709\n",
            "2017-10-31    40.332245\n",
            "Name: Close, dtype: float64\n"
          ]
        }
      ]
    },
    {
      "cell_type": "code",
      "metadata": {
        "colab": {
          "base_uri": "https://localhost:8080/",
          "height": 0
        },
        "id": "EgbWVcqolQNw",
        "outputId": "0f7cefa7-88cf-4795-fe1d-ecc4fea0dd44"
      },
      "source": [
        "aapl['2017-2':'2017-4']"
      ],
      "execution_count": 80,
      "outputs": [
        {
          "output_type": "execute_result",
          "data": {
            "text/plain": [
              "Date\n",
              "2017-02-01    30.341726\n",
              "2017-02-02    30.289879\n",
              "2017-02-03    30.419498\n",
              "2017-02-06    30.704647\n",
              "2017-02-07    30.996874\n",
              "                ...    \n",
              "2017-04-24    33.997524\n",
              "2017-04-25    34.208176\n",
              "2017-04-26    34.006996\n",
              "2017-04-27    34.033028\n",
              "2017-04-28    33.999886\n",
              "Name: Close, Length: 61, dtype: float64"
            ]
          },
          "metadata": {},
          "execution_count": 80
        }
      ]
    },
    {
      "cell_type": "code",
      "metadata": {
        "colab": {
          "base_uri": "https://localhost:8080/",
          "height": 0
        },
        "id": "ROcjbPK4mjHD",
        "outputId": "85e683cc-fe2f-443f-fb36-690325ce795c"
      },
      "source": [
        "aapl['2017-8':'2017-12']"
      ],
      "execution_count": 81,
      "outputs": [
        {
          "output_type": "execute_result",
          "data": {
            "text/plain": [
              "Date\n",
              "2017-08-01    35.661274\n",
              "2017-08-02    37.346298\n",
              "2017-08-03    36.973167\n",
              "2017-08-04    37.168056\n",
              "2017-08-07    37.743187\n",
              "                ...    \n",
              "2017-12-22    41.906769\n",
              "2017-12-26    40.843601\n",
              "2017-12-27    40.850784\n",
              "2017-12-28    40.965725\n",
              "2017-12-29    40.522732\n",
              "Name: Close, Length: 106, dtype: float64"
            ]
          },
          "metadata": {},
          "execution_count": 81
        }
      ]
    },
    {
      "cell_type": "code",
      "metadata": {
        "colab": {
          "base_uri": "https://localhost:8080/",
          "height": 0
        },
        "id": "a0iz8lU4mnJF",
        "outputId": "dbd14cdf-5c43-4526-ce7e-bee9a7ab083d"
      },
      "source": [
        "print(aapl.head(5))\n",
        "print(aapl.tail(10))"
      ],
      "execution_count": 82,
      "outputs": [
        {
          "output_type": "stream",
          "name": "stdout",
          "text": [
            "Date\n",
            "2017-01-03    27.372358\n",
            "2017-01-04    27.341726\n",
            "2017-01-05    27.480766\n",
            "2017-01-06    27.787132\n",
            "2017-01-09    28.041647\n",
            "Name: Close, dtype: float64\n",
            "Date\n",
            "2017-12-15    41.657745\n",
            "2017-12-18    42.244411\n",
            "2017-12-19    41.794224\n",
            "2017-12-20    41.748730\n",
            "2017-12-21    41.906769\n",
            "2017-12-22    41.906769\n",
            "2017-12-26    40.843601\n",
            "2017-12-27    40.850784\n",
            "2017-12-28    40.965725\n",
            "2017-12-29    40.522732\n",
            "Name: Close, dtype: float64\n"
          ]
        }
      ]
    },
    {
      "cell_type": "code",
      "metadata": {
        "colab": {
          "base_uri": "https://localhost:8080/",
          "height": 0
        },
        "id": "16cyCE0dmssc",
        "outputId": "0a271d42-67a8-4f4c-d537-04cb8a5bb9c4"
      },
      "source": [
        "print(aapl.head(11))\n",
        "print(aapl.tail(15))"
      ],
      "execution_count": 83,
      "outputs": [
        {
          "output_type": "stream",
          "name": "stdout",
          "text": [
            "Date\n",
            "2017-01-03    27.372358\n",
            "2017-01-04    27.341726\n",
            "2017-01-05    27.480766\n",
            "2017-01-06    27.787132\n",
            "2017-01-09    28.041647\n",
            "2017-01-10    28.069929\n",
            "2017-01-11    28.220755\n",
            "2017-01-12    28.102915\n",
            "2017-01-13    28.053429\n",
            "2017-01-17    28.279667\n",
            "2017-01-18    28.277309\n",
            "Name: Close, dtype: float64\n",
            "Date\n",
            "2017-12-08    40.556252\n",
            "2017-12-11    41.346458\n",
            "2017-12-12    41.114178\n",
            "2017-12-13    41.250675\n",
            "2017-12-14    41.238705\n",
            "2017-12-15    41.657745\n",
            "2017-12-18    42.244411\n",
            "2017-12-19    41.794224\n",
            "2017-12-20    41.748730\n",
            "2017-12-21    41.906769\n",
            "2017-12-22    41.906769\n",
            "2017-12-26    40.843601\n",
            "2017-12-27    40.850784\n",
            "2017-12-28    40.965725\n",
            "2017-12-29    40.522732\n",
            "Name: Close, dtype: float64\n"
          ]
        }
      ]
    },
    {
      "cell_type": "code",
      "metadata": {
        "colab": {
          "base_uri": "https://localhost:8080/",
          "height": 0
        },
        "id": "tdqV64_Dm2rf",
        "outputId": "84bb4adf-717f-4268-c2dd-6b032febaffd"
      },
      "source": [
        "by_month = aapl.resample('M').mean()\n",
        "print(by_month)"
      ],
      "execution_count": 84,
      "outputs": [
        {
          "output_type": "stream",
          "name": "stdout",
          "text": [
            "Date\n",
            "2017-01-31    28.178332\n",
            "2017-02-28    31.606278\n",
            "2017-03-31    33.282220\n",
            "2017-04-30    33.819264\n",
            "2017-05-31    36.125684\n",
            "2017-06-30    35.133984\n",
            "2017-07-31    35.245241\n",
            "2017-08-31    37.897230\n",
            "2017-09-30    37.604737\n",
            "2017-10-31    37.654550\n",
            "2017-11-30    41.233917\n",
            "2017-12-31    41.160038\n",
            "Freq: M, Name: Close, dtype: float64\n"
          ]
        }
      ]
    },
    {
      "cell_type": "code",
      "metadata": {
        "colab": {
          "base_uri": "https://localhost:8080/",
          "height": 0
        },
        "id": "DFOZ3DVzoQN4",
        "outputId": "e4e6b654-2128-40ad-d671-467791a12075"
      },
      "source": [
        "by_week = aapl.resample('W').mean()\n",
        "print(by_week)"
      ],
      "execution_count": 89,
      "outputs": [
        {
          "output_type": "stream",
          "name": "stdout",
          "text": [
            "Date\n",
            "2017-01-08    27.495496\n",
            "2017-01-15    28.097735\n",
            "2017-01-22    28.266117\n",
            "2017-01-29    28.553981\n",
            "2017-02-05    29.662542\n",
            "2017-02-12    31.086280\n",
            "2017-02-19    31.947357\n",
            "2017-02-26    32.366760\n",
            "2017-03-05    32.778598\n",
            "2017-03-12    32.931493\n",
            "2017-03-19    33.104276\n",
            "2017-03-26    33.338592\n",
            "2017-04-02    33.911843\n",
            "2017-04-09    34.058591\n",
            "2017-04-16    33.588652\n",
            "2017-04-23    33.534567\n",
            "2017-04-30    34.049122\n",
            "2017-05-07    34.870423\n",
            "2017-05-14    36.524842\n",
            "2017-05-21    36.458392\n",
            "2017-05-28    36.533966\n",
            "2017-06-04    36.544188\n",
            "2017-06-11    36.491667\n",
            "2017-06-18    34.400708\n",
            "2017-06-25    34.657383\n",
            "2017-07-02    34.369811\n",
            "2017-07-09    34.134287\n",
            "2017-07-16    34.847988\n",
            "2017-07-23    35.709753\n",
            "2017-07-30    36.046280\n",
            "2017-08-06    36.499271\n",
            "2017-08-13    37.739790\n",
            "2017-08-20    38.068448\n",
            "2017-08-27    37.989239\n",
            "2017-09-03    38.928351\n",
            "2017-09-10    38.406775\n",
            "2017-09-17    38.183453\n",
            "2017-09-24    37.161308\n",
            "2017-10-01    36.520438\n",
            "2017-10-08    36.861153\n",
            "2017-10-15    37.282037\n",
            "2017-10-22    37.809808\n",
            "2017-10-29    37.704829\n",
            "2017-11-05    40.239675\n",
            "2017-11-12    41.824805\n",
            "2017-11-19    40.977219\n",
            "2017-11-26    41.488328\n",
            "2017-12-03    41.163989\n",
            "2017-12-10    40.570143\n",
            "2017-12-17    41.321552\n",
            "2017-12-24    41.920181\n",
            "2017-12-31    40.795711\n",
            "Freq: W-SUN, Name: Close, dtype: float64\n"
          ]
        }
      ]
    },
    {
      "cell_type": "code",
      "metadata": {
        "colab": {
          "base_uri": "https://localhost:8080/",
          "height": 0
        },
        "id": "1_gOYpPQo6tv",
        "outputId": "330f2948-9bc4-46da-c585-2cf47e03ef0f"
      },
      "source": [
        "by_week = aapl.resample('W').mean()\n",
        "print(by_week.head())"
      ],
      "execution_count": 90,
      "outputs": [
        {
          "output_type": "stream",
          "name": "stdout",
          "text": [
            "Date\n",
            "2017-01-08    27.495496\n",
            "2017-01-15    28.097735\n",
            "2017-01-22    28.266117\n",
            "2017-01-29    28.553981\n",
            "2017-02-05    29.662542\n",
            "Freq: W-SUN, Name: Close, dtype: float64\n"
          ]
        }
      ]
    },
    {
      "cell_type": "code",
      "metadata": {
        "colab": {
          "base_uri": "https://localhost:8080/",
          "height": 0
        },
        "id": "U8e0DBYno-a2",
        "outputId": "bb717ccb-518d-4c99-e2a1-5d01c11d1e68"
      },
      "source": [
        "\n",
        "by_week = aapl.resample('W').mean()\n",
        "print(by_week.tail())"
      ],
      "execution_count": 91,
      "outputs": [
        {
          "output_type": "stream",
          "name": "stdout",
          "text": [
            "Date\n",
            "2017-12-03    41.163989\n",
            "2017-12-10    40.570143\n",
            "2017-12-17    41.321552\n",
            "2017-12-24    41.920181\n",
            "2017-12-31    40.795711\n",
            "Freq: W-SUN, Name: Close, dtype: float64\n"
          ]
        }
      ]
    },
    {
      "cell_type": "code",
      "metadata": {
        "colab": {
          "base_uri": "https://localhost:8080/",
          "height": 0
        },
        "id": "o4z30lIrpBP1",
        "outputId": "fde0d91e-b898-4e54-d99a-6e929dd9acd5"
      },
      "source": [
        "aapl.resample('M').max()"
      ],
      "execution_count": 92,
      "outputs": [
        {
          "output_type": "execute_result",
          "data": {
            "text/plain": [
              "Date\n",
              "2017-01-31    28.739214\n",
              "2017-02-28    32.451969\n",
              "2017-03-31    34.111130\n",
              "2017-04-30    34.264980\n",
              "2017-05-31    37.099129\n",
              "2017-06-30    36.944649\n",
              "2017-07-31    36.471695\n",
              "2017-08-31    39.129730\n",
              "2017-09-30    39.141651\n",
              "2017-10-31    40.332245\n",
              "2017-11-30    42.050148\n",
              "2017-12-31    42.244411\n",
              "Freq: M, Name: Close, dtype: float64"
            ]
          },
          "metadata": {},
          "execution_count": 92
        }
      ]
    },
    {
      "cell_type": "code",
      "metadata": {
        "colab": {
          "base_uri": "https://localhost:8080/",
          "height": 0
        },
        "id": "zAKDbUeypFsB",
        "outputId": "2a2a11ab-4dcb-478f-f703-f8510954bd24"
      },
      "source": [
        "aapl.resample('W').max()"
      ],
      "execution_count": 93,
      "outputs": [
        {
          "output_type": "execute_result",
          "data": {
            "text/plain": [
              "Date\n",
              "2017-01-08    27.787132\n",
              "2017-01-15    28.220755\n",
              "2017-01-22    28.279667\n",
              "2017-01-29    28.739214\n",
              "2017-02-05    30.419498\n",
              "2017-02-12    31.341909\n",
              "2017-02-19    32.122982\n",
              "2017-02-26    32.451969\n",
              "2017-03-05    33.086292\n",
              "2017-03-12    33.022381\n",
              "2017-03-19    33.299305\n",
              "2017-03-26    33.481556\n",
              "2017-04-02    34.111130\n",
              "2017-04-09    34.264980\n",
              "2017-04-16    33.886284\n",
              "2017-04-23    33.713501\n",
              "2017-04-30    34.208176\n",
              "2017-05-07    35.256687\n",
              "2017-05-14    37.099129\n",
              "2017-05-21    37.004070\n",
              "2017-05-28    36.597656\n",
              "2017-06-04    36.944649\n",
              "2017-06-11    36.925640\n",
              "2017-06-18    34.838955\n",
              "2017-06-25    34.779537\n",
              "2017-07-02    34.658333\n",
              "2017-07-09    34.266190\n",
              "2017-07-16    35.421238\n",
              "2017-07-23    35.891804\n",
              "2017-07-30    36.471695\n",
              "2017-08-06    37.346298\n",
              "2017-08-13    38.277935\n",
              "2017-08-20    38.557098\n",
              "2017-08-27    38.170570\n",
              "2017-09-03    39.141651\n",
              "2017-09-10    38.671623\n",
              "2017-09-17    38.533234\n",
              "2017-09-24    37.872322\n",
              "2017-10-01    36.798641\n",
              "2017-10-08    37.075420\n",
              "2017-10-15    37.457169\n",
              "2017-10-22    38.287476\n",
              "2017-10-29    38.903057\n",
              "2017-11-05    41.157799\n",
              "2017-11-12    42.050148\n",
              "2017-11-19    41.657745\n",
              "2017-11-26    41.897202\n",
              "2017-12-03    41.686481\n",
              "2017-12-10    40.659218\n",
              "2017-12-17    41.657745\n",
              "2017-12-24    42.244411\n",
              "2017-12-31    40.965725\n",
              "Freq: W-SUN, Name: Close, dtype: float64"
            ]
          },
          "metadata": {},
          "execution_count": 93
        }
      ]
    },
    {
      "cell_type": "code",
      "metadata": {
        "colab": {
          "base_uri": "https://localhost:8080/",
          "height": 0
        },
        "id": "8bEC3LFZpJ5j",
        "outputId": "d30e2d40-5eb8-40d6-bdd0-d8c4226229ae"
      },
      "source": [
        "three_day = aapl.resample('3D').mean()\n",
        "two_week = aapl.resample('2W').mean()\n",
        "two_month = aapl.resample('2M').mean()\n",
        "\n",
        "\n",
        "print(three_day)\n",
        "print(two_week)\n",
        "print(two_month )"
      ],
      "execution_count": 94,
      "outputs": [
        {
          "output_type": "stream",
          "name": "stdout",
          "text": [
            "Date\n",
            "2017-01-03    27.398284\n",
            "2017-01-06    27.787132\n",
            "2017-01-09    28.110777\n",
            "2017-01-12    28.078172\n",
            "2017-01-15    28.279667\n",
            "                ...    \n",
            "2017-12-17    42.019318\n",
            "2017-12-20    41.854089\n",
            "2017-12-23          NaN\n",
            "2017-12-26    40.886703\n",
            "2017-12-29    40.522732\n",
            "Freq: 3D, Name: Close, Length: 121, dtype: float64\n",
            "Date\n",
            "2017-01-08    27.495496\n",
            "2017-01-22    28.172571\n",
            "2017-02-05    29.108261\n",
            "2017-02-19    31.516819\n",
            "2017-03-05    32.595559\n",
            "2017-03-19    33.017884\n",
            "2017-04-02    33.625217\n",
            "2017-04-16    33.849729\n",
            "2017-04-30    33.791845\n",
            "2017-05-14    35.697633\n",
            "2017-05-28    36.496179\n",
            "2017-06-11    36.515010\n",
            "2017-06-25    34.529045\n",
            "2017-07-09    34.265134\n",
            "2017-07-23    35.278870\n",
            "2017-08-06    36.272776\n",
            "2017-08-20    37.904119\n",
            "2017-09-03    38.458795\n",
            "2017-09-17    38.282707\n",
            "2017-10-01    36.840873\n",
            "2017-10-15    37.071595\n",
            "2017-10-29    37.757318\n",
            "2017-11-12    41.032240\n",
            "2017-11-26    41.204378\n",
            "2017-12-10    40.867066\n",
            "2017-12-24    41.620866\n",
            "2018-01-07    40.795711\n",
            "Freq: 2W-SUN, Name: Close, dtype: float64\n",
            "Date\n",
            "2017-01-31    28.178332\n",
            "2017-03-31    32.524056\n",
            "2017-05-31    35.056855\n",
            "2017-07-31    35.186963\n",
            "2017-09-30    37.761186\n",
            "2017-11-30    39.402613\n",
            "2018-01-31    41.160038\n",
            "Freq: 2M, Name: Close, dtype: float64\n"
          ]
        }
      ]
    },
    {
      "cell_type": "code",
      "metadata": {
        "colab": {
          "base_uri": "https://localhost:8080/",
          "height": 0
        },
        "id": "3G2H_MfGpWzS",
        "outputId": "0f312f02-9c84-4a68-b903-ec11a7d3630a"
      },
      "source": [
        "quince_dias = aapl.resample('15D').mean()\n",
        "tres_semanas = aapl.resample('3W').mean()\n",
        "semestral = aapl.resample('6M').mean()\n",
        "\n",
        "\n",
        "print(quince_dias)\n",
        "print(tres_semanas)\n",
        "print(semestral)"
      ],
      "execution_count": 95,
      "outputs": [
        {
          "output_type": "stream",
          "name": "stdout",
          "text": [
            "Date\n",
            "2017-01-03    27.875032\n",
            "2017-01-18    28.650731\n",
            "2017-02-02    31.250416\n",
            "2017-02-17    32.548301\n",
            "2017-03-04    33.017884\n",
            "2017-03-19    33.625217\n",
            "2017-04-03    33.821669\n",
            "2017-04-18    33.996019\n",
            "2017-05-03    36.093792\n",
            "2017-05-18    36.453161\n",
            "2017-06-02    35.582411\n",
            "2017-06-17    34.513597\n",
            "2017-07-02    34.530788\n",
            "2017-07-17    35.829793\n",
            "2017-08-01    37.504036\n",
            "2017-08-16    38.178378\n",
            "2017-08-31    38.466903\n",
            "2017-09-15    36.959585\n",
            "2017-09-30    37.071595\n",
            "2017-10-15    37.757318\n",
            "2017-10-30    41.089104\n",
            "2017-11-14    41.231037\n",
            "2017-11-29    40.841206\n",
            "2017-12-14    41.515746\n",
            "2017-12-29    40.522732\n",
            "Freq: 15D, Name: Close, dtype: float64\n",
            "Date\n",
            "2017-01-08    27.495496\n",
            "2017-01-29    28.308789\n",
            "2017-02-19    30.898727\n",
            "2017-03-12    32.715536\n",
            "2017-04-02    33.451570\n",
            "2017-04-23    33.737171\n",
            "2017-05-14    35.148129\n",
            "2017-06-04    36.509896\n",
            "2017-06-25    35.183253\n",
            "2017-07-16    34.473296\n",
            "2017-08-06    36.085101\n",
            "2017-08-27    37.932492\n",
            "2017-09-17    38.513294\n",
            "2017-10-08    36.847633\n",
            "2017-10-29    37.598891\n",
            "2017-11-19    41.013899\n",
            "2017-12-10    41.044570\n",
            "2017-12-31    41.385108\n",
            "Freq: 3W-SUN, Name: Close, dtype: float64\n",
            "Date\n",
            "2017-01-31    28.178332\n",
            "2017-07-31    34.249551\n",
            "2018-01-31    39.068341\n",
            "Freq: 6M, Name: Close, dtype: float64\n"
          ]
        }
      ]
    },
    {
      "cell_type": "code",
      "metadata": {
        "colab": {
          "base_uri": "https://localhost:8080/",
          "height": 0
        },
        "id": "GMI6eyXlpzjl",
        "outputId": "6bb7fb37-baaa-4fbb-8dc5-7dcd11e7f664"
      },
      "source": [
        "std = aapl.resample('W').std()\n",
        "maximo = aapl.resample('W').max()\n",
        "minimo = aapl.resample('W').min()\n",
        "\n",
        "\n",
        "print(std)\n",
        "print(maximo)\n",
        "print(minimo)"
      ],
      "execution_count": 96,
      "outputs": [
        {
          "output_type": "stream",
          "name": "stdout",
          "text": [
            "Date\n",
            "2017-01-08    0.203369\n",
            "2017-01-15    0.072531\n",
            "2017-01-22    0.025553\n",
            "2017-01-29    0.245287\n",
            "2017-02-05    0.943262\n",
            "2017-02-12    0.252002\n",
            "2017-02-19    0.231394\n",
            "2017-02-26    0.059346\n",
            "2017-03-05    0.340089\n",
            "2017-03-12    0.076285\n",
            "2017-03-19    0.177836\n",
            "2017-03-26    0.157268\n",
            "2017-04-02    0.319805\n",
            "2017-04-09    0.128689\n",
            "2017-04-16    0.212476\n",
            "2017-04-23    0.174674\n",
            "2017-04-30    0.090025\n",
            "2017-05-07    0.235636\n",
            "2017-05-14    0.352979\n",
            "2017-05-21    0.536091\n",
            "2017-05-28    0.060389\n",
            "2017-06-04    0.281222\n",
            "2017-06-11    0.620036\n",
            "2017-06-18    0.382562\n",
            "2017-06-25    0.128893\n",
            "2017-07-02    0.264111\n",
            "2017-07-09    0.158890\n",
            "2017-07-16    0.404285\n",
            "2017-07-23    0.124991\n",
            "2017-07-30    0.384443\n",
            "2017-08-06    0.924389\n",
            "2017-08-13    0.467466\n",
            "2017-08-20    0.435254\n",
            "2017-08-27    0.275765\n",
            "2017-09-03    0.251728\n",
            "2017-09-10    0.381644\n",
            "2017-09-17    0.294138\n",
            "2017-09-24    0.735191\n",
            "2017-10-01    0.354843\n",
            "2017-10-08    0.204859\n",
            "2017-10-15    0.118734\n",
            "2017-10-22    0.516997\n",
            "2017-10-29    0.680455\n",
            "2017-11-05    0.560686\n",
            "2017-11-12    0.190974\n",
            "2017-11-19    0.436199\n",
            "2017-11-26    0.563047\n",
            "2017-12-03    0.427445\n",
            "2017-12-10    0.073130\n",
            "2017-12-17    0.205267\n",
            "2017-12-24    0.194130\n",
            "2017-12-31    0.190393\n",
            "Freq: W-SUN, Name: Close, dtype: float64\n",
            "Date\n",
            "2017-01-08    27.787132\n",
            "2017-01-15    28.220755\n",
            "2017-01-22    28.279667\n",
            "2017-01-29    28.739214\n",
            "2017-02-05    30.419498\n",
            "2017-02-12    31.341909\n",
            "2017-02-19    32.122982\n",
            "2017-02-26    32.451969\n",
            "2017-03-05    33.086292\n",
            "2017-03-12    33.022381\n",
            "2017-03-19    33.299305\n",
            "2017-03-26    33.481556\n",
            "2017-04-02    34.111130\n",
            "2017-04-09    34.264980\n",
            "2017-04-16    33.886284\n",
            "2017-04-23    33.713501\n",
            "2017-04-30    34.208176\n",
            "2017-05-07    35.256687\n",
            "2017-05-14    37.099129\n",
            "2017-05-21    37.004070\n",
            "2017-05-28    36.597656\n",
            "2017-06-04    36.944649\n",
            "2017-06-11    36.925640\n",
            "2017-06-18    34.838955\n",
            "2017-06-25    34.779537\n",
            "2017-07-02    34.658333\n",
            "2017-07-09    34.266190\n",
            "2017-07-16    35.421238\n",
            "2017-07-23    35.891804\n",
            "2017-07-30    36.471695\n",
            "2017-08-06    37.346298\n",
            "2017-08-13    38.277935\n",
            "2017-08-20    38.557098\n",
            "2017-08-27    38.170570\n",
            "2017-09-03    39.141651\n",
            "2017-09-10    38.671623\n",
            "2017-09-17    38.533234\n",
            "2017-09-24    37.872322\n",
            "2017-10-01    36.798641\n",
            "2017-10-08    37.075420\n",
            "2017-10-15    37.457169\n",
            "2017-10-22    38.287476\n",
            "2017-10-29    38.903057\n",
            "2017-11-05    41.157799\n",
            "2017-11-12    42.050148\n",
            "2017-11-19    41.657745\n",
            "2017-11-26    41.897202\n",
            "2017-12-03    41.686481\n",
            "2017-12-10    40.659218\n",
            "2017-12-17    41.657745\n",
            "2017-12-24    42.244411\n",
            "2017-12-31    40.965725\n",
            "Freq: W-SUN, Name: Close, dtype: float64\n",
            "Date\n",
            "2017-01-08    27.341726\n",
            "2017-01-15    28.041647\n",
            "2017-01-22    28.227823\n",
            "2017-01-29    28.272596\n",
            "2017-02-05    28.597811\n",
            "2017-02-12    30.704647\n",
            "2017-02-19    31.547829\n",
            "2017-02-26    32.314690\n",
            "2017-03-05    32.409370\n",
            "2017-03-12    32.823563\n",
            "2017-03-19    32.896938\n",
            "2017-03-26    33.098114\n",
            "2017-04-02    33.344276\n",
            "2017-04-09    33.926517\n",
            "2017-04-16    33.384510\n",
            "2017-04-23    33.296925\n",
            "2017-04-30    33.997524\n",
            "2017-05-07    34.681545\n",
            "2017-05-14    36.215271\n",
            "2017-05-21    35.708809\n",
            "2017-05-28    36.443184\n",
            "2017-06-04    36.305336\n",
            "2017-06-11    35.406971\n",
            "2017-06-18    33.812263\n",
            "2017-06-25    34.463451\n",
            "2017-07-02    34.147350\n",
            "2017-07-09    33.921577\n",
            "2017-07-16    34.475334\n",
            "2017-07-23    35.544811\n",
            "2017-07-30    35.530552\n",
            "2017-08-06    35.347561\n",
            "2017-08-13    37.058720\n",
            "2017-08-20    37.578846\n",
            "2017-08-27    37.509663\n",
            "2017-09-03    38.526070\n",
            "2017-09-10    37.848454\n",
            "2017-09-17    37.764957\n",
            "2017-09-24    36.240330\n",
            "2017-10-01    35.920612\n",
            "2017-10-08    36.619690\n",
            "2017-10-15    37.182774\n",
            "2017-10-22    37.216183\n",
            "2017-10-29    37.261517\n",
            "2017-11-05    39.778709\n",
            "2017-11-12    41.575333\n",
            "2017-11-19    40.486813\n",
            "2017-11-26    40.702320\n",
            "2017-12-03    40.582596\n",
            "2017-12-10    40.470047\n",
            "2017-12-17    41.114178\n",
            "2017-12-24    41.748730\n",
            "2017-12-31    40.522732\n",
            "Freq: W-SUN, Name: Close, dtype: float64\n"
          ]
        }
      ]
    },
    {
      "cell_type": "code",
      "metadata": {
        "colab": {
          "base_uri": "https://localhost:8080/",
          "height": 0
        },
        "id": "h_ApBzl3p6RL",
        "outputId": "a24da23a-ebb0-4930-e4a4-977ae37367cd"
      },
      "source": [
        "std = aapl.resample('M').std()\n",
        "maximo = aapl.resample('M').max()\n",
        "minimo = aapl.resample('M').min()\n",
        "\n",
        "\n",
        "print(std)\n",
        "print(maximo)\n",
        "print(minimo)"
      ],
      "execution_count": 97,
      "outputs": [
        {
          "output_type": "stream",
          "name": "stdout",
          "text": [
            "Date\n",
            "2017-01-31    0.425089\n",
            "2017-02-28    0.773848\n",
            "2017-03-31    0.407925\n",
            "2017-04-30    0.291042\n",
            "2017-05-31    0.760189\n",
            "2017-06-30    1.053872\n",
            "2017-07-31    0.774826\n",
            "2017-08-31    0.767477\n",
            "2017-09-30    0.943680\n",
            "2017-10-31    0.946220\n",
            "2017-11-30    0.638005\n",
            "2017-12-31    0.551570\n",
            "Freq: M, Name: Close, dtype: float64\n",
            "Date\n",
            "2017-01-31    28.739214\n",
            "2017-02-28    32.451969\n",
            "2017-03-31    34.111130\n",
            "2017-04-30    34.264980\n",
            "2017-05-31    37.099129\n",
            "2017-06-30    36.944649\n",
            "2017-07-31    36.471695\n",
            "2017-08-31    39.129730\n",
            "2017-09-30    39.141651\n",
            "2017-10-31    40.332245\n",
            "2017-11-30    42.050148\n",
            "2017-12-31    42.244411\n",
            "Freq: M, Name: Close, dtype: float64\n",
            "Date\n",
            "2017-01-31    27.341726\n",
            "2017-02-28    30.289879\n",
            "2017-03-31    32.823563\n",
            "2017-04-30    33.296925\n",
            "2017-05-31    34.681545\n",
            "2017-06-30    33.812263\n",
            "2017-07-31    33.921577\n",
            "2017-08-31    35.661274\n",
            "2017-09-30    35.920612\n",
            "2017-10-31    36.619690\n",
            "2017-11-30    39.819267\n",
            "2017-12-31    40.470047\n",
            "Freq: M, Name: Close, dtype: float64\n"
          ]
        }
      ]
    },
    {
      "cell_type": "code",
      "metadata": {
        "colab": {
          "base_uri": "https://localhost:8080/",
          "height": 0
        },
        "id": "wy3DNTBup_I7",
        "outputId": "d36b06c7-4509-4ae6-de55-f229b6a6ee6c"
      },
      "source": [
        "last_day = aapl.resample('M').agg(lambda x: x[-1])\n",
        "print(last_day)"
      ],
      "execution_count": 112,
      "outputs": [
        {
          "output_type": "stream",
          "name": "stdout",
          "text": [
            "Date\n",
            "2017-01-31    28.597811\n",
            "2017-02-28    32.423573\n",
            "2017-03-31    34.002258\n",
            "2017-04-30    33.999886\n",
            "2017-05-31    36.305336\n",
            "2017-06-30    34.228168\n",
            "2017-07-31    35.347561\n",
            "2017-08-31    39.129730\n",
            "2017-09-30    36.772392\n",
            "2017-10-31    40.332245\n",
            "2017-11-30    41.150101\n",
            "2017-12-31    40.522732\n",
            "Freq: M, Name: Close, dtype: float64\n"
          ]
        }
      ]
    },
    {
      "cell_type": "code",
      "metadata": {
        "colab": {
          "base_uri": "https://localhost:8080/",
          "height": 0
        },
        "id": "EIElZvngqLoS",
        "outputId": "c60ffa6f-8605-4a51-fb69-a6a434190504"
      },
      "source": [
        "last_day_bimestre = aapl.resample('2M').agg(lambda x: x[-1])\n",
        "print(last_day_bimestre)"
      ],
      "execution_count": 113,
      "outputs": [
        {
          "output_type": "stream",
          "name": "stdout",
          "text": [
            "Date\n",
            "2017-01-31    28.597811\n",
            "2017-03-31    34.002258\n",
            "2017-05-31    36.305336\n",
            "2017-07-31    35.347561\n",
            "2017-09-30    36.772392\n",
            "2017-11-30    41.150101\n",
            "2018-01-31    40.522732\n",
            "Freq: 2M, Name: Close, dtype: float64\n"
          ]
        }
      ]
    },
    {
      "cell_type": "code",
      "metadata": {
        "colab": {
          "base_uri": "https://localhost:8080/",
          "height": 0
        },
        "id": "N4omGAbLrILW",
        "outputId": "04175b25-5214-49ac-b7ba-4a091b3dd457"
      },
      "source": [
        "monthly_return = aapl.resample('M').agg(lambda x: x[-1]/x[0] - 1)\n",
        "print(monthly_return)"
      ],
      "execution_count": 103,
      "outputs": [
        {
          "output_type": "stream",
          "name": "stdout",
          "text": [
            "Date\n",
            "2017-01-31    0.044770\n",
            "2017-02-28    0.068613\n",
            "2017-03-31    0.027684\n",
            "2017-04-30   -0.000348\n",
            "2017-05-31    0.046463\n",
            "2017-06-30   -0.059799\n",
            "2017-07-31    0.036446\n",
            "2017-08-31    0.097261\n",
            "2017-09-30   -0.060530\n",
            "2017-10-31    0.099018\n",
            "2017-11-30    0.033422\n",
            "2017-12-31   -0.010640\n",
            "Freq: M, Name: Close, dtype: float64\n"
          ]
        }
      ]
    },
    {
      "cell_type": "code",
      "metadata": {
        "colab": {
          "base_uri": "https://localhost:8080/",
          "height": 0
        },
        "id": "jZKfl_WvrPfG",
        "outputId": "85300245-ab1b-4362-e8d0-3da7ed1dd730"
      },
      "source": [
        "retorno_bimestre = aapl.resample('2M').agg(lambda x: x[-1]/x[0] - 1)\n",
        "print(retorno_bimestre)"
      ],
      "execution_count": 106,
      "outputs": [
        {
          "output_type": "stream",
          "name": "stdout",
          "text": [
            "Date\n",
            "2017-01-31    0.044770\n",
            "2017-03-31    0.120643\n",
            "2017-05-31    0.067436\n",
            "2017-07-31   -0.029051\n",
            "2017-09-30    0.031158\n",
            "2017-11-30    0.121304\n",
            "2018-01-31   -0.010640\n",
            "Freq: 2M, Name: Close, dtype: float64\n"
          ]
        }
      ]
    },
    {
      "cell_type": "code",
      "metadata": {
        "colab": {
          "base_uri": "https://localhost:8080/",
          "height": 0
        },
        "id": "mh2V4atZr4N8",
        "outputId": "5cb4ff10-7620-45e0-a84c-1935fe08bc4c"
      },
      "source": [
        "print(monthly_return.mean())\n",
        "print(monthly_return.std())\n",
        "print(monthly_return.max())"
      ],
      "execution_count": 104,
      "outputs": [
        {
          "output_type": "stream",
          "name": "stdout",
          "text": [
            "0.026863298899883804\n",
            "0.05225858325096619\n",
            "0.09901840613238377\n"
          ]
        }
      ]
    },
    {
      "cell_type": "code",
      "metadata": {
        "colab": {
          "base_uri": "https://localhost:8080/",
          "height": 0
        },
        "id": "iL8s7Vrjr6-T",
        "outputId": "0613e400-be19-4f2c-da0f-975755314ae6"
      },
      "source": [
        "print(retorno_bimestre.mean())\n",
        "print(retorno_bimestre.std())\n",
        "print(retorno_bimestre.max())"
      ],
      "execution_count": 107,
      "outputs": [
        {
          "output_type": "stream",
          "name": "stdout",
          "text": [
            "0.04937425690710828\n",
            "0.05871501180268884\n",
            "0.12130426249902282\n"
          ]
        }
      ]
    },
    {
      "cell_type": "code",
      "metadata": {
        "colab": {
          "base_uri": "https://localhost:8080/",
          "height": 0
        },
        "id": "atUoLjybsM1y",
        "outputId": "bac30893-ac91-4bab-c098-2eb652e54768"
      },
      "source": [
        "print(last_day.diff())\n",
        "print(last_day.pct_change())"
      ],
      "execution_count": 114,
      "outputs": [
        {
          "output_type": "stream",
          "name": "stdout",
          "text": [
            "Date\n",
            "2017-01-31         NaN\n",
            "2017-02-28    3.825762\n",
            "2017-03-31    1.578686\n",
            "2017-04-30   -0.002373\n",
            "2017-05-31    2.305450\n",
            "2017-06-30   -2.077168\n",
            "2017-07-31    1.119392\n",
            "2017-08-31    3.782169\n",
            "2017-09-30   -2.357338\n",
            "2017-10-31    3.559853\n",
            "2017-11-30    0.817856\n",
            "2017-12-31   -0.627369\n",
            "Freq: M, Name: Close, dtype: float64\n",
            "Date\n",
            "2017-01-31         NaN\n",
            "2017-02-28    0.133778\n",
            "2017-03-31    0.048689\n",
            "2017-04-30   -0.000070\n",
            "2017-05-31    0.067808\n",
            "2017-06-30   -0.057214\n",
            "2017-07-31    0.032704\n",
            "2017-08-31    0.106999\n",
            "2017-09-30   -0.060244\n",
            "2017-10-31    0.096808\n",
            "2017-11-30    0.020278\n",
            "2017-12-31   -0.015246\n",
            "Freq: M, Name: Close, dtype: float64\n"
          ]
        }
      ]
    },
    {
      "cell_type": "code",
      "metadata": {
        "colab": {
          "base_uri": "https://localhost:8080/",
          "height": 0
        },
        "id": "fYqtYIO3sZoJ",
        "outputId": "913e4ce0-cc47-41bf-9457-b73c776f53d0"
      },
      "source": [
        "print(last_day_bimestre.diff())\n",
        "print(last_day_bimestre.pct_change())"
      ],
      "execution_count": 115,
      "outputs": [
        {
          "output_type": "stream",
          "name": "stdout",
          "text": [
            "Date\n",
            "2017-01-31         NaN\n",
            "2017-03-31    5.404448\n",
            "2017-05-31    2.303078\n",
            "2017-07-31   -0.957775\n",
            "2017-09-30    1.424831\n",
            "2017-11-30    4.377708\n",
            "2018-01-31   -0.627369\n",
            "Freq: 2M, Name: Close, dtype: float64\n",
            "Date\n",
            "2017-01-31         NaN\n",
            "2017-03-31    0.188981\n",
            "2017-05-31    0.067733\n",
            "2017-07-31   -0.026381\n",
            "2017-09-30    0.040309\n",
            "2017-11-30    0.119049\n",
            "2018-01-31   -0.015246\n",
            "Freq: 2M, Name: Close, dtype: float64\n"
          ]
        }
      ]
    },
    {
      "cell_type": "code",
      "metadata": {
        "colab": {
          "base_uri": "https://localhost:8080/",
          "height": 0
        },
        "id": "VaDRMha9si97",
        "outputId": "dfe76c90-8892-4261-8f02-1e236d7f5f0c"
      },
      "source": [
        "daily_return = last_day.pct_change()\n",
        "print(daily_return.fillna(0))"
      ],
      "execution_count": 116,
      "outputs": [
        {
          "output_type": "stream",
          "name": "stdout",
          "text": [
            "Date\n",
            "2017-01-31    0.000000\n",
            "2017-02-28    0.133778\n",
            "2017-03-31    0.048689\n",
            "2017-04-30   -0.000070\n",
            "2017-05-31    0.067808\n",
            "2017-06-30   -0.057214\n",
            "2017-07-31    0.032704\n",
            "2017-08-31    0.106999\n",
            "2017-09-30   -0.060244\n",
            "2017-10-31    0.096808\n",
            "2017-11-30    0.020278\n",
            "2017-12-31   -0.015246\n",
            "Freq: M, Name: Close, dtype: float64\n"
          ]
        }
      ]
    },
    {
      "cell_type": "code",
      "metadata": {
        "colab": {
          "base_uri": "https://localhost:8080/",
          "height": 0
        },
        "id": "RaUj4X_4sx6p",
        "outputId": "b5651614-809d-44ad-b4d8-16e71178afdc"
      },
      "source": [
        "daily_return_bimestral = last_day_bimestre.pct_change()\n",
        "print(daily_return_bimestral.fillna(0))"
      ],
      "execution_count": 117,
      "outputs": [
        {
          "output_type": "stream",
          "name": "stdout",
          "text": [
            "Date\n",
            "2017-01-31    0.000000\n",
            "2017-03-31    0.188981\n",
            "2017-05-31    0.067733\n",
            "2017-07-31   -0.026381\n",
            "2017-09-30    0.040309\n",
            "2017-11-30    0.119049\n",
            "2018-01-31   -0.015246\n",
            "Freq: 2M, Name: Close, dtype: float64\n"
          ]
        }
      ]
    },
    {
      "cell_type": "code",
      "metadata": {
        "colab": {
          "base_uri": "https://localhost:8080/",
          "height": 0
        },
        "id": "zpMZ9--8s5-d",
        "outputId": "bb9d36ad-ca3b-43db-b82b-c8450c3c09c5"
      },
      "source": [
        "daily_return = last_day.pct_change()\n",
        "print(daily_return.fillna(method = 'bfill'))"
      ],
      "execution_count": 118,
      "outputs": [
        {
          "output_type": "stream",
          "name": "stdout",
          "text": [
            "Date\n",
            "2017-01-31    0.133778\n",
            "2017-02-28    0.133778\n",
            "2017-03-31    0.048689\n",
            "2017-04-30   -0.000070\n",
            "2017-05-31    0.067808\n",
            "2017-06-30   -0.057214\n",
            "2017-07-31    0.032704\n",
            "2017-08-31    0.106999\n",
            "2017-09-30   -0.060244\n",
            "2017-10-31    0.096808\n",
            "2017-11-30    0.020278\n",
            "2017-12-31   -0.015246\n",
            "Freq: M, Name: Close, dtype: float64\n"
          ]
        }
      ]
    },
    {
      "cell_type": "code",
      "metadata": {
        "colab": {
          "base_uri": "https://localhost:8080/",
          "height": 0
        },
        "id": "6uRlnNpntNFn",
        "outputId": "521feda1-bdc3-4e97-8a5f-508c6ddf02c2"
      },
      "source": [
        "print(daily_return_bimestral.fillna(method = 'bfill'))"
      ],
      "execution_count": 120,
      "outputs": [
        {
          "output_type": "stream",
          "name": "stdout",
          "text": [
            "Date\n",
            "2017-01-31    0.188981\n",
            "2017-03-31    0.188981\n",
            "2017-05-31    0.067733\n",
            "2017-07-31   -0.026381\n",
            "2017-09-30    0.040309\n",
            "2017-11-30    0.119049\n",
            "2018-01-31   -0.015246\n",
            "Freq: 2M, Name: Close, dtype: float64\n"
          ]
        }
      ]
    },
    {
      "cell_type": "code",
      "metadata": {
        "colab": {
          "base_uri": "https://localhost:8080/",
          "height": 0
        },
        "id": "EasK2WzbtQtw",
        "outputId": "8723cf44-9076-4029-8b4a-a60a39f83a8f"
      },
      "source": [
        "daily_return = last_day.pct_change()\n",
        "daily_return.dropna()"
      ],
      "execution_count": 121,
      "outputs": [
        {
          "output_type": "execute_result",
          "data": {
            "text/plain": [
              "Date\n",
              "2017-02-28    0.133778\n",
              "2017-03-31    0.048689\n",
              "2017-04-30   -0.000070\n",
              "2017-05-31    0.067808\n",
              "2017-06-30   -0.057214\n",
              "2017-07-31    0.032704\n",
              "2017-08-31    0.106999\n",
              "2017-09-30   -0.060244\n",
              "2017-10-31    0.096808\n",
              "2017-11-30    0.020278\n",
              "2017-12-31   -0.015246\n",
              "Freq: M, Name: Close, dtype: float64"
            ]
          },
          "metadata": {},
          "execution_count": 121
        }
      ]
    },
    {
      "cell_type": "code",
      "metadata": {
        "colab": {
          "base_uri": "https://localhost:8080/",
          "height": 0
        },
        "id": "6rq14OkBtv-1",
        "outputId": "047e6fe4-c384-482f-ef4f-4f8c9e99d5d3"
      },
      "source": [
        "daily_return_bimestral.dropna()"
      ],
      "execution_count": 122,
      "outputs": [
        {
          "output_type": "execute_result",
          "data": {
            "text/plain": [
              "Date\n",
              "2017-03-31    0.188981\n",
              "2017-05-31    0.067733\n",
              "2017-07-31   -0.026381\n",
              "2017-09-30    0.040309\n",
              "2017-11-30    0.119049\n",
              "2018-01-31   -0.015246\n",
              "Freq: 2M, Name: Close, dtype: float64"
            ]
          },
          "metadata": {},
          "execution_count": 122
        }
      ]
    },
    {
      "cell_type": "code",
      "metadata": {
        "colab": {
          "base_uri": "https://localhost:8080/",
          "height": 0
        },
        "id": "2FtqL5_TtzpB",
        "outputId": "1f8da655-ef05-48aa-cc43-aef4a8fa407f"
      },
      "source": [
        "dicta = {'AAPL': [143.5, 144.09, 142.73, 144.18, 143.77],'GOOG':[898.7, 911.71, 906.69, 918.59, 926.99],\n",
        "        'IBM':[155.58, 153.67, 152.36, 152.94, 153.49]}\n",
        "data_index = pd.date_range('2017-07-03',periods = 5, freq = 'D')\n",
        "df = pd.DataFrame(dicta, index = data_index)\n",
        "print(df)"
      ],
      "execution_count": 132,
      "outputs": [
        {
          "output_type": "stream",
          "name": "stdout",
          "text": [
            "              AAPL    GOOG     IBM\n",
            "2017-07-03  143.50  898.70  155.58\n",
            "2017-07-04  144.09  911.71  153.67\n",
            "2017-07-05  142.73  906.69  152.36\n",
            "2017-07-06  144.18  918.59  152.94\n",
            "2017-07-07  143.77  926.99  153.49\n"
          ]
        }
      ]
    },
    {
      "cell_type": "code",
      "metadata": {
        "colab": {
          "base_uri": "https://localhost:8080/",
          "height": 0
        },
        "id": "kc4TTJ-6ua-L",
        "outputId": "d6ce2005-2c4c-4cb1-ce01-fc76582796d0"
      },
      "source": [
        "dicta2 = {'fb': [143.5, 144.09, 142.73, 144.18, 143.77, 12.3],'microsoft':[898.7, 911.71, 906.69, 918.59, 926.99, 98.7],\n",
        "        'bitcoin':[155.58, 153.67, 152.36, 152.94, 153.49, 0.19]}\n",
        "data_index2 = pd.date_range('2017-02',periods = 6, freq = 'M')\n",
        "df2 = pd.DataFrame(dicta2, index = data_index2)\n",
        "print(df2)"
      ],
      "execution_count": 133,
      "outputs": [
        {
          "output_type": "stream",
          "name": "stdout",
          "text": [
            "                fb  microsoft  bitcoin\n",
            "2017-02-28  143.50     898.70   155.58\n",
            "2017-03-31  144.09     911.71   153.67\n",
            "2017-04-30  142.73     906.69   152.36\n",
            "2017-05-31  144.18     918.59   152.94\n",
            "2017-06-30  143.77     926.99   153.49\n",
            "2017-07-31   12.30      98.70     0.19\n"
          ]
        }
      ]
    },
    {
      "cell_type": "code",
      "metadata": {
        "colab": {
          "base_uri": "https://localhost:8080/",
          "height": 0
        },
        "id": "SWuy1iBSwu6i",
        "outputId": "7a71568b-c1bd-49b5-ed03-2ed6ab64a98f"
      },
      "source": [
        "df = aapl_table\n",
        "print(df.Close.tail(5))\n",
        "print(df['Volume'].tail(5))"
      ],
      "execution_count": 146,
      "outputs": [
        {
          "output_type": "stream",
          "name": "stdout",
          "text": [
            "Date\n",
            "2017-12-22    41.906769\n",
            "2017-12-26    40.843601\n",
            "2017-12-27    40.850784\n",
            "2017-12-28    40.965725\n",
            "2017-12-29    40.522732\n",
            "Name: Close, dtype: float64\n",
            "Date\n",
            "2017-12-22     65397600\n",
            "2017-12-26    132742000\n",
            "2017-12-27     85992800\n",
            "2017-12-28     65920800\n",
            "2017-12-29    103999600\n",
            "Name: Volume, dtype: int64\n"
          ]
        }
      ]
    },
    {
      "cell_type": "code",
      "metadata": {
        "colab": {
          "base_uri": "https://localhost:8080/",
          "height": 0
        },
        "id": "zsuoAFDNwwru",
        "outputId": "5b8673c3-48b1-4798-969f-3342c4bebe3e"
      },
      "source": [
        "df = aapl_table\n",
        "print(df.Close.tail(4))\n",
        "print(df['Volume'].tail(4))"
      ],
      "execution_count": 147,
      "outputs": [
        {
          "output_type": "stream",
          "name": "stdout",
          "text": [
            "Date\n",
            "2017-12-26    40.843601\n",
            "2017-12-27    40.850784\n",
            "2017-12-28    40.965725\n",
            "2017-12-29    40.522732\n",
            "Name: Close, dtype: float64\n",
            "Date\n",
            "2017-12-26    132742000\n",
            "2017-12-27     85992800\n",
            "2017-12-28     65920800\n",
            "2017-12-29    103999600\n",
            "Name: Volume, dtype: int64\n"
          ]
        }
      ]
    },
    {
      "cell_type": "code",
      "metadata": {
        "colab": {
          "base_uri": "https://localhost:8080/",
          "height": 0
        },
        "id": "VZWHzXAUufoE",
        "outputId": "1035cdf3-c4aa-4032-faf5-fb11a25f86b2"
      },
      "source": [
        "aapl_2016 = df['2016']\n",
        "aapl_month = aapl_2016.resample('M').agg(lambda x: x[-1])\n",
        "print(aapl_month)"
      ],
      "execution_count": 144,
      "outputs": [
        {
          "output_type": "stream",
          "name": "stdout",
          "text": [
            "                 Open       High        Low  ...     Volume  Dividends  Stock Splits\n",
            "Date                                         ...                                    \n",
            "2016-01-31  21.852388  22.440250  21.750952  ...  257666000        0.0             0\n",
            "2016-02-29  22.450761  22.768308  22.402086  ...  140865200        0.0             0\n",
            "2016-03-31  25.431518  25.473240  25.236817  ...  103553600        0.0             0\n",
            "2016-04-30  21.785535  21.954739  21.442493  ...  274126000        0.0             0\n",
            "2016-05-31  23.226400  23.412958  23.044506  ...  169228800        0.0             0\n",
            "2016-06-30  22.023112  22.333262  21.990464  ...  143345600        0.0             0\n",
            "2016-07-31  24.296780  24.380731  24.177849  ...  110934800        0.0             0\n",
            "2016-08-31  24.773058  24.986415  24.768367  ...  118649600        0.0             0\n",
            "2016-09-30  26.367386  26.580745  26.212643  ...  145516400        0.0             0\n",
            "2016-10-31  26.646396  26.782384  26.540888  ...  105677600        0.0             0\n",
            "2016-11-30  26.300090  26.441488  25.986656  ...  144649200        0.0             0\n",
            "2016-12-31  27.490193  27.619807  27.202683  ...  122345200        0.0             0\n",
            "\n",
            "[12 rows x 7 columns]\n"
          ]
        }
      ]
    },
    {
      "cell_type": "code",
      "metadata": {
        "colab": {
          "base_uri": "https://localhost:8080/",
          "height": 0
        },
        "id": "dRd2DL0_v82c",
        "outputId": "d7a14c9a-72fe-436d-c6f5-961c6f3ff7d9"
      },
      "source": [
        "aapl_2017 = df['2017']\n",
        "aapl_month = aapl_2017.resample('M').agg(lambda x: x[-1])\n",
        "print(aapl_month)"
      ],
      "execution_count": 137,
      "outputs": [
        {
          "output_type": "stream",
          "name": "stdout",
          "text": [
            "                 Open       High        Low  ...     Volume  Dividends  Stock Splits\n",
            "Date                                         ...                                    \n",
            "2017-01-31  28.550679  28.607238  28.425777  ...  196804000        0.0             0\n",
            "2017-02-28  32.444873  32.530080  32.354932  ...   93931600        0.0             0\n",
            "2017-03-31  34.016459  34.146637  33.848410  ...   78646800        0.0             0\n",
            "2017-04-30  34.104028  34.153733  33.909947  ...   83441600        0.0             0\n",
            "2017-05-31  36.592909  36.640441  36.215027  ...   97804800        0.0             0\n",
            "2017-06-30  34.330362  34.451572  34.171128  ...   92096400        0.0             0\n",
            "2017-07-31  35.625626  35.727823  35.204965  ...   79383600        0.0             0\n",
            "2017-08-31  39.043836  39.253801  39.005659  ...  107140400        0.0             0\n",
            "2017-09-30  36.555273  36.774781  36.266570  ...  105199200        0.0             0\n",
            "2017-10-31  40.060246  40.477789  39.831196  ...  144187200        0.0             0\n",
            "2017-11-30  40.810073  41.219541  40.333563  ...  166108800        0.0             0\n",
            "2017-12-31  40.831629  40.848389  40.520339  ...  103999600        0.0             0\n",
            "\n",
            "[12 rows x 7 columns]\n"
          ]
        }
      ]
    },
    {
      "cell_type": "code",
      "metadata": {
        "colab": {
          "base_uri": "https://localhost:8080/",
          "height": 0
        },
        "id": "27ud8Xm-wCaU",
        "outputId": "18502c73-211b-41bf-ccb6-eb77d460fb4f"
      },
      "source": [
        "aapl_bar = aapl_month[['Open', 'High', 'Low', 'Close']]\n",
        "print(aapl_bar)"
      ],
      "execution_count": 145,
      "outputs": [
        {
          "output_type": "stream",
          "name": "stdout",
          "text": [
            "                 Open       High        Low      Close\n",
            "Date                                                  \n",
            "2016-01-31  21.852388  22.440250  21.750952  22.440250\n",
            "2016-02-29  22.450761  22.768308  22.402086  22.411358\n",
            "2016-03-31  25.431518  25.473240  25.236817  25.262314\n",
            "2016-04-30  21.785535  21.954739  21.442493  21.727589\n",
            "2016-05-31  23.226400  23.412958  23.044506  23.287031\n",
            "2016-06-30  22.023112  22.333262  21.990464  22.293619\n",
            "2016-07-31  24.296780  24.380731  24.177849  24.301443\n",
            "2016-08-31  24.773058  24.986415  24.768367  24.876219\n",
            "2016-09-30  26.367386  26.580745  26.212643  26.505718\n",
            "2016-10-31  26.646396  26.782384  26.540888  26.620605\n",
            "2016-11-30  26.300090  26.441488  25.986656  26.045572\n",
            "2016-12-31  27.490193  27.619807  27.202683  27.294592\n"
          ]
        }
      ]
    },
    {
      "cell_type": "code",
      "metadata": {
        "colab": {
          "base_uri": "https://localhost:8080/",
          "height": 0
        },
        "id": "01rj95nuw2iu",
        "outputId": "ab415555-2a32-4fd6-e924-a193b1533e2a"
      },
      "source": [
        "aapl_bar = aapl_month[['Open', 'High', 'Low', 'Close', 'Volume']]\n",
        "print(aapl_bar)"
      ],
      "execution_count": 148,
      "outputs": [
        {
          "output_type": "stream",
          "name": "stdout",
          "text": [
            "                 Open       High        Low      Close     Volume\n",
            "Date                                                             \n",
            "2016-01-31  21.852388  22.440250  21.750952  22.440250  257666000\n",
            "2016-02-29  22.450761  22.768308  22.402086  22.411358  140865200\n",
            "2016-03-31  25.431518  25.473240  25.236817  25.262314  103553600\n",
            "2016-04-30  21.785535  21.954739  21.442493  21.727589  274126000\n",
            "2016-05-31  23.226400  23.412958  23.044506  23.287031  169228800\n",
            "2016-06-30  22.023112  22.333262  21.990464  22.293619  143345600\n",
            "2016-07-31  24.296780  24.380731  24.177849  24.301443  110934800\n",
            "2016-08-31  24.773058  24.986415  24.768367  24.876219  118649600\n",
            "2016-09-30  26.367386  26.580745  26.212643  26.505718  145516400\n",
            "2016-10-31  26.646396  26.782384  26.540888  26.620605  105677600\n",
            "2016-11-30  26.300090  26.441488  25.986656  26.045572  144649200\n",
            "2016-12-31  27.490193  27.619807  27.202683  27.294592  122345200\n"
          ]
        }
      ]
    },
    {
      "cell_type": "code",
      "metadata": {
        "colab": {
          "base_uri": "https://localhost:8080/",
          "height": 0
        },
        "id": "BxddO-gQxLHz",
        "outputId": "12275740-c93d-42af-827d-d80f14d23d72"
      },
      "source": [
        "print(aapl_month.loc['2016-03':'2016-06',['Open', 'High', 'Low', 'Close']])"
      ],
      "execution_count": 149,
      "outputs": [
        {
          "output_type": "stream",
          "name": "stdout",
          "text": [
            "                 Open       High        Low      Close\n",
            "Date                                                  \n",
            "2016-03-31  25.431518  25.473240  25.236817  25.262314\n",
            "2016-04-30  21.785535  21.954739  21.442493  21.727589\n",
            "2016-05-31  23.226400  23.412958  23.044506  23.287031\n",
            "2016-06-30  22.023112  22.333262  21.990464  22.293619\n"
          ]
        }
      ]
    },
    {
      "cell_type": "code",
      "metadata": {
        "colab": {
          "base_uri": "https://localhost:8080/",
          "height": 0
        },
        "id": "pOKN0KA1xOrF",
        "outputId": "a94d76e0-c37d-4886-faa7-ee20f96c2e34"
      },
      "source": [
        "print(aapl_month.loc['2016-01':'2016-10',['High', 'Low']])"
      ],
      "execution_count": 151,
      "outputs": [
        {
          "output_type": "stream",
          "name": "stdout",
          "text": [
            "                 High        Low\n",
            "Date                            \n",
            "2016-01-31  22.440250  21.750952\n",
            "2016-02-29  22.768308  22.402086\n",
            "2016-03-31  25.473240  25.236817\n",
            "2016-04-30  21.954739  21.442493\n",
            "2016-05-31  23.412958  23.044506\n",
            "2016-06-30  22.333262  21.990464\n",
            "2016-07-31  24.380731  24.177849\n",
            "2016-08-31  24.986415  24.768367\n",
            "2016-09-30  26.580745  26.212643\n",
            "2016-10-31  26.782384  26.540888\n"
          ]
        }
      ]
    },
    {
      "cell_type": "code",
      "metadata": {
        "colab": {
          "base_uri": "https://localhost:8080/",
          "height": 0
        },
        "id": "NGrF47Krxgue",
        "outputId": "c475b058-0b2a-41f9-c5a5-e4c3a2eca4f5"
      },
      "source": [
        "import numpy as np\n",
        "\n",
        "above = aapl_bar[aapl_bar.Close > np.mean(aapl_bar.Close)]\n",
        "print(above)"
      ],
      "execution_count": 152,
      "outputs": [
        {
          "output_type": "stream",
          "name": "stdout",
          "text": [
            "                 Open       High        Low      Close     Volume\n",
            "Date                                                             \n",
            "2016-03-31  25.431518  25.473240  25.236817  25.262314  103553600\n",
            "2016-08-31  24.773058  24.986415  24.768367  24.876219  118649600\n",
            "2016-09-30  26.367386  26.580745  26.212643  26.505718  145516400\n",
            "2016-10-31  26.646396  26.782384  26.540888  26.620605  105677600\n",
            "2016-11-30  26.300090  26.441488  25.986656  26.045572  144649200\n",
            "2016-12-31  27.490193  27.619807  27.202683  27.294592  122345200\n"
          ]
        }
      ]
    },
    {
      "cell_type": "code",
      "metadata": {
        "colab": {
          "base_uri": "https://localhost:8080/",
          "height": 0
        },
        "id": "xpGSNbLSxlXp",
        "outputId": "392f4454-056a-4fd7-ba63-575e3651385c"
      },
      "source": [
        "aapl_bar['rate_return'] = aapl_bar.Close.pct_change()\n",
        "print(aapl_bar)"
      ],
      "execution_count": 153,
      "outputs": [
        {
          "output_type": "stream",
          "name": "stdout",
          "text": [
            "                 Open       High        Low      Close     Volume  rate_return\n",
            "Date                                                                          \n",
            "2016-01-31  21.852388  22.440250  21.750952  22.440250  257666000          NaN\n",
            "2016-02-29  22.450761  22.768308  22.402086  22.411358  140865200    -0.001288\n",
            "2016-03-31  25.431518  25.473240  25.236817  25.262314  103553600     0.127210\n",
            "2016-04-30  21.785535  21.954739  21.442493  21.727589  274126000    -0.139921\n",
            "2016-05-31  23.226400  23.412958  23.044506  23.287031  169228800     0.071772\n",
            "2016-06-30  22.023112  22.333262  21.990464  22.293619  143345600    -0.042659\n",
            "2016-07-31  24.296780  24.380731  24.177849  24.301443  110934800     0.090063\n",
            "2016-08-31  24.773058  24.986415  24.768367  24.876219  118649600     0.023652\n",
            "2016-09-30  26.367386  26.580745  26.212643  26.505718  145516400     0.065504\n",
            "2016-10-31  26.646396  26.782384  26.540888  26.620605  105677600     0.004334\n",
            "2016-11-30  26.300090  26.441488  25.986656  26.045572  144649200    -0.021601\n",
            "2016-12-31  27.490193  27.619807  27.202683  27.294592  122345200     0.047955\n"
          ]
        },
        {
          "output_type": "stream",
          "name": "stderr",
          "text": [
            "/usr/local/lib/python3.7/dist-packages/ipykernel_launcher.py:1: SettingWithCopyWarning: \n",
            "A value is trying to be set on a copy of a slice from a DataFrame.\n",
            "Try using .loc[row_indexer,col_indexer] = value instead\n",
            "\n",
            "See the caveats in the documentation: https://pandas.pydata.org/pandas-docs/stable/user_guide/indexing.html#returning-a-view-versus-a-copy\n",
            "  \"\"\"Entry point for launching an IPython kernel.\n"
          ]
        }
      ]
    },
    {
      "cell_type": "code",
      "metadata": {
        "colab": {
          "base_uri": "https://localhost:8080/",
          "height": 0
        },
        "id": "Nyp9JKTnx__G",
        "outputId": "1437625d-4be9-4083-df10-6ada4d0101d4"
      },
      "source": [
        "missing = aapl_bar.isnull()\n",
        "print(missing)\n",
        "print('---------------------------------------------')\n",
        "print(missing.describe())"
      ],
      "execution_count": 154,
      "outputs": [
        {
          "output_type": "stream",
          "name": "stdout",
          "text": [
            "             Open   High    Low  Close  Volume  rate_return\n",
            "Date                                                       \n",
            "2016-01-31  False  False  False  False   False         True\n",
            "2016-02-29  False  False  False  False   False        False\n",
            "2016-03-31  False  False  False  False   False        False\n",
            "2016-04-30  False  False  False  False   False        False\n",
            "2016-05-31  False  False  False  False   False        False\n",
            "2016-06-30  False  False  False  False   False        False\n",
            "2016-07-31  False  False  False  False   False        False\n",
            "2016-08-31  False  False  False  False   False        False\n",
            "2016-09-30  False  False  False  False   False        False\n",
            "2016-10-31  False  False  False  False   False        False\n",
            "2016-11-30  False  False  False  False   False        False\n",
            "2016-12-31  False  False  False  False   False        False\n",
            "---------------------------------------------\n",
            "         Open   High    Low  Close Volume rate_return\n",
            "count      12     12     12     12     12          12\n",
            "unique      1      1      1      1      1           2\n",
            "top     False  False  False  False  False       False\n",
            "freq       12     12     12     12     12          11\n"
          ]
        }
      ]
    },
    {
      "cell_type": "code",
      "metadata": {
        "colab": {
          "base_uri": "https://localhost:8080/",
          "height": 0
        },
        "id": "-jxBe4_8yDYr",
        "outputId": "4af25bd9-55a0-412f-9b80-2a01c66f7b83"
      },
      "source": [
        "print(missing[missing.rate_return == True])"
      ],
      "execution_count": 155,
      "outputs": [
        {
          "output_type": "stream",
          "name": "stdout",
          "text": [
            "             Open   High    Low  Close  Volume  rate_return\n",
            "Date                                                       \n",
            "2016-01-31  False  False  False  False   False         True\n"
          ]
        }
      ]
    },
    {
      "cell_type": "code",
      "metadata": {
        "colab": {
          "base_uri": "https://localhost:8080/",
          "height": 0
        },
        "id": "0T6OxmAsyGcm",
        "outputId": "48719dff-48af-4925-d8ba-f2e8fd5c2fd8"
      },
      "source": [
        "print(missing[missing.rate_return == False])"
      ],
      "execution_count": 156,
      "outputs": [
        {
          "output_type": "stream",
          "name": "stdout",
          "text": [
            "             Open   High    Low  Close  Volume  rate_return\n",
            "Date                                                       \n",
            "2016-02-29  False  False  False  False   False        False\n",
            "2016-03-31  False  False  False  False   False        False\n",
            "2016-04-30  False  False  False  False   False        False\n",
            "2016-05-31  False  False  False  False   False        False\n",
            "2016-06-30  False  False  False  False   False        False\n",
            "2016-07-31  False  False  False  False   False        False\n",
            "2016-08-31  False  False  False  False   False        False\n",
            "2016-09-30  False  False  False  False   False        False\n",
            "2016-10-31  False  False  False  False   False        False\n",
            "2016-11-30  False  False  False  False   False        False\n",
            "2016-12-31  False  False  False  False   False        False\n"
          ]
        }
      ]
    },
    {
      "cell_type": "code",
      "metadata": {
        "colab": {
          "base_uri": "https://localhost:8080/",
          "height": 0
        },
        "id": "sZtnm2WyyKV-",
        "outputId": "be56dee2-6fed-47d2-ae2e-3cac12d355ca"
      },
      "source": [
        "drop = aapl_bar.dropna()\n",
        "print(drop)\n",
        "print('\\n--------------------------------------------------\\n')\n",
        "fill = aapl_bar.fillna(0)\n",
        "print(fill)"
      ],
      "execution_count": 157,
      "outputs": [
        {
          "output_type": "stream",
          "name": "stdout",
          "text": [
            "                 Open       High        Low      Close     Volume  rate_return\n",
            "Date                                                                          \n",
            "2016-02-29  22.450761  22.768308  22.402086  22.411358  140865200    -0.001288\n",
            "2016-03-31  25.431518  25.473240  25.236817  25.262314  103553600     0.127210\n",
            "2016-04-30  21.785535  21.954739  21.442493  21.727589  274126000    -0.139921\n",
            "2016-05-31  23.226400  23.412958  23.044506  23.287031  169228800     0.071772\n",
            "2016-06-30  22.023112  22.333262  21.990464  22.293619  143345600    -0.042659\n",
            "2016-07-31  24.296780  24.380731  24.177849  24.301443  110934800     0.090063\n",
            "2016-08-31  24.773058  24.986415  24.768367  24.876219  118649600     0.023652\n",
            "2016-09-30  26.367386  26.580745  26.212643  26.505718  145516400     0.065504\n",
            "2016-10-31  26.646396  26.782384  26.540888  26.620605  105677600     0.004334\n",
            "2016-11-30  26.300090  26.441488  25.986656  26.045572  144649200    -0.021601\n",
            "2016-12-31  27.490193  27.619807  27.202683  27.294592  122345200     0.047955\n",
            "\n",
            "--------------------------------------------------\n",
            "\n",
            "                 Open       High        Low      Close     Volume  rate_return\n",
            "Date                                                                          \n",
            "2016-01-31  21.852388  22.440250  21.750952  22.440250  257666000     0.000000\n",
            "2016-02-29  22.450761  22.768308  22.402086  22.411358  140865200    -0.001288\n",
            "2016-03-31  25.431518  25.473240  25.236817  25.262314  103553600     0.127210\n",
            "2016-04-30  21.785535  21.954739  21.442493  21.727589  274126000    -0.139921\n",
            "2016-05-31  23.226400  23.412958  23.044506  23.287031  169228800     0.071772\n",
            "2016-06-30  22.023112  22.333262  21.990464  22.293619  143345600    -0.042659\n",
            "2016-07-31  24.296780  24.380731  24.177849  24.301443  110934800     0.090063\n",
            "2016-08-31  24.773058  24.986415  24.768367  24.876219  118649600     0.023652\n",
            "2016-09-30  26.367386  26.580745  26.212643  26.505718  145516400     0.065504\n",
            "2016-10-31  26.646396  26.782384  26.540888  26.620605  105677600     0.004334\n",
            "2016-11-30  26.300090  26.441488  25.986656  26.045572  144649200    -0.021601\n",
            "2016-12-31  27.490193  27.619807  27.202683  27.294592  122345200     0.047955\n"
          ]
        }
      ]
    },
    {
      "cell_type": "code",
      "metadata": {
        "colab": {
          "base_uri": "https://localhost:8080/",
          "height": 0
        },
        "id": "bs-xeoNoyouY",
        "outputId": "0e5fe9e9-b463-410e-c62c-7ef35a5bddd7"
      },
      "source": [
        "s1 = pd.Series([143.5, 144.09, 142.73, 144.18, 143.77], name = 'AAPL')\n",
        "s2 = pd.Series([898.7, 911.71, 906.69, 918.59, 926.99], name = 'GOOG')\n",
        "data_frame = pd.concat([s1,s2], axis = 1)\n",
        "print(data_frame)"
      ],
      "execution_count": 158,
      "outputs": [
        {
          "output_type": "stream",
          "name": "stdout",
          "text": [
            "     AAPL    GOOG\n",
            "0  143.50  898.70\n",
            "1  144.09  911.71\n",
            "2  142.73  906.69\n",
            "3  144.18  918.59\n",
            "4  143.77  926.99\n"
          ]
        }
      ]
    },
    {
      "cell_type": "code",
      "metadata": {
        "colab": {
          "base_uri": "https://localhost:8080/",
          "height": 0
        },
        "id": "TEszxG2vyrXG",
        "outputId": "ffcab836-b50a-4303-bbdc-a405416d8efd"
      },
      "source": [
        "s1 = pd.Series([143.5, 144.09, 142.73, 144.18, 143.77, 12.3], name = 'fb')\n",
        "s2 = pd.Series([898.7, 911.71, 906.69, 918.59, 926.99, 9.87], name = 'microsoft')\n",
        "data_frame = pd.concat([s1,s2], axis = 1)\n",
        "print(data_frame)"
      ],
      "execution_count": 159,
      "outputs": [
        {
          "output_type": "stream",
          "name": "stdout",
          "text": [
            "       fb  microsoft\n",
            "0  143.50     898.70\n",
            "1  144.09     911.71\n",
            "2  142.73     906.69\n",
            "3  144.18     918.59\n",
            "4  143.77     926.99\n",
            "5   12.30       9.87\n"
          ]
        }
      ]
    },
    {
      "cell_type": "code",
      "metadata": {
        "colab": {
          "base_uri": "https://localhost:8080/",
          "height": 0
        },
        "id": "bEGEC1euy7mC",
        "outputId": "e0a0e013-d2d2-4ab2-8936-54f53157925e"
      },
      "source": [
        "log_price = np.log(aapl_bar.Close)\n",
        "log_price.name = 'log_price'\n",
        "print(log_price)\n",
        "print('\\n---------------------- separate line--------------------\\n')\n",
        "concat = pd.concat([aapl_bar, log_price], axis = 1)\n",
        "print(concat)"
      ],
      "execution_count": 165,
      "outputs": [
        {
          "output_type": "stream",
          "name": "stdout",
          "text": [
            "Date\n",
            "2016-01-31    3.110856\n",
            "2016-02-29    3.109568\n",
            "2016-03-31    3.229314\n",
            "2016-04-30    3.078583\n",
            "2016-05-31    3.147897\n",
            "2016-06-30    3.104301\n",
            "2016-07-31    3.190536\n",
            "2016-08-31    3.213912\n",
            "2016-09-30    3.277360\n",
            "2016-10-31    3.281686\n",
            "2016-11-30    3.259848\n",
            "2016-12-31    3.306689\n",
            "Freq: M, Name: log_price, dtype: float64\n",
            "\n",
            "---------------------- separate line--------------------\n",
            "\n",
            "                 Open       High        Low  ...     Volume  rate_return  log_price\n",
            "Date                                         ...                                   \n",
            "2016-01-31  21.852388  22.440250  21.750952  ...  257666000          NaN   3.110856\n",
            "2016-02-29  22.450761  22.768308  22.402086  ...  140865200    -0.001288   3.109568\n",
            "2016-03-31  25.431518  25.473240  25.236817  ...  103553600     0.127210   3.229314\n",
            "2016-04-30  21.785535  21.954739  21.442493  ...  274126000    -0.139921   3.078583\n",
            "2016-05-31  23.226400  23.412958  23.044506  ...  169228800     0.071772   3.147897\n",
            "2016-06-30  22.023112  22.333262  21.990464  ...  143345600    -0.042659   3.104301\n",
            "2016-07-31  24.296780  24.380731  24.177849  ...  110934800     0.090063   3.190536\n",
            "2016-08-31  24.773058  24.986415  24.768367  ...  118649600     0.023652   3.213912\n",
            "2016-09-30  26.367386  26.580745  26.212643  ...  145516400     0.065504   3.277360\n",
            "2016-10-31  26.646396  26.782384  26.540888  ...  105677600     0.004334   3.281686\n",
            "2016-11-30  26.300090  26.441488  25.986656  ...  144649200    -0.021601   3.259848\n",
            "2016-12-31  27.490193  27.619807  27.202683  ...  122345200     0.047955   3.306689\n",
            "\n",
            "[12 rows x 7 columns]\n"
          ]
        }
      ]
    },
    {
      "cell_type": "code",
      "metadata": {
        "colab": {
          "base_uri": "https://localhost:8080/",
          "height": 0
        },
        "id": "ZAwkCBwVy9lY",
        "outputId": "28c4dbeb-46be-41a9-9af7-be847d7b641f"
      },
      "source": [
        "df_volume = aapl_table.loc['2016-10':'2017-04', ['Volume']].resample('M').agg(lambda x: x[-1])\n",
        "print(df_volume)\n",
        "print('\\n-------------------------------------------\\n')\n",
        "df_2017 = aapl_table.loc['2016-10':'2017-04', ['Open', 'High', 'Low', 'Close']].resample('M').agg(lambda x: x[-1])\n",
        "print(df_2017)"
      ],
      "execution_count": 169,
      "outputs": [
        {
          "output_type": "stream",
          "name": "stdout",
          "text": [
            "               Volume\n",
            "Date                 \n",
            "2016-10-31  105677600\n",
            "2016-11-30  144649200\n",
            "2016-12-31  122345200\n",
            "2017-01-31  196804000\n",
            "2017-02-28   93931600\n",
            "2017-03-31   78646800\n",
            "2017-04-30   83441600\n",
            "\n",
            "-------------------------------------------\n",
            "\n",
            "                 Open       High        Low      Close\n",
            "Date                                                  \n",
            "2016-10-31  26.646396  26.782384  26.540888  26.620605\n",
            "2016-11-30  26.300090  26.441488  25.986656  26.045572\n",
            "2016-12-31  27.490193  27.619807  27.202683  27.294592\n",
            "2017-01-31  28.550679  28.607238  28.425777  28.597811\n",
            "2017-02-28  32.444873  32.530080  32.354932  32.423573\n",
            "2017-03-31  34.016459  34.146637  33.848410  34.002258\n",
            "2017-04-30  34.104028  34.153733  33.909947  33.999886\n"
          ]
        }
      ]
    },
    {
      "cell_type": "code",
      "metadata": {
        "colab": {
          "base_uri": "https://localhost:8080/",
          "height": 0
        },
        "id": "eVcLdj2X0CJR",
        "outputId": "a6d8defc-40c3-4a2b-f7e8-2351903d7345"
      },
      "source": [
        "df_volume = aapl_table.loc['2016-06':'2017-06', ['Volume']].resample('2M').agg(lambda x: x[-1])\n",
        "print(df_volume)\n",
        "print('\\n-------------------------------------------\\n')\n",
        "df_2017 = aapl_table.loc['2016-06':'2017-06', ['Open', 'High', 'Low', 'Close']].resample('2M').agg(lambda x: x[-1])\n",
        "print(df_2017)"
      ],
      "execution_count": 170,
      "outputs": [
        {
          "output_type": "stream",
          "name": "stdout",
          "text": [
            "               Volume\n",
            "Date                 \n",
            "2016-06-30  143345600\n",
            "2016-08-31  118649600\n",
            "2016-10-31  105677600\n",
            "2016-12-31  122345200\n",
            "2017-02-28   93931600\n",
            "2017-04-30   83441600\n",
            "2017-06-30   92096400\n",
            "\n",
            "-------------------------------------------\n",
            "\n",
            "                 Open       High        Low      Close\n",
            "Date                                                  \n",
            "2016-06-30  22.023112  22.333262  21.990464  22.293619\n",
            "2016-08-31  24.773058  24.986415  24.768367  24.876219\n",
            "2016-10-31  26.646396  26.782384  26.540888  26.620605\n",
            "2016-12-31  27.490193  27.619807  27.202683  27.294592\n",
            "2017-02-28  32.444873  32.530080  32.354932  32.423573\n",
            "2017-04-30  34.104028  34.153733  33.909947  33.999886\n",
            "2017-06-30  34.330362  34.451572  34.171128  34.228168\n"
          ]
        }
      ]
    },
    {
      "cell_type": "code",
      "metadata": {
        "colab": {
          "base_uri": "https://localhost:8080/",
          "height": 0
        },
        "id": "gDn1vxIE0LFP",
        "outputId": "2c4dea9a-8177-42e1-8594-78971adb99f5"
      },
      "source": [
        "concat = pd.concat([aapl_bar, df_volume], axis = 1)\n",
        "print(concat)"
      ],
      "execution_count": 174,
      "outputs": [
        {
          "output_type": "stream",
          "name": "stdout",
          "text": [
            "                 Open       High  ...  rate_return       Volume\n",
            "Date                              ...                          \n",
            "2016-01-31  21.852388  22.440250  ...          NaN          NaN\n",
            "2016-02-29  22.450761  22.768308  ...    -0.001288          NaN\n",
            "2016-03-31  25.431518  25.473240  ...     0.127210          NaN\n",
            "2016-04-30  21.785535  21.954739  ...    -0.139921          NaN\n",
            "2016-05-31  23.226400  23.412958  ...     0.071772          NaN\n",
            "2016-06-30  22.023112  22.333262  ...    -0.042659  143345600.0\n",
            "2016-07-31  24.296780  24.380731  ...     0.090063          NaN\n",
            "2016-08-31  24.773058  24.986415  ...     0.023652  118649600.0\n",
            "2016-09-30  26.367386  26.580745  ...     0.065504          NaN\n",
            "2016-10-31  26.646396  26.782384  ...     0.004334  105677600.0\n",
            "2016-11-30  26.300090  26.441488  ...    -0.021601          NaN\n",
            "2016-12-31  27.490193  27.619807  ...     0.047955  122345200.0\n",
            "2017-02-28        NaN        NaN  ...          NaN   93931600.0\n",
            "2017-04-30        NaN        NaN  ...          NaN   83441600.0\n",
            "2017-06-30        NaN        NaN  ...          NaN   92096400.0\n",
            "\n",
            "[15 rows x 7 columns]\n"
          ]
        }
      ]
    },
    {
      "cell_type": "code",
      "metadata": {
        "colab": {
          "base_uri": "https://localhost:8080/",
          "height": 0
        },
        "id": "NVKGaIzL0XV1",
        "outputId": "608d3580-e811-44ac-abc9-d91adc9987ee"
      },
      "source": [
        "concat = pd.concat([aapl_bar, df_volume], axis = 0)\n",
        "print(concat)"
      ],
      "execution_count": 175,
      "outputs": [
        {
          "output_type": "stream",
          "name": "stdout",
          "text": [
            "                 Open       High        Low      Close     Volume  rate_return\n",
            "Date                                                                          \n",
            "2016-01-31  21.852388  22.440250  21.750952  22.440250  257666000          NaN\n",
            "2016-02-29  22.450761  22.768308  22.402086  22.411358  140865200    -0.001288\n",
            "2016-03-31  25.431518  25.473240  25.236817  25.262314  103553600     0.127210\n",
            "2016-04-30  21.785535  21.954739  21.442493  21.727589  274126000    -0.139921\n",
            "2016-05-31  23.226400  23.412958  23.044506  23.287031  169228800     0.071772\n",
            "2016-06-30  22.023112  22.333262  21.990464  22.293619  143345600    -0.042659\n",
            "2016-07-31  24.296780  24.380731  24.177849  24.301443  110934800     0.090063\n",
            "2016-08-31  24.773058  24.986415  24.768367  24.876219  118649600     0.023652\n",
            "2016-09-30  26.367386  26.580745  26.212643  26.505718  145516400     0.065504\n",
            "2016-10-31  26.646396  26.782384  26.540888  26.620605  105677600     0.004334\n",
            "2016-11-30  26.300090  26.441488  25.986656  26.045572  144649200    -0.021601\n",
            "2016-12-31  27.490193  27.619807  27.202683  27.294592  122345200     0.047955\n",
            "2016-06-30        NaN        NaN        NaN        NaN  143345600          NaN\n",
            "2016-08-31        NaN        NaN        NaN        NaN  118649600          NaN\n",
            "2016-10-31        NaN        NaN        NaN        NaN  105677600          NaN\n",
            "2016-12-31        NaN        NaN        NaN        NaN  122345200          NaN\n",
            "2017-02-28        NaN        NaN        NaN        NaN   93931600          NaN\n",
            "2017-04-30        NaN        NaN        NaN        NaN   83441600          NaN\n",
            "2017-06-30        NaN        NaN        NaN        NaN   92096400          NaN\n"
          ]
        }
      ]
    },
    {
      "cell_type": "code",
      "metadata": {
        "colab": {
          "base_uri": "https://localhost:8080/",
          "height": 0
        },
        "id": "FBjLaTGx0jPw",
        "outputId": "d11667f5-c351-44c5-da19-7eab82a8ca78"
      },
      "source": [
        "concat = pd.concat([aapl_bar,df_volume],axis = 1, join = 'inner')\n",
        "print(concat)"
      ],
      "execution_count": 176,
      "outputs": [
        {
          "output_type": "stream",
          "name": "stdout",
          "text": [
            "                 Open       High        Low  ...     Volume  rate_return     Volume\n",
            "Date                                         ...                                   \n",
            "2016-06-30  22.023112  22.333262  21.990464  ...  143345600    -0.042659  143345600\n",
            "2016-08-31  24.773058  24.986415  24.768367  ...  118649600     0.023652  118649600\n",
            "2016-10-31  26.646396  26.782384  26.540888  ...  105677600     0.004334  105677600\n",
            "2016-12-31  27.490193  27.619807  27.202683  ...  122345200     0.047955  122345200\n",
            "\n",
            "[4 rows x 7 columns]\n"
          ]
        }
      ]
    },
    {
      "cell_type": "code",
      "metadata": {
        "colab": {
          "base_uri": "https://localhost:8080/",
          "height": 0
        },
        "id": "rLTmFoLQ0oY_",
        "outputId": "b2bb8aa9-a334-4076-cc87-c418885d7e31"
      },
      "source": [
        "concat = pd.concat([aapl_bar,df_volume],axis = 0, join = 'inner')\n",
        "print(concat)"
      ],
      "execution_count": 177,
      "outputs": [
        {
          "output_type": "stream",
          "name": "stdout",
          "text": [
            "               Volume\n",
            "Date                 \n",
            "2016-01-31  257666000\n",
            "2016-02-29  140865200\n",
            "2016-03-31  103553600\n",
            "2016-04-30  274126000\n",
            "2016-05-31  169228800\n",
            "2016-06-30  143345600\n",
            "2016-07-31  110934800\n",
            "2016-08-31  118649600\n",
            "2016-09-30  145516400\n",
            "2016-10-31  105677600\n",
            "2016-11-30  144649200\n",
            "2016-12-31  122345200\n",
            "2016-06-30  143345600\n",
            "2016-08-31  118649600\n",
            "2016-10-31  105677600\n",
            "2016-12-31  122345200\n",
            "2017-02-28   93931600\n",
            "2017-04-30   83441600\n",
            "2017-06-30   92096400\n"
          ]
        }
      ]
    },
    {
      "cell_type": "code",
      "metadata": {
        "colab": {
          "base_uri": "https://localhost:8080/",
          "height": 0
        },
        "id": "IRPRTQCr0upF",
        "outputId": "6d05c24d-6b91-4a36-d942-cde425b55ed6"
      },
      "source": [
        "append = aapl_bar.append(df_2017)\n",
        "print(append)"
      ],
      "execution_count": 180,
      "outputs": [
        {
          "output_type": "stream",
          "name": "stdout",
          "text": [
            "                 Open       High  ...       Volume  rate_return\n",
            "Date                              ...                          \n",
            "2016-01-31  21.852388  22.440250  ...  257666000.0          NaN\n",
            "2016-02-29  22.450761  22.768308  ...  140865200.0    -0.001288\n",
            "2016-03-31  25.431518  25.473240  ...  103553600.0     0.127210\n",
            "2016-04-30  21.785535  21.954739  ...  274126000.0    -0.139921\n",
            "2016-05-31  23.226400  23.412958  ...  169228800.0     0.071772\n",
            "2016-06-30  22.023112  22.333262  ...  143345600.0    -0.042659\n",
            "2016-07-31  24.296780  24.380731  ...  110934800.0     0.090063\n",
            "2016-08-31  24.773058  24.986415  ...  118649600.0     0.023652\n",
            "2016-09-30  26.367386  26.580745  ...  145516400.0     0.065504\n",
            "2016-10-31  26.646396  26.782384  ...  105677600.0     0.004334\n",
            "2016-11-30  26.300090  26.441488  ...  144649200.0    -0.021601\n",
            "2016-12-31  27.490193  27.619807  ...  122345200.0     0.047955\n",
            "2016-06-30  22.023112  22.333262  ...          NaN          NaN\n",
            "2016-08-31  24.773058  24.986415  ...          NaN          NaN\n",
            "2016-10-31  26.646396  26.782384  ...          NaN          NaN\n",
            "2016-12-31  27.490193  27.619807  ...          NaN          NaN\n",
            "2017-02-28  32.444873  32.530080  ...          NaN          NaN\n",
            "2017-04-30  34.104028  34.153733  ...          NaN          NaN\n",
            "2017-06-30  34.330362  34.451572  ...          NaN          NaN\n",
            "\n",
            "[19 rows x 6 columns]\n"
          ]
        }
      ]
    },
    {
      "cell_type": "code",
      "metadata": {
        "colab": {
          "base_uri": "https://localhost:8080/",
          "height": 0
        },
        "id": "FVJCWIKB06rq",
        "outputId": "974fbc78-2e50-44b1-dd41-197b05af9c4f"
      },
      "source": [
        "concat = pd.concat([aapl_bar, df_2017], axis = 0)\n",
        "print(concat)"
      ],
      "execution_count": 182,
      "outputs": [
        {
          "output_type": "stream",
          "name": "stdout",
          "text": [
            "                 Open       High  ...       Volume  rate_return\n",
            "Date                              ...                          \n",
            "2016-01-31  21.852388  22.440250  ...  257666000.0          NaN\n",
            "2016-02-29  22.450761  22.768308  ...  140865200.0    -0.001288\n",
            "2016-03-31  25.431518  25.473240  ...  103553600.0     0.127210\n",
            "2016-04-30  21.785535  21.954739  ...  274126000.0    -0.139921\n",
            "2016-05-31  23.226400  23.412958  ...  169228800.0     0.071772\n",
            "2016-06-30  22.023112  22.333262  ...  143345600.0    -0.042659\n",
            "2016-07-31  24.296780  24.380731  ...  110934800.0     0.090063\n",
            "2016-08-31  24.773058  24.986415  ...  118649600.0     0.023652\n",
            "2016-09-30  26.367386  26.580745  ...  145516400.0     0.065504\n",
            "2016-10-31  26.646396  26.782384  ...  105677600.0     0.004334\n",
            "2016-11-30  26.300090  26.441488  ...  144649200.0    -0.021601\n",
            "2016-12-31  27.490193  27.619807  ...  122345200.0     0.047955\n",
            "2016-06-30  22.023112  22.333262  ...          NaN          NaN\n",
            "2016-08-31  24.773058  24.986415  ...          NaN          NaN\n",
            "2016-10-31  26.646396  26.782384  ...          NaN          NaN\n",
            "2016-12-31  27.490193  27.619807  ...          NaN          NaN\n",
            "2017-02-28  32.444873  32.530080  ...          NaN          NaN\n",
            "2017-04-30  34.104028  34.153733  ...          NaN          NaN\n",
            "2017-06-30  34.330362  34.451572  ...          NaN          NaN\n",
            "\n",
            "[19 rows x 6 columns]\n"
          ]
        }
      ]
    },
    {
      "cell_type": "code",
      "metadata": {
        "colab": {
          "base_uri": "https://localhost:8080/",
          "height": 0
        },
        "id": "SZpdc7G_0_kY",
        "outputId": "7824593b-68e4-40ff-91cd-ac7c34ca9026"
      },
      "source": [
        "concat = pd.concat([aapl_bar, df_2017], axis = 1)\n",
        "print(concat)"
      ],
      "execution_count": 183,
      "outputs": [
        {
          "output_type": "stream",
          "name": "stdout",
          "text": [
            "                 Open       High        Low  ...       High        Low      Close\n",
            "Date                                         ...                                 \n",
            "2016-01-31  21.852388  22.440250  21.750952  ...        NaN        NaN        NaN\n",
            "2016-02-29  22.450761  22.768308  22.402086  ...        NaN        NaN        NaN\n",
            "2016-03-31  25.431518  25.473240  25.236817  ...        NaN        NaN        NaN\n",
            "2016-04-30  21.785535  21.954739  21.442493  ...        NaN        NaN        NaN\n",
            "2016-05-31  23.226400  23.412958  23.044506  ...        NaN        NaN        NaN\n",
            "2016-06-30  22.023112  22.333262  21.990464  ...  22.333262  21.990464  22.293619\n",
            "2016-07-31  24.296780  24.380731  24.177849  ...        NaN        NaN        NaN\n",
            "2016-08-31  24.773058  24.986415  24.768367  ...  24.986415  24.768367  24.876219\n",
            "2016-09-30  26.367386  26.580745  26.212643  ...        NaN        NaN        NaN\n",
            "2016-10-31  26.646396  26.782384  26.540888  ...  26.782384  26.540888  26.620605\n",
            "2016-11-30  26.300090  26.441488  25.986656  ...        NaN        NaN        NaN\n",
            "2016-12-31  27.490193  27.619807  27.202683  ...  27.619807  27.202683  27.294592\n",
            "2017-02-28        NaN        NaN        NaN  ...  32.530080  32.354932  32.423573\n",
            "2017-04-30        NaN        NaN        NaN  ...  34.153733  33.909947  33.999886\n",
            "2017-06-30        NaN        NaN        NaN  ...  34.451572  34.171128  34.228168\n",
            "\n",
            "[15 rows x 10 columns]\n"
          ]
        }
      ]
    },
    {
      "cell_type": "code",
      "metadata": {
        "colab": {
          "base_uri": "https://localhost:8080/",
          "height": 0
        },
        "id": "r7ZScjF71EKo",
        "outputId": "133ee5a9-ff24-4f25-a11c-d260d3131814"
      },
      "source": [
        "df_2017.columns = ['Change', 'High', 'Low', 'Lose']\n",
        "concat = pd.concat([aapl_bar, df_2017], axis = 0,sort=True)\n",
        "print(concat)"
      ],
      "execution_count": 185,
      "outputs": [
        {
          "output_type": "stream",
          "name": "stdout",
          "text": [
            "               Change      Close  ...       Volume  rate_return\n",
            "Date                              ...                          \n",
            "2016-01-31        NaN  22.440250  ...  257666000.0          NaN\n",
            "2016-02-29        NaN  22.411358  ...  140865200.0    -0.001288\n",
            "2016-03-31        NaN  25.262314  ...  103553600.0     0.127210\n",
            "2016-04-30        NaN  21.727589  ...  274126000.0    -0.139921\n",
            "2016-05-31        NaN  23.287031  ...  169228800.0     0.071772\n",
            "2016-06-30        NaN  22.293619  ...  143345600.0    -0.042659\n",
            "2016-07-31        NaN  24.301443  ...  110934800.0     0.090063\n",
            "2016-08-31        NaN  24.876219  ...  118649600.0     0.023652\n",
            "2016-09-30        NaN  26.505718  ...  145516400.0     0.065504\n",
            "2016-10-31        NaN  26.620605  ...  105677600.0     0.004334\n",
            "2016-11-30        NaN  26.045572  ...  144649200.0    -0.021601\n",
            "2016-12-31        NaN  27.294592  ...  122345200.0     0.047955\n",
            "2016-06-30  22.023112        NaN  ...          NaN          NaN\n",
            "2016-08-31  24.773058        NaN  ...          NaN          NaN\n",
            "2016-10-31  26.646396        NaN  ...          NaN          NaN\n",
            "2016-12-31  27.490193        NaN  ...          NaN          NaN\n",
            "2017-02-28  32.444873        NaN  ...          NaN          NaN\n",
            "2017-04-30  34.104028        NaN  ...          NaN          NaN\n",
            "2017-06-30  34.330362        NaN  ...          NaN          NaN\n",
            "\n",
            "[19 rows x 8 columns]\n"
          ]
        }
      ]
    },
    {
      "cell_type": "code",
      "metadata": {
        "colab": {
          "base_uri": "https://localhost:8080/",
          "height": 0
        },
        "id": "epB2E8oH1OP4",
        "outputId": "05cf8ca1-eabd-4df7-d637-48b900195dd3"
      },
      "source": [
        "df_2017.columns = ['Change', 'High', 'Low', 'lose']\n",
        "concat = pd.concat([aapl_bar, df_2017], axis = 0,sort=False)\n",
        "print(concat)"
      ],
      "execution_count": 187,
      "outputs": [
        {
          "output_type": "stream",
          "name": "stdout",
          "text": [
            "                 Open       High        Low  ...  rate_return     Change       lose\n",
            "Date                                         ...                                   \n",
            "2016-01-31  21.852388  22.440250  21.750952  ...          NaN        NaN        NaN\n",
            "2016-02-29  22.450761  22.768308  22.402086  ...    -0.001288        NaN        NaN\n",
            "2016-03-31  25.431518  25.473240  25.236817  ...     0.127210        NaN        NaN\n",
            "2016-04-30  21.785535  21.954739  21.442493  ...    -0.139921        NaN        NaN\n",
            "2016-05-31  23.226400  23.412958  23.044506  ...     0.071772        NaN        NaN\n",
            "2016-06-30  22.023112  22.333262  21.990464  ...    -0.042659        NaN        NaN\n",
            "2016-07-31  24.296780  24.380731  24.177849  ...     0.090063        NaN        NaN\n",
            "2016-08-31  24.773058  24.986415  24.768367  ...     0.023652        NaN        NaN\n",
            "2016-09-30  26.367386  26.580745  26.212643  ...     0.065504        NaN        NaN\n",
            "2016-10-31  26.646396  26.782384  26.540888  ...     0.004334        NaN        NaN\n",
            "2016-11-30  26.300090  26.441488  25.986656  ...    -0.021601        NaN        NaN\n",
            "2016-12-31  27.490193  27.619807  27.202683  ...     0.047955        NaN        NaN\n",
            "2016-06-30        NaN  22.333262  21.990464  ...          NaN  22.023112  22.293619\n",
            "2016-08-31        NaN  24.986415  24.768367  ...          NaN  24.773058  24.876219\n",
            "2016-10-31        NaN  26.782384  26.540888  ...          NaN  26.646396  26.620605\n",
            "2016-12-31        NaN  27.619807  27.202683  ...          NaN  27.490193  27.294592\n",
            "2017-02-28        NaN  32.530080  32.354932  ...          NaN  32.444873  32.423573\n",
            "2017-04-30        NaN  34.153733  33.909947  ...          NaN  34.104028  33.999886\n",
            "2017-06-30        NaN  34.451572  34.171128  ...          NaN  34.330362  34.228168\n",
            "\n",
            "[19 rows x 8 columns]\n"
          ]
        }
      ]
    }
  ]
}