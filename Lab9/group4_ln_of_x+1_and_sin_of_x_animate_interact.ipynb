{
  "nbformat": 4,
  "nbformat_minor": 0,
  "metadata": {
    "colab": {
      "name": "group4_ln_of_x+1_and_sin_of_x_animate_interact.ipynb",
      "provenance": [],
      "collapsed_sections": [],
      "include_colab_link": true
    },
    "kernelspec": {
      "name": "python3",
      "display_name": "Python 3"
    },
    "language_info": {
      "name": "python"
    }
  },
  "cells": [
    {
      "cell_type": "markdown",
      "metadata": {
        "id": "view-in-github",
        "colab_type": "text"
      },
      "source": [
        "<a href=\"https://colab.research.google.com/github/jubedoyag/MetNumUN2021II/blob/main/Lab9/group4_ln_of_x%2B1_and_sin_of_x_animate_interact.ipynb\" target=\"_parent\"><img src=\"https://colab.research.google.com/assets/colab-badge.svg\" alt=\"Open In Colab\"/></a>"
      ]
    },
    {
      "cell_type": "markdown",
      "metadata": {
        "id": "iAzrOBY3R_Lw"
      },
      "source": [
        "Interact code in Sagemath for $ln(x+1)$\n",
        "\n",
        "```python\n",
        "import numpy as np\n",
        "\n",
        "# Interact Taylor Series of $$f(x) = ln(x+1)$$\n",
        "# Explanatory example: Taylor Series – wiki.sagemath.org/interact https://wiki.sagemath.org/interact\n",
        "x   = SR.var('x')\n",
        "x0  = 0\n",
        "f   = np.log(x+1)\n",
        "p   = plot(f, -1, 8, thickness=2)\n",
        "dot = point((x0, f(x=x0)), pointsize=80, rgbcolor=(1, 0, 0))\n",
        "\n",
        "@interact\n",
        "def _(order=slider([0 .. 12])):\n",
        "  ft = f.taylor(x, x0, order)\n",
        "  pt = plot(ft, -8, 8, color='green', thickness=2)\n",
        "  pretty_print(html(r'$f(x)\\;=\\;%s$' % latex(f)))\n",
        "  pretty_print(html(r'$\\hat{f}(x;%s)\\;=\\;%s+\\mathcal{O}(x^{%s})$' % (x0, latex(ft), order+1)))\n",
        "  show(dot + p + pt, ymin=-10, ymax=10)\n",
        "```"
      ]
    },
    {
      "cell_type": "markdown",
      "metadata": {
        "id": "orXva0RVSbEv"
      },
      "source": [
        "Animate code in Sagemath for $ln(x+1)$\n",
        "```python\n",
        "# Animate  Taylor Series of $$f(x) = ln(x+1)$$\n",
        "# MCS 320: Introduction to Symbolic Computation - Jan Verschelde, Mathematics, U. Illinois at Chicago  –\n",
        "# http://homepages.math.uic.edu/~jan/mcs320/mcs320notes/lec27.html#\n",
        "x   = SR.var('x')\n",
        "x0  = 0\n",
        "f   = np.log(x+1)\n",
        "p   = plot(f, -1, 8, thickness=2,legend_label='f(x) = ln(x+1)')\n",
        "dot = point((x0, f(x=x0)), pointsize=80, rgbcolor=(1, 0, 0))\n",
        "ptaylor = [plot(f.taylor(x, x0, order), -8,8, color='green', thickness=2, legend_label= \"Taylor \" + str(order) +\": \"+ str(f.taylor(x, x0, order))) for order in range(5)]\n",
        "\n",
        "frames = [p+dot+ptaylor[int(order/12)] for order in range(60)]\n",
        "a = animate(frames, ymin=-10, ymax=10)\n",
        "a.show()\n",
        "a.save('ln_of_x+1_taylor_animation_1.gif')\n",
        "```"
      ]
    },
    {
      "cell_type": "markdown",
      "metadata": {
        "id": "B9kyr3YTRY15"
      },
      "source": [
        " ![Taylor gif](https://github.com/jubedoyag/MetNumUN2021II/blob/main/Lab9/ln_of_x+1_taylor_animation_1.gif?raw=true)"
      ]
    },
    {
      "cell_type": "markdown",
      "metadata": {
        "id": "XNfdGKC-6VXq"
      },
      "source": [
        "```python\n",
        "x   = SR.var('x')\n",
        "x0  = 0\n",
        "f   = np.log(x+1)\n",
        "p   = plot(f, -1, 8, thickness=2,legend_label='f(x) = ln(x+1)')\n",
        "dot = point((x0, f(x=x0)), pointsize=80, rgbcolor=(1, 0, 0))\n",
        "ptaylor = [plot(f.taylor(x, x0, order), -8,8, color='green', thickness=2, legend_label= \"Taylor \" + str(order) +\": \"+ str(f.taylor(x, x0, order))) for order in range(2,8)]\n",
        "\n",
        "frames = [p+dot+ptaylor[int(order/12)] for order in range(48)]\n",
        "a = animate(frames, ymin=-10, ymax=10)\n",
        "a.show()\n",
        "a.save('ln_of_x+1_taylor_animation_2.gif')\n",
        "```"
      ]
    },
    {
      "cell_type": "markdown",
      "metadata": {
        "id": "SnRLqIHt6h9S"
      },
      "source": [
        " ![Taylor gif](https://github.com/jubedoyag/MetNumUN2021II/blob/main/Lab9/ln_of_x+1_taylor_animation_2.gif?raw=true)"
      ]
    },
    {
      "cell_type": "markdown",
      "metadata": {
        "id": "_z7y20L1jDZw"
      },
      "source": [
        "Interact code in Sagemath for $sin(x)$\n",
        "\n",
        "```python\n",
        "import numpy as np\n",
        "\n",
        "# Interact Taylor Series of $$f(x) = sin(x)$$\n",
        "# Explanatory example: Taylor Series – wiki.sagemath.org/interact https://wiki.sagemath.org/interact\n",
        "x   = SR.var('x')\n",
        "x0  = 0\n",
        "f   = np.sin(x)\n",
        "p   = plot(f, -8, 8, thickness=2)\n",
        "dot = point((x0, f(x=x0)), pointsize=80, rgbcolor=(1, 0, 0))\n",
        "\n",
        "@interact\n",
        "def _(order=slider([0 .. 12])):\n",
        "  ft = f.taylor(x, x0, order)\n",
        "  pt = plot(ft, -8, 8, color='green', thickness=2)\n",
        "  pretty_print(html(r'$f(x)\\;=\\;%s$' % latex(f)))\n",
        "  pretty_print(html(r'$\\hat{f}(x;%s)\\;=\\;%s+\\mathcal{O}(x^{%s})$' % (x0, latex(ft), order+1)))\n",
        "  show(dot + p + pt, ymin=-10, ymax=10)\n",
        "```"
      ]
    },
    {
      "cell_type": "markdown",
      "metadata": {
        "id": "_U9b316ijfko"
      },
      "source": [
        "Animate code in Sagemath for $sin(x)$\n",
        "```python\n",
        "# Animate  Taylor Series of $$f(x) = sin(x)$$\n",
        "# MCS 320: Introduction to Symbolic Computation - Jan Verschelde, Mathematics, U. Illinois at Chicago  –\n",
        "# http://homepages.math.uic.edu/~jan/mcs320/mcs320notes/lec27.html#\n",
        "x   = SR.var('x')\n",
        "x0  = 0\n",
        "f   = np.sin(x)\n",
        "p   = plot(f, -8, 8, thickness=2,legend_label='f(x) = sin(x)')\n",
        "dot = point((x0, f(x=x0)), pointsize=80, rgbcolor=(1, 0, 0))\n",
        "ptaylor = [plot(f.taylor(x, x0, order), -8,8, color='green', thickness=2, legend_label= \"Taylor \" + str(order) +\": \"+ str(f.taylor(x, x0, order))) for order in range(5)]\n",
        "\n",
        "frames = [p+dot+ptaylor[int(order/12)] for order in range(60)]\n",
        "a = animate(frames, ymin=-10, ymax=10)\n",
        "a.show()\n",
        "a.save('sin_of_x_taylor_animation_1.gif')\n",
        "```"
      ]
    },
    {
      "cell_type": "markdown",
      "metadata": {
        "id": "JdivdHMdj19t"
      },
      "source": [
        "![Taylor gif](https://github.com/jubedoyag/MetNumUN2021II/blob/main/Lab9/sin_of_x_taylor_animation_1.gif?raw=true)"
      ]
    },
    {
      "cell_type": "markdown",
      "metadata": {
        "id": "AjvKH222kAbW"
      },
      "source": [
        "```python\n",
        "x   = SR.var('x')\n",
        "x0  = 0\n",
        "f   = np.sin(x)\n",
        "p   = plot(f, -8, 8, thickness=2,legend_label='f(x) = sin(x)')\n",
        "dot = point((x0, f(x=x0)), pointsize=80, rgbcolor=(1, 0, 0))\n",
        "ptaylor = [plot(f.taylor(x, x0, order), -8,8, color='green', thickness=2, legend_label= \"Taylor \" + str(order) +\": \"+ str(f.taylor(x, x0, order))) for order in range(2,12,2)]\n",
        "\n",
        "frames = [p+dot+ptaylor[int(order/12)] for order in range(48)]\n",
        "a = animate(frames, ymin=-10, ymax=10)\n",
        "a.show()\n",
        "a.save('sin_of_x_taylor_animation_2.gif')\n",
        "```"
      ]
    },
    {
      "cell_type": "markdown",
      "metadata": {
        "id": "8ApHAzezkLHW"
      },
      "source": [
        "![Taylor gif](https://github.com/jubedoyag/MetNumUN2021II/blob/main/Lab9/sin_of_x_taylor_animation_2.gif?raw=true)"
      ]
    }
  ]
}