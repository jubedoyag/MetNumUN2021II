{
  "nbformat": 4,
  "nbformat_minor": 0,
  "metadata": {
    "colab": {
      "name": "group4_TaylorSymPy.ipynb",
      "provenance": [],
      "collapsed_sections": []
    },
    "kernelspec": {
      "name": "python3",
      "display_name": "Python 3"
    },
    "language_info": {
      "name": "python"
    }
  },
  "cells": [
    {
      "cell_type": "markdown",
      "metadata": {
        "id": "L7h6aPeNOc_p"
      },
      "source": [
        "Taylor Series Expansion with Python from Data Science Fabric \n",
        "\n",
        "https://dsfabric.org/taylor-series-expansion-with-python"
      ]
    },
    {
      "cell_type": "code",
      "metadata": {
        "id": "bvdPNIdZOYeH"
      },
      "source": [
        "from sympy import series, Symbol, pi, E\n",
        "from sympy.functions import  sin, ln\n",
        "from sympy.plotting import plot\n",
        "import matplotlib.pyplot as plt"
      ],
      "execution_count": null,
      "outputs": []
    },
    {
      "cell_type": "code",
      "metadata": {
        "id": "o7S1pvB8OfzJ"
      },
      "source": [
        "# Define symbol\n",
        "x = Symbol('x')"
      ],
      "execution_count": null,
      "outputs": []
    },
    {
      "cell_type": "code",
      "metadata": {
        "id": "WbzChBNdOhsJ"
      },
      "source": [
        "# Function for Taylor Series Expansion\n",
        "\n",
        "def taylor(function, x0, n):\n",
        "    \"\"\"\n",
        "    Parameter \"function\" is our function which we want to approximate\n",
        "    \"x0\" is the point where to approximate\n",
        "    \"n\" is the order of approximation\n",
        "    \"\"\"\n",
        "    return function.series(x,x0,n)"
      ],
      "execution_count": null,
      "outputs": []
    },
    {
      "cell_type": "code",
      "metadata": {
        "colab": {
          "base_uri": "https://localhost:8080/"
        },
        "id": "PkSgrGYeOkzg",
        "outputId": "9e9af1f5-b284-42a3-f13c-984bbca87637"
      },
      "source": [
        "print('sin(x) ≅', taylor(sin(x), 0, 10))\n",
        "\n",
        "print('ln(x+1) ≅', taylor(ln(x+1), 0, 8))"
      ],
      "execution_count": 26,
      "outputs": [
        {
          "output_type": "stream",
          "name": "stdout",
          "text": [
            "sin(x) ≅ x**9/362880 - x**7/5040 + x**5/120 - x**3/6 + x\n",
            "ln(x+1) ≅ x**7/7 - x**6/6 + x**5/5 - x**4/4 + x**3/3 - x**2/2 + x\n"
          ]
        }
      ]
    },
    {
      "cell_type": "code",
      "metadata": {
        "colab": {
          "base_uri": "https://localhost:8080/"
        },
        "id": "Mfg7kzgUdfY7",
        "outputId": "a5336275-dfd4-4d4a-c143-8a415f208386"
      },
      "source": [
        "print('sin(x) ≅', taylor(sin(x), pi/4, 10))\n",
        "\n",
        "print('ln(x+1) ≅', taylor(ln(x+1), E, 8))"
      ],
      "execution_count": 27,
      "outputs": [
        {
          "output_type": "stream",
          "name": "stdout",
          "text": [
            "sin(x) ≅ sqrt(2)*(x - pi/4)**9/725760 + sqrt(2)*(x - pi/4)**8/80640 - sqrt(2)*(x - pi/4)**7/10080 - sqrt(2)*(x - pi/4)**6/1440 + sqrt(2)*(x - pi/4)**5/240 + sqrt(2)*(x - pi/4)**4/48 - sqrt(2)*(x - pi/4)**3/12 - sqrt(2)*(x - pi/4)**2/4 + sqrt(2)*(x - pi/4)/2 + sqrt(2)/2\n",
            "ln(x+1) ≅ (x - E)**7/(7*(1 + E)**7) - (x - E)**6/(6*(1 + E)**6) + (x - E)**5/(5*(1 + E)**5) - (x - E)**4/(4*(1 + E)**4) + (x - E)**3/(3*(1 + E)**3) - (x - E)**2/(2*(1 + E)**2) + (x - E)/(1 + E) + log(1 + E)\n"
          ]
        }
      ]
    },
    {
      "cell_type": "code",
      "metadata": {
        "id": "vH1e_kjw16CT",
        "colab": {
          "base_uri": "https://localhost:8080/"
        },
        "outputId": "e6e8b9f7-e6cf-4afe-e341-5678e1efdb55"
      },
      "source": [
        "print('sin(1) =', taylor(sin(x), 0, 4).subs(x,1))\n",
        "\n",
        "print('ln(1+1) =', taylor(ln(x+1), 0, 4).subs(x,1))"
      ],
      "execution_count": 28,
      "outputs": [
        {
          "output_type": "stream",
          "name": "stdout",
          "text": [
            "sin(1) = 5/6\n",
            "ln(1+1) = 5/6\n"
          ]
        }
      ]
    },
    {
      "cell_type": "code",
      "metadata": {
        "colab": {
          "base_uri": "https://localhost:8080/"
        },
        "id": "w6CJwHF9OwK5",
        "outputId": "aaf686d5-f860-45d7-b845-125107fd7bc0"
      },
      "source": [
        "print('Taylor 0 ln(x+1) ≅', taylor(ln(x+1), 0, 0))\n",
        "print('Taylor 1 ln(x+1) ≅', taylor(ln(x+1), 0, 1))\n",
        "print('Taylor 2 ln(x+1) ≅', taylor(ln(x+1), 0, 2))\n",
        "print('Taylor 3 ln(x+1) ≅', taylor(ln(x+1), 0, 3))\n",
        "print('Taylor 4 ln(x+1) ≅', taylor(ln(x+1), 0, 4))\n",
        "print('Taylor 5 ln(x+1) ≅', taylor(ln(x+1), 0, 5))\n",
        "print('Taylor 6 ln(x+1) ≅', taylor(ln(x+1), 0, 6))\n",
        "print('Taylor 7 ln(x+1) ≅', taylor(ln(x+1), 0, 7))\n",
        "print('Taylor 8 ln(x+1) ≅', taylor(ln(x+1), 0, 8))"
      ],
      "execution_count": 30,
      "outputs": [
        {
          "output_type": "stream",
          "name": "stdout",
          "text": [
            "Taylor 0 ln(x+1) ≅ 0\n",
            "Taylor 1 ln(x+1) ≅ 0\n",
            "Taylor 2 ln(x+1) ≅ x\n",
            "Taylor 3 ln(x+1) ≅ -x**2/2 + x\n",
            "Taylor 4 ln(x+1) ≅ x**3/3 - x**2/2 + x\n",
            "Taylor 5 ln(x+1) ≅ -x**4/4 + x**3/3 - x**2/2 + x\n",
            "Taylor 6 ln(x+1) ≅ x**5/5 - x**4/4 + x**3/3 - x**2/2 + x\n",
            "Taylor 7 ln(x+1) ≅ -x**6/6 + x**5/5 - x**4/4 + x**3/3 - x**2/2 + x\n",
            "Taylor 8 ln(x+1) ≅ x**7/7 - x**6/6 + x**5/5 - x**4/4 + x**3/3 - x**2/2 + x\n"
          ]
        }
      ]
    },
    {
      "cell_type": "code",
      "metadata": {
        "colab": {
          "base_uri": "https://localhost:8080/"
        },
        "id": "oWh7ygDdOzGA",
        "outputId": "107257e1-fd13-4aed-9318-b1f7c979f0d3"
      },
      "source": [
        "print('Taylor 0 sin(x) ≅', taylor(sin(x), 0, 0).subs(x,2),' = ',taylor(sin(x), 0, 0).subs(x,2).evalf())\n",
        "print('Taylor 1 sin(x) ≅', taylor(sin(x), 0, 1).subs(x,2),' = ',taylor(sin(x), 0, 1).subs(x,2).evalf())\n",
        "print('Taylor 2 sin(x) ≅', taylor(sin(x), 0, 2).subs(x,2),' = ',taylor(sin(x), 0, 2).subs(x,2).evalf())\n",
        "print('Taylor 3 sin(x) ≅', taylor(sin(x), 0, 3).subs(x,2),' = ',taylor(sin(x), 0, 3).subs(x,2).evalf())\n",
        "print('Taylor 4 sin(x) ≅', taylor(sin(x), 0, 4).subs(x,2),' = ',taylor(sin(x), 0, 4).subs(x,2).evalf())\n",
        "print('Taylor 5 sin(x) ≅', taylor(sin(x), 0, 5).subs(x,2),' = ',taylor(sin(x), 0, 5).subs(x,2).evalf())\n",
        "print('Taylor 6 sin(x) ≅', taylor(sin(x), 0, 6).subs(x,2),' = ',taylor(sin(x), 0, 6).subs(x,2).evalf())\n",
        "print('Taylor 7 sin(x) ≅', taylor(sin(x), 0, 8).subs(x,2),' = ',taylor(sin(x), 0, 7).subs(x,2).evalf())"
      ],
      "execution_count": 31,
      "outputs": [
        {
          "output_type": "stream",
          "name": "stdout",
          "text": [
            "Taylor 0 sin(x) ≅ 0  =  0\n",
            "Taylor 1 sin(x) ≅ 0  =  0\n",
            "Taylor 2 sin(x) ≅ 2  =  2.00000000000000\n",
            "Taylor 3 sin(x) ≅ 2  =  2.00000000000000\n",
            "Taylor 4 sin(x) ≅ 2/3  =  0.666666666666667\n",
            "Taylor 5 sin(x) ≅ 2/3  =  0.666666666666667\n",
            "Taylor 6 sin(x) ≅ 14/15  =  0.933333333333333\n",
            "Taylor 7 sin(x) ≅ 286/315  =  0.933333333333333\n"
          ]
        }
      ]
    },
    {
      "cell_type": "code",
      "metadata": {
        "colab": {
          "base_uri": "https://localhost:8080/"
        },
        "id": "PPTGrYsQO13I",
        "outputId": "343a1103-ac6e-4f0e-87eb-d0b50cc5d0f2"
      },
      "source": [
        "import math\n",
        "print('sympy exp(x)subs(x,2) =', exp(x).subs(x,2))\n",
        "print('sympy exp(x).subs(x,2).evalf() =', exp(x).subs(x,2).evalf())\n",
        "print('math.exp(2) =', math.exp(2))"
      ],
      "execution_count": null,
      "outputs": [
        {
          "output_type": "stream",
          "name": "stdout",
          "text": [
            "sympy exp(x)subs(x,2) = exp(2)\n",
            "sympy exp(x).subs(x,2).evalf() = 7.38905609893065\n",
            "math.exp(2) = 7.38905609893065\n"
          ]
        }
      ]
    },
    {
      "cell_type": "code",
      "metadata": {
        "colab": {
          "base_uri": "https://localhost:8080/",
          "height": 265
        },
        "id": "6atV-T0hf8jB",
        "outputId": "5d61ce7e-f656-4eb0-8a8e-2855577f0d8b"
      },
      "source": [
        "import math\n",
        "import numpy as np\n",
        "import matplotlib.pyplot as plt\n",
        "# if using a Jupyter notebook, include:\n",
        "\n",
        "values = np.arange(-5,5,0.1)\n",
        "p_exp = np.sin(values)\n",
        "t_exp1 = [taylor(sin(x), 0, 1).subs(x,v) for v in values]\n",
        "t_exp2 = [taylor(sin(x), 0, 2).subs(x,v) for v in values]\n",
        "t_exp3 = [taylor(sin(x), 0, 3).subs(x,v) for v in values]\n",
        "t_exp4 = [taylor(sin(x), 0, 4).subs(x,v) for v in values]\n",
        "legends = ['sin(x) ','Taylor 1 (constant)','Taylor 3 (linear)','Taylor 3 (quadratic)','Taylor 4 (cubic)']\n",
        "\n",
        "fig, ax = plt.subplots()\n",
        "ax.plot(values,p_exp)\n",
        "ax.plot(values,t_exp1)\n",
        "ax.plot(values,t_exp2)\n",
        "ax.plot(values,t_exp3)\n",
        "ax.plot(values,t_exp4)\n",
        "\n",
        "ax.set_ylim([-5,5])\n",
        "ax.axhline(y=0.0, xmin=-5.0, xmax=5.0, color='black')\n",
        "ax.axvline(x=0.0, ymin=-10.0, ymax=10.0, color='black')\n",
        "ax.legend(legends)\n",
        "\n",
        "plt.show()"
      ],
      "execution_count": null,
      "outputs": [
        {
          "output_type": "display_data",
          "data": {
            "image/png": "[encoded data removed]",
            "text/plain": [
              "<Figure size 432x288 with 1 Axes>"
            ]
          },
          "metadata": {
            "needs_background": "light"
          }
        }
      ]
    },
    {
      "cell_type": "code",
      "metadata": {
        "colab": {
          "base_uri": "https://localhost:8080/",
          "height": 269
        },
        "id": "XtZJ_M5DhCjL",
        "outputId": "d81589f3-ed0d-4890-f09a-b99d937a6d1f"
      },
      "source": [
        "import math\n",
        "import numpy as np\n",
        "import matplotlib.pyplot as plt\n",
        "# if using a Jupyter notebook, include:\n",
        "\n",
        "values = np.arange(-0.5,5,0.1)\n",
        "p_exp = np.log(values+1)\n",
        "t_exp1 = [taylor(ln(x+1), 1, 1).subs(x,v) for v in values]\n",
        "t_exp2 = [taylor(ln(x+1), 1, 2).subs(x,v) for v in values]\n",
        "t_exp3 = [taylor(ln(x+1), 1, 3).subs(x,v) for v in values]\n",
        "t_exp4 = [taylor(ln(x+1), 1, 4).subs(x,v) for v in values]\n",
        "legends = ['ln(x+1) ','Taylor 1 (constant)','Taylor 3 (linear)','Taylor 3 (quadratic)','Taylor 4 (cubic)']\n",
        "\n",
        "fig, ax = plt.subplots()\n",
        "ax.plot(values,p_exp)\n",
        "ax.plot(values,t_exp1)\n",
        "ax.plot(values,t_exp2)\n",
        "ax.plot(values,t_exp3)\n",
        "ax.plot(values,t_exp4)\n",
        "\n",
        "ax.set_ylim([0.1,5])\n",
        "ax.axhline(y=0.0, xmin=-5.0, xmax=5.0, color='black')\n",
        "ax.axvline(x=0.0, ymin=-10.0, ymax=10.0, color='black')\n",
        "ax.legend(legends)\n",
        "\n",
        "\n",
        "plt.show()"
      ],
      "execution_count": null,
      "outputs": [
        {
          "output_type": "display_data",
          "data": {
            "image/png": "[encoded data removed]",
            "text/plain": [
              "<Figure size 432x288 with 1 Axes>"
            ]
          },
          "metadata": {
            "needs_background": "light"
          }
        }
      ]
    }
  ]
}