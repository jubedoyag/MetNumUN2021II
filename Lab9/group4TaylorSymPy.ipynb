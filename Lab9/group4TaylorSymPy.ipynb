{
  "nbformat": 4,
  "nbformat_minor": 0,
  "metadata": {
    "colab": {
      "name": "group4TaylorSymPy.ipynb",
      "provenance": [],
      "collapsed_sections": []
    },
    "kernelspec": {
      "name": "python3",
      "display_name": "Python 3"
    }
  },
  "cells": [
    {
      "cell_type": "markdown",
      "metadata": {
        "id": "GFmthnDoq6j6"
      },
      "source": [
        "Taylor Series Expansion with Python from Data Science Fabric \n",
        "\n",
        "https://dsfabric.org/taylor-series-expansion-with-python"
      ]
    },
    {
      "cell_type": "code",
      "metadata": {
        "id": "h7GY4uApqKr7"
      },
      "source": [
        "from sympy import series, Symbol\n",
        "from sympy.functions import sin, cos, exp, ln\n",
        "from sympy.plotting import plot\n",
        "import matplotlib.pyplot as plt\n",
        "import numpy as np\n"
      ],
      "execution_count": 1,
      "outputs": []
    },
    {
      "cell_type": "code",
      "metadata": {
        "id": "Nnpm4V-AqdMs"
      },
      "source": [
        "# Define symbol\n",
        "x = Symbol('x')"
      ],
      "execution_count": 2,
      "outputs": []
    },
    {
      "cell_type": "code",
      "metadata": {
        "id": "_bF3LYe8qmNp"
      },
      "source": [
        "# Function for Taylor Series Expansion\n",
        "\n",
        "def taylor(function, x0, n):\n",
        "    \"\"\"\n",
        "    Parameter \"function\" is our function which we want to approximate\n",
        "    \"x0\" is the point where to approximate\n",
        "    \"n\" is the order of approximation\n",
        "    \"\"\"\n",
        "    return function.series(x,x0,n).removeO()"
      ],
      "execution_count": 3,
      "outputs": []
    },
    {
      "cell_type": "code",
      "metadata": {
        "id": "RHDTuup3q3r0",
        "colab": {
          "base_uri": "https://localhost:8080/"
        },
        "outputId": "d58c4699-b3ed-4f2c-b0ab-e4891b87ad2a"
      },
      "source": [
        "print('sin(x) ≅', taylor(sin(x), 0, 4))\n",
        "\n",
        "print('cos(x) ≅', taylor(cos(x), 0, 4))\n",
        "\n",
        "print('e(x) ≅', taylor(exp(x), 0, 4))\n",
        "\n",
        "print('1/(1-x) ≅', taylor(1/(1-x), 0, 4))\n",
        "\n",
        "print('ln(1+x) ≅', taylor(ln(1+x), 0, 4))\n",
        "\n",
        "print('ln(x) ≅', taylor(ln(x), 1, 4))"
      ],
      "execution_count": 4,
      "outputs": [
        {
          "output_type": "stream",
          "name": "stdout",
          "text": [
            "sin(x) ≅ -x**3/6 + x\n",
            "cos(x) ≅ 1 - x**2/2\n",
            "e(x) ≅ x**3/6 + x**2/2 + x + 1\n",
            "1/(1-x) ≅ x**3 + x**2 + x + 1\n",
            "ln(1+x) ≅ x**3/3 - x**2/2 + x\n",
            "ln(x) ≅ x + (x - 1)**3/3 - (x - 1)**2/2 - 1\n"
          ]
        }
      ]
    },
    {
      "cell_type": "code",
      "metadata": {
        "id": "WVlow_HJs9Uj",
        "colab": {
          "base_uri": "https://localhost:8080/"
        },
        "outputId": "eb127fa7-bf27-4649-d9c1-77e3a66dd945"
      },
      "source": [
        "print('sin(1) =', taylor(sin(x), 0, 4).subs(x,1))\n",
        "\n",
        "print('cos(1) =', taylor(cos(x), 0, 4).subs(x,1))\n",
        "\n",
        "print('e(1) =', taylor(exp(x), 0, 4).subs(x,1))\n",
        "\n",
        "print('1/(1-(1/10)) =', taylor(1/(1-x), 0, 4).subs(x,(1/10)))\n",
        "\n",
        "print('ln(1+(0.1)) =', taylor(ln(1+x), 0, 4).subs(x,0.1))\n",
        "\n",
        "print('ln((1.5)) =', taylor(ln(x), 1, 4).subs(x,1.5))"
      ],
      "execution_count": 5,
      "outputs": [
        {
          "output_type": "stream",
          "name": "stdout",
          "text": [
            "sin(1) = 5/6\n",
            "cos(1) = 1/2\n",
            "e(1) = 8/3\n",
            "1/(1-(1/10)) = 1.11100000000000\n",
            "ln(1+(0.1)) = 0.0953333333333333\n",
            "ln((1.5)) = 0.416666666666667\n"
          ]
        }
      ]
    },
    {
      "cell_type": "code",
      "metadata": {
        "id": "U6mI5cVErKKb",
        "colab": {
          "base_uri": "https://localhost:8080/"
        },
        "outputId": "5837717b-c497-4c54-f945-3cd8bb488cf9"
      },
      "source": [
        "print('Taylor 0 exp(x) ≅', taylor(exp(x), 0, 0))\n",
        "print('Taylor 1 exp(x) ≅', taylor(exp(x), 0, 1))\n",
        "print('Taylor 2 exp(x) ≅', taylor(exp(x), 0, 2))\n",
        "print('Taylor 3 exp(x) ≅', taylor(exp(x), 0, 3))\n",
        "print('Taylor 4 exp(x) ≅', taylor(exp(x), 0, 4))\n",
        "print('Taylor 5 exp(x) ≅', taylor(exp(x), 0, 5))\n",
        "print('Taylor 6 exp(x) ≅', taylor(exp(x), 0, 6))\n",
        "print('Taylor 7 exp(x) ≅', taylor(exp(x), 0, 7))\n",
        "print('Taylor 8 exp(x) ≅', taylor(exp(x), 0, 8))\n",
        "\n",
        "print('Taylor 0 sin(x) ≅', taylor(sin(x), 0, 0))\n",
        "print('Taylor 1 sin(x) ≅', taylor(sin(x), 0, 1))\n",
        "print('Taylor 2 sin(x) ≅', taylor(sin(x), 0, 2))\n",
        "print('Taylor 3 sin(x) ≅', taylor(sin(x), 0, 3))\n",
        "print('Taylor 4 sin(x) ≅', taylor(sin(x), 0, 4))\n",
        "print('Taylor 5 sin(x) ≅', taylor(sin(x), 0, 5))\n",
        "print('Taylor 6 sin(x) ≅', taylor(sin(x), 0, 6))\n",
        "print('Taylor 7 sin(x) ≅', taylor(sin(x), 0, 7))\n",
        "print('Taylor 8 sin(x) ≅', taylor(sin(x), 0, 8))\n",
        "\n",
        "print('Taylor 0 cos(x) ≅', taylor(cos(x), 0, 0))\n",
        "print('Taylor 1 cos(x) ≅', taylor(cos(x), 0, 1))\n",
        "print('Taylor 2 cos(x) ≅', taylor(cos(x), 0, 2))\n",
        "print('Taylor 3 cos(x) ≅', taylor(cos(x), 0, 3))\n",
        "print('Taylor 4 cos(x) ≅', taylor(cos(x), 0, 4))\n",
        "print('Taylor 5 cos(x) ≅', taylor(cos(x), 0, 5))\n",
        "print('Taylor 6 cos(x) ≅', taylor(cos(x), 0, 6))\n",
        "print('Taylor 7 cos(x) ≅', taylor(cos(x), 0, 7))\n",
        "print('Taylor 8 cos(x) ≅', taylor(cos(x), 0, 8))\n",
        "\n",
        "print('Taylor 0 1/(1-x) ≅', taylor(1/(1-x), 0, 0))\n",
        "print('Taylor 1 1/(1-x) ≅', taylor(1/(1-x), 0, 1))\n",
        "print('Taylor 2 1/(1-x) ≅', taylor(1/(1-x), 0, 2))\n",
        "print('Taylor 3 1/(1-x) ≅', taylor(1/(1-x), 0, 3))\n",
        "print('Taylor 4 1/(1-x) ≅', taylor(1/(1-x), 0, 4))\n",
        "print('Taylor 5 1/(1-x) ≅', taylor(1/(1-x), 0, 5))\n",
        "print('Taylor 6 1/(1-x) ≅', taylor(1/(1-x), 0, 6))\n",
        "print('Taylor 7 1/(1-x) ≅', taylor(1/(1-x), 0, 7))\n",
        "print('Taylor 8 1/(1-x) ≅', taylor(1/(1-x), 0, 8))\n",
        "\n",
        "print('Taylor 0 ln(1+x) ≅', taylor(ln(1+x), 0, 0))\n",
        "print('Taylor 1 ln(1+x) ≅', taylor(ln(1+x), 0, 1))\n",
        "print('Taylor 2 ln(1+x) ≅', taylor(ln(1+x), 0, 2))\n",
        "print('Taylor 3 ln(1+x) ≅', taylor(ln(1+x), 0, 3))\n",
        "print('Taylor 4 ln(1+x) ≅', taylor(ln(1+x), 0, 4))\n",
        "print('Taylor 5 ln(1+x) ≅', taylor(ln(1+x), 0, 5))\n",
        "print('Taylor 6 ln(1+x) ≅', taylor(ln(1+x), 0, 6))\n",
        "print('Taylor 7 ln(1+x) ≅', taylor(ln(1+x), 0, 7))\n",
        "print('Taylor 8 ln(1+x) ≅', taylor(ln(1+x), 0, 8))\n",
        "\n",
        "print('Taylor 0 ln(x) ≅', taylor(ln(x), 1, 0))\n",
        "print('Taylor 1 ln(x) ≅', taylor(ln(x), 1, 1))\n",
        "print('Taylor 2 ln(x) ≅', taylor(ln(x), 1, 2))\n",
        "print('Taylor 3 ln(x) ≅', taylor(ln(x), 1, 3))\n",
        "print('Taylor 4 ln(x) ≅', taylor(ln(x), 1, 4))\n",
        "print('Taylor 5 ln(x) ≅', taylor(ln(x), 1, 5))\n",
        "print('Taylor 6 ln(x) ≅', taylor(ln(x), 1, 6))\n",
        "print('Taylor 7 ln(x) ≅', taylor(ln(x), 1, 7))\n",
        "print('Taylor 8 ln(x) ≅', taylor(ln(x), 1, 8))"
      ],
      "execution_count": 6,
      "outputs": [
        {
          "output_type": "stream",
          "name": "stdout",
          "text": [
            "Taylor 0 exp(x) ≅ 0\n",
            "Taylor 1 exp(x) ≅ 1\n",
            "Taylor 2 exp(x) ≅ x + 1\n",
            "Taylor 3 exp(x) ≅ x**2/2 + x + 1\n",
            "Taylor 4 exp(x) ≅ x**3/6 + x**2/2 + x + 1\n",
            "Taylor 5 exp(x) ≅ x**4/24 + x**3/6 + x**2/2 + x + 1\n",
            "Taylor 6 exp(x) ≅ x**5/120 + x**4/24 + x**3/6 + x**2/2 + x + 1\n",
            "Taylor 7 exp(x) ≅ x**6/720 + x**5/120 + x**4/24 + x**3/6 + x**2/2 + x + 1\n",
            "Taylor 8 exp(x) ≅ x**7/5040 + x**6/720 + x**5/120 + x**4/24 + x**3/6 + x**2/2 + x + 1\n",
            "Taylor 0 sin(x) ≅ 0\n",
            "Taylor 1 sin(x) ≅ 0\n",
            "Taylor 2 sin(x) ≅ x\n",
            "Taylor 3 sin(x) ≅ x\n",
            "Taylor 4 sin(x) ≅ -x**3/6 + x\n",
            "Taylor 5 sin(x) ≅ -x**3/6 + x\n",
            "Taylor 6 sin(x) ≅ x**5/120 - x**3/6 + x\n",
            "Taylor 7 sin(x) ≅ x**5/120 - x**3/6 + x\n",
            "Taylor 8 sin(x) ≅ -x**7/5040 + x**5/120 - x**3/6 + x\n",
            "Taylor 0 cos(x) ≅ 0\n",
            "Taylor 1 cos(x) ≅ 1\n",
            "Taylor 2 cos(x) ≅ 1\n",
            "Taylor 3 cos(x) ≅ 1 - x**2/2\n",
            "Taylor 4 cos(x) ≅ 1 - x**2/2\n",
            "Taylor 5 cos(x) ≅ x**4/24 - x**2/2 + 1\n",
            "Taylor 6 cos(x) ≅ x**4/24 - x**2/2 + 1\n",
            "Taylor 7 cos(x) ≅ -x**6/720 + x**4/24 - x**2/2 + 1\n",
            "Taylor 8 cos(x) ≅ -x**6/720 + x**4/24 - x**2/2 + 1\n",
            "Taylor 0 1/(1-x) ≅ 0\n",
            "Taylor 1 1/(1-x) ≅ 1\n",
            "Taylor 2 1/(1-x) ≅ x + 1\n",
            "Taylor 3 1/(1-x) ≅ x**2 + x + 1\n",
            "Taylor 4 1/(1-x) ≅ x**3 + x**2 + x + 1\n",
            "Taylor 5 1/(1-x) ≅ x**4 + x**3 + x**2 + x + 1\n",
            "Taylor 6 1/(1-x) ≅ x**5 + x**4 + x**3 + x**2 + x + 1\n",
            "Taylor 7 1/(1-x) ≅ x**6 + x**5 + x**4 + x**3 + x**2 + x + 1\n",
            "Taylor 8 1/(1-x) ≅ x**7 + x**6 + x**5 + x**4 + x**3 + x**2 + x + 1\n",
            "Taylor 0 ln(1+x) ≅ 0\n",
            "Taylor 1 ln(1+x) ≅ 0\n",
            "Taylor 2 ln(1+x) ≅ x\n",
            "Taylor 3 ln(1+x) ≅ -x**2/2 + x\n",
            "Taylor 4 ln(1+x) ≅ x**3/3 - x**2/2 + x\n",
            "Taylor 5 ln(1+x) ≅ -x**4/4 + x**3/3 - x**2/2 + x\n",
            "Taylor 6 ln(1+x) ≅ x**5/5 - x**4/4 + x**3/3 - x**2/2 + x\n",
            "Taylor 7 ln(1+x) ≅ -x**6/6 + x**5/5 - x**4/4 + x**3/3 - x**2/2 + x\n",
            "Taylor 8 ln(1+x) ≅ x**7/7 - x**6/6 + x**5/5 - x**4/4 + x**3/3 - x**2/2 + x\n",
            "Taylor 0 ln(x) ≅ 0\n",
            "Taylor 1 ln(x) ≅ 0\n",
            "Taylor 2 ln(x) ≅ x - 1\n",
            "Taylor 3 ln(x) ≅ x - (x - 1)**2/2 - 1\n",
            "Taylor 4 ln(x) ≅ x + (x - 1)**3/3 - (x - 1)**2/2 - 1\n",
            "Taylor 5 ln(x) ≅ x - (x - 1)**4/4 + (x - 1)**3/3 - (x - 1)**2/2 - 1\n",
            "Taylor 6 ln(x) ≅ x + (x - 1)**5/5 - (x - 1)**4/4 + (x - 1)**3/3 - (x - 1)**2/2 - 1\n",
            "Taylor 7 ln(x) ≅ x - (x - 1)**6/6 + (x - 1)**5/5 - (x - 1)**4/4 + (x - 1)**3/3 - (x - 1)**2/2 - 1\n",
            "Taylor 8 ln(x) ≅ x + (x - 1)**7/7 - (x - 1)**6/6 + (x - 1)**5/5 - (x - 1)**4/4 + (x - 1)**3/3 - (x - 1)**2/2 - 1\n"
          ]
        }
      ]
    },
    {
      "cell_type": "code",
      "metadata": {
        "id": "ZvqiDRLOtAFa",
        "colab": {
          "base_uri": "https://localhost:8080/"
        },
        "outputId": "0a41cbf2-901f-4b56-897d-5a8d03820538"
      },
      "source": [
        "\n",
        "print('Taylor 0 exp(x) ≅', taylor(sin(x), 0, 0).subs(x,2),' = ',taylor(sin(x), 0, 0).subs(x,2).evalf())\n",
        "print('Taylor 1 exp(x) ≅', taylor(cos(x), 0, 1).subs(x,2),' = ',taylor(exp(x), 0, 1).subs(x,2).evalf())\n",
        "print('Taylor 2 exp(x) ≅', taylor(exp(x), 0, 2).subs(x,2),' = ',taylor(exp(x), 0, 2).subs(x,2).evalf())\n",
        "print('Taylor 3 exp(x) ≅', taylor(exp(x), 0, 3).subs(x,2),' = ',taylor(exp(x), 0, 3).subs(x,2).evalf())\n",
        "print('Taylor 4 exp(x) ≅', taylor(exp(x), 0, 4).subs(x,2),' = ',taylor(exp(x), 0, 4).subs(x,2).evalf())\n",
        "print('Taylor 5 exp(x) ≅', taylor(exp(x), 0, 5).subs(x,2),' = ',taylor(exp(x), 0, 5).subs(x,2).evalf())\n",
        "print('Taylor 6 exp(x) ≅', taylor(exp(x), 0, 6).subs(x,2),' = ',taylor(exp(x), 0, 6).subs(x,2).evalf())\n",
        "print('Taylor 7 exp(x) ≅', taylor(exp(x), 0, 8).subs(x,2),' = ',taylor(exp(x), 0, 7).subs(x,2).evalf())\n",
        "print('Taylor 2 1/(1-x) ≅', taylor(1/(1-x), 0,2).subs(x,2),' = ',taylor(1/(1-x), 0, 2).subs(x,2).evalf())\n",
        "print('Taylor 3 1/(1-x) ≅', taylor(1/(1-x), 0,3).subs(x,2),' = ',taylor(1/(1-x), 0, 3).subs(x,2).evalf())\n",
        "print('Taylor 2 ln(1+x) ≅', taylor(ln(1+x), 0,2).subs(x,2),' = ',taylor(ln(1+x), 0, 2).subs(x,2).evalf())\n",
        "print('Taylor 3 ln(1+x) ≅', taylor(ln(1+x), 0,3).subs(x,2),' = ',taylor(ln(1+x), 0, 3).subs(x,2).evalf())\n",
        "print('Taylor 2 ln(x) ≅', taylor(ln(x), 1,2).subs(x,2),' = ',taylor(ln(x), 1, 2).subs(x,2).evalf())\n",
        "print('Taylor 3 ln(x) ≅', taylor(ln(x), 1,3).subs(x,2),' = ',taylor(ln(x), 1, 3).subs(x,2).evalf())"
      ],
      "execution_count": 7,
      "outputs": [
        {
          "output_type": "stream",
          "name": "stdout",
          "text": [
            "Taylor 0 exp(x) ≅ 0  =  0\n",
            "Taylor 1 exp(x) ≅ 1  =  1.00000000000000\n",
            "Taylor 2 exp(x) ≅ 3  =  3.00000000000000\n",
            "Taylor 3 exp(x) ≅ 5  =  5.00000000000000\n",
            "Taylor 4 exp(x) ≅ 19/3  =  6.33333333333333\n",
            "Taylor 5 exp(x) ≅ 7  =  7.00000000000000\n",
            "Taylor 6 exp(x) ≅ 109/15  =  7.26666666666667\n",
            "Taylor 7 exp(x) ≅ 155/21  =  7.35555555555556\n",
            "Taylor 2 1/(1-x) ≅ 3  =  3.00000000000000\n",
            "Taylor 3 1/(1-x) ≅ 7  =  7.00000000000000\n",
            "Taylor 2 ln(1+x) ≅ 2  =  2.00000000000000\n",
            "Taylor 3 ln(1+x) ≅ 0  =  0\n",
            "Taylor 2 ln(x) ≅ 1  =  1.00000000000000\n",
            "Taylor 3 ln(x) ≅ 1/2  =  0.500000000000000\n"
          ]
        }
      ]
    },
    {
      "cell_type": "code",
      "metadata": {
        "id": "6CAcVG99Oxp4",
        "colab": {
          "base_uri": "https://localhost:8080/"
        },
        "outputId": "cbef7d56-5cfc-4b62-c4f6-d31ba138f456"
      },
      "source": [
        "import math\n",
        "print('sympy exp(x)subs(x,2) =', exp(x).subs(x,2))\n",
        "print('sympy exp(x).subs(x,2).evalf() =', exp(x).subs(x,2).evalf())\n",
        "print('math.exp(2) =', math.exp(2))\n",
        "print(\"\")\n",
        "print('sympy sin(x)subs(x,2) =', sin(x).subs(x,2))\n",
        "print('sympy sin(x).subs(x,2).evalf() =', sin(x).subs(x,2).evalf())\n",
        "print('math.sin(2) =', math.sin(2))\n",
        "print(\"\")\n",
        "print('sympy cos(x)subs(x,2) =', cos(x).subs(x,2))\n",
        "print('sympy cos(x).subs(x,2).evalf() =', cos(x).subs(x,2).evalf())\n",
        "print('math.cos(2) =', math.cos(2))\n",
        "print(\"\")\n",
        "print('sympy 1/(1-x)subs(x,2) =', (1/(1-x)).subs(x,2))\n",
        "print('sympy 1/(1-x).subs(x,2).evalf() =', (1/(1-x)).subs(x,2).evalf())\n",
        "print('math.1/(1-2) =', 1/(1-2))\n",
        "print(\"\")\n",
        "print('sympy ln(x+1)subs(x,2) =', ln(x+1).subs(x,2))\n",
        "print('sympy ln(x+1).subs(x,2).evalf() =', ln(x+1).subs(x,2).evalf())\n",
        "print('math.ln(2+1) =', np.log(2+1))\n",
        "print(\"\")\n",
        "print('sympy ln(x)subs(x,2) =', ln(x).subs(x,2))\n",
        "print('sympy ln(x).subs(x,2).evalf() =', ln(x).subs(x,2).evalf())\n",
        "print('math.ln(2) =', np.log(2))"
      ],
      "execution_count": 8,
      "outputs": [
        {
          "output_type": "stream",
          "name": "stdout",
          "text": [
            "sympy exp(x)subs(x,2) = exp(2)\n",
            "sympy exp(x).subs(x,2).evalf() = 7.38905609893065\n",
            "math.exp(2) = 7.38905609893065\n",
            "\n",
            "sympy sin(x)subs(x,2) = sin(2)\n",
            "sympy sin(x).subs(x,2).evalf() = 0.909297426825682\n",
            "math.sin(2) = 0.9092974268256817\n",
            "\n",
            "sympy cos(x)subs(x,2) = cos(2)\n",
            "sympy cos(x).subs(x,2).evalf() = -0.416146836547142\n",
            "math.cos(2) = -0.4161468365471424\n",
            "\n",
            "sympy 1/(1-x)subs(x,2) = -1\n",
            "sympy 1/(1-x).subs(x,2).evalf() = -1.00000000000000\n",
            "math.1/(1-2) = -1.0\n",
            "\n",
            "sympy ln(x+1)subs(x,2) = log(3)\n",
            "sympy ln(x+1).subs(x,2).evalf() = 1.09861228866811\n",
            "math.ln(2+1) = 1.0986122886681098\n",
            "\n",
            "sympy ln(x)subs(x,2) = log(2)\n",
            "sympy ln(x).subs(x,2).evalf() = 0.693147180559945\n",
            "math.ln(2) = 0.6931471805599453\n"
          ]
        }
      ]
    },
    {
      "cell_type": "code",
      "metadata": {
        "id": "7-SIZbyzVb8I",
        "colab": {
          "base_uri": "https://localhost:8080/",
          "height": 265
        },
        "outputId": "9bb41994-96fa-498c-86e1-ec7627cf1a67"
      },
      "source": [
        "import math\n",
        "import numpy as np\n",
        "import matplotlib.pyplot as plt\n",
        "# if using a Jupyter notebook, include:\n",
        "%matplotlib inline\n",
        "\n",
        "values = np.arange(-5,5,0.1)\n",
        "p_exp = np.exp(values)\n",
        "t_exp1 = [taylor(exp(x), 0, 1).subs(x,v) for v in values]\n",
        "legends = ['exp() ','Taylor 1 (constant)']\n",
        "\n",
        "fig, ax = plt.subplots()\n",
        "ax.plot(values,p_exp, color ='red')\n",
        "ax.plot(values,t_exp1)\n",
        "\n",
        "ax.set_ylim([-5,5])\n",
        "ax.axhline(y=0.0, xmin=-5.0, xmax=5.0, color='black')\n",
        "ax.axvline(x=0.0, ymin=-10.0, ymax=10.0, color='black')\n",
        "ax.legend(legends)\n",
        "\n",
        "plt.show()"
      ],
      "execution_count": 9,
      "outputs": [
        {
          "output_type": "display_data",
          "data": {
            "image/png": "[encoded data removed]",
            "text/plain": [
              "<Figure size 432x288 with 1 Axes>"
            ]
          },
          "metadata": {
            "needs_background": "light"
          }
        }
      ]
    },
    {
      "cell_type": "code",
      "metadata": {
        "id": "nEX84A5GV6-g",
        "colab": {
          "base_uri": "https://localhost:8080/",
          "height": 264
        },
        "outputId": "971df838-0d5a-453b-d938-91ffeb58fdc3"
      },
      "source": [
        "import math\n",
        "import numpy as np\n",
        "import matplotlib.pyplot as plt\n",
        "# if using a Jupyter notebook, include:\n",
        "%matplotlib inline\n",
        "\n",
        "values = np.arange(-5,5,0.1)\n",
        "p_exp = np.exp(values)\n",
        "t_exp2 = [taylor(exp(x), 0, 2).subs(x,v) for v in values]\n",
        "legends = ['exp() ','Taylor 2 (linear)']\n",
        "\n",
        "fig, ax = plt.subplots()\n",
        "ax.plot(values,p_exp, color ='red')\n",
        "ax.plot(values,t_exp2)\n",
        "\n",
        "ax.set_ylim([-5,5])\n",
        "ax.axhline(y=0.0, xmin=-5.0, xmax=5.0, color='black')\n",
        "ax.axvline(x=0.0, ymin=-10.0, ymax=10.0, color='black')\n",
        "ax.legend(legends)\n",
        "\n",
        "plt.show()"
      ],
      "execution_count": null,
      "outputs": [
        {
          "output_type": "display_data",
          "data": {
            "image/png": "[encoded data removed]",
            "text/plain": [
              "<Figure size 432x288 with 1 Axes>"
            ]
          },
          "metadata": {
            "tags": [],
            "needs_background": "light"
          }
        }
      ]
    },
    {
      "cell_type": "code",
      "metadata": {
        "id": "0tgel982WPXX",
        "colab": {
          "base_uri": "https://localhost:8080/",
          "height": 264
        },
        "outputId": "bb2771ed-fce5-4b28-bcb4-fc220527c6ad"
      },
      "source": [
        "import math\n",
        "import numpy as np\n",
        "import matplotlib.pyplot as plt\n",
        "# if using a Jupyter notebook, include:\n",
        "%matplotlib inline\n",
        "\n",
        "values = np.arange(-5,5,0.1)\n",
        "p_exp = np.exp(values)\n",
        "t_exp3 = [taylor(exp(x), 0, 3).subs(x,v) for v in values]\n",
        "legends = ['exp() ','Taylor 3 (quadratic)']\n",
        "\n",
        "fig, ax = plt.subplots()\n",
        "ax.plot(values,p_exp, color ='red')\n",
        "ax.plot(values,t_exp3)\n",
        "\n",
        "ax.set_ylim([-5,5])\n",
        "ax.axhline(y=0.0, xmin=-5.0, xmax=5.0, color='black')\n",
        "ax.axvline(x=0.0, ymin=-10.0, ymax=10.0, color='black')\n",
        "ax.legend(legends)\n",
        "\n",
        "plt.show()"
      ],
      "execution_count": null,
      "outputs": [
        {
          "output_type": "display_data",
          "data": {
            "image/png": "[encoded data removed]",
            "text/plain": [
              "<Figure size 432x288 with 1 Axes>"
            ]
          },
          "metadata": {
            "tags": [],
            "needs_background": "light"
          }
        }
      ]
    },
    {
      "cell_type": "code",
      "metadata": {
        "id": "coXe9XZGWbLO",
        "colab": {
          "base_uri": "https://localhost:8080/",
          "height": 264
        },
        "outputId": "c406f770-efcb-4895-82cf-d014cee3c675"
      },
      "source": [
        "import math\n",
        "import numpy as np\n",
        "import matplotlib.pyplot as plt\n",
        "# if using a Jupyter notebook, include:\n",
        "%matplotlib inline\n",
        "\n",
        "values = np.arange(-5,5,0.1)\n",
        "p_exp = np.exp(values)\n",
        "t_exp4 = [taylor(exp(x), 0, 4).subs(x,v) for v in values]\n",
        "legends = ['exp() ','Taylor 4 (cubic)']\n",
        "\n",
        "fig, ax = plt.subplots()\n",
        "ax.plot(values,p_exp, color ='red')\n",
        "ax.plot(values,t_exp4)\n",
        "\n",
        "ax.set_ylim([-5,5])\n",
        "ax.axhline(y=0.0, xmin=-5.0, xmax=5.0, color='black')\n",
        "ax.axvline(x=0.0, ymin=-10.0, ymax=10.0, color='black')\n",
        "ax.legend(legends)\n",
        "\n",
        "plt.show()"
      ],
      "execution_count": null,
      "outputs": [
        {
          "output_type": "display_data",
          "data": {
            "image/png": "[encoded data removed]",
            "text/plain": [
              "<Figure size 432x288 with 1 Axes>"
            ]
          },
          "metadata": {
            "tags": [],
            "needs_background": "light"
          }
        }
      ]
    },
    {
      "cell_type": "code",
      "metadata": {
        "id": "9xTFhhEMPS1w",
        "colab": {
          "base_uri": "https://localhost:8080/",
          "height": 264
        },
        "outputId": "4a8f1ae5-1620-4da7-c1fa-0ac5ae783fa1"
      },
      "source": [
        "import math\n",
        "import numpy as np\n",
        "import matplotlib.pyplot as plt\n",
        "# if using a Jupyter notebook, include:\n",
        "%matplotlib inline\n",
        "\n",
        "values = np.arange(-5,5,0.1)\n",
        "p_exp = np.exp(values)\n",
        "t_exp1 = [taylor(exp(x), 0, 1).subs(x,v) for v in values]\n",
        "t_exp2 = [taylor(exp(x), 0, 2).subs(x,v) for v in values]\n",
        "t_exp3 = [taylor(exp(x), 0, 3).subs(x,v) for v in values]\n",
        "t_exp4 = [taylor(exp(x), 0, 4).subs(x,v) for v in values]\n",
        "legends = ['exp() ','Taylor 1 (constant)','Taylor 3 (linear)','Taylor 3 (quadratic)','Taylor 4 (cubic)']\n",
        "\n",
        "fig, ax = plt.subplots()\n",
        "ax.plot(values,p_exp)\n",
        "ax.plot(values,t_exp1)\n",
        "ax.plot(values,t_exp2)\n",
        "ax.plot(values,t_exp3)\n",
        "ax.plot(values,t_exp4)\n",
        "\n",
        "ax.set_ylim([-5,5])\n",
        "ax.axhline(y=0.0, xmin=-5.0, xmax=5.0, color='black')\n",
        "ax.axvline(x=0.0, ymin=-10.0, ymax=10.0, color='black')\n",
        "ax.legend(legends)\n",
        "\n",
        "plt.show()"
      ],
      "execution_count": null,
      "outputs": [
        {
          "output_type": "display_data",
          "data": {
            "image/png": "[encoded data removed]",
            "text/plain": [
              "<Figure size 432x288 with 1 Axes>"
            ]
          },
          "metadata": {
            "tags": [],
            "needs_background": "light"
          }
        }
      ]
    },
    {
      "cell_type": "code",
      "metadata": {
        "id": "YwDfIyeHrhu8"
      },
      "source": [
        "%matplotlib inline"
      ],
      "execution_count": null,
      "outputs": []
    },
    {
      "cell_type": "code",
      "metadata": {
        "colab": {
          "base_uri": "https://localhost:8080/",
          "height": 265
        },
        "id": "pj1MA5FGrTCr",
        "outputId": "859259e3-c194-4975-dff9-c614ceee427a"
      },
      "source": [
        "import math\n",
        "import numpy as np\n",
        "import matplotlib.pyplot as plt\n",
        "# if using a Jupyter notebook, include:\n",
        "\n",
        "values = np.arange(-5,5,0.1)\n",
        "p_exp = np.sin(values)\n",
        "t_exp1 = [taylor(sin(x), 0, 1).subs(x,v) for v in values]\n",
        "t_exp2 = [taylor(sin(x), 0, 2).subs(x,v) for v in values]\n",
        "t_exp3 = [taylor(sin(x), 0, 3).subs(x,v) for v in values]\n",
        "t_exp4 = [taylor(sin(x), 0, 4).subs(x,v) for v in values]\n",
        "legends = ['sin(x) ','Taylor 1 (constant)','Taylor 3 (linear)','Taylor 3 (quadratic)','Taylor 4 (cubic)']\n",
        "\n",
        "fig, ax = plt.subplots()\n",
        "ax.plot(values,p_exp)\n",
        "ax.plot(values,t_exp1)\n",
        "ax.plot(values,t_exp2)\n",
        "ax.plot(values,t_exp3)\n",
        "ax.plot(values,t_exp4)\n",
        "\n",
        "ax.set_ylim([-5,5])\n",
        "ax.axhline(y=0.0, xmin=-5.0, xmax=5.0, color='black')\n",
        "ax.axvline(x=0.0, ymin=-10.0, ymax=10.0, color='black')\n",
        "ax.legend(legends)\n",
        "\n",
        "plt.show()"
      ],
      "execution_count": 10,
      "outputs": [
        {
          "output_type": "display_data",
          "data": {
            "image/png": "[encoded data removed]",
            "text/plain": [
              "<Figure size 432x288 with 1 Axes>"
            ]
          },
          "metadata": {
            "needs_background": "light"
          }
        }
      ]
    },
    {
      "cell_type": "code",
      "metadata": {
        "colab": {
          "base_uri": "https://localhost:8080/",
          "height": 269
        },
        "id": "fDLpAtSVtjfy",
        "outputId": "1487ca67-6e85-4a10-ab44-8c1514f16d78"
      },
      "source": [
        "import math\n",
        "import numpy as np\n",
        "import matplotlib.pyplot as plt\n",
        "# if using a Jupyter notebook, include:\n",
        "\n",
        "values = np.arange(-0.5,5,0.1)\n",
        "p_exp = np.log(values+1)\n",
        "t_exp1 = [taylor(ln(x+1), 1, 1).subs(x,v) for v in values]\n",
        "t_exp2 = [taylor(ln(x+1), 1, 2).subs(x,v) for v in values]\n",
        "t_exp3 = [taylor(ln(x+1), 1, 3).subs(x,v) for v in values]\n",
        "t_exp4 = [taylor(ln(x+1), 1, 4).subs(x,v) for v in values]\n",
        "legends = ['ln(x+1) ','Taylor 1 (constant)','Taylor 3 (linear)','Taylor 3 (quadratic)','Taylor 4 (cubic)']\n",
        "\n",
        "fig, ax = plt.subplots()\n",
        "ax.plot(values,p_exp)\n",
        "ax.plot(values,t_exp1)\n",
        "ax.plot(values,t_exp2)\n",
        "ax.plot(values,t_exp3)\n",
        "ax.plot(values,t_exp4)\n",
        "\n",
        "ax.set_ylim([0.1,5])\n",
        "ax.axhline(y=0.0, xmin=-5.0, xmax=5.0, color='black')\n",
        "ax.axvline(x=0.0, ymin=-10.0, ymax=10.0, color='black')\n",
        "ax.legend(legends)\n",
        "\n",
        "\n",
        "plt.show()"
      ],
      "execution_count": 11,
      "outputs": [
        {
          "output_type": "display_data",
          "data": {
            "image/png": "[encoded data removed]",
            "text/plain": [
              "<Figure size 432x288 with 1 Axes>"
            ]
          },
          "metadata": {
            "needs_background": "light"
          }
        }
      ]
    }
  ]
}