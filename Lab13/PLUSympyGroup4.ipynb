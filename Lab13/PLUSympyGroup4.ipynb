{
  "nbformat": 4,
  "nbformat_minor": 0,
  "metadata": {
    "colab": {
      "name": "PLUSympyGroup4.ipynb",
      "provenance": [],
      "collapsed_sections": [],
      "include_colab_link": true
    },
    "kernelspec": {
      "name": "python3",
      "display_name": "Python 3"
    },
    "language_info": {
      "name": "python"
    }
  },
  "cells": [
    {
      "cell_type": "markdown",
      "metadata": {
        "id": "view-in-github",
        "colab_type": "text"
      },
      "source": [
        "<a href=\"https://colab.research.google.com/github/jubedoyag/MetNumUN2021II/blob/main/Lab13/PLUSympyGroup4.ipynb\" target=\"_parent\"><img src=\"https://colab.research.google.com/assets/colab-badge.svg\" alt=\"Open In Colab\"/></a>"
      ]
    },
    {
      "cell_type": "markdown",
      "source": [
        "# PLU SymPy"
      ],
      "metadata": {
        "id": "2b0X1rlVghnD"
      }
    },
    {
      "cell_type": "code",
      "source": [
        "from sympy import Matrix,init_printing, eye, zeros\n",
        "init_printing()"
      ],
      "metadata": {
        "id": "5YpJlcuLtIBn"
      },
      "execution_count": 1,
      "outputs": []
    },
    {
      "cell_type": "code",
      "source": [
        "import sympy \n",
        "import numpy as np\n",
        "def PLU(A,k):\n",
        "\n",
        "  # ... ENTER YOUR CODE HERE ...\n",
        "\n",
        "  N = A.shape[0] # matrix size\n",
        "  u = A.copy() # u will be the upper triangular matrix, all operations with Pk and lambda will be done at u\n",
        "  L = sympy.eye(N) # L will be the lower triangular matrix, recolect all lambdas\n",
        "  P = sympy.eye(N) # P will be the permutation matrix in A = PLU, when is L calculated comes with P, to separate one from another we multiply L with P's transpose\n",
        "  \n",
        "  for j in range(k):\n",
        "      lam = sympy.eye(N)\n",
        "      perm = sympy.eye(N)\n",
        "      \n",
        "      # here we find the pivot from the column \n",
        "      row_ind = j\n",
        "      max_value = u[row_ind, j]\n",
        "      for i in range(j, N, 1):\n",
        "        if abs(u[i, j]) > abs(max_value): \n",
        "          max_value = u[i, j]\n",
        "          row_ind = i\n",
        "      \n",
        "      # and here create the permutation matrix Pk (k = 0, 1, ..., n-1), is called perm\n",
        "      swap_row = perm[row_ind,:].copy()\n",
        "      perm[row_ind,:] = perm[j,:]\n",
        "      perm[j,:] = swap_row\n",
        "\n",
        "      u = perm @ u # its important to do this permutation before gamma calculation\n",
        "\n",
        "      gamma = u[j+1:, j] / u[j, j]\n",
        "      lam[j+1:, j] = -gamma\n",
        "      u = lam @ u\n",
        "      P = perm @ P\n",
        "\n",
        "      L = L @ perm @ lam \n",
        "\n",
        "  return P,P@L,u"
      ],
      "metadata": {
        "id": "1u2PJf3otKcc"
      },
      "execution_count": 2,
      "outputs": []
    },
    {
      "cell_type": "code",
      "source": [
        "A = Matrix([[-2,2,-1], [6,-6,7], [3,-8,4]])\n",
        "A"
      ],
      "metadata": {
        "colab": {
          "base_uri": "https://localhost:8080/",
          "height": 78
        },
        "id": "7HLfQMyxz4h9",
        "outputId": "c87f5c8e-bdd4-4aa9-99cd-af944a0183d8"
      },
      "execution_count": 3,
      "outputs": [
        {
          "output_type": "execute_result",
          "data": {
            "text/latex": "$\\displaystyle \\left[\\begin{matrix}-2 & 2 & -1\\\\6 & -6 & 7\\\\3 & -8 & 4\\end{matrix}\\right]$",
            "text/plain": [
              "⎡-2  2   -1⎤\n",
              "⎢          ⎥\n",
              "⎢6   -6  7 ⎥\n",
              "⎢          ⎥\n",
              "⎣3   -8  4 ⎦"
            ]
          },
          "metadata": {},
          "execution_count": 3
        }
      ]
    },
    {
      "cell_type": "code",
      "source": [
        "P,L,U = PLU(A,0)"
      ],
      "metadata": {
        "id": "6leWL6-jtRkF"
      },
      "execution_count": 4,
      "outputs": []
    },
    {
      "cell_type": "code",
      "source": [
        "P"
      ],
      "metadata": {
        "colab": {
          "base_uri": "https://localhost:8080/",
          "height": 78
        },
        "id": "v2_Euu2Dy6rt",
        "outputId": "4919e521-df5b-4e2a-bd06-204d2a96b1d0"
      },
      "execution_count": 5,
      "outputs": [
        {
          "output_type": "execute_result",
          "data": {
            "text/latex": "$\\displaystyle \\left[\\begin{matrix}1 & 0 & 0\\\\0 & 1 & 0\\\\0 & 0 & 1\\end{matrix}\\right]$",
            "text/plain": [
              "⎡1  0  0⎤\n",
              "⎢       ⎥\n",
              "⎢0  1  0⎥\n",
              "⎢       ⎥\n",
              "⎣0  0  1⎦"
            ]
          },
          "metadata": {},
          "execution_count": 5
        }
      ]
    },
    {
      "cell_type": "code",
      "source": [
        "L"
      ],
      "metadata": {
        "colab": {
          "base_uri": "https://localhost:8080/",
          "height": 78
        },
        "id": "wUIt2RTTy3qG",
        "outputId": "afad827f-00f6-4b7b-895a-829cd8299b75"
      },
      "execution_count": 6,
      "outputs": [
        {
          "output_type": "execute_result",
          "data": {
            "text/latex": "$\\displaystyle \\left[\\begin{matrix}1 & 0 & 0\\\\0 & 1 & 0\\\\0 & 0 & 1\\end{matrix}\\right]$",
            "text/plain": [
              "⎡1  0  0⎤\n",
              "⎢       ⎥\n",
              "⎢0  1  0⎥\n",
              "⎢       ⎥\n",
              "⎣0  0  1⎦"
            ]
          },
          "metadata": {},
          "execution_count": 6
        }
      ]
    },
    {
      "cell_type": "code",
      "source": [
        "U"
      ],
      "metadata": {
        "colab": {
          "base_uri": "https://localhost:8080/",
          "height": 78
        },
        "id": "WU6c9cVoy4md",
        "outputId": "ba236717-1318-499a-a831-2f22fd43cd2e"
      },
      "execution_count": 7,
      "outputs": [
        {
          "output_type": "execute_result",
          "data": {
            "text/latex": "$\\displaystyle \\left[\\begin{matrix}-2 & 2 & -1\\\\6 & -6 & 7\\\\3 & -8 & 4\\end{matrix}\\right]$",
            "text/plain": [
              "⎡-2  2   -1⎤\n",
              "⎢          ⎥\n",
              "⎢6   -6  7 ⎥\n",
              "⎢          ⎥\n",
              "⎣3   -8  4 ⎦"
            ]
          },
          "metadata": {},
          "execution_count": 7
        }
      ]
    },
    {
      "cell_type": "code",
      "source": [
        "P,L,U = PLU(A,1)"
      ],
      "metadata": {
        "id": "VwkeklsnzXm9"
      },
      "execution_count": 8,
      "outputs": []
    },
    {
      "cell_type": "code",
      "source": [
        "P"
      ],
      "metadata": {
        "colab": {
          "base_uri": "https://localhost:8080/",
          "height": 78
        },
        "id": "mmhvYJg6zZGl",
        "outputId": "af53a816-9ff0-47e4-eb8a-127a92ea8741"
      },
      "execution_count": 9,
      "outputs": [
        {
          "output_type": "execute_result",
          "data": {
            "text/latex": "$\\displaystyle \\left[\\begin{matrix}0 & 1 & 0\\\\1 & 0 & 0\\\\0 & 0 & 1\\end{matrix}\\right]$",
            "text/plain": [
              "⎡0  1  0⎤\n",
              "⎢       ⎥\n",
              "⎢1  0  0⎥\n",
              "⎢       ⎥\n",
              "⎣0  0  1⎦"
            ]
          },
          "metadata": {},
          "execution_count": 9
        }
      ]
    },
    {
      "cell_type": "code",
      "source": [
        "L"
      ],
      "metadata": {
        "colab": {
          "base_uri": "https://localhost:8080/",
          "height": 78
        },
        "id": "GYVPxQcfzZud",
        "outputId": "8e1daae5-3782-4300-f187-8a7f0a7ca328"
      },
      "execution_count": 10,
      "outputs": [
        {
          "output_type": "execute_result",
          "data": {
            "text/latex": "$\\displaystyle \\left[\\begin{matrix}1 & 0 & 0\\\\\\frac{1}{3} & 1 & 0\\\\- \\frac{1}{2} & 0 & 1\\end{matrix}\\right]$",
            "text/plain": [
              "⎡ 1    0  0⎤\n",
              "⎢          ⎥\n",
              "⎢1/3   1  0⎥\n",
              "⎢          ⎥\n",
              "⎣-1/2  0  1⎦"
            ]
          },
          "metadata": {},
          "execution_count": 10
        }
      ]
    },
    {
      "cell_type": "code",
      "source": [
        "U"
      ],
      "metadata": {
        "colab": {
          "base_uri": "https://localhost:8080/",
          "height": 78
        },
        "id": "Ii_G1E-fzauc",
        "outputId": "3972277d-d015-4b3c-8463-f66f566d153c"
      },
      "execution_count": 11,
      "outputs": [
        {
          "output_type": "execute_result",
          "data": {
            "text/latex": "$\\displaystyle \\left[\\begin{matrix}6 & -6 & 7\\\\0 & 0 & \\frac{4}{3}\\\\0 & -5 & \\frac{1}{2}\\end{matrix}\\right]$",
            "text/plain": [
              "⎡6  -6   7 ⎤\n",
              "⎢          ⎥\n",
              "⎢0  0   4/3⎥\n",
              "⎢          ⎥\n",
              "⎣0  -5  1/2⎦"
            ]
          },
          "metadata": {},
          "execution_count": 11
        }
      ]
    },
    {
      "cell_type": "code",
      "source": [
        "P,L,U = PLU(A,2)"
      ],
      "metadata": {
        "id": "yxpCf2HCzkL-"
      },
      "execution_count": 12,
      "outputs": []
    },
    {
      "cell_type": "code",
      "source": [
        "P"
      ],
      "metadata": {
        "colab": {
          "base_uri": "https://localhost:8080/",
          "height": 78
        },
        "id": "mP89CHIDznos",
        "outputId": "44b02cc5-4573-4367-9615-e2125e04fac9"
      },
      "execution_count": 13,
      "outputs": [
        {
          "output_type": "execute_result",
          "data": {
            "text/latex": "$\\displaystyle \\left[\\begin{matrix}0 & 1 & 0\\\\0 & 0 & 1\\\\1 & 0 & 0\\end{matrix}\\right]$",
            "text/plain": [
              "⎡0  1  0⎤\n",
              "⎢       ⎥\n",
              "⎢0  0  1⎥\n",
              "⎢       ⎥\n",
              "⎣1  0  0⎦"
            ]
          },
          "metadata": {},
          "execution_count": 13
        }
      ]
    },
    {
      "cell_type": "code",
      "source": [
        "L"
      ],
      "metadata": {
        "colab": {
          "base_uri": "https://localhost:8080/",
          "height": 78
        },
        "id": "bZvdCOMgzoh2",
        "outputId": "d93eb11e-053c-460d-df84-6647fb3bcd10"
      },
      "execution_count": 14,
      "outputs": [
        {
          "output_type": "execute_result",
          "data": {
            "text/latex": "$\\displaystyle \\left[\\begin{matrix}1 & 0 & 0\\\\- \\frac{1}{2} & 1 & 0\\\\\\frac{1}{3} & 0 & 1\\end{matrix}\\right]$",
            "text/plain": [
              "⎡ 1    0  0⎤\n",
              "⎢          ⎥\n",
              "⎢-1/2  1  0⎥\n",
              "⎢          ⎥\n",
              "⎣1/3   0  1⎦"
            ]
          },
          "metadata": {},
          "execution_count": 14
        }
      ]
    },
    {
      "cell_type": "code",
      "source": [
        "U"
      ],
      "metadata": {
        "colab": {
          "base_uri": "https://localhost:8080/",
          "height": 78
        },
        "id": "O64hZyl7zqE8",
        "outputId": "2af20c3f-dd44-4bb7-e2ec-47025c96c352"
      },
      "execution_count": 15,
      "outputs": [
        {
          "output_type": "execute_result",
          "data": {
            "text/latex": "$\\displaystyle \\left[\\begin{matrix}6 & -6 & 7\\\\0 & -5 & \\frac{1}{2}\\\\0 & 0 & \\frac{4}{3}\\end{matrix}\\right]$",
            "text/plain": [
              "⎡6  -6   7 ⎤\n",
              "⎢          ⎥\n",
              "⎢0  -5  1/2⎥\n",
              "⎢          ⎥\n",
              "⎣0  0   4/3⎦"
            ]
          },
          "metadata": {},
          "execution_count": 15
        }
      ]
    },
    {
      "cell_type": "code",
      "source": [
        "from sympy import  N\n",
        "N(U)"
      ],
      "metadata": {
        "colab": {
          "base_uri": "https://localhost:8080/",
          "height": 78
        },
        "id": "lEWtqQq4z-_E",
        "outputId": "5e1f5123-76fd-48f7-fa64-99db2c70530d"
      },
      "execution_count": 16,
      "outputs": [
        {
          "output_type": "execute_result",
          "data": {
            "text/latex": "$\\displaystyle \\left[\\begin{matrix}6.0 & -6.0 & 7.0\\\\0 & -5.0 & 0.5\\\\0 & 0 & 1.33333333333333\\end{matrix}\\right]$",
            "text/plain": [
              "⎡6.0  -6.0        7.0       ⎤\n",
              "⎢                           ⎥\n",
              "⎢ 0   -5.0        0.5       ⎥\n",
              "⎢                           ⎥\n",
              "⎣ 0    0    1.33333333333333⎦"
            ]
          },
          "metadata": {},
          "execution_count": 16
        }
      ]
    },
    {
      "cell_type": "code",
      "source": [
        "# Now, generate a full rank matrix and test the naive implementation\n",
        "\n",
        "import sympy \n",
        "import numpy as np\n",
        "\n",
        "N = 6\n",
        "A = sympy.zeros(N)\n",
        "for i in range(N):\n",
        "    for j in range(N):\n",
        "        A[i, j] = 2 + sympy.Rational(1,i*j+1)\n",
        "\n",
        "A"
      ],
      "metadata": {
        "colab": {
          "base_uri": "https://localhost:8080/",
          "height": 139
        },
        "id": "wqtMmRTM0q-l",
        "outputId": "eb06cdac-88e1-4e46-b7d1-3fc07c88496b"
      },
      "execution_count": 17,
      "outputs": [
        {
          "output_type": "execute_result",
          "data": {
            "text/latex": "$\\displaystyle \\left[\\begin{matrix}3 & 3 & 3 & 3 & 3 & 3\\\\3 & \\frac{5}{2} & \\frac{7}{3} & \\frac{9}{4} & \\frac{11}{5} & \\frac{13}{6}\\\\3 & \\frac{7}{3} & \\frac{11}{5} & \\frac{15}{7} & \\frac{19}{9} & \\frac{23}{11}\\\\3 & \\frac{9}{4} & \\frac{15}{7} & \\frac{21}{10} & \\frac{27}{13} & \\frac{33}{16}\\\\3 & \\frac{11}{5} & \\frac{19}{9} & \\frac{27}{13} & \\frac{35}{17} & \\frac{43}{21}\\\\3 & \\frac{13}{6} & \\frac{23}{11} & \\frac{33}{16} & \\frac{43}{21} & \\frac{53}{26}\\end{matrix}\\right]$",
            "text/plain": [
              "⎡3   3     3     3     3     3  ⎤\n",
              "⎢                               ⎥\n",
              "⎢3  5/2   7/3   9/4   11/5  13/6⎥\n",
              "⎢                               ⎥\n",
              "⎢                            23 ⎥\n",
              "⎢3  7/3   11/5  15/7  19/9   ── ⎥\n",
              "⎢                            11 ⎥\n",
              "⎢                               ⎥\n",
              "⎢                21    27    33 ⎥\n",
              "⎢3  9/4   15/7   ──    ──    ── ⎥\n",
              "⎢                10    13    16 ⎥\n",
              "⎢                               ⎥\n",
              "⎢                27    35    43 ⎥\n",
              "⎢3  11/5  19/9   ──    ──    ── ⎥\n",
              "⎢                13    17    21 ⎥\n",
              "⎢                               ⎥\n",
              "⎢          23    33    43    53 ⎥\n",
              "⎢3  13/6   ──    ──    ──    ── ⎥\n",
              "⎣          11    16    21    26 ⎦"
            ]
          },
          "metadata": {},
          "execution_count": 17
        }
      ]
    },
    {
      "cell_type": "code",
      "source": [
        "np.array(A).astype(np.float64)"
      ],
      "metadata": {
        "colab": {
          "base_uri": "https://localhost:8080/"
        },
        "id": "ZvYZLTuV0wC9",
        "outputId": "6c8d6140-0b52-432f-d174-12db41a99843"
      },
      "execution_count": 18,
      "outputs": [
        {
          "output_type": "execute_result",
          "data": {
            "text/plain": [
              "array([[3.        , 3.        , 3.        , 3.        , 3.        ,\n",
              "        3.        ],\n",
              "       [3.        , 2.5       , 2.33333333, 2.25      , 2.2       ,\n",
              "        2.16666667],\n",
              "       [3.        , 2.33333333, 2.2       , 2.14285714, 2.11111111,\n",
              "        2.09090909],\n",
              "       [3.        , 2.25      , 2.14285714, 2.1       , 2.07692308,\n",
              "        2.0625    ],\n",
              "       [3.        , 2.2       , 2.11111111, 2.07692308, 2.05882353,\n",
              "        2.04761905],\n",
              "       [3.        , 2.16666667, 2.09090909, 2.0625    , 2.04761905,\n",
              "        2.03846154]])"
            ]
          },
          "metadata": {},
          "execution_count": 18
        }
      ]
    },
    {
      "cell_type": "code",
      "source": [
        "np.linalg.matrix_rank(np.array(A).astype(np.float64))"
      ],
      "metadata": {
        "colab": {
          "base_uri": "https://localhost:8080/"
        },
        "id": "xz7BbxaS3KHG",
        "outputId": "ea731a7d-4bd5-4a53-9edb-e41d6386f988"
      },
      "execution_count": 19,
      "outputs": [
        {
          "output_type": "execute_result",
          "data": {
            "text/plain": [
              "6"
            ]
          },
          "metadata": {},
          "execution_count": 19
        }
      ]
    },
    {
      "cell_type": "code",
      "source": [
        "A[1, 1] = 3"
      ],
      "metadata": {
        "id": "hXXhpoCQ3WwU"
      },
      "execution_count": 20,
      "outputs": []
    },
    {
      "cell_type": "code",
      "source": [
        "A"
      ],
      "metadata": {
        "colab": {
          "base_uri": "https://localhost:8080/",
          "height": 139
        },
        "id": "5TGp8_iB3dmd",
        "outputId": "86f8931b-29d1-4b8d-f2da-901fa89b04f1"
      },
      "execution_count": 21,
      "outputs": [
        {
          "output_type": "execute_result",
          "data": {
            "text/latex": "$\\displaystyle \\left[\\begin{matrix}3 & 3 & 3 & 3 & 3 & 3\\\\3 & 3 & \\frac{7}{3} & \\frac{9}{4} & \\frac{11}{5} & \\frac{13}{6}\\\\3 & \\frac{7}{3} & \\frac{11}{5} & \\frac{15}{7} & \\frac{19}{9} & \\frac{23}{11}\\\\3 & \\frac{9}{4} & \\frac{15}{7} & \\frac{21}{10} & \\frac{27}{13} & \\frac{33}{16}\\\\3 & \\frac{11}{5} & \\frac{19}{9} & \\frac{27}{13} & \\frac{35}{17} & \\frac{43}{21}\\\\3 & \\frac{13}{6} & \\frac{23}{11} & \\frac{33}{16} & \\frac{43}{21} & \\frac{53}{26}\\end{matrix}\\right]$",
            "text/plain": [
              "⎡3   3     3     3     3     3  ⎤\n",
              "⎢                               ⎥\n",
              "⎢3   3    7/3   9/4   11/5  13/6⎥\n",
              "⎢                               ⎥\n",
              "⎢                            23 ⎥\n",
              "⎢3  7/3   11/5  15/7  19/9   ── ⎥\n",
              "⎢                            11 ⎥\n",
              "⎢                               ⎥\n",
              "⎢                21    27    33 ⎥\n",
              "⎢3  9/4   15/7   ──    ──    ── ⎥\n",
              "⎢                10    13    16 ⎥\n",
              "⎢                               ⎥\n",
              "⎢                27    35    43 ⎥\n",
              "⎢3  11/5  19/9   ──    ──    ── ⎥\n",
              "⎢                13    17    21 ⎥\n",
              "⎢                               ⎥\n",
              "⎢          23    33    43    53 ⎥\n",
              "⎢3  13/6   ──    ──    ──    ── ⎥\n",
              "⎣          11    16    21    26 ⎦"
            ]
          },
          "metadata": {},
          "execution_count": 21
        }
      ]
    },
    {
      "cell_type": "code",
      "source": [
        "np.linalg.matrix_rank(np.array(A).astype(np.float64))"
      ],
      "metadata": {
        "colab": {
          "base_uri": "https://localhost:8080/"
        },
        "id": "5vZ1R6r83Zic",
        "outputId": "b5a74c12-d372-4248-c981-414a4a36b2fd"
      },
      "execution_count": 22,
      "outputs": [
        {
          "output_type": "execute_result",
          "data": {
            "text/plain": [
              "6"
            ]
          },
          "metadata": {},
          "execution_count": 22
        }
      ]
    },
    {
      "cell_type": "code",
      "source": [
        "P,L,U = PLU(A,0)"
      ],
      "metadata": {
        "id": "YxIq0tH03cJc"
      },
      "execution_count": 23,
      "outputs": []
    },
    {
      "cell_type": "code",
      "source": [
        "P"
      ],
      "metadata": {
        "colab": {
          "base_uri": "https://localhost:8080/",
          "height": 139
        },
        "outputId": "5289f5ba-620e-4733-88c0-167b533c9241",
        "id": "dC-BhXVF3y88"
      },
      "execution_count": 24,
      "outputs": [
        {
          "output_type": "execute_result",
          "data": {
            "text/latex": "$\\displaystyle \\left[\\begin{matrix}1 & 0 & 0 & 0 & 0 & 0\\\\0 & 1 & 0 & 0 & 0 & 0\\\\0 & 0 & 1 & 0 & 0 & 0\\\\0 & 0 & 0 & 1 & 0 & 0\\\\0 & 0 & 0 & 0 & 1 & 0\\\\0 & 0 & 0 & 0 & 0 & 1\\end{matrix}\\right]$",
            "text/plain": [
              "⎡1  0  0  0  0  0⎤\n",
              "⎢                ⎥\n",
              "⎢0  1  0  0  0  0⎥\n",
              "⎢                ⎥\n",
              "⎢0  0  1  0  0  0⎥\n",
              "⎢                ⎥\n",
              "⎢0  0  0  1  0  0⎥\n",
              "⎢                ⎥\n",
              "⎢0  0  0  0  1  0⎥\n",
              "⎢                ⎥\n",
              "⎣0  0  0  0  0  1⎦"
            ]
          },
          "metadata": {},
          "execution_count": 24
        }
      ]
    },
    {
      "cell_type": "code",
      "source": [
        "L"
      ],
      "metadata": {
        "colab": {
          "base_uri": "https://localhost:8080/",
          "height": 139
        },
        "id": "VoGS9ZR332tj",
        "outputId": "92fd7da1-6090-4424-e8b8-99c860c5684b"
      },
      "execution_count": 25,
      "outputs": [
        {
          "output_type": "execute_result",
          "data": {
            "text/latex": "$\\displaystyle \\left[\\begin{matrix}1 & 0 & 0 & 0 & 0 & 0\\\\0 & 1 & 0 & 0 & 0 & 0\\\\0 & 0 & 1 & 0 & 0 & 0\\\\0 & 0 & 0 & 1 & 0 & 0\\\\0 & 0 & 0 & 0 & 1 & 0\\\\0 & 0 & 0 & 0 & 0 & 1\\end{matrix}\\right]$",
            "text/plain": [
              "⎡1  0  0  0  0  0⎤\n",
              "⎢                ⎥\n",
              "⎢0  1  0  0  0  0⎥\n",
              "⎢                ⎥\n",
              "⎢0  0  1  0  0  0⎥\n",
              "⎢                ⎥\n",
              "⎢0  0  0  1  0  0⎥\n",
              "⎢                ⎥\n",
              "⎢0  0  0  0  1  0⎥\n",
              "⎢                ⎥\n",
              "⎣0  0  0  0  0  1⎦"
            ]
          },
          "metadata": {},
          "execution_count": 25
        }
      ]
    },
    {
      "cell_type": "code",
      "source": [
        "U"
      ],
      "metadata": {
        "colab": {
          "base_uri": "https://localhost:8080/",
          "height": 139
        },
        "id": "D4cZ8Wjm33vj",
        "outputId": "97432779-2d7f-411d-ee26-6537c87696f7"
      },
      "execution_count": 26,
      "outputs": [
        {
          "output_type": "execute_result",
          "data": {
            "text/latex": "$\\displaystyle \\left[\\begin{matrix}3 & 3 & 3 & 3 & 3 & 3\\\\3 & 3 & \\frac{7}{3} & \\frac{9}{4} & \\frac{11}{5} & \\frac{13}{6}\\\\3 & \\frac{7}{3} & \\frac{11}{5} & \\frac{15}{7} & \\frac{19}{9} & \\frac{23}{11}\\\\3 & \\frac{9}{4} & \\frac{15}{7} & \\frac{21}{10} & \\frac{27}{13} & \\frac{33}{16}\\\\3 & \\frac{11}{5} & \\frac{19}{9} & \\frac{27}{13} & \\frac{35}{17} & \\frac{43}{21}\\\\3 & \\frac{13}{6} & \\frac{23}{11} & \\frac{33}{16} & \\frac{43}{21} & \\frac{53}{26}\\end{matrix}\\right]$",
            "text/plain": [
              "⎡3   3     3     3     3     3  ⎤\n",
              "⎢                               ⎥\n",
              "⎢3   3    7/3   9/4   11/5  13/6⎥\n",
              "⎢                               ⎥\n",
              "⎢                            23 ⎥\n",
              "⎢3  7/3   11/5  15/7  19/9   ── ⎥\n",
              "⎢                            11 ⎥\n",
              "⎢                               ⎥\n",
              "⎢                21    27    33 ⎥\n",
              "⎢3  9/4   15/7   ──    ──    ── ⎥\n",
              "⎢                10    13    16 ⎥\n",
              "⎢                               ⎥\n",
              "⎢                27    35    43 ⎥\n",
              "⎢3  11/5  19/9   ──    ──    ── ⎥\n",
              "⎢                13    17    21 ⎥\n",
              "⎢                               ⎥\n",
              "⎢          23    33    43    53 ⎥\n",
              "⎢3  13/6   ──    ──    ──    ── ⎥\n",
              "⎣          11    16    21    26 ⎦"
            ]
          },
          "metadata": {},
          "execution_count": 26
        }
      ]
    },
    {
      "cell_type": "code",
      "source": [
        "P,L,U = PLU(A,1)"
      ],
      "metadata": {
        "id": "QpmBaVOf3mCq"
      },
      "execution_count": 27,
      "outputs": []
    },
    {
      "cell_type": "code",
      "source": [
        "P"
      ],
      "metadata": {
        "colab": {
          "base_uri": "https://localhost:8080/",
          "height": 139
        },
        "outputId": "4dec657c-44f4-4cda-9196-089b815f7794",
        "id": "l-ZKz9cg3zKB"
      },
      "execution_count": 28,
      "outputs": [
        {
          "output_type": "execute_result",
          "data": {
            "text/latex": "$\\displaystyle \\left[\\begin{matrix}1 & 0 & 0 & 0 & 0 & 0\\\\0 & 1 & 0 & 0 & 0 & 0\\\\0 & 0 & 1 & 0 & 0 & 0\\\\0 & 0 & 0 & 1 & 0 & 0\\\\0 & 0 & 0 & 0 & 1 & 0\\\\0 & 0 & 0 & 0 & 0 & 1\\end{matrix}\\right]$",
            "text/plain": [
              "⎡1  0  0  0  0  0⎤\n",
              "⎢                ⎥\n",
              "⎢0  1  0  0  0  0⎥\n",
              "⎢                ⎥\n",
              "⎢0  0  1  0  0  0⎥\n",
              "⎢                ⎥\n",
              "⎢0  0  0  1  0  0⎥\n",
              "⎢                ⎥\n",
              "⎢0  0  0  0  1  0⎥\n",
              "⎢                ⎥\n",
              "⎣0  0  0  0  0  1⎦"
            ]
          },
          "metadata": {},
          "execution_count": 28
        }
      ]
    },
    {
      "cell_type": "code",
      "source": [
        "L"
      ],
      "metadata": {
        "colab": {
          "base_uri": "https://localhost:8080/",
          "height": 139
        },
        "id": "tEDalj5D3-bm",
        "outputId": "d03ec6db-897d-4b74-e8ad-55ee107e3cad"
      },
      "execution_count": 29,
      "outputs": [
        {
          "output_type": "execute_result",
          "data": {
            "text/latex": "$\\displaystyle \\left[\\begin{matrix}1 & 0 & 0 & 0 & 0 & 0\\\\-1 & 1 & 0 & 0 & 0 & 0\\\\-1 & 0 & 1 & 0 & 0 & 0\\\\-1 & 0 & 0 & 1 & 0 & 0\\\\-1 & 0 & 0 & 0 & 1 & 0\\\\-1 & 0 & 0 & 0 & 0 & 1\\end{matrix}\\right]$",
            "text/plain": [
              "⎡1   0  0  0  0  0⎤\n",
              "⎢                 ⎥\n",
              "⎢-1  1  0  0  0  0⎥\n",
              "⎢                 ⎥\n",
              "⎢-1  0  1  0  0  0⎥\n",
              "⎢                 ⎥\n",
              "⎢-1  0  0  1  0  0⎥\n",
              "⎢                 ⎥\n",
              "⎢-1  0  0  0  1  0⎥\n",
              "⎢                 ⎥\n",
              "⎣-1  0  0  0  0  1⎦"
            ]
          },
          "metadata": {},
          "execution_count": 29
        }
      ]
    },
    {
      "cell_type": "code",
      "source": [
        "U"
      ],
      "metadata": {
        "colab": {
          "base_uri": "https://localhost:8080/",
          "height": 139
        },
        "id": "5vcy8msi3_ir",
        "outputId": "1954981d-a711-4259-e8ef-82cbdbd48880"
      },
      "execution_count": 30,
      "outputs": [
        {
          "output_type": "execute_result",
          "data": {
            "text/latex": "$\\displaystyle \\left[\\begin{matrix}3 & 3 & 3 & 3 & 3 & 3\\\\0 & 0 & - \\frac{2}{3} & - \\frac{3}{4} & - \\frac{4}{5} & - \\frac{5}{6}\\\\0 & - \\frac{2}{3} & - \\frac{4}{5} & - \\frac{6}{7} & - \\frac{8}{9} & - \\frac{10}{11}\\\\0 & - \\frac{3}{4} & - \\frac{6}{7} & - \\frac{9}{10} & - \\frac{12}{13} & - \\frac{15}{16}\\\\0 & - \\frac{4}{5} & - \\frac{8}{9} & - \\frac{12}{13} & - \\frac{16}{17} & - \\frac{20}{21}\\\\0 & - \\frac{5}{6} & - \\frac{10}{11} & - \\frac{15}{16} & - \\frac{20}{21} & - \\frac{25}{26}\\end{matrix}\\right]$",
            "text/plain": [
              "⎡3   3     3      3     3     3  ⎤\n",
              "⎢                                ⎥\n",
              "⎢0   0    -2/3  -3/4   -4/5  -5/6⎥\n",
              "⎢                                ⎥\n",
              "⎢                            -10 ⎥\n",
              "⎢0  -2/3  -4/5  -6/7   -8/9  ────⎥\n",
              "⎢                             11 ⎥\n",
              "⎢                                ⎥\n",
              "⎢                      -12   -15 ⎥\n",
              "⎢0  -3/4  -6/7  -9/10  ────  ────⎥\n",
              "⎢                       13    16 ⎥\n",
              "⎢                                ⎥\n",
              "⎢               -12    -16   -20 ⎥\n",
              "⎢0  -4/5  -8/9  ────   ────  ────⎥\n",
              "⎢                13     17    21 ⎥\n",
              "⎢                                ⎥\n",
              "⎢         -10   -15    -20   -25 ⎥\n",
              "⎢0  -5/6  ────  ────   ────  ────⎥\n",
              "⎣          11    16     21    26 ⎦"
            ]
          },
          "metadata": {},
          "execution_count": 30
        }
      ]
    },
    {
      "cell_type": "code",
      "source": [
        "P,L,U = PLU(A,2)"
      ],
      "metadata": {
        "id": "MNQAe63E3oJo"
      },
      "execution_count": 31,
      "outputs": []
    },
    {
      "cell_type": "code",
      "source": [
        "P"
      ],
      "metadata": {
        "colab": {
          "base_uri": "https://localhost:8080/",
          "height": 139
        },
        "id": "jjDXHvHP4E2E",
        "outputId": "84489acd-a388-4678-8f32-d8509a92f537"
      },
      "execution_count": 32,
      "outputs": [
        {
          "output_type": "execute_result",
          "data": {
            "text/latex": "$\\displaystyle \\left[\\begin{matrix}1 & 0 & 0 & 0 & 0 & 0\\\\0 & 0 & 0 & 0 & 0 & 1\\\\0 & 0 & 1 & 0 & 0 & 0\\\\0 & 0 & 0 & 1 & 0 & 0\\\\0 & 0 & 0 & 0 & 1 & 0\\\\0 & 1 & 0 & 0 & 0 & 0\\end{matrix}\\right]$",
            "text/plain": [
              "⎡1  0  0  0  0  0⎤\n",
              "⎢                ⎥\n",
              "⎢0  0  0  0  0  1⎥\n",
              "⎢                ⎥\n",
              "⎢0  0  1  0  0  0⎥\n",
              "⎢                ⎥\n",
              "⎢0  0  0  1  0  0⎥\n",
              "⎢                ⎥\n",
              "⎢0  0  0  0  1  0⎥\n",
              "⎢                ⎥\n",
              "⎣0  1  0  0  0  0⎦"
            ]
          },
          "metadata": {},
          "execution_count": 32
        }
      ]
    },
    {
      "cell_type": "code",
      "source": [
        "L"
      ],
      "metadata": {
        "colab": {
          "base_uri": "https://localhost:8080/",
          "height": 139
        },
        "id": "MjqUuewP4Gm0",
        "outputId": "20fb5f18-ac7b-44ea-8e36-6acdbe692110"
      },
      "execution_count": 33,
      "outputs": [
        {
          "output_type": "execute_result",
          "data": {
            "text/latex": "$\\displaystyle \\left[\\begin{matrix}1 & 0 & 0 & 0 & 0 & 0\\\\-1 & 1 & 0 & 0 & 0 & 0\\\\-1 & - \\frac{4}{5} & 1 & 0 & 0 & 0\\\\-1 & - \\frac{9}{10} & 0 & 1 & 0 & 0\\\\-1 & - \\frac{24}{25} & 0 & 0 & 1 & 0\\\\-1 & 0 & 0 & 0 & 0 & 1\\end{matrix}\\right]$",
            "text/plain": [
              "⎡1     0    0  0  0  0⎤\n",
              "⎢                     ⎥\n",
              "⎢-1    1    0  0  0  0⎥\n",
              "⎢                     ⎥\n",
              "⎢-1  -4/5   1  0  0  0⎥\n",
              "⎢                     ⎥\n",
              "⎢-1  -9/10  0  1  0  0⎥\n",
              "⎢                     ⎥\n",
              "⎢    -24              ⎥\n",
              "⎢-1  ────   0  0  1  0⎥\n",
              "⎢     25              ⎥\n",
              "⎢                     ⎥\n",
              "⎣-1    0    0  0  0  1⎦"
            ]
          },
          "metadata": {},
          "execution_count": 33
        }
      ]
    },
    {
      "cell_type": "code",
      "source": [
        "U"
      ],
      "metadata": {
        "colab": {
          "base_uri": "https://localhost:8080/",
          "height": 139
        },
        "id": "WSPyFWrl4Hz2",
        "outputId": "3fc5c4dd-3224-4794-9f4c-87e1d83ea4b2"
      },
      "execution_count": 34,
      "outputs": [
        {
          "output_type": "execute_result",
          "data": {
            "text/latex": "$\\displaystyle \\left[\\begin{matrix}3 & 3 & 3 & 3 & 3 & 3\\\\0 & - \\frac{5}{6} & - \\frac{10}{11} & - \\frac{15}{16} & - \\frac{20}{21} & - \\frac{25}{26}\\\\0 & 0 & - \\frac{4}{55} & - \\frac{3}{28} & - \\frac{8}{63} & - \\frac{20}{143}\\\\0 & 0 & - \\frac{3}{77} & - \\frac{9}{160} & - \\frac{6}{91} & - \\frac{15}{208}\\\\0 & 0 & - \\frac{8}{495} & - \\frac{3}{130} & - \\frac{16}{595} & - \\frac{8}{273}\\\\0 & 0 & - \\frac{2}{3} & - \\frac{3}{4} & - \\frac{4}{5} & - \\frac{5}{6}\\end{matrix}\\right]$",
            "text/plain": [
              "⎡3   3      3       3       3      3   ⎤\n",
              "⎢                                      ⎥\n",
              "⎢          -10     -15    -20     -25  ⎥\n",
              "⎢0  -5/6   ────    ────   ────    ──── ⎥\n",
              "⎢           11      16     21      26  ⎥\n",
              "⎢                                      ⎥\n",
              "⎢                                 -20  ⎥\n",
              "⎢0   0    -4/55   -3/28   -8/63   ──── ⎥\n",
              "⎢                                 143  ⎥\n",
              "⎢                                      ⎥\n",
              "⎢                                 -15  ⎥\n",
              "⎢0   0    -3/77   -9/160  -6/91   ──── ⎥\n",
              "⎢                                 208  ⎥\n",
              "⎢                                      ⎥\n",
              "⎢                         -16          ⎥\n",
              "⎢0   0    -8/495  -3/130  ────   -8/273⎥\n",
              "⎢                         595          ⎥\n",
              "⎢                                      ⎥\n",
              "⎣0   0     -2/3    -3/4   -4/5    -5/6 ⎦"
            ]
          },
          "metadata": {},
          "execution_count": 34
        }
      ]
    },
    {
      "cell_type": "code",
      "source": [
        "P,L,U = PLU(A,3)"
      ],
      "metadata": {
        "id": "DSzs0LN33mYU"
      },
      "execution_count": 35,
      "outputs": []
    },
    {
      "cell_type": "code",
      "source": [
        "P"
      ],
      "metadata": {
        "colab": {
          "base_uri": "https://localhost:8080/",
          "height": 139
        },
        "id": "0XpSv-M_4VSW",
        "outputId": "c599197d-8f75-47cc-b06b-146916416512"
      },
      "execution_count": 36,
      "outputs": [
        {
          "output_type": "execute_result",
          "data": {
            "text/latex": "$\\displaystyle \\left[\\begin{matrix}1 & 0 & 0 & 0 & 0 & 0\\\\0 & 0 & 0 & 0 & 0 & 1\\\\0 & 1 & 0 & 0 & 0 & 0\\\\0 & 0 & 0 & 1 & 0 & 0\\\\0 & 0 & 0 & 0 & 1 & 0\\\\0 & 0 & 1 & 0 & 0 & 0\\end{matrix}\\right]$",
            "text/plain": [
              "⎡1  0  0  0  0  0⎤\n",
              "⎢                ⎥\n",
              "⎢0  0  0  0  0  1⎥\n",
              "⎢                ⎥\n",
              "⎢0  1  0  0  0  0⎥\n",
              "⎢                ⎥\n",
              "⎢0  0  0  1  0  0⎥\n",
              "⎢                ⎥\n",
              "⎢0  0  0  0  1  0⎥\n",
              "⎢                ⎥\n",
              "⎣0  0  1  0  0  0⎦"
            ]
          },
          "metadata": {},
          "execution_count": 36
        }
      ]
    },
    {
      "cell_type": "code",
      "source": [
        "L"
      ],
      "metadata": {
        "colab": {
          "base_uri": "https://localhost:8080/",
          "height": 139
        },
        "id": "Qd8qheQQ4WAM",
        "outputId": "0bf232f4-0bb6-42d9-b822-a1a620b84f7c"
      },
      "execution_count": 37,
      "outputs": [
        {
          "output_type": "execute_result",
          "data": {
            "text/latex": "$\\displaystyle \\left[\\begin{matrix}1 & 0 & 0 & 0 & 0 & 0\\\\-1 & 1 & 0 & 0 & 0 & 0\\\\-1 & 0 & 1 & 0 & 0 & 0\\\\-1 & - \\frac{9}{10} & - \\frac{9}{154} & 1 & 0 & 0\\\\-1 & - \\frac{24}{25} & - \\frac{4}{165} & 0 & 1 & 0\\\\-1 & - \\frac{4}{5} & - \\frac{6}{55} & 0 & 0 & 1\\end{matrix}\\right]$",
            "text/plain": [
              "⎡1     0      0     0  0  0⎤\n",
              "⎢                          ⎥\n",
              "⎢-1    1      0     0  0  0⎥\n",
              "⎢                          ⎥\n",
              "⎢-1    0      1     0  0  0⎥\n",
              "⎢                          ⎥\n",
              "⎢-1  -9/10  -9/154  1  0  0⎥\n",
              "⎢                          ⎥\n",
              "⎢    -24                   ⎥\n",
              "⎢-1  ────   -4/165  0  1  0⎥\n",
              "⎢     25                   ⎥\n",
              "⎢                          ⎥\n",
              "⎣-1  -4/5   -6/55   0  0  1⎦"
            ]
          },
          "metadata": {},
          "execution_count": 37
        }
      ]
    },
    {
      "cell_type": "code",
      "source": [
        "U"
      ],
      "metadata": {
        "colab": {
          "base_uri": "https://localhost:8080/",
          "height": 139
        },
        "id": "m3ccUX6f4Yhz",
        "outputId": "a04440a6-3263-4dac-96bd-207187e5aad9"
      },
      "execution_count": 38,
      "outputs": [
        {
          "output_type": "execute_result",
          "data": {
            "text/latex": "$\\displaystyle \\left[\\begin{matrix}3 & 3 & 3 & 3 & 3 & 3\\\\0 & - \\frac{5}{6} & - \\frac{10}{11} & - \\frac{15}{16} & - \\frac{20}{21} & - \\frac{25}{26}\\\\0 & 0 & - \\frac{2}{3} & - \\frac{3}{4} & - \\frac{4}{5} & - \\frac{5}{6}\\\\0 & 0 & 0 & - \\frac{153}{12320} & - \\frac{96}{5005} & - \\frac{375}{16016}\\\\0 & 0 & 0 & - \\frac{7}{1430} & - \\frac{736}{98175} & - \\frac{82}{9009}\\\\0 & 0 & 0 & - \\frac{39}{1540} & - \\frac{688}{17325} & - \\frac{7}{143}\\end{matrix}\\right]$",
            "text/plain": [
              "⎡3   3     3       3       3      3   ⎤\n",
              "⎢                                     ⎥\n",
              "⎢         -10    -15     -20     -25  ⎥\n",
              "⎢0  -5/6  ────   ────    ────    ──── ⎥\n",
              "⎢          11     16      21      26  ⎥\n",
              "⎢                                     ⎥\n",
              "⎢0   0    -2/3   -3/4    -4/5    -5/6 ⎥\n",
              "⎢                                     ⎥\n",
              "⎢                -153    -96    -375  ⎥\n",
              "⎢0   0     0     ─────   ────   ───── ⎥\n",
              "⎢                12320   5005   16016 ⎥\n",
              "⎢                                     ⎥\n",
              "⎢                        -736    -82  ⎥\n",
              "⎢0   0     0    -7/1430  ─────   ──── ⎥\n",
              "⎢                        98175   9009 ⎥\n",
              "⎢                                     ⎥\n",
              "⎢                -39     -688         ⎥\n",
              "⎢0   0     0     ────    ─────  -7/143⎥\n",
              "⎣                1540    17325        ⎦"
            ]
          },
          "metadata": {},
          "execution_count": 38
        }
      ]
    },
    {
      "cell_type": "code",
      "source": [
        "P,L,U = PLU(A,4)"
      ],
      "metadata": {
        "id": "jpBFLp-L3mfd"
      },
      "execution_count": 39,
      "outputs": []
    },
    {
      "cell_type": "code",
      "source": [
        "P"
      ],
      "metadata": {
        "colab": {
          "base_uri": "https://localhost:8080/",
          "height": 139
        },
        "outputId": "5cd59d8b-2330-4af7-8e95-14d151774548",
        "id": "ksFa4z0g3zYG"
      },
      "execution_count": 40,
      "outputs": [
        {
          "output_type": "execute_result",
          "data": {
            "text/latex": "$\\displaystyle \\left[\\begin{matrix}1 & 0 & 0 & 0 & 0 & 0\\\\0 & 0 & 0 & 0 & 0 & 1\\\\0 & 1 & 0 & 0 & 0 & 0\\\\0 & 0 & 1 & 0 & 0 & 0\\\\0 & 0 & 0 & 0 & 1 & 0\\\\0 & 0 & 0 & 1 & 0 & 0\\end{matrix}\\right]$",
            "text/plain": [
              "⎡1  0  0  0  0  0⎤\n",
              "⎢                ⎥\n",
              "⎢0  0  0  0  0  1⎥\n",
              "⎢                ⎥\n",
              "⎢0  1  0  0  0  0⎥\n",
              "⎢                ⎥\n",
              "⎢0  0  1  0  0  0⎥\n",
              "⎢                ⎥\n",
              "⎢0  0  0  0  1  0⎥\n",
              "⎢                ⎥\n",
              "⎣0  0  0  1  0  0⎦"
            ]
          },
          "metadata": {},
          "execution_count": 40
        }
      ]
    },
    {
      "cell_type": "code",
      "source": [
        "L"
      ],
      "metadata": {
        "colab": {
          "base_uri": "https://localhost:8080/",
          "height": 139
        },
        "outputId": "62dcd7de-3a7c-445c-bebd-a0166c330246",
        "id": "I3G1R_Yj3zf1"
      },
      "execution_count": 41,
      "outputs": [
        {
          "output_type": "execute_result",
          "data": {
            "text/latex": "$\\displaystyle \\left[\\begin{matrix}1 & 0 & 0 & 0 & 0 & 0\\\\-1 & 1 & 0 & 0 & 0 & 0\\\\-1 & 0 & 1 & 0 & 0 & 0\\\\-1 & - \\frac{4}{5} & - \\frac{6}{55} & 1 & 0 & 0\\\\-1 & - \\frac{24}{25} & - \\frac{4}{165} & - \\frac{98}{507} & 1 & 0\\\\-1 & - \\frac{9}{10} & - \\frac{9}{154} & - \\frac{51}{104} & 0 & 1\\end{matrix}\\right]$",
            "text/plain": [
              "⎡1     0      0      0    0  0⎤\n",
              "⎢                             ⎥\n",
              "⎢-1    1      0      0    0  0⎥\n",
              "⎢                             ⎥\n",
              "⎢-1    0      1      0    0  0⎥\n",
              "⎢                             ⎥\n",
              "⎢-1  -4/5   -6/55    1    0  0⎥\n",
              "⎢                             ⎥\n",
              "⎢    -24            -98       ⎥\n",
              "⎢-1  ────   -4/165  ────  1  0⎥\n",
              "⎢     25            507       ⎥\n",
              "⎢                             ⎥\n",
              "⎢                   -51       ⎥\n",
              "⎢-1  -9/10  -9/154  ────  0  1⎥\n",
              "⎣                   104       ⎦"
            ]
          },
          "metadata": {},
          "execution_count": 41
        }
      ]
    },
    {
      "cell_type": "code",
      "source": [
        "U"
      ],
      "metadata": {
        "colab": {
          "base_uri": "https://localhost:8080/",
          "height": 139
        },
        "outputId": "441c455d-760d-4d5a-cf26-01572e7494dd",
        "id": "SXUKqT8Q3zo5"
      },
      "execution_count": 42,
      "outputs": [
        {
          "output_type": "execute_result",
          "data": {
            "text/latex": "$\\displaystyle \\left[\\begin{matrix}3 & 3 & 3 & 3 & 3 & 3\\\\0 & - \\frac{5}{6} & - \\frac{10}{11} & - \\frac{15}{16} & - \\frac{20}{21} & - \\frac{25}{26}\\\\0 & 0 & - \\frac{2}{3} & - \\frac{3}{4} & - \\frac{4}{5} & - \\frac{5}{6}\\\\0 & 0 & 0 & - \\frac{39}{1540} & - \\frac{688}{17325} & - \\frac{7}{143}\\\\0 & 0 & 0 & 0 & \\frac{2432}{13574925} & \\frac{548}{1522521}\\\\0 & 0 & 0 & 0 & \\frac{2}{6825} & \\frac{123}{208208}\\end{matrix}\\right]$",
            "text/plain": [
              "⎡3   3     3     3       3         3   ⎤\n",
              "⎢                                      ⎥\n",
              "⎢         -10   -15     -20      -25   ⎥\n",
              "⎢0  -5/6  ────  ────    ────     ────  ⎥\n",
              "⎢          11    16      21       26   ⎥\n",
              "⎢                                      ⎥\n",
              "⎢0   0    -2/3  -3/4    -4/5     -5/6  ⎥\n",
              "⎢                                      ⎥\n",
              "⎢               -39    -688            ⎥\n",
              "⎢0   0     0    ────   ─────    -7/143 ⎥\n",
              "⎢               1540   17325           ⎥\n",
              "⎢                                      ⎥\n",
              "⎢                       2432      548  ⎥\n",
              "⎢0   0     0     0    ────────  ───────⎥\n",
              "⎢                     13574925  1522521⎥\n",
              "⎢                                      ⎥\n",
              "⎢                                123   ⎥\n",
              "⎢0   0     0     0     2/6825   ────── ⎥\n",
              "⎣                               208208 ⎦"
            ]
          },
          "metadata": {},
          "execution_count": 42
        }
      ]
    },
    {
      "cell_type": "code",
      "source": [
        "P,L,U = PLU(A,5)"
      ],
      "metadata": {
        "id": "HcG_6dUr4jzs"
      },
      "execution_count": 43,
      "outputs": []
    },
    {
      "cell_type": "code",
      "source": [
        "P"
      ],
      "metadata": {
        "colab": {
          "base_uri": "https://localhost:8080/",
          "height": 139
        },
        "id": "qnH2JLRu4mM1",
        "outputId": "f83d2ec4-78eb-4baa-b533-a7afec265ddd"
      },
      "execution_count": 44,
      "outputs": [
        {
          "output_type": "execute_result",
          "data": {
            "text/latex": "$\\displaystyle \\left[\\begin{matrix}1 & 0 & 0 & 0 & 0 & 0\\\\0 & 0 & 0 & 0 & 0 & 1\\\\0 & 1 & 0 & 0 & 0 & 0\\\\0 & 0 & 1 & 0 & 0 & 0\\\\0 & 0 & 0 & 1 & 0 & 0\\\\0 & 0 & 0 & 0 & 1 & 0\\end{matrix}\\right]$",
            "text/plain": [
              "⎡1  0  0  0  0  0⎤\n",
              "⎢                ⎥\n",
              "⎢0  0  0  0  0  1⎥\n",
              "⎢                ⎥\n",
              "⎢0  1  0  0  0  0⎥\n",
              "⎢                ⎥\n",
              "⎢0  0  1  0  0  0⎥\n",
              "⎢                ⎥\n",
              "⎢0  0  0  1  0  0⎥\n",
              "⎢                ⎥\n",
              "⎣0  0  0  0  1  0⎦"
            ]
          },
          "metadata": {},
          "execution_count": 44
        }
      ]
    },
    {
      "cell_type": "code",
      "source": [
        "L"
      ],
      "metadata": {
        "colab": {
          "base_uri": "https://localhost:8080/",
          "height": 139
        },
        "id": "5mBFJUhZ4mu9",
        "outputId": "1bb3e0cb-decc-48bb-b9a2-8f5df39aa4e8"
      },
      "execution_count": 45,
      "outputs": [
        {
          "output_type": "execute_result",
          "data": {
            "text/latex": "$\\displaystyle \\left[\\begin{matrix}1 & 0 & 0 & 0 & 0 & 0\\\\-1 & 1 & 0 & 0 & 0 & 0\\\\-1 & 0 & 1 & 0 & 0 & 0\\\\-1 & - \\frac{4}{5} & - \\frac{6}{55} & 1 & 0 & 0\\\\-1 & - \\frac{9}{10} & - \\frac{9}{154} & - \\frac{51}{104} & 1 & 0\\\\-1 & - \\frac{24}{25} & - \\frac{4}{165} & - \\frac{98}{507} & - \\frac{1216}{1989} & 1\\end{matrix}\\right]$",
            "text/plain": [
              "⎡1     0      0      0      0     0⎤\n",
              "⎢                                  ⎥\n",
              "⎢-1    1      0      0      0     0⎥\n",
              "⎢                                  ⎥\n",
              "⎢-1    0      1      0      0     0⎥\n",
              "⎢                                  ⎥\n",
              "⎢-1  -4/5   -6/55    1      0     0⎥\n",
              "⎢                                  ⎥\n",
              "⎢                   -51            ⎥\n",
              "⎢-1  -9/10  -9/154  ────    1     0⎥\n",
              "⎢                   104            ⎥\n",
              "⎢                                  ⎥\n",
              "⎢    -24            -98   -1216    ⎥\n",
              "⎢-1  ────   -4/165  ────  ──────  1⎥\n",
              "⎣     25            507    1989    ⎦"
            ]
          },
          "metadata": {},
          "execution_count": 45
        }
      ]
    },
    {
      "cell_type": "code",
      "source": [
        "U"
      ],
      "metadata": {
        "colab": {
          "base_uri": "https://localhost:8080/",
          "height": 139
        },
        "id": "gnrlu8H_4nhE",
        "outputId": "af6f42e3-e126-4176-ca2f-10124736a8f4"
      },
      "execution_count": 46,
      "outputs": [
        {
          "output_type": "execute_result",
          "data": {
            "text/latex": "$\\displaystyle \\left[\\begin{matrix}3 & 3 & 3 & 3 & 3 & 3\\\\0 & - \\frac{5}{6} & - \\frac{10}{11} & - \\frac{15}{16} & - \\frac{20}{21} & - \\frac{25}{26}\\\\0 & 0 & - \\frac{2}{3} & - \\frac{3}{4} & - \\frac{4}{5} & - \\frac{5}{6}\\\\0 & 0 & 0 & - \\frac{39}{1540} & - \\frac{688}{17325} & - \\frac{7}{143}\\\\0 & 0 & 0 & 0 & \\frac{2}{6825} & \\frac{123}{208208}\\\\0 & 0 & 0 & 0 & 0 & - \\frac{32}{25882857}\\end{matrix}\\right]$",
            "text/plain": [
              "⎡3   3     3     3      3        3    ⎤\n",
              "⎢                                     ⎥\n",
              "⎢         -10   -15    -20      -25   ⎥\n",
              "⎢0  -5/6  ────  ────   ────     ────  ⎥\n",
              "⎢          11    16     21       26   ⎥\n",
              "⎢                                     ⎥\n",
              "⎢0   0    -2/3  -3/4   -4/5     -5/6  ⎥\n",
              "⎢                                     ⎥\n",
              "⎢               -39   -688            ⎥\n",
              "⎢0   0     0    ────  ─────    -7/143 ⎥\n",
              "⎢               1540  17325           ⎥\n",
              "⎢                                     ⎥\n",
              "⎢                               123   ⎥\n",
              "⎢0   0     0     0    2/6825   ────── ⎥\n",
              "⎢                              208208 ⎥\n",
              "⎢                                     ⎥\n",
              "⎢                               -32   ⎥\n",
              "⎢0   0     0     0      0     ────────⎥\n",
              "⎣                             25882857⎦"
            ]
          },
          "metadata": {},
          "execution_count": 46
        }
      ]
    },
    {
      "cell_type": "code",
      "source": [
        "from sympy import  N\n",
        "N(U)\n"
      ],
      "metadata": {
        "colab": {
          "base_uri": "https://localhost:8080/",
          "height": 139
        },
        "id": "oy9KqpN85ecV",
        "outputId": "0263452e-e3ae-41f3-c44c-cfa85b17ffce"
      },
      "execution_count": 47,
      "outputs": [
        {
          "output_type": "execute_result",
          "data": {
            "text/latex": "$\\displaystyle \\left[\\begin{matrix}3.0 & 3.0 & 3.0 & 3.0 & 3.0 & 3.0\\\\0 & -0.833333333333333 & -0.909090909090909 & -0.9375 & -0.952380952380952 & -0.961538461538462\\\\0 & 0 & -0.666666666666667 & -0.75 & -0.8 & -0.833333333333333\\\\0 & 0 & 0 & -0.0253246753246753 & -0.0397113997113997 & -0.048951048951049\\\\0 & 0 & 0 & 0 & 0.000293040293040293 & 0.000590755398447706\\\\0 & 0 & 0 & 0 & 0 & -1.23633955865073 \\cdot 10^{-6}\\end{matrix}\\right]$",
            "text/plain": [
              "⎡3.0         3.0                 3.0                  3.0                  3.0\n",
              "⎢                                                                             \n",
              "⎢ 0   -0.833333333333333  -0.909090909090909        -0.9375         -0.9523809\n",
              "⎢                                                                             \n",
              "⎢ 0           0           -0.666666666666667         -0.75                 -0.\n",
              "⎢                                                                             \n",
              "⎢ 0           0                   0           -0.0253246753246753  -0.03971139\n",
              "⎢                                                                             \n",
              "⎢ 0           0                   0                    0           0.000293040\n",
              "⎢                                                                             \n",
              "⎣ 0           0                   0                    0                    0 \n",
              "\n",
              "                   3.0         ⎤\n",
              "                               ⎥\n",
              "52380952    -0.961538461538462 ⎥\n",
              "                               ⎥\n",
              "8           -0.833333333333333 ⎥\n",
              "                               ⎥\n",
              "97113997    -0.048951048951049 ⎥\n",
              "                               ⎥\n",
              "293040293  0.000590755398447706⎥\n",
              "                               ⎥\n",
              "           -1.23633955865073e-6⎦"
            ]
          },
          "metadata": {},
          "execution_count": 47
        }
      ]
    }
  ]
}